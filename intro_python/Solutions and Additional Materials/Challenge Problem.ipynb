{
 "cells": [
  {
   "cell_type": "markdown",
   "metadata": {},
   "source": [
    "### Challenge problem! \n",
    "\n",
    "Write a function the parses this list and returns a dictionary with counts for each event like:\n",
    "\n",
    "\t{ ‘a’:10, ‘b’:15,’c’:12…}\n"
   ]
  },
  {
   "cell_type": "code",
   "execution_count": 14,
   "metadata": {
    "collapsed": false
   },
   "outputs": [],
   "source": [
    "with open('event_list.txt', 'r') as f:\n",
    "    event_list = f.read()"
   ]
  },
  {
   "cell_type": "code",
   "execution_count": 15,
   "metadata": {
    "collapsed": false
   },
   "outputs": [],
   "source": [
    "def eventParser(events):\n",
    "    '''\n",
    "    takes event list as input\n",
    "    returns dictionary with counts like:\n",
    "    { ‘a’:10, ‘b’:15,’c’:12, 'd':8}\n",
    "    '''\n",
    "    event_counts\n",
    "    for event in events:\n",
    "        event_name = event.key()\n",
    "        \n",
    "    \n",
    "    \n",
    "    return event_counts"
   ]
  },
  {
   "cell_type": "code",
   "execution_count": 16,
   "metadata": {
    "collapsed": false
   },
   "outputs": [],
   "source": [
    "print eventParser(event_list)"
   ]
  },
  {
   "cell_type": "code",
   "execution_count": null,
   "metadata": {
    "collapsed": true
   },
   "outputs": [],
   "source": []
  }
 ],
 "metadata": {
  "kernelspec": {
   "display_name": "Python 2",
   "language": "python",
   "name": "python2"
  },
  "language_info": {
   "codemirror_mode": {
    "name": "ipython",
    "version": 2
   },
   "file_extension": ".py",
   "mimetype": "text/x-python",
   "name": "python",
   "nbconvert_exporter": "python",
   "pygments_lexer": "ipython2",
   "version": "2.7.11"
  }
 },
 "nbformat": 4,
 "nbformat_minor": 0
}
