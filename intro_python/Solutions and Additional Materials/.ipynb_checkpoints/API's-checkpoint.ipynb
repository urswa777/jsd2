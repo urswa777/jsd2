{
 "cells": [
  {
   "cell_type": "code",
   "execution_count": 2,
   "metadata": {
    "collapsed": true
   },
   "outputs": [],
   "source": [
    "import requests, json\n",
    "import pandas as pd\n",
    "import numpy as np"
   ]
  },
  {
   "cell_type": "markdown",
   "metadata": {},
   "source": [
    "### SF Open Data\n",
    "    - Guide: https://data.sfgov.org/developers\n",
    "    - Getting Data\n",
    "    https://data.sfgov.org/Public-Safety/SFPD-Incidents-from-1-January-2003/tmnf-yvry\n",
    "    - JSON Response: https://data.sfgov.org/resource/tmnf-yvry.json"
   ]
  },
  {
   "cell_type": "code",
   "execution_count": 3,
   "metadata": {
    "collapsed": false
   },
   "outputs": [
    {
     "name": "stdout",
     "output_type": "stream",
     "text": [
      "200\n"
     ]
    }
   ],
   "source": [
    "url = \"https://data.sfgov.org/resource/tmnf-yvry.json\"\n",
    "r = requests.get(url)\n",
    "print r.status_code"
   ]
  },
  {
   "cell_type": "code",
   "execution_count": 4,
   "metadata": {
    "collapsed": false
   },
   "outputs": [
    {
     "name": "stdout",
     "output_type": "stream",
     "text": [
      "585289\n"
     ]
    }
   ],
   "source": [
    "print len(r.content)"
   ]
  },
  {
   "cell_type": "code",
   "execution_count": 5,
   "metadata": {
    "collapsed": false
   },
   "outputs": [
    {
     "name": "stdout",
     "output_type": "stream",
     "text": [
      "<type 'str'>\n"
     ]
    }
   ],
   "source": [
    "print type(r.content)"
   ]
  },
  {
   "cell_type": "code",
   "execution_count": 6,
   "metadata": {
    "collapsed": false
   },
   "outputs": [
    {
     "name": "stdout",
     "output_type": "stream",
     "text": [
      "[ {\n",
      "  \"date\" : \"2016-07-10T00:00:00\",\n",
      "  \"address\" : \"300 Block of BATTERY ST\",\n",
      "  \"resolution\" : \"NON\n"
     ]
    }
   ],
   "source": [
    "print r.content[:100]"
   ]
  },
  {
   "cell_type": "code",
   "execution_count": 7,
   "metadata": {
    "collapsed": false
   },
   "outputs": [],
   "source": [
    "data = json.loads(r.content)"
   ]
  },
  {
   "cell_type": "code",
   "execution_count": 9,
   "metadata": {
    "collapsed": false
   },
   "outputs": [
    {
     "name": "stdout",
     "output_type": "stream",
     "text": [
      "<type 'list'>\n",
      "<type 'dict'>\n"
     ]
    }
   ],
   "source": [
    "print type(data)\n",
    "print type(data[1])"
   ]
  },
  {
   "cell_type": "code",
   "execution_count": 12,
   "metadata": {
    "collapsed": false
   },
   "outputs": [
    {
     "data": {
      "text/plain": [
       "u'Sunday'"
      ]
     },
     "execution_count": 12,
     "metadata": {},
     "output_type": "execute_result"
    }
   ],
   "source": [
    "data[1]['dayofweek']"
   ]
  },
  {
   "cell_type": "code",
   "execution_count": 13,
   "metadata": {
    "collapsed": true
   },
   "outputs": [],
   "source": [
    "df = pd.DataFrame(data)"
   ]
  },
  {
   "cell_type": "code",
   "execution_count": 14,
   "metadata": {
    "collapsed": false
   },
   "outputs": [
    {
     "data": {
      "text/html": [
       "<div>\n",
       "<table border=\"1\" class=\"dataframe\">\n",
       "  <thead>\n",
       "    <tr style=\"text-align: right;\">\n",
       "      <th></th>\n",
       "      <th>address</th>\n",
       "      <th>category</th>\n",
       "      <th>date</th>\n",
       "      <th>dayofweek</th>\n",
       "      <th>descript</th>\n",
       "      <th>incidntnum</th>\n",
       "      <th>location</th>\n",
       "      <th>pddistrict</th>\n",
       "      <th>pdid</th>\n",
       "      <th>resolution</th>\n",
       "      <th>time</th>\n",
       "      <th>x</th>\n",
       "      <th>y</th>\n",
       "    </tr>\n",
       "  </thead>\n",
       "  <tbody>\n",
       "    <tr>\n",
       "      <th>0</th>\n",
       "      <td>300 Block of BATTERY ST</td>\n",
       "      <td>LARCENY/THEFT</td>\n",
       "      <td>2016-07-10T00:00:00</td>\n",
       "      <td>Sunday</td>\n",
       "      <td>GRAND THEFT FROM LOCKED AUTO</td>\n",
       "      <td>160558395</td>\n",
       "      <td>{u'latitude': u'37.7947915942363', u'needs_rec...</td>\n",
       "      <td>CENTRAL</td>\n",
       "      <td>16055839506244</td>\n",
       "      <td>NONE</td>\n",
       "      <td>23:45</td>\n",
       "      <td>-122.400353951468</td>\n",
       "      <td>37.7947915942363</td>\n",
       "    </tr>\n",
       "    <tr>\n",
       "      <th>1</th>\n",
       "      <td>POTRERO AV / 21ST ST</td>\n",
       "      <td>OTHER OFFENSES</td>\n",
       "      <td>2016-07-10T00:00:00</td>\n",
       "      <td>Sunday</td>\n",
       "      <td>RESISTING ARREST</td>\n",
       "      <td>160558492</td>\n",
       "      <td>{u'latitude': u'37.7577626731426', u'needs_rec...</td>\n",
       "      <td>MISSION</td>\n",
       "      <td>16055849227170</td>\n",
       "      <td>ARREST, BOOKED</td>\n",
       "      <td>23:42</td>\n",
       "      <td>-122.406803042609</td>\n",
       "      <td>37.7577626731426</td>\n",
       "    </tr>\n",
       "  </tbody>\n",
       "</table>\n",
       "</div>"
      ],
      "text/plain": [
       "                   address        category                 date dayofweek  \\\n",
       "0  300 Block of BATTERY ST   LARCENY/THEFT  2016-07-10T00:00:00    Sunday   \n",
       "1     POTRERO AV / 21ST ST  OTHER OFFENSES  2016-07-10T00:00:00    Sunday   \n",
       "\n",
       "                       descript incidntnum  \\\n",
       "0  GRAND THEFT FROM LOCKED AUTO  160558395   \n",
       "1              RESISTING ARREST  160558492   \n",
       "\n",
       "                                            location pddistrict  \\\n",
       "0  {u'latitude': u'37.7947915942363', u'needs_rec...    CENTRAL   \n",
       "1  {u'latitude': u'37.7577626731426', u'needs_rec...    MISSION   \n",
       "\n",
       "             pdid      resolution   time                  x                 y  \n",
       "0  16055839506244            NONE  23:45  -122.400353951468  37.7947915942363  \n",
       "1  16055849227170  ARREST, BOOKED  23:42  -122.406803042609  37.7577626731426  "
      ]
     },
     "execution_count": 14,
     "metadata": {},
     "output_type": "execute_result"
    }
   ],
   "source": [
    "df.head(2)"
   ]
  },
  {
   "cell_type": "code",
   "execution_count": 15,
   "metadata": {
    "collapsed": false
   },
   "outputs": [
    {
     "data": {
      "text/plain": [
       "LARCENY/THEFT                  299\n",
       "NON-CRIMINAL                   138\n",
       "ASSAULT                         93\n",
       "OTHER OFFENSES                  87\n",
       "VANDALISM                       68\n",
       "VEHICLE THEFT                   52\n",
       "MISSING PERSON                  35\n",
       "ROBBERY                         33\n",
       "BURGLARY                        33\n",
       "SUSPICIOUS OCC                  33\n",
       "WARRANTS                        24\n",
       "DRUG/NARCOTIC                   20\n",
       "FRAUD                           19\n",
       "SECONDARY CODES                 10\n",
       "TRESPASS                        10\n",
       "WEAPON LAWS                      9\n",
       "SEX OFFENSES, FORCIBLE           9\n",
       "DISORDERLY CONDUCT               7\n",
       "STOLEN PROPERTY                  4\n",
       "RECOVERED VEHICLE                3\n",
       "DRIVING UNDER THE INFLUENCE      3\n",
       "DRUNKENNESS                      2\n",
       "FORGERY/COUNTERFEITING           2\n",
       "ARSON                            2\n",
       "GAMBLING                         1\n",
       "BRIBERY                          1\n",
       "LOITERING                        1\n",
       "PROSTITUTION                     1\n",
       "RUNAWAY                          1\n",
       "Name: category, dtype: int64"
      ]
     },
     "execution_count": 15,
     "metadata": {},
     "output_type": "execute_result"
    }
   ],
   "source": [
    "df['category'].value_counts()"
   ]
  },
  {
   "cell_type": "code",
   "execution_count": null,
   "metadata": {
    "collapsed": true
   },
   "outputs": [],
   "source": []
  }
 ],
 "metadata": {
  "anaconda-cloud": {},
  "kernelspec": {
   "display_name": "Python [default]",
   "language": "python",
   "name": "python2"
  },
  "language_info": {
   "codemirror_mode": {
    "name": "ipython",
    "version": 2
   },
   "file_extension": ".py",
   "mimetype": "text/x-python",
   "name": "python",
   "nbconvert_exporter": "python",
   "pygments_lexer": "ipython2",
   "version": "2.7.12"
  }
 },
 "nbformat": 4,
 "nbformat_minor": 0
}
