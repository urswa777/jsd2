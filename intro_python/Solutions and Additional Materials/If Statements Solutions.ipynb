{
 "cells": [
  {
   "cell_type": "markdown",
   "metadata": {},
   "source": [
    " # If Statements\n",
    " &copy; QuantSprout\n",
    " "
   ]
  },
  {
   "cell_type": "markdown",
   "metadata": {},
   "source": [
    "Simple If Statement"
   ]
  },
  {
   "cell_type": "code",
   "execution_count": null,
   "metadata": {
    "collapsed": false
   },
   "outputs": [],
   "source": [
    "x=3\n",
    "if x>5:\n",
    "    print x\n",
    "    print \"Im here\"\n",
    "    \n",
    "print \"This is the end\""
   ]
  },
  {
   "cell_type": "code",
   "execution_count": 1,
   "metadata": {
    "collapsed": false
   },
   "outputs": [
    {
     "name": "stdout",
     "output_type": "stream",
     "text": [
      "False\n",
      "True\n",
      "True\n"
     ]
    }
   ],
   "source": [
    "x=3\n",
    "condition1 = (x!=3)\n",
    "condition2 = (x > 0)\n",
    "print condition1\n",
    "print condition2\n",
    "final_condition =  condition1 or condition2\n",
    "print final_condition"
   ]
  },
  {
   "cell_type": "markdown",
   "metadata": {},
   "source": [
    "Else If Statement"
   ]
  },
  {
   "cell_type": "code",
   "execution_count": null,
   "metadata": {
    "collapsed": false
   },
   "outputs": [],
   "source": [
    "x = \"Name\"\n",
    "if type(x) == str:\n",
    "    print \"not a  number\"\n",
    "elif x > 0:\n",
    "    print \"{} is a positive number\".format(x)\n",
    "elif x < 0:\n",
    "    print \"{} is a negative number\".format(x)\n",
    "else:\n",
    "    print \"x equals 0\""
   ]
  },
  {
   "cell_type": "code",
   "execution_count": null,
   "metadata": {
    "collapsed": false
   },
   "outputs": [],
   "source": [
    "if (2 < 4) or (2<5):\n",
    "    print \"print yep\""
   ]
  },
  {
   "cell_type": "markdown",
   "metadata": {},
   "source": [
    "## Exercise: Update your function to handle errors and convert Fahrenheit to Celsius"
   ]
  },
  {
   "cell_type": "markdown",
   "metadata": {},
   "source": [
    "#### 1. Create a function that checks the type of an input and returns True if the input is numeric (float or integer) or a False if it is another data type.\n"
   ]
  },
  {
   "cell_type": "code",
   "execution_count": null,
   "metadata": {
    "collapsed": false
   },
   "outputs": [],
   "source": [
    "def check_type(x):\n",
    "    if type(x) == int or type(x) == float:\n",
    "        return True\n",
    "    else:\n",
    "        return False\n",
    "    "
   ]
  },
  {
   "cell_type": "code",
   "execution_count": null,
   "metadata": {
    "collapsed": true
   },
   "outputs": [],
   "source": [
    "# Short hand version of solution\n",
    "def check_type(x):\n",
    "    return (type(x) == int) | (type(x) == float)\n"
   ]
  },
  {
   "cell_type": "code",
   "execution_count": 5,
   "metadata": {
    "collapsed": false
   },
   "outputs": [],
   "source": [
    "# Alternative solution using the in command\n",
    "def check_type(x):\n",
    "    return type(x) in [int,float]"
   ]
  },
  {
   "cell_type": "code",
   "execution_count": 6,
   "metadata": {
    "collapsed": false
   },
   "outputs": [
    {
     "name": "stdout",
     "output_type": "stream",
     "text": [
      "True\n",
      "True\n",
      "False\n",
      "False\n"
     ]
    }
   ],
   "source": [
    "print check_type(10)\n",
    "print check_type(10.1)\n",
    "print check_type('Test')\n",
    "print check_type('dog')"
   ]
  },
  {
   "cell_type": "markdown",
   "metadata": {},
   "source": [
    "#### 2. Update your temperature function from the Python Fundamentals exercise to return an error message if a string is entered instead of a number."
   ]
  },
  {
   "cell_type": "code",
   "execution_count": 7,
   "metadata": {
    "collapsed": false
   },
   "outputs": [],
   "source": [
    "def convert_temp_check(degrees_c):\n",
    "    if (type(degrees_c) == int) | (type(degrees_c) == float):\n",
    "        degrees_f = degrees_c * 9.0 / 5 + 32\n",
    "        return degrees_f\n",
    "    else:\n",
    "        return \"Error. {} is a non-numeric value.\".format(degrees_c)"
   ]
  },
  {
   "cell_type": "code",
   "execution_count": 8,
   "metadata": {
    "collapsed": false
   },
   "outputs": [
    {
     "name": "stdout",
     "output_type": "stream",
     "text": [
      "212.0\n",
      "Error. Test is a non-numeric value.\n"
     ]
    }
   ],
   "source": [
    "print convert_temp_check(100)\n",
    "print convert_temp_check('Test')"
   ]
  },
  {
   "cell_type": "code",
   "execution_count": null,
   "metadata": {
    "collapsed": false
   },
   "outputs": [],
   "source": [
    "# Use checkType function we've already created\n",
    "def convert_temp_check2(degrees_c):\n",
    "    if check_type(degrees_c) == True:\n",
    "        degrees_f = degrees_c * 9.0 / 5 + 32\n",
    "        return degrees_f\n",
    "    else:\n",
    "        return \"Error. {} is a non-numeric value.\".format(degrees_c)        \n",
    "\n",
    "print convert_temp_check2(100)\n",
    "print convert_temp_check2('test')"
   ]
  },
  {
   "cell_type": "code",
   "execution_count": null,
   "metadata": {
    "collapsed": false
   },
   "outputs": [],
   "source": [
    "# Use convertTemp and checkType functions we've already created\n",
    "# Alternative solution using the in command\n",
    "def check_type(x):\n",
    "    return type(x) in [int,float]\n",
    "\n",
    "def convert_temp(degrees_c):\n",
    "    degrees_f = degrees_c * 9.0 / 5.0 + 32.0\n",
    "    return degrees_f \n",
    "\n",
    "def convert_temp_check3(degrees_c):\n",
    "    if check_type(degrees_c):\n",
    "        return convert_temp(degrees_c)\n",
    "    else:\n",
    "        return \"Error. {} is a non-numeric value.\".format(degrees_c)        \n",
    "\n",
    "print convert_temp_check3(100)\n",
    "print convert_temp_check3('Test')"
   ]
  },
  {
   "cell_type": "code",
   "execution_count": null,
   "metadata": {
    "collapsed": true
   },
   "outputs": [],
   "source": []
  }
 ],
 "metadata": {
  "kernelspec": {
   "display_name": "Python 2",
   "language": "python",
   "name": "python2"
  },
  "language_info": {
   "codemirror_mode": {
    "name": "ipython",
    "version": 2
   },
   "file_extension": ".py",
   "mimetype": "text/x-python",
   "name": "python",
   "nbconvert_exporter": "python",
   "pygments_lexer": "ipython2",
   "version": "2.7.11"
  }
 },
 "nbformat": 4,
 "nbformat_minor": 0
}
