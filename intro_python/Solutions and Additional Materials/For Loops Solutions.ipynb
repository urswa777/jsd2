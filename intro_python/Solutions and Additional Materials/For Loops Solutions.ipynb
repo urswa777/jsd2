{
 "cells": [
  {
   "cell_type": "markdown",
   "metadata": {},
   "source": [
    "# For Loops\n",
    "&copy; QuantSprout"
   ]
  },
  {
   "cell_type": "markdown",
   "metadata": {},
   "source": [
    "Create a for loop"
   ]
  },
  {
   "cell_type": "code",
   "execution_count": 1,
   "metadata": {
    "collapsed": false
   },
   "outputs": [
    {
     "name": "stdout",
     "output_type": "stream",
     "text": [
      "1\n",
      "2\n",
      "name\n"
     ]
    }
   ],
   "source": [
    "for x in [1,2,'name']: \n",
    "    print x"
   ]
  },
  {
   "cell_type": "code",
   "execution_count": 2,
   "metadata": {
    "collapsed": false
   },
   "outputs": [
    {
     "data": {
      "text/plain": [
       "'name'"
      ]
     },
     "execution_count": 2,
     "metadata": {},
     "output_type": "execute_result"
    }
   ],
   "source": [
    "x"
   ]
  },
  {
   "cell_type": "code",
   "execution_count": 7,
   "metadata": {
    "collapsed": false
   },
   "outputs": [
    {
     "name": "stdout",
     "output_type": "stream",
     "text": [
      "1\n",
      "2\n",
      "name\n"
     ]
    }
   ],
   "source": [
    "mylist = [1,2,'name']\n",
    "length = len(mylist)\n",
    "for i in range(length):\n",
    "    print mylist[i]"
   ]
  },
  {
   "cell_type": "markdown",
   "metadata": {},
   "source": [
    "Create a for loop with range"
   ]
  },
  {
   "cell_type": "code",
   "execution_count": 5,
   "metadata": {
    "collapsed": false
   },
   "outputs": [
    {
     "name": "stdout",
     "output_type": "stream",
     "text": [
      "[0, 1, 2, 3, 4]\n",
      "[7, 8]\n",
      "[2, 4]\n"
     ]
    }
   ],
   "source": [
    "print range(5)\n",
    "print range(7,9)\n",
    "print range(2,5,2)"
   ]
  },
  {
   "cell_type": "markdown",
   "metadata": {},
   "source": [
    "Create a for loop with multiple values"
   ]
  },
  {
   "cell_type": "code",
   "execution_count": 8,
   "metadata": {
    "collapsed": false
   },
   "outputs": [
    {
     "name": "stdout",
     "output_type": "stream",
     "text": [
      "4\n",
      "10\n",
      "18\n"
     ]
    }
   ],
   "source": [
    "for x,y in [[1,4],[2,5],[3,6]]:\n",
    "    print x * y"
   ]
  },
  {
   "cell_type": "markdown",
   "metadata": {},
   "source": [
    "Capture the all the results of a for loop"
   ]
  },
  {
   "cell_type": "code",
   "execution_count": 9,
   "metadata": {
    "collapsed": false
   },
   "outputs": [
    {
     "name": "stdout",
     "output_type": "stream",
     "text": [
      "[100, 9, 289]\n"
     ]
    }
   ],
   "source": [
    "results = []\n",
    "for x in [10,3,17]:\n",
    "    squared = x ** 2\n",
    "    results.append(squared)\n",
    "\n",
    "print results"
   ]
  },
  {
   "cell_type": "markdown",
   "metadata": {},
   "source": [
    "### Exercise\n",
    "#### 1. Create a function that receives a list of numbers as an input, adds 1 to each number and returns the results as a list\n"
   ]
  },
  {
   "cell_type": "code",
   "execution_count": null,
   "metadata": {
    "collapsed": false
   },
   "outputs": [],
   "source": [
    "def myfunction(input_list):\n",
    "    results = []\n",
    "    for i in range(len(input_list)):    \n",
    "        addone = input_list[i] + 1\n",
    "        results.append(addone)\n",
    "       \n",
    "    return results"
   ]
  },
  {
   "cell_type": "code",
   "execution_count": null,
   "metadata": {
    "collapsed": false
   },
   "outputs": [],
   "source": [
    "def myfunction(input_list):\n",
    "    for i in range(len(input_list)):    \n",
    "        input_list[i] = input_list[i] + 1       \n",
    "    return input_list\n",
    "\n",
    "print add_to_list([10,15,7])"
   ]
  },
  {
   "cell_type": "code",
   "execution_count": 10,
   "metadata": {
    "collapsed": false
   },
   "outputs": [
    {
     "name": "stdout",
     "output_type": "stream",
     "text": [
      "[11, 16, 8]\n"
     ]
    }
   ],
   "source": [
    "def add_to_list(input_list):\n",
    "    results = []\n",
    "    for each in input_list:    \n",
    "        addone = each + 1\n",
    "        results.append(addone)\n",
    "    return results\n",
    "\n",
    "print add_to_list([10,15,7])"
   ]
  },
  {
   "cell_type": "markdown",
   "metadata": {},
   "source": [
    "#### 2. Update your temperature conversion function from the Python Fundamentals exercise to accept a list of Celsius temperatures and return a list of Fahrenheit temperatures "
   ]
  },
  {
   "cell_type": "code",
   "execution_count": null,
   "metadata": {
    "collapsed": true
   },
   "outputs": [],
   "source": [
    "#Simplest\n",
    "def convert_temp_list(temp_list):\n",
    "    results = []\n",
    "    for temp in temp_list:\n",
    "        new_temp = temp * 9.0 / 5.0 + 32.0\n",
    "        results.append(new_temp)\n",
    "    return results"
   ]
  },
  {
   "cell_type": "code",
   "execution_count": null,
   "metadata": {
    "collapsed": false
   },
   "outputs": [],
   "source": [
    "#Nested functions\n",
    "def convert_temp(degrees_c):\n",
    "    degrees_f = degrees_c * 9.0 / 5.0 + 32.0\n",
    "    return degrees_f\n",
    "\n",
    "def convert_temp_list2(temp_list):\n",
    "    results = []\n",
    "    for temp in temp_list:\n",
    "        results.append(convert_temp(temp))\n",
    "    return results"
   ]
  },
  {
   "cell_type": "code",
   "execution_count": null,
   "metadata": {
    "collapsed": false
   },
   "outputs": [],
   "source": [
    "convert_temp_list([0,30,100])"
   ]
  },
  {
   "cell_type": "code",
   "execution_count": null,
   "metadata": {
    "collapsed": false
   },
   "outputs": [],
   "source": [
    "convert_temp_list2([0,30,100])"
   ]
  },
  {
   "cell_type": "markdown",
   "metadata": {},
   "source": [
    "#### Bonus: Add error handling to your temperature conversion function.\n"
   ]
  },
  {
   "cell_type": "code",
   "execution_count": null,
   "metadata": {
    "collapsed": false
   },
   "outputs": [],
   "source": [
    "#With error handling and nesting\n",
    "def convert_temp_check(degrees_c):\n",
    "    if (type(degrees_c) == int) | (type(degrees_c) == float):\n",
    "        degrees_f = degrees_c * 9.0 / 5 + 32\n",
    "        return degrees_f\n",
    "    else:\n",
    "        print \"Error. {} is a non-numeric value.\".format(degrees_c)\n",
    "    \n",
    "def convert_temp_list3(temp_list):\n",
    "    results = []\n",
    "    for temp in temp_list:\n",
    "        results.append(convert_temp_check(temp))\n",
    "    return results"
   ]
  },
  {
   "cell_type": "code",
   "execution_count": null,
   "metadata": {
    "collapsed": false
   },
   "outputs": [],
   "source": [
    "convert_temp_list3([0,30,100,'cat'])"
   ]
  },
  {
   "cell_type": "code",
   "execution_count": null,
   "metadata": {
    "collapsed": true
   },
   "outputs": [],
   "source": [
    "def convert_temp_list4(temp_list):\n",
    "    results = []\n",
    "    for degrees_c in temp_list:\n",
    "        if (type(degrees_c) == int) | (type(degrees_c) == float):\n",
    "            degrees_f = degrees_c * 9.0 / 5 + 32\n",
    "            results.append(degrees_f)\n",
    "        else:\n",
    "            results.append(\"Error. {} is a non-numeric value.\".format(degrees_c))\n",
    "    return results"
   ]
  },
  {
   "cell_type": "code",
   "execution_count": null,
   "metadata": {
    "collapsed": false
   },
   "outputs": [],
   "source": [
    "convert_temp_list4([0,30,100,'cat'])"
   ]
  },
  {
   "cell_type": "code",
   "execution_count": null,
   "metadata": {
    "collapsed": false
   },
   "outputs": [],
   "source": [
    "def convert_temp_list_generic(temp_list):\n",
    "    results = []\n",
    "    for degrees_c in temp_list:\n",
    "        condition1 = (type(degrees_c) == int) | (type(degrees_c) == float)\n",
    "        condition2 = degrees_c <= -274\n",
    "        if condition1:\n",
    "            degrees_f = degrees_c * 9.0 / 5 + 32\n",
    "            results.append(degrees_f)\n",
    "        elif condition2:\n",
    "            \n",
    "        else:\n",
    "            results.append(\"Error. {} can't convert.\".format(degrees_c))\n",
    "    return results"
   ]
  },
  {
   "cell_type": "code",
   "execution_count": null,
   "metadata": {
    "collapsed": false
   },
   "outputs": [],
   "source": [
    "convert_temp_list_generic([-275, 2])"
   ]
  }
 ],
 "metadata": {
  "kernelspec": {
   "display_name": "Python 2",
   "language": "python",
   "name": "python2"
  },
  "language_info": {
   "codemirror_mode": {
    "name": "ipython",
    "version": 2
   },
   "file_extension": ".py",
   "mimetype": "text/x-python",
   "name": "python",
   "nbconvert_exporter": "python",
   "pygments_lexer": "ipython2",
   "version": "2.7.11"
  }
 },
 "nbformat": 4,
 "nbformat_minor": 0
}
