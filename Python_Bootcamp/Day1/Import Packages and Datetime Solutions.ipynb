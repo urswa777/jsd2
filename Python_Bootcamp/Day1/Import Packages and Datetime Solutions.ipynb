{
 "cells": [
  {
   "cell_type": "markdown",
   "metadata": {},
   "source": [
    " # Importing Packages in Python and Datetime\n",
    " &copy; QuantSprout"
   ]
  },
  {
   "cell_type": "markdown",
   "metadata": {},
   "source": [
    "Let's import a package"
   ]
  },
  {
   "cell_type": "code",
   "execution_count": 1,
   "metadata": {
    "collapsed": false
   },
   "outputs": [],
   "source": [
    "import datetime as dt"
   ]
  },
  {
   "cell_type": "markdown",
   "metadata": {},
   "source": [
    "Use ipython magic to see function options. Type datetime. and press tab.  Highlight time and press enter.  Hit shift-tab"
   ]
  },
  {
   "cell_type": "code",
   "execution_count": 2,
   "metadata": {
    "collapsed": false
   },
   "outputs": [
    {
     "data": {
      "text/plain": [
       "datetime.time"
      ]
     },
     "execution_count": 2,
     "metadata": {},
     "output_type": "execute_result"
    }
   ],
   "source": [
    "dt.time"
   ]
  },
  {
   "cell_type": "markdown",
   "metadata": {},
   "source": [
    "Use a function from the datetime package"
   ]
  },
  {
   "cell_type": "code",
   "execution_count": 3,
   "metadata": {
    "collapsed": false
   },
   "outputs": [
    {
     "name": "stdout",
     "output_type": "stream",
     "text": [
      "01:00:00\n"
     ]
    }
   ],
   "source": [
    "print dt.time(1)"
   ]
  },
  {
   "cell_type": "markdown",
   "metadata": {},
   "source": [
    "## Datetime Package"
   ]
  },
  {
   "cell_type": "markdown",
   "metadata": {},
   "source": [
    "Use the now function to get the current datetime stamp.   "
   ]
  },
  {
   "cell_type": "code",
   "execution_count": 4,
   "metadata": {
    "collapsed": false
   },
   "outputs": [
    {
     "name": "stdout",
     "output_type": "stream",
     "text": [
      "2016-11-05 14:19:52.282925\n"
     ]
    }
   ],
   "source": [
    "ts_now = dt.datetime.now()\n",
    "print ts_now"
   ]
  },
  {
   "cell_type": "markdown",
   "metadata": {},
   "source": [
    "Extract the day from the timestamp"
   ]
  },
  {
   "cell_type": "code",
   "execution_count": 5,
   "metadata": {
    "collapsed": false
   },
   "outputs": [
    {
     "name": "stdout",
     "output_type": "stream",
     "text": [
      "5\n"
     ]
    }
   ],
   "source": [
    "print ts_now.day"
   ]
  },
  {
   "cell_type": "markdown",
   "metadata": {},
   "source": [
    "Extract some other datetime elements"
   ]
  },
  {
   "cell_type": "code",
   "execution_count": 18,
   "metadata": {
    "collapsed": false
   },
   "outputs": [
    {
     "name": "stdout",
     "output_type": "stream",
     "text": [
      "2016\n",
      "11\n",
      "19\n",
      "52\n",
      "282925\n"
     ]
    }
   ],
   "source": [
    "print ts_now.year\n",
    "print ts_now.month\n",
    "print ts_now.minute\n",
    "print ts_now.second\n",
    "print ts_now.microsecond"
   ]
  },
  {
   "cell_type": "markdown",
   "metadata": {},
   "source": [
    "Create a timestamp for Christmas"
   ]
  },
  {
   "cell_type": "code",
   "execution_count": 7,
   "metadata": {
    "collapsed": false
   },
   "outputs": [
    {
     "name": "stdout",
     "output_type": "stream",
     "text": [
      "2016-12-25 00:00:00\n"
     ]
    }
   ],
   "source": [
    "ts_xmas = dt.datetime(2016,12,25)\n",
    "print ts_xmas"
   ]
  },
  {
   "cell_type": "markdown",
   "metadata": {},
   "source": [
    "Do math with the timestamps"
   ]
  },
  {
   "cell_type": "code",
   "execution_count": 8,
   "metadata": {
    "collapsed": false
   },
   "outputs": [
    {
     "name": "stdout",
     "output_type": "stream",
     "text": [
      "49 days, 9:40:07.717075\n",
      "<type 'datetime.timedelta'>\n"
     ]
    }
   ],
   "source": [
    "ts_diff = ts_xmas - ts_now\n",
    "print ts_diff\n",
    "print type(ts_diff)"
   ]
  },
  {
   "cell_type": "markdown",
   "metadata": {},
   "source": [
    "Convert a string to datetime format"
   ]
  },
  {
   "cell_type": "code",
   "execution_count": 9,
   "metadata": {
    "collapsed": false
   },
   "outputs": [
    {
     "name": "stdout",
     "output_type": "stream",
     "text": [
      "2015-01-10 00:00:00\n",
      "<type 'datetime.datetime'>\n"
     ]
    }
   ],
   "source": [
    "date_str = \"01-10-2015\"\n",
    "date_ts = dt.datetime.strptime(date_str,\"%m-%d-%Y\")\n",
    "print date_ts\n",
    "print type(date_ts)"
   ]
  },
  {
   "cell_type": "markdown",
   "metadata": {},
   "source": [
    "Convert a datetime object to a string"
   ]
  },
  {
   "cell_type": "code",
   "execution_count": 10,
   "metadata": {
    "collapsed": false
   },
   "outputs": [
    {
     "name": "stdout",
     "output_type": "stream",
     "text": [
      "00:00:00 01-10-2015\n",
      "<type 'str'>\n"
     ]
    }
   ],
   "source": [
    "new_date_str = dt.datetime.strftime(date_ts,\"%H:%M:%S %m-%d-%Y\")\n",
    "print new_date_str\n",
    "print type(new_date_str)"
   ]
  },
  {
   "cell_type": "markdown",
   "metadata": {},
   "source": [
    "### Exercises"
   ]
  },
  {
   "cell_type": "markdown",
   "metadata": {},
   "source": [
    "Create a variable called future with a datetime value of January 15, 2017 at 5:30pm"
   ]
  },
  {
   "cell_type": "code",
   "execution_count": 11,
   "metadata": {
    "collapsed": false
   },
   "outputs": [
    {
     "name": "stdout",
     "output_type": "stream",
     "text": [
      "2017-01-15 17:30:15.000001\n"
     ]
    }
   ],
   "source": [
    "future = dt.datetime(2017,1,15,17,30,15,1)\n",
    "print future"
   ]
  },
  {
   "cell_type": "markdown",
   "metadata": {},
   "source": [
    "Create a variable with a timedelta equal to the difference between future and now"
   ]
  },
  {
   "cell_type": "code",
   "execution_count": 12,
   "metadata": {
    "collapsed": false
   },
   "outputs": [
    {
     "name": "stdout",
     "output_type": "stream",
     "text": [
      "71 days, 3:10:22.594864\n"
     ]
    }
   ],
   "source": [
    "td = future - dt.datetime.now()\n",
    "print td"
   ]
  },
  {
   "cell_type": "markdown",
   "metadata": {},
   "source": [
    "Print the number of seconds from the timedelta"
   ]
  },
  {
   "cell_type": "code",
   "execution_count": 21,
   "metadata": {
    "collapsed": false,
    "scrolled": true
   },
   "outputs": [
    {
     "name": "stdout",
     "output_type": "stream",
     "text": [
      "6145822.59486\n",
      "71 days, 3:10:22.594864\n",
      "11422\n",
      "71\n",
      "6145822\n",
      "71 days, 3:10:22.594864\n",
      "2016-10-06 17:12:15.849979\n"
     ]
    }
   ],
   "source": [
    "print td.total_seconds()\n",
    "print td\n",
    "print td.seconds\n",
    "print td.days\n",
    "print td.days*24*60*60 + td.seconds\n",
    "\n",
    "print dt.timedelta(seconds=td.total_seconds())\n",
    "print dt.datetime.today() - dt.timedelta(days=30)"
   ]
  },
  {
   "cell_type": "code",
   "execution_count": 14,
   "metadata": {
    "collapsed": false
   },
   "outputs": [
    {
     "data": {
      "text/plain": [
       "6145822.556077"
      ]
     },
     "execution_count": 14,
     "metadata": {},
     "output_type": "execute_result"
    }
   ],
   "source": [
    "(future - dt.datetime.now()).total_seconds()"
   ]
  },
  {
   "cell_type": "code",
   "execution_count": 15,
   "metadata": {
    "collapsed": false
   },
   "outputs": [
    {
     "data": {
      "text/plain": [
       "22.59486399963498"
      ]
     },
     "execution_count": 15,
     "metadata": {},
     "output_type": "execute_result"
    }
   ],
   "source": [
    "td.total_seconds()%60"
   ]
  },
  {
   "cell_type": "markdown",
   "metadata": {},
   "source": [
    "#### Bonus: \n",
    "Try converting strings to datetime objects and datetime objects back to strings.  What are some interesting datetime formats you can find in the documentation?"
   ]
  },
  {
   "cell_type": "code",
   "execution_count": 16,
   "metadata": {
    "collapsed": false
   },
   "outputs": [
    {
     "name": "stdout",
     "output_type": "stream",
     "text": [
      "12/15/17\n",
      "Dec-15-2017\n",
      "17:30:00\n",
      "December 15, 2017\n",
      "Fri 05 PM\n",
      "50\n",
      "sales report 20171215.xlsx\n"
     ]
    }
   ],
   "source": [
    "example = dt.datetime(2017,12,15,17,30)\n",
    "\n",
    "print dt.datetime.strftime(example,'%m/%d/%y')\n",
    "print dt.datetime.strftime(example,'%b-%d-%Y')\n",
    "print dt.datetime.strftime(example,'%H:%M:%S')\n",
    "print dt.datetime.strftime(example,'%B %d, %Y')\n",
    "print dt.datetime.strftime(example,'%a %I %p')\n",
    "print dt.datetime.strftime(example,'%U')\n",
    "print dt.datetime.strftime(example,'sales report %Y%m%d.xlsx')"
   ]
  },
  {
   "cell_type": "code",
   "execution_count": 17,
   "metadata": {
    "collapsed": false
   },
   "outputs": [
    {
     "name": "stdout",
     "output_type": "stream",
     "text": [
      "12/15/2017\n"
     ]
    }
   ],
   "source": [
    "date_format = '%m/%d/%Y'\n",
    "print dt.datetime.strftime(example, date_format)"
   ]
  },
  {
   "cell_type": "code",
   "execution_count": null,
   "metadata": {
    "collapsed": true
   },
   "outputs": [],
   "source": []
  }
 ],
 "metadata": {
  "anaconda-cloud": {},
  "kernelspec": {
   "display_name": "Python [Root]",
   "language": "python",
   "name": "Python [Root]"
  },
  "language_info": {
   "codemirror_mode": {
    "name": "ipython",
    "version": 2
   },
   "file_extension": ".py",
   "mimetype": "text/x-python",
   "name": "python",
   "nbconvert_exporter": "python",
   "pygments_lexer": "ipython2",
   "version": "2.7.12"
  }
 },
 "nbformat": 4,
 "nbformat_minor": 0
}
