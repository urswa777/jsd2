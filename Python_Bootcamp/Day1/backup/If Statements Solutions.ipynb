{
 "cells": [
  {
   "cell_type": "markdown",
   "metadata": {},
   "source": [
    " # If Statements\n",
    " &copy; QuantSprout"
   ]
  },
  {
   "cell_type": "markdown",
   "metadata": {},
   "source": [
    "Simple If Statement"
   ]
  },
  {
   "cell_type": "code",
   "execution_count": 1,
   "metadata": {
    "collapsed": false
   },
   "outputs": [
    {
     "name": "stdout",
     "output_type": "stream",
     "text": [
      "3\n"
     ]
    }
   ],
   "source": [
    "x=3\n",
    "if x>0:\n",
    "    print x"
   ]
  },
  {
   "cell_type": "markdown",
   "metadata": {},
   "source": [
    "Write if statements with multiple conditions"
   ]
  },
  {
   "cell_type": "code",
   "execution_count": 2,
   "metadata": {
    "collapsed": false
   },
   "outputs": [
    {
     "name": "stdout",
     "output_type": "stream",
     "text": [
      "4 is even and greater than zero\n"
     ]
    }
   ],
   "source": [
    "x = 4\n",
    "if x > 0 and x%2 == 0:\n",
    "    print x, 'is even and greater than zero'"
   ]
  },
  {
   "cell_type": "code",
   "execution_count": 3,
   "metadata": {
    "collapsed": false
   },
   "outputs": [
    {
     "name": "stdout",
     "output_type": "stream",
     "text": [
      "3.0 is greater than 10 or a float type\n"
     ]
    }
   ],
   "source": [
    "x = 3.0\n",
    "if (x > 10) |  (type(x) == float):\n",
    "    print x, 'is greater than 10 or a float type'"
   ]
  },
  {
   "cell_type": "markdown",
   "metadata": {},
   "source": [
    "Else If Statement"
   ]
  },
  {
   "cell_type": "code",
   "execution_count": 4,
   "metadata": {
    "collapsed": false
   },
   "outputs": [
    {
     "name": "stdout",
     "output_type": "stream",
     "text": [
      "small customer\n"
     ]
    }
   ],
   "source": [
    "sales = 30\n",
    "if sales > 1000:\n",
    "    print 'top customer'\n",
    "elif sales > 100:\n",
    "    print 'regular customer'\n",
    "else:\n",
    "    print 'small customer'"
   ]
  },
  {
   "cell_type": "markdown",
   "metadata": {},
   "source": [
    "## Exercise: Update your function to handle errors and convert Fahrenheit to Celsius"
   ]
  },
  {
   "cell_type": "markdown",
   "metadata": {},
   "source": [
    "#### 1. Create a function that checks the type of an input and returns True if the input is numeric (float or integer) or a False if it is another data type.\n"
   ]
  },
  {
   "cell_type": "code",
   "execution_count": 5,
   "metadata": {
    "collapsed": false
   },
   "outputs": [],
   "source": [
    "def is_numeric(x):\n",
    "    if type(x) == int or type(x) == float:\n",
    "        return True\n",
    "    else:\n",
    "        return False"
   ]
  },
  {
   "cell_type": "code",
   "execution_count": 6,
   "metadata": {
    "collapsed": true
   },
   "outputs": [],
   "source": [
    "# Short hand version of solution\n",
    "def is_numeric(x):\n",
    "    return (type(x) == int) | (type(x) == float)\n"
   ]
  },
  {
   "cell_type": "code",
   "execution_count": 7,
   "metadata": {
    "collapsed": false
   },
   "outputs": [],
   "source": [
    "# Alternative solution using the in operator\n",
    "def is_numeric(x):\n",
    "    return type(x) in [int,float,bool]"
   ]
  },
  {
   "cell_type": "code",
   "execution_count": 13,
   "metadata": {
    "collapsed": true
   },
   "outputs": [],
   "source": [
    "def is_numeric(x):\n",
    "    answer = type(x) in [int,float,bool]\n",
    "    return answer"
   ]
  },
  {
   "cell_type": "code",
   "execution_count": 8,
   "metadata": {
    "collapsed": false
   },
   "outputs": [
    {
     "name": "stdout",
     "output_type": "stream",
     "text": [
      "True\n",
      "True\n",
      "True\n",
      "False\n"
     ]
    }
   ],
   "source": [
    "print is_numeric(10)\n",
    "print is_numeric(10.1)\n",
    "print is_numeric(True)\n",
    "print is_numeric('Test')"
   ]
  },
  {
   "cell_type": "markdown",
   "metadata": {},
   "source": [
    "#### 2. Update your temperature function from the Python Fundamentals exercise to return an error message if a string is entered instead of a number."
   ]
  },
  {
   "cell_type": "code",
   "execution_count": 9,
   "metadata": {
    "collapsed": false
   },
   "outputs": [],
   "source": [
    "def convert_temp_check(degrees_c):\n",
    "    if (type(degrees_c) == int) | (type(degrees_c) == float):\n",
    "        degrees_f = degrees_c * 9.0 / 5.0 + 32.0\n",
    "        return degrees_f\n",
    "    else:\n",
    "        return \"Error. {} is a non-numeric value.\".format(degrees_c)"
   ]
  },
  {
   "cell_type": "code",
   "execution_count": 10,
   "metadata": {
    "collapsed": false
   },
   "outputs": [
    {
     "name": "stdout",
     "output_type": "stream",
     "text": [
      "212.0\n",
      "Error. Test is a non-numeric value.\n"
     ]
    }
   ],
   "source": [
    "print convert_temp_check(100)\n",
    "print convert_temp_check('Test')"
   ]
  },
  {
   "cell_type": "code",
   "execution_count": 14,
   "metadata": {
    "collapsed": false
   },
   "outputs": [
    {
     "name": "stdout",
     "output_type": "stream",
     "text": [
      "212.0\n",
      "Error. Test is a non-numeric value.\n"
     ]
    }
   ],
   "source": [
    "# Use is_numeric function we've already created\n",
    "def convert_temp_check2(degrees_c):\n",
    "    if is_numeric(degrees_c):\n",
    "        degrees_f = degrees_c * 9.0 / 5.0 + 32.0\n",
    "        return degrees_f\n",
    "    else:\n",
    "        return \"Error. {} is a non-numeric value.\".format(degrees_c)        \n",
    "\n",
    "print convert_temp_check2(100)\n",
    "print convert_temp_check2('Test')"
   ]
  },
  {
   "cell_type": "code",
   "execution_count": 12,
   "metadata": {
    "collapsed": false
   },
   "outputs": [
    {
     "name": "stdout",
     "output_type": "stream",
     "text": [
      "212.0\n",
      "Error. Test is a non-numeric value.\n"
     ]
    }
   ],
   "source": [
    "# Use convert_temp and is_numeric functions we've already created\n",
    "def convert_temp(degrees_c):\n",
    "    degrees_f = degrees_c * 9.0 / 5.0 + 32.0\n",
    "    return degrees_f \n",
    "\n",
    "def convert_temp_check3(degrees_c):\n",
    "    if is_numeric(degrees_c):\n",
    "        return convert_temp(degrees_c)\n",
    "    else:\n",
    "        return \"Error. {} is a non-numeric value.\".format(degrees_c)        \n",
    "\n",
    "print convert_temp_check3(100)\n",
    "print convert_temp_check3('Test')"
   ]
  },
  {
   "cell_type": "code",
   "execution_count": null,
   "metadata": {
    "collapsed": true
   },
   "outputs": [],
   "source": []
  }
 ],
 "metadata": {
  "anaconda-cloud": {},
  "kernelspec": {
   "display_name": "Python [Root]",
   "language": "python",
   "name": "Python [Root]"
  },
  "language_info": {
   "codemirror_mode": {
    "name": "ipython",
    "version": 2
   },
   "file_extension": ".py",
   "mimetype": "text/x-python",
   "name": "python",
   "nbconvert_exporter": "python",
   "pygments_lexer": "ipython2",
   "version": "2.7.12"
  }
 },
 "nbformat": 4,
 "nbformat_minor": 0
}
