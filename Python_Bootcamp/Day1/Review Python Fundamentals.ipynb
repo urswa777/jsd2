{
 "cells": [
  {
   "cell_type": "markdown",
   "metadata": {},
   "source": [
    "  # Python for Data Science Bootcamp\n",
    "  ## Review Python Fundamentals"
   ]
  },
  {
   "cell_type": "markdown",
   "metadata": {},
   "source": [
    "Create a function that takes a numeric age as an input and prints a category label: \n",
    "- age <= 16 is kid\n",
    "- age 17-59 is adult\n",
    "- age >= 60 is senior"
   ]
  },
  {
   "cell_type": "code",
   "execution_count": 18,
   "metadata": {
    "collapsed": false
   },
   "outputs": [
    {
     "name": "stdout",
     "output_type": "stream",
     "text": [
      "kid\n",
      "adult\n",
      "adult\n",
      "kid\n",
      "wrong input\n",
      "too old\n",
      "Please enter an integer\n"
     ]
    }
   ],
   "source": [
    "def detect_age(age):\n",
    "    if type(age) != int:\n",
    "        print \"Please enter an integer\"\n",
    "    else :\n",
    "        if age <= 16 and age >= 0:\n",
    "            print \"kid\"\n",
    "        elif age >16 and age <= 59:\n",
    "            print \"adult\"\n",
    "        elif age >= 60 and age <100:\n",
    "            print \"senior\"\n",
    "        elif age >= 101:\n",
    "            print \"too old\"\n",
    "        else:\n",
    "            print \"wrong input\"\n",
    "        \n",
    "detect_age (1)\n",
    "detect_age (56)\n",
    "detect_age (32)\n",
    "detect_age (16)\n",
    "detect_age (-36)\n",
    "detect_age (102)\n",
    "detect_age('hhs')\n"
   ]
  },
  {
   "cell_type": "markdown",
   "metadata": {},
   "source": [
    "Write single line of code that returns last five items in the list below"
   ]
  },
  {
   "cell_type": "code",
   "execution_count": 4,
   "metadata": {
    "collapsed": false
   },
   "outputs": [],
   "source": [
    "sample_list = ['cat', 'dog', 1, 2, 3,4, 9, 'bird']"
   ]
  },
  {
   "cell_type": "code",
   "execution_count": 5,
   "metadata": {
    "collapsed": false
   },
   "outputs": [
    {
     "data": {
      "text/plain": [
       "[2, 3, 4, 9, 'bird']"
      ]
     },
     "execution_count": 5,
     "metadata": {},
     "output_type": "execute_result"
    }
   ],
   "source": [
    "sample_list [-5:]"
   ]
  },
  {
   "cell_type": "markdown",
   "metadata": {},
   "source": [
    "Create a dictionary with the following key-value pairs:  \n",
    "- 'pizza' and 'Italian'\n",
    "- 'sushi' and 'Japanese'\n",
    "- 'cheeseburger' and 'American'"
   ]
  },
  {
   "cell_type": "code",
   "execution_count": 7,
   "metadata": {
    "collapsed": false
   },
   "outputs": [
    {
     "name": "stdout",
     "output_type": "stream",
     "text": [
      "{'sushi': 'Japanese', 'cheeseburger': 'American', 'pizza': 'Italian'}\n"
     ]
    }
   ],
   "source": [
    "dict = { 'pizza': 'Italian', 'sushi': 'Japanese', 'cheeseburger':'American'}\n",
    "\n",
    "print dict"
   ]
  },
  {
   "cell_type": "code",
   "execution_count": 20,
   "metadata": {
    "collapsed": false
   },
   "outputs": [
    {
     "name": "stdout",
     "output_type": "stream",
     "text": [
      "{'sushi': 'Japanese', 'cheeseburger': 'American', 'pizza': 'Italian'}\n",
      "{'sushi': 'Japanese', 'cheeseburger': 'American'}\n"
     ]
    }
   ],
   "source": [
    "food_alt ={}\n",
    "food_alt ['pizza'] = 'Italian'\n",
    "food_alt ['sushi'] = 'Japanese'\n",
    "food_alt ['cheeseburger'] = 'American'\n",
    "print food_alt\n",
    "del food_alt['pizza']\n",
    "print food_alt\n",
    "food_alt ['pizza'] = 'Italian'\n"
   ]
  },
  {
   "cell_type": "markdown",
   "metadata": {},
   "source": [
    "Create a list of squared values for 1 to 100"
   ]
  },
  {
   "cell_type": "code",
   "execution_count": 13,
   "metadata": {
    "collapsed": false
   },
   "outputs": [
    {
     "name": "stdout",
     "output_type": "stream",
     "text": [
      "[1, 4, 9, 16, 25, 36, 49, 64, 81, 100, 121, 144, 169, 196, 225, 256, 289, 324, 361, 400, 441, 484, 529, 576, 625, 676, 729, 784, 841, 900, 961, 1024, 1089, 1156, 1225, 1296, 1369, 1444, 1521, 1600, 1681, 1764, 1849, 1936, 2025, 2116, 2209, 2304, 2401, 2500, 2601, 2704, 2809, 2916, 3025, 3136, 3249, 3364, 3481, 3600, 3721, 3844, 3969, 4096, 4225, 4356, 4489, 4624, 4761, 4900, 5041, 5184, 5329, 5476, 5625, 5776, 5929, 6084, 6241, 6400, 6561, 6724, 6889, 7056, 7225, 7396, 7569, 7744, 7921, 8100, 8281, 8464, 8649, 8836, 9025, 9216, 9409, 9604, 9801, 10000]\n"
     ]
    }
   ],
   "source": [
    "#print range (1,100,1)\n",
    "results = []\n",
    "for x in range (1,101):\n",
    "    results.append (x **2)\n",
    "print results    "
   ]
  },
  {
   "cell_type": "code",
   "execution_count": 21,
   "metadata": {
    "collapsed": false
   },
   "outputs": [
    {
     "data": {
      "text/plain": [
       "[0, 1, 4, 9, 16, 25, 36, 49, 64, 81]"
      ]
     },
     "execution_count": 21,
     "metadata": {},
     "output_type": "execute_result"
    }
   ],
   "source": [
    "[ x ** 2 for x in range(10)]"
   ]
  },
  {
   "cell_type": "markdown",
   "metadata": {},
   "source": [
    "Using the datetime package, convert the following string into a datetime object"
   ]
  },
  {
   "cell_type": "code",
   "execution_count": 11,
   "metadata": {
    "collapsed": true
   },
   "outputs": [],
   "source": [
    "import datetime as dt\n",
    "date_string = 'Mon, July 24, 2016 14:15'"
   ]
  },
  {
   "cell_type": "code",
   "execution_count": 12,
   "metadata": {
    "collapsed": false
   },
   "outputs": [
    {
     "name": "stdout",
     "output_type": "stream",
     "text": [
      "2016-07-24 14:15:00\n",
      "<type 'datetime.datetime'>\n"
     ]
    }
   ],
   "source": [
    "date_ds = dt.datetime.strptime(date_string, \"%a, %B %d, %Y %H:%M\")\n",
    "print date_ds\n",
    "print type(date_ds)"
   ]
  },
  {
   "cell_type": "code",
   "execution_count": null,
   "metadata": {
    "collapsed": true
   },
   "outputs": [],
   "source": []
  }
 ],
 "metadata": {
  "anaconda-cloud": {},
  "kernelspec": {
   "display_name": "Python [default]",
   "language": "python",
   "name": "python2"
  },
  "language_info": {
   "codemirror_mode": {
    "name": "ipython",
    "version": 2
   },
   "file_extension": ".py",
   "mimetype": "text/x-python",
   "name": "python",
   "nbconvert_exporter": "python",
   "pygments_lexer": "ipython2",
   "version": "2.7.12"
  }
 },
 "nbformat": 4,
 "nbformat_minor": 0
}
