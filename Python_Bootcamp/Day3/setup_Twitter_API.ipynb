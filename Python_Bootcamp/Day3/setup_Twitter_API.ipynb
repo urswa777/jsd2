{
 "cells": [
  {
   "cell_type": "code",
   "execution_count": 1,
   "metadata": {
    "collapsed": true
   },
   "outputs": [],
   "source": [
    "import yaml"
   ]
  },
  {
   "cell_type": "code",
   "execution_count": 2,
   "metadata": {
    "collapsed": true
   },
   "outputs": [],
   "source": [
    "credentials = yaml.load(open('credentials.yml'))"
   ]
  },
  {
   "cell_type": "code",
   "execution_count": 3,
   "metadata": {
    "collapsed": false
   },
   "outputs": [
    {
     "name": "stdout",
     "output_type": "stream",
     "text": [
      "{'twitter_tokensecret': 'uVjI2QVVqqtyzID0IjBW4BiyHkqTnToMZUt2vIvl9Y9Pe', 'twitter_secret': 'ebBT7sGE0zf9J997mYgSkKSkiU9nhw6j2tEXn7ukUV3Y0gxwiz', 'twitter_token': '797455371333840896-v9fyh7mHZVy8vHU8ogZB9vMdWMuBX1r', 'twitter_key': 'lggKrXRLRWmklInGMNCWi9Rod'}\n"
     ]
    }
   ],
   "source": [
    "print credentials"
   ]
  },
  {
   "cell_type": "code",
   "execution_count": 6,
   "metadata": {
    "collapsed": false
   },
   "outputs": [
    {
     "name": "stdout",
     "output_type": "stream",
     "text": [
      "ebBT7sGE0zf9J997mYgSkKSkiU9nhw6j2tEXn7ukUV3Y0gxwiz\n"
     ]
    }
   ],
   "source": [
    "print credentials['twitter_secret']"
   ]
  },
  {
   "cell_type": "code",
   "execution_count": 14,
   "metadata": {
    "collapsed": false
   },
   "outputs": [],
   "source": [
    "token = credentials['twitter_token']\n",
    "token_secret = credentials['twitter_tokensecret']\n",
    "twitter_key = credentials['twitter_key']\n",
    "twitter_secret = credentials['twitter_secret']\n"
   ]
  },
  {
   "cell_type": "code",
   "execution_count": 15,
   "metadata": {
    "collapsed": true
   },
   "outputs": [],
   "source": [
    "import twitter"
   ]
  },
  {
   "cell_type": "code",
   "execution_count": 16,
   "metadata": {
    "collapsed": false
   },
   "outputs": [],
   "source": [
    "auth = twitter.oauth.OAuth(token, token_secret, twitter_key, twitter_secret)"
   ]
  },
  {
   "cell_type": "code",
   "execution_count": null,
   "metadata": {
    "collapsed": false
   },
   "outputs": [],
   "source": []
  },
  {
   "cell_type": "code",
   "execution_count": 6,
   "metadata": {
    "collapsed": true
   },
   "outputs": [],
   "source": [
    "auth = twitter.oauth.OAuth('797455371333840896-v9fyh7mHZVy8vHU8ogZB9vMdWMuBX1r',\n",
    "                           'uVjI2QVVqqtyzID0IjBW4BiyHkqTnToMZUt2vIvl9Y9Pe', \n",
    "                           'lggKrXRLRWmklInGMNCWi9Rod', \n",
    "                           'ebBT7sGE0zf9J997mYgSkKSkiU9nhw6j2tEXn7ukUV3Y0gxwiz')"
   ]
  },
  {
   "cell_type": "code",
   "execution_count": 17,
   "metadata": {
    "collapsed": true
   },
   "outputs": [],
   "source": [
    "twitter_api = twitter.Twitter(auth=auth)"
   ]
  },
  {
   "cell_type": "code",
   "execution_count": 21,
   "metadata": {
    "collapsed": false
   },
   "outputs": [],
   "source": [
    "search_string = '#goldenstatewarriors' \n",
    "count = 10\n",
    "search_results = twitter_api.search.tweets(q=search_string, count=count)"
   ]
  },
  {
   "cell_type": "code",
   "execution_count": 10,
   "metadata": {
    "collapsed": false
   },
   "outputs": [
    {
     "name": "stdout",
     "output_type": "stream",
     "text": [
      "{u'search_metadata': {u'count': 10, u'completed_in': 0.043, u'max_id_str': u'797510840945700864', u'since_id_str': u'0', u'refresh_url': u'?since_id=797510840945700864&q=%23goldenstatewarriors&include_entities=1', u'since_id': 0, u'query': u'%23goldenstatewarriors', u'max_id': 797510840945700864}, u'statuses': [{u'contributors': None, u'truncated': False, u'text': u'RT @ziggy9480: NBA Picks: O/U Season Wins #nbaplayoffs #goldenstatewarriors #stephcurry #kobe #nbanews https://t.co/cYywB2Wazb https://t.co\\u2026', u'is_quote_status': False, u'in_reply_to_status_id': None, u'id': 797510840945700864, u'favorite_count': 0, u'entities': {u'symbols': [], u'user_mentions': [{u'id': 1643294605, u'indices': [3, 13], u'id_str': u'1643294605', u'screen_name': u'ziggy9480', u'name': u'StoreBum Punch Cards'}], u'hashtags': [{u'indices': [42, 54], u'text': u'nbaplayoffs'}, {u'indices': [55, 75], u'text': u'goldenstatewarriors'}, {u'indices': [76, 87], u'text': u'stephcurry'}, {u'indices': [88, 93], u'text': u'kobe'}, {u'indices': [94, 102], u'text': u'nbanews'}], u'urls': [{u'url': u'https://t.co/cYywB2Wazb', u'indices': [103, 126], u'expanded_url': u'http://soco.space/exmfaR', u'display_url': u'soco.space/exmfaR'}]}, u'retweeted': False, u'coordinates': None, u'source': u'<a href=\"http://checkoutthisvideos.com\" rel=\"nofollow\">livesportsonline</a>', u'in_reply_to_screen_name': None, u'in_reply_to_user_id': None, u'retweet_count': 1, u'id_str': u'797510840945700864', u'favorited': False, u'retweeted_status': {u'contributors': None, u'truncated': False, u'text': u'NBA Picks: O/U Season Wins #nbaplayoffs #goldenstatewarriors #stephcurry #kobe #nbanews https://t.co/cYywB2Wazb https://t.co/3uJnJjnQoC', u'is_quote_status': False, u'in_reply_to_status_id': None, u'id': 797502114629087232, u'favorite_count': 0, u'entities': {u'symbols': [], u'user_mentions': [], u'hashtags': [{u'indices': [27, 39], u'text': u'nbaplayoffs'}, {u'indices': [40, 60], u'text': u'goldenstatewarriors'}, {u'indices': [61, 72], u'text': u'stephcurry'}, {u'indices': [73, 78], u'text': u'kobe'}, {u'indices': [79, 87], u'text': u'nbanews'}], u'urls': [{u'url': u'https://t.co/cYywB2Wazb', u'indices': [88, 111], u'expanded_url': u'http://soco.space/exmfaR', u'display_url': u'soco.space/exmfaR'}], u'media': [{u'expanded_url': u'https://twitter.com/ziggy9480/status/797502114629087232/photo/1', u'display_url': u'pic.twitter.com/3uJnJjnQoC', u'url': u'https://t.co/3uJnJjnQoC', u'media_url_https': u'https://pbs.twimg.com/media/CxFL8jNWQAEBjv-.jpg', u'id_str': u'797502112636747777', u'sizes': {u'large': {u'h': 375, u'resize': u'fit', u'w': 750}, u'small': {u'h': 340, u'resize': u'fit', u'w': 680}, u'medium': {u'h': 375, u'resize': u'fit', u'w': 750}, u'thumb': {u'h': 150, u'resize': u'crop', u'w': 150}}, u'indices': [112, 135], u'type': u'photo', u'id': 797502112636747777, u'media_url': u'http://pbs.twimg.com/media/CxFL8jNWQAEBjv-.jpg'}]}, u'retweeted': False, u'coordinates': None, u'source': u'<a href=\"http://www.socialcloudsuite.com\" rel=\"nofollow\">SocialCloudSuite</a>', u'in_reply_to_screen_name': None, u'in_reply_to_user_id': None, u'retweet_count': 1, u'id_str': u'797502114629087232', u'favorited': False, u'user': {u'follow_request_sent': False, u'has_extended_profile': True, u'profile_use_background_image': False, u'default_profile_image': False, u'id': 1643294605, u'profile_background_image_url_https': u'https://abs.twimg.com/images/themes/theme1/bg.png', u'verified': False, u'translator_type': u'none', u'profile_text_color': u'000000', u'profile_image_url_https': u'https://pbs.twimg.com/profile_images/786177384617684992/tyyXl8o6_normal.jpg', u'profile_sidebar_fill_color': u'000000', u'entities': {u'url': {u'urls': [{u'url': u'https://t.co/4aF3VSO6Uw', u'indices': [0, 23], u'expanded_url': u'https://storebums.com', u'display_url': u'storebums.com'}]}, u'description': {u'urls': []}}, u'followers_count': 1001, u'profile_sidebar_border_color': u'000000', u'id_str': u'1643294605', u'profile_background_color': u'000000', u'listed_count': 430, u'is_translation_enabled': False, u'utc_offset': None, u'statuses_count': 63755, u'description': u'We specialize in Loyal Customers. Formed and based in The US Virgin Islands, St.Thomas;we exist to help local business owners increase their customer retention', u'friends_count': 1353, u'location': u'St Thomas, US Virgin Islands', u'profile_link_color': u'E81C4F', u'profile_image_url': u'http://pbs.twimg.com/profile_images/786177384617684992/tyyXl8o6_normal.jpg', u'following': False, u'geo_enabled': False, u'profile_banner_url': u'https://pbs.twimg.com/profile_banners/1643294605/1476274895', u'profile_background_image_url': u'http://abs.twimg.com/images/themes/theme1/bg.png', u'screen_name': u'ziggy9480', u'lang': u'en', u'profile_background_tile': False, u'favourites_count': 573, u'name': u'StoreBum Punch Cards', u'notifications': False, u'url': u'https://t.co/4aF3VSO6Uw', u'created_at': u'Sat Aug 03 17:18:52 +0000 2013', u'contributors_enabled': False, u'time_zone': None, u'protected': False, u'default_profile': False, u'is_translator': False}, u'geo': None, u'in_reply_to_user_id_str': None, u'possibly_sensitive': False, u'lang': u'en', u'created_at': u'Sat Nov 12 18:11:35 +0000 2016', u'in_reply_to_status_id_str': None, u'place': None, u'extended_entities': {u'media': [{u'expanded_url': u'https://twitter.com/ziggy9480/status/797502114629087232/photo/1', u'display_url': u'pic.twitter.com/3uJnJjnQoC', u'url': u'https://t.co/3uJnJjnQoC', u'media_url_https': u'https://pbs.twimg.com/media/CxFL8jNWQAEBjv-.jpg', u'id_str': u'797502112636747777', u'sizes': {u'large': {u'h': 375, u'resize': u'fit', u'w': 750}, u'small': {u'h': 340, u'resize': u'fit', u'w': 680}, u'medium': {u'h': 375, u'resize': u'fit', u'w': 750}, u'thumb': {u'h': 150, u'resize': u'crop', u'w': 150}}, u'indices': [112, 135], u'type': u'photo', u'id': 797502112636747777, u'media_url': u'http://pbs.twimg.com/media/CxFL8jNWQAEBjv-.jpg'}]}, u'metadata': {u'iso_language_code': u'en', u'result_type': u'recent'}}, u'user': {u'follow_request_sent': False, u'has_extended_profile': False, u'profile_use_background_image': True, u'default_profile_image': False, u'id': 720148699595190272, u'profile_background_image_url_https': u'https://pbs.twimg.com/profile_background_images/721230403239936000/EFKHkii3.jpg', u'verified': False, u'translator_type': u'none', u'profile_text_color': u'000000', u'profile_image_url_https': u'https://pbs.twimg.com/profile_images/726288761437323265/fvx1DjOt_normal.jpg', u'profile_sidebar_fill_color': u'000000', u'entities': {u'description': {u'urls': []}}, u'followers_count': 365, u'profile_sidebar_border_color': u'000000', u'id_str': u'720148699595190272', u'profile_background_color': u'C0DEED', u'listed_count': 82, u'is_translation_enabled': False, u'utc_offset': None, u'statuses_count': 10030, u'description': u'', u'friends_count': 923, u'location': u'', u'profile_link_color': u'0084B4', u'profile_image_url': u'http://pbs.twimg.com/profile_images/726288761437323265/fvx1DjOt_normal.jpg', u'following': False, u'geo_enabled': False, u'profile_banner_url': u'https://pbs.twimg.com/profile_banners/720148699595190272/1460532523', u'profile_background_image_url': u'http://pbs.twimg.com/profile_background_images/721230403239936000/EFKHkii3.jpg', u'screen_name': u'SureLiveSports', u'lang': u'en', u'profile_background_tile': False, u'favourites_count': 0, u'name': u'LiveSportsOnline', u'notifications': False, u'url': None, u'created_at': u'Wed Apr 13 07:16:44 +0000 2016', u'contributors_enabled': False, u'time_zone': None, u'protected': False, u'default_profile': False, u'is_translator': False}, u'geo': None, u'in_reply_to_user_id_str': None, u'possibly_sensitive': False, u'lang': u'en', u'created_at': u'Sat Nov 12 18:46:16 +0000 2016', u'in_reply_to_status_id_str': None, u'place': None, u'metadata': {u'iso_language_code': u'en', u'result_type': u'recent'}}, {u'contributors': None, u'truncated': False, u'text': u'NBA Picks: O/U Season Wins #nbaplayoffs #goldenstatewarriors #stephcurry #kobe #nbanews https://t.co/cYywB2Wazb https://t.co/3uJnJjnQoC', u'is_quote_status': False, u'in_reply_to_status_id': None, u'id': 797502114629087232, u'favorite_count': 0, u'entities': {u'symbols': [], u'user_mentions': [], u'hashtags': [{u'indices': [27, 39], u'text': u'nbaplayoffs'}, {u'indices': [40, 60], u'text': u'goldenstatewarriors'}, {u'indices': [61, 72], u'text': u'stephcurry'}, {u'indices': [73, 78], u'text': u'kobe'}, {u'indices': [79, 87], u'text': u'nbanews'}], u'urls': [{u'url': u'https://t.co/cYywB2Wazb', u'indices': [88, 111], u'expanded_url': u'http://soco.space/exmfaR', u'display_url': u'soco.space/exmfaR'}], u'media': [{u'expanded_url': u'https://twitter.com/ziggy9480/status/797502114629087232/photo/1', u'display_url': u'pic.twitter.com/3uJnJjnQoC', u'url': u'https://t.co/3uJnJjnQoC', u'media_url_https': u'https://pbs.twimg.com/media/CxFL8jNWQAEBjv-.jpg', u'id_str': u'797502112636747777', u'sizes': {u'large': {u'h': 375, u'resize': u'fit', u'w': 750}, u'small': {u'h': 340, u'resize': u'fit', u'w': 680}, u'medium': {u'h': 375, u'resize': u'fit', u'w': 750}, u'thumb': {u'h': 150, u'resize': u'crop', u'w': 150}}, u'indices': [112, 135], u'type': u'photo', u'id': 797502112636747777, u'media_url': u'http://pbs.twimg.com/media/CxFL8jNWQAEBjv-.jpg'}]}, u'retweeted': False, u'coordinates': None, u'source': u'<a href=\"http://www.socialcloudsuite.com\" rel=\"nofollow\">SocialCloudSuite</a>', u'in_reply_to_screen_name': None, u'in_reply_to_user_id': None, u'retweet_count': 1, u'id_str': u'797502114629087232', u'favorited': False, u'user': {u'follow_request_sent': False, u'has_extended_profile': True, u'profile_use_background_image': False, u'default_profile_image': False, u'id': 1643294605, u'profile_background_image_url_https': u'https://abs.twimg.com/images/themes/theme1/bg.png', u'verified': False, u'translator_type': u'none', u'profile_text_color': u'000000', u'profile_image_url_https': u'https://pbs.twimg.com/profile_images/786177384617684992/tyyXl8o6_normal.jpg', u'profile_sidebar_fill_color': u'000000', u'entities': {u'url': {u'urls': [{u'url': u'https://t.co/4aF3VSO6Uw', u'indices': [0, 23], u'expanded_url': u'https://storebums.com', u'display_url': u'storebums.com'}]}, u'description': {u'urls': []}}, u'followers_count': 1001, u'profile_sidebar_border_color': u'000000', u'id_str': u'1643294605', u'profile_background_color': u'000000', u'listed_count': 430, u'is_translation_enabled': False, u'utc_offset': None, u'statuses_count': 63755, u'description': u'We specialize in Loyal Customers. Formed and based in The US Virgin Islands, St.Thomas;we exist to help local business owners increase their customer retention', u'friends_count': 1353, u'location': u'St Thomas, US Virgin Islands', u'profile_link_color': u'E81C4F', u'profile_image_url': u'http://pbs.twimg.com/profile_images/786177384617684992/tyyXl8o6_normal.jpg', u'following': False, u'geo_enabled': False, u'profile_banner_url': u'https://pbs.twimg.com/profile_banners/1643294605/1476274895', u'profile_background_image_url': u'http://abs.twimg.com/images/themes/theme1/bg.png', u'screen_name': u'ziggy9480', u'lang': u'en', u'profile_background_tile': False, u'favourites_count': 573, u'name': u'StoreBum Punch Cards', u'notifications': False, u'url': u'https://t.co/4aF3VSO6Uw', u'created_at': u'Sat Aug 03 17:18:52 +0000 2013', u'contributors_enabled': False, u'time_zone': None, u'protected': False, u'default_profile': False, u'is_translator': False}, u'geo': None, u'in_reply_to_user_id_str': None, u'possibly_sensitive': False, u'lang': u'en', u'created_at': u'Sat Nov 12 18:11:35 +0000 2016', u'in_reply_to_status_id_str': None, u'place': None, u'extended_entities': {u'media': [{u'expanded_url': u'https://twitter.com/ziggy9480/status/797502114629087232/photo/1', u'display_url': u'pic.twitter.com/3uJnJjnQoC', u'url': u'https://t.co/3uJnJjnQoC', u'media_url_https': u'https://pbs.twimg.com/media/CxFL8jNWQAEBjv-.jpg', u'id_str': u'797502112636747777', u'sizes': {u'large': {u'h': 375, u'resize': u'fit', u'w': 750}, u'small': {u'h': 340, u'resize': u'fit', u'w': 680}, u'medium': {u'h': 375, u'resize': u'fit', u'w': 750}, u'thumb': {u'h': 150, u'resize': u'crop', u'w': 150}}, u'indices': [112, 135], u'type': u'photo', u'id': 797502112636747777, u'media_url': u'http://pbs.twimg.com/media/CxFL8jNWQAEBjv-.jpg'}]}, u'metadata': {u'iso_language_code': u'en', u'result_type': u'recent'}}, {u'contributors': None, u'truncated': False, u'text': u'RT @ziggy9480: How the Baby Wolves can reach #nbaplayoffs #goldenstatewarriors #stephcurry #kobe #nbanews https://t.co/lbBsE3uLLP', u'is_quote_status': False, u'in_reply_to_status_id': None, u'id': 797495786850418688, u'favorite_count': 0, u'entities': {u'symbols': [], u'user_mentions': [{u'id': 1643294605, u'indices': [3, 13], u'id_str': u'1643294605', u'screen_name': u'ziggy9480', u'name': u'StoreBum Punch Cards'}], u'hashtags': [{u'indices': [45, 57], u'text': u'nbaplayoffs'}, {u'indices': [58, 78], u'text': u'goldenstatewarriors'}, {u'indices': [79, 90], u'text': u'stephcurry'}, {u'indices': [91, 96], u'text': u'kobe'}, {u'indices': [97, 105], u'text': u'nbanews'}], u'urls': [{u'url': u'https://t.co/lbBsE3uLLP', u'indices': [106, 129], u'expanded_url': u'http://soco.space/L8xrlS', u'display_url': u'soco.space/L8xrlS'}]}, u'retweeted': False, u'coordinates': None, u'source': u'<a href=\"http://checkoutthisvideos.com\" rel=\"nofollow\">livesportsonline</a>', u'in_reply_to_screen_name': None, u'in_reply_to_user_id': None, u'retweet_count': 1, u'id_str': u'797495786850418688', u'favorited': False, u'retweeted_status': {u'contributors': None, u'truncated': False, u'text': u'How the Baby Wolves can reach #nbaplayoffs #goldenstatewarriors #stephcurry #kobe #nbanews https://t.co/lbBsE3uLLP', u'is_quote_status': False, u'in_reply_to_status_id': None, u'id': 797488072732590080, u'favorite_count': 0, u'entities': {u'symbols': [], u'user_mentions': [], u'hashtags': [{u'indices': [30, 42], u'text': u'nbaplayoffs'}, {u'indices': [43, 63], u'text': u'goldenstatewarriors'}, {u'indices': [64, 75], u'text': u'stephcurry'}, {u'indices': [76, 81], u'text': u'kobe'}, {u'indices': [82, 90], u'text': u'nbanews'}], u'urls': [{u'url': u'https://t.co/lbBsE3uLLP', u'indices': [91, 114], u'expanded_url': u'http://soco.space/L8xrlS', u'display_url': u'soco.space/L8xrlS'}]}, u'retweeted': False, u'coordinates': None, u'source': u'<a href=\"http://www.socialcloudsuite.com\" rel=\"nofollow\">SocialCloudSuite</a>', u'in_reply_to_screen_name': None, u'in_reply_to_user_id': None, u'retweet_count': 1, u'id_str': u'797488072732590080', u'favorited': False, u'user': {u'follow_request_sent': False, u'has_extended_profile': True, u'profile_use_background_image': False, u'default_profile_image': False, u'id': 1643294605, u'profile_background_image_url_https': u'https://abs.twimg.com/images/themes/theme1/bg.png', u'verified': False, u'translator_type': u'none', u'profile_text_color': u'000000', u'profile_image_url_https': u'https://pbs.twimg.com/profile_images/786177384617684992/tyyXl8o6_normal.jpg', u'profile_sidebar_fill_color': u'000000', u'entities': {u'url': {u'urls': [{u'url': u'https://t.co/4aF3VSO6Uw', u'indices': [0, 23], u'expanded_url': u'https://storebums.com', u'display_url': u'storebums.com'}]}, u'description': {u'urls': []}}, u'followers_count': 1001, u'profile_sidebar_border_color': u'000000', u'id_str': u'1643294605', u'profile_background_color': u'000000', u'listed_count': 430, u'is_translation_enabled': False, u'utc_offset': None, u'statuses_count': 63755, u'description': u'We specialize in Loyal Customers. Formed and based in The US Virgin Islands, St.Thomas;we exist to help local business owners increase their customer retention', u'friends_count': 1353, u'location': u'St Thomas, US Virgin Islands', u'profile_link_color': u'E81C4F', u'profile_image_url': u'http://pbs.twimg.com/profile_images/786177384617684992/tyyXl8o6_normal.jpg', u'following': False, u'geo_enabled': False, u'profile_banner_url': u'https://pbs.twimg.com/profile_banners/1643294605/1476274895', u'profile_background_image_url': u'http://abs.twimg.com/images/themes/theme1/bg.png', u'screen_name': u'ziggy9480', u'lang': u'en', u'profile_background_tile': False, u'favourites_count': 573, u'name': u'StoreBum Punch Cards', u'notifications': False, u'url': u'https://t.co/4aF3VSO6Uw', u'created_at': u'Sat Aug 03 17:18:52 +0000 2013', u'contributors_enabled': False, u'time_zone': None, u'protected': False, u'default_profile': False, u'is_translator': False}, u'geo': None, u'in_reply_to_user_id_str': None, u'possibly_sensitive': False, u'lang': u'en', u'created_at': u'Sat Nov 12 17:15:47 +0000 2016', u'in_reply_to_status_id_str': None, u'place': None, u'metadata': {u'iso_language_code': u'en', u'result_type': u'recent'}}, u'user': {u'follow_request_sent': False, u'has_extended_profile': False, u'profile_use_background_image': True, u'default_profile_image': False, u'id': 720148699595190272, u'profile_background_image_url_https': u'https://pbs.twimg.com/profile_background_images/721230403239936000/EFKHkii3.jpg', u'verified': False, u'translator_type': u'none', u'profile_text_color': u'000000', u'profile_image_url_https': u'https://pbs.twimg.com/profile_images/726288761437323265/fvx1DjOt_normal.jpg', u'profile_sidebar_fill_color': u'000000', u'entities': {u'description': {u'urls': []}}, u'followers_count': 365, u'profile_sidebar_border_color': u'000000', u'id_str': u'720148699595190272', u'profile_background_color': u'C0DEED', u'listed_count': 82, u'is_translation_enabled': False, u'utc_offset': None, u'statuses_count': 10030, u'description': u'', u'friends_count': 923, u'location': u'', u'profile_link_color': u'0084B4', u'profile_image_url': u'http://pbs.twimg.com/profile_images/726288761437323265/fvx1DjOt_normal.jpg', u'following': False, u'geo_enabled': False, u'profile_banner_url': u'https://pbs.twimg.com/profile_banners/720148699595190272/1460532523', u'profile_background_image_url': u'http://pbs.twimg.com/profile_background_images/721230403239936000/EFKHkii3.jpg', u'screen_name': u'SureLiveSports', u'lang': u'en', u'profile_background_tile': False, u'favourites_count': 0, u'name': u'LiveSportsOnline', u'notifications': False, u'url': None, u'created_at': u'Wed Apr 13 07:16:44 +0000 2016', u'contributors_enabled': False, u'time_zone': None, u'protected': False, u'default_profile': False, u'is_translator': False}, u'geo': None, u'in_reply_to_user_id_str': None, u'possibly_sensitive': False, u'lang': u'en', u'created_at': u'Sat Nov 12 17:46:26 +0000 2016', u'in_reply_to_status_id_str': None, u'place': None, u'metadata': {u'iso_language_code': u'en', u'result_type': u'recent'}}, {u'contributors': None, u'truncated': False, u'text': u'How the Baby Wolves can reach #nbaplayoffs #goldenstatewarriors #stephcurry #kobe #nbanews https://t.co/lbBsE3uLLP', u'is_quote_status': False, u'in_reply_to_status_id': None, u'id': 797488072732590080, u'favorite_count': 0, u'entities': {u'symbols': [], u'user_mentions': [], u'hashtags': [{u'indices': [30, 42], u'text': u'nbaplayoffs'}, {u'indices': [43, 63], u'text': u'goldenstatewarriors'}, {u'indices': [64, 75], u'text': u'stephcurry'}, {u'indices': [76, 81], u'text': u'kobe'}, {u'indices': [82, 90], u'text': u'nbanews'}], u'urls': [{u'url': u'https://t.co/lbBsE3uLLP', u'indices': [91, 114], u'expanded_url': u'http://soco.space/L8xrlS', u'display_url': u'soco.space/L8xrlS'}]}, u'retweeted': False, u'coordinates': None, u'source': u'<a href=\"http://www.socialcloudsuite.com\" rel=\"nofollow\">SocialCloudSuite</a>', u'in_reply_to_screen_name': None, u'in_reply_to_user_id': None, u'retweet_count': 1, u'id_str': u'797488072732590080', u'favorited': False, u'user': {u'follow_request_sent': False, u'has_extended_profile': True, u'profile_use_background_image': False, u'default_profile_image': False, u'id': 1643294605, u'profile_background_image_url_https': u'https://abs.twimg.com/images/themes/theme1/bg.png', u'verified': False, u'translator_type': u'none', u'profile_text_color': u'000000', u'profile_image_url_https': u'https://pbs.twimg.com/profile_images/786177384617684992/tyyXl8o6_normal.jpg', u'profile_sidebar_fill_color': u'000000', u'entities': {u'url': {u'urls': [{u'url': u'https://t.co/4aF3VSO6Uw', u'indices': [0, 23], u'expanded_url': u'https://storebums.com', u'display_url': u'storebums.com'}]}, u'description': {u'urls': []}}, u'followers_count': 1001, u'profile_sidebar_border_color': u'000000', u'id_str': u'1643294605', u'profile_background_color': u'000000', u'listed_count': 430, u'is_translation_enabled': False, u'utc_offset': None, u'statuses_count': 63755, u'description': u'We specialize in Loyal Customers. Formed and based in The US Virgin Islands, St.Thomas;we exist to help local business owners increase their customer retention', u'friends_count': 1353, u'location': u'St Thomas, US Virgin Islands', u'profile_link_color': u'E81C4F', u'profile_image_url': u'http://pbs.twimg.com/profile_images/786177384617684992/tyyXl8o6_normal.jpg', u'following': False, u'geo_enabled': False, u'profile_banner_url': u'https://pbs.twimg.com/profile_banners/1643294605/1476274895', u'profile_background_image_url': u'http://abs.twimg.com/images/themes/theme1/bg.png', u'screen_name': u'ziggy9480', u'lang': u'en', u'profile_background_tile': False, u'favourites_count': 573, u'name': u'StoreBum Punch Cards', u'notifications': False, u'url': u'https://t.co/4aF3VSO6Uw', u'created_at': u'Sat Aug 03 17:18:52 +0000 2013', u'contributors_enabled': False, u'time_zone': None, u'protected': False, u'default_profile': False, u'is_translator': False}, u'geo': None, u'in_reply_to_user_id_str': None, u'possibly_sensitive': False, u'lang': u'en', u'created_at': u'Sat Nov 12 17:15:47 +0000 2016', u'in_reply_to_status_id_str': None, u'place': None, u'metadata': {u'iso_language_code': u'en', u'result_type': u'recent'}}, {u'contributors': None, u'truncated': True, u'text': u'Westbrook birthday party? Durant will be the special guest in attendance? \\U0001f602\\n#oklahomacity #okcthunder\\u2026 https://t.co/e7PCu1ISGg', u'is_quote_status': True, u'in_reply_to_status_id': None, u'id': 797480504564084736, u'favorite_count': 0, u'entities': {u'symbols': [], u'user_mentions': [], u'hashtags': [{u'indices': [76, 89], u'text': u'oklahomacity'}, {u'indices': [90, 101], u'text': u'okcthunder'}], u'urls': [{u'url': u'https://t.co/e7PCu1ISGg', u'indices': [103, 126], u'expanded_url': u'https://twitter.com/i/web/status/797480504564084736', u'display_url': u'twitter.com/i/web/status/7\\u2026'}]}, u'quoted_status_id': 797479507791908864, u'retweeted': False, u'coordinates': None, u'quoted_status': {u'contributors': None, u'truncated': True, u'text': u'Double-double Friday night, birthday candles today for @russwest44. Happy 28th!\\n\\nWATCH: https://t.co/8kUMifBNfX\\u2026 https://t.co/255yHZsh7u', u'is_quote_status': False, u'in_reply_to_status_id': None, u'id': 797479507791908864, u'favorite_count': 45, u'entities': {u'symbols': [], u'user_mentions': [{u'id': 35982046, u'indices': [55, 66], u'id_str': u'35982046', u'screen_name': u'russwest44', u'name': u'Russell Westbrook'}], u'hashtags': [], u'urls': [{u'url': u'https://t.co/8kUMifBNfX', u'indices': [88, 111], u'expanded_url': u'http://on.nba.com/2eNM1bW', u'display_url': u'on.nba.com/2eNM1bW'}, {u'url': u'https://t.co/255yHZsh7u', u'indices': [113, 136], u'expanded_url': u'https://twitter.com/i/web/status/797479507791908864', u'display_url': u'twitter.com/i/web/status/7\\u2026'}]}, u'retweeted': False, u'coordinates': None, u'source': u'<a href=\"http://www.spredfast.com\" rel=\"nofollow\">Spredfast app</a>', u'in_reply_to_screen_name': None, u'in_reply_to_user_id': None, u'retweet_count': 19, u'id_str': u'797479507791908864', u'favorited': False, u'user': {u'follow_request_sent': False, u'has_extended_profile': False, u'profile_use_background_image': True, u'default_profile_image': False, u'id': 1373313666, u'profile_background_image_url_https': u'https://pbs.twimg.com/profile_background_images/469911943491227648/PKLmIqjQ.jpeg', u'verified': True, u'translator_type': u'none', u'profile_text_color': u'333333', u'profile_image_url_https': u'https://pbs.twimg.com/profile_images/469911843058626561/xNc-krMY_normal.jpeg', u'profile_sidebar_fill_color': u'EFEFEF', u'entities': {u'url': {u'urls': [{u'url': u'http://t.co/wQgO4DbZrK', u'indices': [0, 22], u'expanded_url': u'http://www.nba.com', u'display_url': u'nba.com'}]}, u'description': {u'urls': [{u'url': u'http://t.co/krBlSjaSod', u'indices': [97, 119], u'expanded_url': u'http://NBA.com', u'display_url': u'NBA.com'}]}}, u'followers_count': 396193, u'profile_sidebar_border_color': u'000000', u'id_str': u'1373313666', u'profile_background_color': u'FFFFFF', u'listed_count': 1989, u'is_translation_enabled': False, u'utc_offset': -18000, u'statuses_count': 59312, u'description': u'All the NBA news, videos, highlights and blog posts tweeted directly from the editorial staff at http://t.co/krBlSjaSod', u'friends_count': 678, u'location': u'Atlanta, GA', u'profile_link_color': u'0066CC', u'profile_image_url': u'http://pbs.twimg.com/profile_images/469911843058626561/xNc-krMY_normal.jpeg', u'following': False, u'geo_enabled': False, u'profile_banner_url': u'https://pbs.twimg.com/profile_banners/1373313666/1446050600', u'profile_background_image_url': u'http://pbs.twimg.com/profile_background_images/469911943491227648/PKLmIqjQ.jpeg', u'screen_name': u'NBAcom', u'lang': u'en', u'profile_background_tile': False, u'favourites_count': 0, u'name': u'NBA.com', u'notifications': False, u'url': u'http://t.co/wQgO4DbZrK', u'created_at': u'Mon Apr 22 23:24:48 +0000 2013', u'contributors_enabled': False, u'time_zone': u'Eastern Time (US & Canada)', u'protected': False, u'default_profile': False, u'is_translator': False}, u'geo': None, u'in_reply_to_user_id_str': None, u'possibly_sensitive': False, u'lang': u'en', u'created_at': u'Sat Nov 12 16:41:45 +0000 2016', u'in_reply_to_status_id_str': None, u'place': None, u'metadata': {u'iso_language_code': u'en', u'result_type': u'recent'}}, u'source': u'<a href=\"http://twitter.com/download/android\" rel=\"nofollow\">Twitter for Android</a>', u'in_reply_to_screen_name': None, u'in_reply_to_user_id': None, u'retweet_count': 0, u'id_str': u'797480504564084736', u'favorited': False, u'user': {u'follow_request_sent': False, u'has_extended_profile': True, u'profile_use_background_image': True, u'default_profile_image': False, u'id': 3300472971, u'profile_background_image_url_https': u'https://pbs.twimg.com/profile_background_images/634812930563817472/zsrIluqi.jpg', u'verified': False, u'translator_type': u'none', u'profile_text_color': u'000000', u'profile_image_url_https': u'https://pbs.twimg.com/profile_images/637006015263698944/GT51H7TY_normal.jpg', u'profile_sidebar_fill_color': u'000000', u'entities': {u'url': {u'urls': [{u'url': u'https://t.co/Vr5yIHMOHU', u'indices': [0, 23], u'expanded_url': u'http://www.fantasyrasta.com', u'display_url': u'fantasyrasta.com'}]}, u'description': {u'urls': [{u'url': u'https://t.co/5xfMjNjTPj', u'indices': [29, 52], u'expanded_url': u'http://Fantasyrasta.com', u'display_url': u'Fantasyrasta.com'}]}}, u'followers_count': 2918, u'profile_sidebar_border_color': u'000000', u'id_str': u'3300472971', u'profile_background_color': u'DD2E44', u'listed_count': 121, u'is_translation_enabled': False, u'utc_offset': -18000, u'statuses_count': 36259, u'description': u'Daily Fantasy Sports Advice. https://t.co/5xfMjNjTPj\\nfanduel and draftkings lineups. As well as my own cheatsheets.', u'friends_count': 2669, u'location': u'Tampa, FL', u'profile_link_color': u'4A913C', u'profile_image_url': u'http://pbs.twimg.com/profile_images/637006015263698944/GT51H7TY_normal.jpg', u'following': False, u'geo_enabled': False, u'profile_banner_url': u'https://pbs.twimg.com/profile_banners/3300472971/1433213234', u'profile_background_image_url': u'http://pbs.twimg.com/profile_background_images/634812930563817472/zsrIluqi.jpg', u'screen_name': u'FantasyRasta', u'lang': u'en', u'profile_background_tile': False, u'favourites_count': 5383, u'name': u'DFS Fantasy Rasta', u'notifications': False, u'url': u'https://t.co/Vr5yIHMOHU', u'created_at': u'Wed May 27 15:25:28 +0000 2015', u'contributors_enabled': False, u'time_zone': u'Eastern Time (US & Canada)', u'protected': False, u'default_profile': False, u'is_translator': False}, u'geo': None, u'in_reply_to_user_id_str': None, u'possibly_sensitive': False, u'lang': u'en', u'created_at': u'Sat Nov 12 16:45:43 +0000 2016', u'quoted_status_id_str': u'797479507791908864', u'in_reply_to_status_id_str': None, u'place': None, u'metadata': {u'iso_language_code': u'en', u'result_type': u'recent'}}, {u'contributors': None, u'truncated': False, u'text': u'Golden State Warriors, Kobe Bryant had viewers flipping... #GoldenStateWarriors https://t.co/gMRxUpMOMh', u'is_quote_status': False, u'in_reply_to_status_id': None, u'id': 797474329453694976, u'favorite_count': 1, u'entities': {u'symbols': [], u'user_mentions': [], u'hashtags': [{u'indices': [59, 79], u'text': u'GoldenStateWarriors'}], u'urls': [{u'url': u'https://t.co/gMRxUpMOMh', u'indices': [80, 103], u'expanded_url': u'http://dlvr.it/MfGqbW', u'display_url': u'dlvr.it/MfGqbW'}]}, u'retweeted': False, u'coordinates': None, u'source': u'<a href=\"http://dlvr.it\" rel=\"nofollow\">dlvr.it</a>', u'in_reply_to_screen_name': None, u'in_reply_to_user_id': None, u'retweet_count': 0, u'id_str': u'797474329453694976', u'favorited': False, u'user': {u'follow_request_sent': False, u'has_extended_profile': False, u'profile_use_background_image': True, u'default_profile_image': False, u'id': 3033503267, u'profile_background_image_url_https': u'https://abs.twimg.com/images/themes/theme1/bg.png', u'verified': False, u'translator_type': u'none', u'profile_text_color': u'333333', u'profile_image_url_https': u'https://pbs.twimg.com/profile_images/565991973467615232/Nd7jNQ7d_normal.jpeg', u'profile_sidebar_fill_color': u'DDEEF6', u'entities': {u'description': {u'urls': []}}, u'followers_count': 14532, u'profile_sidebar_border_color': u'C0DEED', u'id_str': u'3033503267', u'profile_background_color': u'C0DEED', u'listed_count': 997, u'is_translation_enabled': False, u'utc_offset': -25200, u'statuses_count': 843738, u'description': u'hi ^^', u'friends_count': 14045, u'location': u'', u'profile_link_color': u'1DA1F2', u'profile_image_url': u'http://pbs.twimg.com/profile_images/565991973467615232/Nd7jNQ7d_normal.jpeg', u'following': False, u'geo_enabled': False, u'profile_banner_url': u'https://pbs.twimg.com/profile_banners/3033503267/1423777981', u'profile_background_image_url': u'http://abs.twimg.com/images/themes/theme1/bg.png', u'screen_name': u'snlz0', u'lang': u'en', u'profile_background_tile': False, u'favourites_count': 31477, u'name': u'LiZa', u'notifications': False, u'url': None, u'created_at': u'Thu Feb 12 21:52:36 +0000 2015', u'contributors_enabled': False, u'time_zone': u'Mountain Time (US & Canada)', u'protected': False, u'default_profile': True, u'is_translator': False}, u'geo': None, u'in_reply_to_user_id_str': None, u'possibly_sensitive': False, u'lang': u'en', u'created_at': u'Sat Nov 12 16:21:11 +0000 2016', u'in_reply_to_status_id_str': None, u'place': None, u'metadata': {u'iso_language_code': u'en', u'result_type': u'recent'}}, {u'contributors': None, u'truncated': False, u'text': u'Andrew Bogut says Golden State Warriors embracing scintillating NBA winning streak #GoldenStateWarriors\\u2026 https://t.co/wxIJPDoEl2', u'is_quote_status': False, u'in_reply_to_status_id': None, u'id': 797462538166247424, u'favorite_count': 0, u'entities': {u'symbols': [], u'user_mentions': [], u'hashtags': [{u'indices': [83, 103], u'text': u'GoldenStateWarriors'}], u'urls': [{u'url': u'https://t.co/wxIJPDoEl2', u'indices': [105, 128], u'expanded_url': u'http://dlvr.it/MfGGsN', u'display_url': u'dlvr.it/MfGGsN'}]}, u'retweeted': False, u'coordinates': None, u'source': u'<a href=\"http://dlvr.it\" rel=\"nofollow\">dlvr.it</a>', u'in_reply_to_screen_name': None, u'in_reply_to_user_id': None, u'retweet_count': 0, u'id_str': u'797462538166247424', u'favorited': False, u'user': {u'follow_request_sent': False, u'has_extended_profile': False, u'profile_use_background_image': True, u'default_profile_image': False, u'id': 3033503267, u'profile_background_image_url_https': u'https://abs.twimg.com/images/themes/theme1/bg.png', u'verified': False, u'translator_type': u'none', u'profile_text_color': u'333333', u'profile_image_url_https': u'https://pbs.twimg.com/profile_images/565991973467615232/Nd7jNQ7d_normal.jpeg', u'profile_sidebar_fill_color': u'DDEEF6', u'entities': {u'description': {u'urls': []}}, u'followers_count': 14532, u'profile_sidebar_border_color': u'C0DEED', u'id_str': u'3033503267', u'profile_background_color': u'C0DEED', u'listed_count': 997, u'is_translation_enabled': False, u'utc_offset': -25200, u'statuses_count': 843738, u'description': u'hi ^^', u'friends_count': 14045, u'location': u'', u'profile_link_color': u'1DA1F2', u'profile_image_url': u'http://pbs.twimg.com/profile_images/565991973467615232/Nd7jNQ7d_normal.jpeg', u'following': False, u'geo_enabled': False, u'profile_banner_url': u'https://pbs.twimg.com/profile_banners/3033503267/1423777981', u'profile_background_image_url': u'http://abs.twimg.com/images/themes/theme1/bg.png', u'screen_name': u'snlz0', u'lang': u'en', u'profile_background_tile': False, u'favourites_count': 31477, u'name': u'LiZa', u'notifications': False, u'url': None, u'created_at': u'Thu Feb 12 21:52:36 +0000 2015', u'contributors_enabled': False, u'time_zone': u'Mountain Time (US & Canada)', u'protected': False, u'default_profile': True, u'is_translator': False}, u'geo': None, u'in_reply_to_user_id_str': None, u'possibly_sensitive': False, u'lang': u'en', u'created_at': u'Sat Nov 12 15:34:19 +0000 2016', u'in_reply_to_status_id_str': None, u'place': None, u'metadata': {u'iso_language_code': u'en', u'result_type': u'recent'}}]}\n"
     ]
    }
   ],
   "source": [
    "print search_results"
   ]
  },
  {
   "cell_type": "code",
   "execution_count": 20,
   "metadata": {
    "collapsed": true
   },
   "outputs": [],
   "source": [
    "search_string = '#calexit' \n",
    "count = 5\n",
    "search_results = twitter_api.search.tweets(q=search_string, count=count)"
   ]
  },
  {
   "cell_type": "code",
   "execution_count": 19,
   "metadata": {
    "collapsed": false
   },
   "outputs": [
    {
     "name": "stdout",
     "output_type": "stream",
     "text": [
      "{u'search_metadata': {u'count': 10, u'completed_in': 0.068, u'max_id_str': u'797510840945700864', u'since_id_str': u'0', u'refresh_url': u'?since_id=797510840945700864&q=%23goldenstatewarriors&include_entities=1', u'since_id': 0, u'query': u'%23goldenstatewarriors', u'max_id': 797510840945700864}, u'statuses': [{u'contributors': None, u'truncated': False, u'text': u'RT @ziggy9480: NBA Picks: O/U Season Wins #nbaplayoffs #goldenstatewarriors #stephcurry #kobe #nbanews https://t.co/cYywB2Wazb https://t.co\\u2026', u'is_quote_status': False, u'in_reply_to_status_id': None, u'id': 797510840945700864, u'favorite_count': 0, u'entities': {u'symbols': [], u'user_mentions': [{u'id': 1643294605, u'indices': [3, 13], u'id_str': u'1643294605', u'screen_name': u'ziggy9480', u'name': u'StoreBum Punch Cards'}], u'hashtags': [{u'indices': [42, 54], u'text': u'nbaplayoffs'}, {u'indices': [55, 75], u'text': u'goldenstatewarriors'}, {u'indices': [76, 87], u'text': u'stephcurry'}, {u'indices': [88, 93], u'text': u'kobe'}, {u'indices': [94, 102], u'text': u'nbanews'}], u'urls': [{u'url': u'https://t.co/cYywB2Wazb', u'indices': [103, 126], u'expanded_url': u'http://soco.space/exmfaR', u'display_url': u'soco.space/exmfaR'}]}, u'retweeted': False, u'coordinates': None, u'source': u'<a href=\"http://checkoutthisvideos.com\" rel=\"nofollow\">livesportsonline</a>', u'in_reply_to_screen_name': None, u'in_reply_to_user_id': None, u'retweet_count': 1, u'id_str': u'797510840945700864', u'favorited': False, u'retweeted_status': {u'contributors': None, u'truncated': False, u'text': u'NBA Picks: O/U Season Wins #nbaplayoffs #goldenstatewarriors #stephcurry #kobe #nbanews https://t.co/cYywB2Wazb https://t.co/3uJnJjnQoC', u'is_quote_status': False, u'in_reply_to_status_id': None, u'id': 797502114629087232, u'favorite_count': 0, u'entities': {u'symbols': [], u'user_mentions': [], u'hashtags': [{u'indices': [27, 39], u'text': u'nbaplayoffs'}, {u'indices': [40, 60], u'text': u'goldenstatewarriors'}, {u'indices': [61, 72], u'text': u'stephcurry'}, {u'indices': [73, 78], u'text': u'kobe'}, {u'indices': [79, 87], u'text': u'nbanews'}], u'urls': [{u'url': u'https://t.co/cYywB2Wazb', u'indices': [88, 111], u'expanded_url': u'http://soco.space/exmfaR', u'display_url': u'soco.space/exmfaR'}], u'media': [{u'expanded_url': u'https://twitter.com/ziggy9480/status/797502114629087232/photo/1', u'display_url': u'pic.twitter.com/3uJnJjnQoC', u'url': u'https://t.co/3uJnJjnQoC', u'media_url_https': u'https://pbs.twimg.com/media/CxFL8jNWQAEBjv-.jpg', u'id_str': u'797502112636747777', u'sizes': {u'large': {u'h': 375, u'resize': u'fit', u'w': 750}, u'small': {u'h': 340, u'resize': u'fit', u'w': 680}, u'medium': {u'h': 375, u'resize': u'fit', u'w': 750}, u'thumb': {u'h': 150, u'resize': u'crop', u'w': 150}}, u'indices': [112, 135], u'type': u'photo', u'id': 797502112636747777, u'media_url': u'http://pbs.twimg.com/media/CxFL8jNWQAEBjv-.jpg'}]}, u'retweeted': False, u'coordinates': None, u'source': u'<a href=\"http://www.socialcloudsuite.com\" rel=\"nofollow\">SocialCloudSuite</a>', u'in_reply_to_screen_name': None, u'in_reply_to_user_id': None, u'retweet_count': 1, u'id_str': u'797502114629087232', u'favorited': False, u'user': {u'follow_request_sent': False, u'has_extended_profile': True, u'profile_use_background_image': False, u'default_profile_image': False, u'id': 1643294605, u'profile_background_image_url_https': u'https://abs.twimg.com/images/themes/theme1/bg.png', u'verified': False, u'translator_type': u'none', u'profile_text_color': u'000000', u'profile_image_url_https': u'https://pbs.twimg.com/profile_images/786177384617684992/tyyXl8o6_normal.jpg', u'profile_sidebar_fill_color': u'000000', u'entities': {u'url': {u'urls': [{u'url': u'https://t.co/4aF3VSO6Uw', u'indices': [0, 23], u'expanded_url': u'https://storebums.com', u'display_url': u'storebums.com'}]}, u'description': {u'urls': []}}, u'followers_count': 1001, u'profile_sidebar_border_color': u'000000', u'id_str': u'1643294605', u'profile_background_color': u'000000', u'listed_count': 432, u'is_translation_enabled': False, u'utc_offset': None, u'statuses_count': 63763, u'description': u'We specialize in Loyal Customers. Formed and based in The US Virgin Islands, St.Thomas;we exist to help local business owners increase their customer retention', u'friends_count': 1353, u'location': u'St Thomas, US Virgin Islands', u'profile_link_color': u'E81C4F', u'profile_image_url': u'http://pbs.twimg.com/profile_images/786177384617684992/tyyXl8o6_normal.jpg', u'following': False, u'geo_enabled': False, u'profile_banner_url': u'https://pbs.twimg.com/profile_banners/1643294605/1476274895', u'profile_background_image_url': u'http://abs.twimg.com/images/themes/theme1/bg.png', u'screen_name': u'ziggy9480', u'lang': u'en', u'profile_background_tile': False, u'favourites_count': 573, u'name': u'StoreBum Punch Cards', u'notifications': False, u'url': u'https://t.co/4aF3VSO6Uw', u'created_at': u'Sat Aug 03 17:18:52 +0000 2013', u'contributors_enabled': False, u'time_zone': None, u'protected': False, u'default_profile': False, u'is_translator': False}, u'geo': None, u'in_reply_to_user_id_str': None, u'possibly_sensitive': False, u'lang': u'en', u'created_at': u'Sat Nov 12 18:11:35 +0000 2016', u'in_reply_to_status_id_str': None, u'place': None, u'extended_entities': {u'media': [{u'expanded_url': u'https://twitter.com/ziggy9480/status/797502114629087232/photo/1', u'display_url': u'pic.twitter.com/3uJnJjnQoC', u'url': u'https://t.co/3uJnJjnQoC', u'media_url_https': u'https://pbs.twimg.com/media/CxFL8jNWQAEBjv-.jpg', u'id_str': u'797502112636747777', u'sizes': {u'large': {u'h': 375, u'resize': u'fit', u'w': 750}, u'small': {u'h': 340, u'resize': u'fit', u'w': 680}, u'medium': {u'h': 375, u'resize': u'fit', u'w': 750}, u'thumb': {u'h': 150, u'resize': u'crop', u'w': 150}}, u'indices': [112, 135], u'type': u'photo', u'id': 797502112636747777, u'media_url': u'http://pbs.twimg.com/media/CxFL8jNWQAEBjv-.jpg'}]}, u'metadata': {u'iso_language_code': u'en', u'result_type': u'recent'}}, u'user': {u'follow_request_sent': False, u'has_extended_profile': False, u'profile_use_background_image': True, u'default_profile_image': False, u'id': 720148699595190272, u'profile_background_image_url_https': u'https://pbs.twimg.com/profile_background_images/721230403239936000/EFKHkii3.jpg', u'verified': False, u'translator_type': u'none', u'profile_text_color': u'000000', u'profile_image_url_https': u'https://pbs.twimg.com/profile_images/726288761437323265/fvx1DjOt_normal.jpg', u'profile_sidebar_fill_color': u'000000', u'entities': {u'description': {u'urls': []}}, u'followers_count': 365, u'profile_sidebar_border_color': u'000000', u'id_str': u'720148699595190272', u'profile_background_color': u'C0DEED', u'listed_count': 82, u'is_translation_enabled': False, u'utc_offset': None, u'statuses_count': 10030, u'description': u'', u'friends_count': 923, u'location': u'', u'profile_link_color': u'0084B4', u'profile_image_url': u'http://pbs.twimg.com/profile_images/726288761437323265/fvx1DjOt_normal.jpg', u'following': False, u'geo_enabled': False, u'profile_banner_url': u'https://pbs.twimg.com/profile_banners/720148699595190272/1460532523', u'profile_background_image_url': u'http://pbs.twimg.com/profile_background_images/721230403239936000/EFKHkii3.jpg', u'screen_name': u'SureLiveSports', u'lang': u'en', u'profile_background_tile': False, u'favourites_count': 0, u'name': u'LiveSportsOnline', u'notifications': False, u'url': None, u'created_at': u'Wed Apr 13 07:16:44 +0000 2016', u'contributors_enabled': False, u'time_zone': None, u'protected': False, u'default_profile': False, u'is_translator': False}, u'geo': None, u'in_reply_to_user_id_str': None, u'possibly_sensitive': False, u'lang': u'en', u'created_at': u'Sat Nov 12 18:46:16 +0000 2016', u'in_reply_to_status_id_str': None, u'place': None, u'metadata': {u'iso_language_code': u'en', u'result_type': u'recent'}}, {u'contributors': None, u'truncated': False, u'text': u'NBA Picks: O/U Season Wins #nbaplayoffs #goldenstatewarriors #stephcurry #kobe #nbanews https://t.co/cYywB2Wazb https://t.co/3uJnJjnQoC', u'is_quote_status': False, u'in_reply_to_status_id': None, u'id': 797502114629087232, u'favorite_count': 0, u'entities': {u'symbols': [], u'user_mentions': [], u'hashtags': [{u'indices': [27, 39], u'text': u'nbaplayoffs'}, {u'indices': [40, 60], u'text': u'goldenstatewarriors'}, {u'indices': [61, 72], u'text': u'stephcurry'}, {u'indices': [73, 78], u'text': u'kobe'}, {u'indices': [79, 87], u'text': u'nbanews'}], u'urls': [{u'url': u'https://t.co/cYywB2Wazb', u'indices': [88, 111], u'expanded_url': u'http://soco.space/exmfaR', u'display_url': u'soco.space/exmfaR'}], u'media': [{u'expanded_url': u'https://twitter.com/ziggy9480/status/797502114629087232/photo/1', u'display_url': u'pic.twitter.com/3uJnJjnQoC', u'url': u'https://t.co/3uJnJjnQoC', u'media_url_https': u'https://pbs.twimg.com/media/CxFL8jNWQAEBjv-.jpg', u'id_str': u'797502112636747777', u'sizes': {u'large': {u'h': 375, u'resize': u'fit', u'w': 750}, u'small': {u'h': 340, u'resize': u'fit', u'w': 680}, u'medium': {u'h': 375, u'resize': u'fit', u'w': 750}, u'thumb': {u'h': 150, u'resize': u'crop', u'w': 150}}, u'indices': [112, 135], u'type': u'photo', u'id': 797502112636747777, u'media_url': u'http://pbs.twimg.com/media/CxFL8jNWQAEBjv-.jpg'}]}, u'retweeted': False, u'coordinates': None, u'source': u'<a href=\"http://www.socialcloudsuite.com\" rel=\"nofollow\">SocialCloudSuite</a>', u'in_reply_to_screen_name': None, u'in_reply_to_user_id': None, u'retweet_count': 1, u'id_str': u'797502114629087232', u'favorited': False, u'user': {u'follow_request_sent': False, u'has_extended_profile': True, u'profile_use_background_image': False, u'default_profile_image': False, u'id': 1643294605, u'profile_background_image_url_https': u'https://abs.twimg.com/images/themes/theme1/bg.png', u'verified': False, u'translator_type': u'none', u'profile_text_color': u'000000', u'profile_image_url_https': u'https://pbs.twimg.com/profile_images/786177384617684992/tyyXl8o6_normal.jpg', u'profile_sidebar_fill_color': u'000000', u'entities': {u'url': {u'urls': [{u'url': u'https://t.co/4aF3VSO6Uw', u'indices': [0, 23], u'expanded_url': u'https://storebums.com', u'display_url': u'storebums.com'}]}, u'description': {u'urls': []}}, u'followers_count': 1001, u'profile_sidebar_border_color': u'000000', u'id_str': u'1643294605', u'profile_background_color': u'000000', u'listed_count': 432, u'is_translation_enabled': False, u'utc_offset': None, u'statuses_count': 63763, u'description': u'We specialize in Loyal Customers. Formed and based in The US Virgin Islands, St.Thomas;we exist to help local business owners increase their customer retention', u'friends_count': 1353, u'location': u'St Thomas, US Virgin Islands', u'profile_link_color': u'E81C4F', u'profile_image_url': u'http://pbs.twimg.com/profile_images/786177384617684992/tyyXl8o6_normal.jpg', u'following': False, u'geo_enabled': False, u'profile_banner_url': u'https://pbs.twimg.com/profile_banners/1643294605/1476274895', u'profile_background_image_url': u'http://abs.twimg.com/images/themes/theme1/bg.png', u'screen_name': u'ziggy9480', u'lang': u'en', u'profile_background_tile': False, u'favourites_count': 573, u'name': u'StoreBum Punch Cards', u'notifications': False, u'url': u'https://t.co/4aF3VSO6Uw', u'created_at': u'Sat Aug 03 17:18:52 +0000 2013', u'contributors_enabled': False, u'time_zone': None, u'protected': False, u'default_profile': False, u'is_translator': False}, u'geo': None, u'in_reply_to_user_id_str': None, u'possibly_sensitive': False, u'lang': u'en', u'created_at': u'Sat Nov 12 18:11:35 +0000 2016', u'in_reply_to_status_id_str': None, u'place': None, u'extended_entities': {u'media': [{u'expanded_url': u'https://twitter.com/ziggy9480/status/797502114629087232/photo/1', u'display_url': u'pic.twitter.com/3uJnJjnQoC', u'url': u'https://t.co/3uJnJjnQoC', u'media_url_https': u'https://pbs.twimg.com/media/CxFL8jNWQAEBjv-.jpg', u'id_str': u'797502112636747777', u'sizes': {u'large': {u'h': 375, u'resize': u'fit', u'w': 750}, u'small': {u'h': 340, u'resize': u'fit', u'w': 680}, u'medium': {u'h': 375, u'resize': u'fit', u'w': 750}, u'thumb': {u'h': 150, u'resize': u'crop', u'w': 150}}, u'indices': [112, 135], u'type': u'photo', u'id': 797502112636747777, u'media_url': u'http://pbs.twimg.com/media/CxFL8jNWQAEBjv-.jpg'}]}, u'metadata': {u'iso_language_code': u'en', u'result_type': u'recent'}}, {u'contributors': None, u'truncated': False, u'text': u'RT @ziggy9480: How the Baby Wolves can reach #nbaplayoffs #goldenstatewarriors #stephcurry #kobe #nbanews https://t.co/lbBsE3uLLP', u'is_quote_status': False, u'in_reply_to_status_id': None, u'id': 797495786850418688, u'favorite_count': 0, u'entities': {u'symbols': [], u'user_mentions': [{u'id': 1643294605, u'indices': [3, 13], u'id_str': u'1643294605', u'screen_name': u'ziggy9480', u'name': u'StoreBum Punch Cards'}], u'hashtags': [{u'indices': [45, 57], u'text': u'nbaplayoffs'}, {u'indices': [58, 78], u'text': u'goldenstatewarriors'}, {u'indices': [79, 90], u'text': u'stephcurry'}, {u'indices': [91, 96], u'text': u'kobe'}, {u'indices': [97, 105], u'text': u'nbanews'}], u'urls': [{u'url': u'https://t.co/lbBsE3uLLP', u'indices': [106, 129], u'expanded_url': u'http://soco.space/L8xrlS', u'display_url': u'soco.space/L8xrlS'}]}, u'retweeted': False, u'coordinates': None, u'source': u'<a href=\"http://checkoutthisvideos.com\" rel=\"nofollow\">livesportsonline</a>', u'in_reply_to_screen_name': None, u'in_reply_to_user_id': None, u'retweet_count': 1, u'id_str': u'797495786850418688', u'favorited': False, u'retweeted_status': {u'contributors': None, u'truncated': False, u'text': u'How the Baby Wolves can reach #nbaplayoffs #goldenstatewarriors #stephcurry #kobe #nbanews https://t.co/lbBsE3uLLP', u'is_quote_status': False, u'in_reply_to_status_id': None, u'id': 797488072732590080, u'favorite_count': 0, u'entities': {u'symbols': [], u'user_mentions': [], u'hashtags': [{u'indices': [30, 42], u'text': u'nbaplayoffs'}, {u'indices': [43, 63], u'text': u'goldenstatewarriors'}, {u'indices': [64, 75], u'text': u'stephcurry'}, {u'indices': [76, 81], u'text': u'kobe'}, {u'indices': [82, 90], u'text': u'nbanews'}], u'urls': [{u'url': u'https://t.co/lbBsE3uLLP', u'indices': [91, 114], u'expanded_url': u'http://soco.space/L8xrlS', u'display_url': u'soco.space/L8xrlS'}]}, u'retweeted': False, u'coordinates': None, u'source': u'<a href=\"http://www.socialcloudsuite.com\" rel=\"nofollow\">SocialCloudSuite</a>', u'in_reply_to_screen_name': None, u'in_reply_to_user_id': None, u'retweet_count': 1, u'id_str': u'797488072732590080', u'favorited': False, u'user': {u'follow_request_sent': False, u'has_extended_profile': True, u'profile_use_background_image': False, u'default_profile_image': False, u'id': 1643294605, u'profile_background_image_url_https': u'https://abs.twimg.com/images/themes/theme1/bg.png', u'verified': False, u'translator_type': u'none', u'profile_text_color': u'000000', u'profile_image_url_https': u'https://pbs.twimg.com/profile_images/786177384617684992/tyyXl8o6_normal.jpg', u'profile_sidebar_fill_color': u'000000', u'entities': {u'url': {u'urls': [{u'url': u'https://t.co/4aF3VSO6Uw', u'indices': [0, 23], u'expanded_url': u'https://storebums.com', u'display_url': u'storebums.com'}]}, u'description': {u'urls': []}}, u'followers_count': 1001, u'profile_sidebar_border_color': u'000000', u'id_str': u'1643294605', u'profile_background_color': u'000000', u'listed_count': 432, u'is_translation_enabled': False, u'utc_offset': None, u'statuses_count': 63763, u'description': u'We specialize in Loyal Customers. Formed and based in The US Virgin Islands, St.Thomas;we exist to help local business owners increase their customer retention', u'friends_count': 1353, u'location': u'St Thomas, US Virgin Islands', u'profile_link_color': u'E81C4F', u'profile_image_url': u'http://pbs.twimg.com/profile_images/786177384617684992/tyyXl8o6_normal.jpg', u'following': False, u'geo_enabled': False, u'profile_banner_url': u'https://pbs.twimg.com/profile_banners/1643294605/1476274895', u'profile_background_image_url': u'http://abs.twimg.com/images/themes/theme1/bg.png', u'screen_name': u'ziggy9480', u'lang': u'en', u'profile_background_tile': False, u'favourites_count': 573, u'name': u'StoreBum Punch Cards', u'notifications': False, u'url': u'https://t.co/4aF3VSO6Uw', u'created_at': u'Sat Aug 03 17:18:52 +0000 2013', u'contributors_enabled': False, u'time_zone': None, u'protected': False, u'default_profile': False, u'is_translator': False}, u'geo': None, u'in_reply_to_user_id_str': None, u'possibly_sensitive': False, u'lang': u'en', u'created_at': u'Sat Nov 12 17:15:47 +0000 2016', u'in_reply_to_status_id_str': None, u'place': None, u'metadata': {u'iso_language_code': u'en', u'result_type': u'recent'}}, u'user': {u'follow_request_sent': False, u'has_extended_profile': False, u'profile_use_background_image': True, u'default_profile_image': False, u'id': 720148699595190272, u'profile_background_image_url_https': u'https://pbs.twimg.com/profile_background_images/721230403239936000/EFKHkii3.jpg', u'verified': False, u'translator_type': u'none', u'profile_text_color': u'000000', u'profile_image_url_https': u'https://pbs.twimg.com/profile_images/726288761437323265/fvx1DjOt_normal.jpg', u'profile_sidebar_fill_color': u'000000', u'entities': {u'description': {u'urls': []}}, u'followers_count': 365, u'profile_sidebar_border_color': u'000000', u'id_str': u'720148699595190272', u'profile_background_color': u'C0DEED', u'listed_count': 82, u'is_translation_enabled': False, u'utc_offset': None, u'statuses_count': 10030, u'description': u'', u'friends_count': 923, u'location': u'', u'profile_link_color': u'0084B4', u'profile_image_url': u'http://pbs.twimg.com/profile_images/726288761437323265/fvx1DjOt_normal.jpg', u'following': False, u'geo_enabled': False, u'profile_banner_url': u'https://pbs.twimg.com/profile_banners/720148699595190272/1460532523', u'profile_background_image_url': u'http://pbs.twimg.com/profile_background_images/721230403239936000/EFKHkii3.jpg', u'screen_name': u'SureLiveSports', u'lang': u'en', u'profile_background_tile': False, u'favourites_count': 0, u'name': u'LiveSportsOnline', u'notifications': False, u'url': None, u'created_at': u'Wed Apr 13 07:16:44 +0000 2016', u'contributors_enabled': False, u'time_zone': None, u'protected': False, u'default_profile': False, u'is_translator': False}, u'geo': None, u'in_reply_to_user_id_str': None, u'possibly_sensitive': False, u'lang': u'en', u'created_at': u'Sat Nov 12 17:46:26 +0000 2016', u'in_reply_to_status_id_str': None, u'place': None, u'metadata': {u'iso_language_code': u'en', u'result_type': u'recent'}}, {u'contributors': None, u'truncated': False, u'text': u'How the Baby Wolves can reach #nbaplayoffs #goldenstatewarriors #stephcurry #kobe #nbanews https://t.co/lbBsE3uLLP', u'is_quote_status': False, u'in_reply_to_status_id': None, u'id': 797488072732590080, u'favorite_count': 0, u'entities': {u'symbols': [], u'user_mentions': [], u'hashtags': [{u'indices': [30, 42], u'text': u'nbaplayoffs'}, {u'indices': [43, 63], u'text': u'goldenstatewarriors'}, {u'indices': [64, 75], u'text': u'stephcurry'}, {u'indices': [76, 81], u'text': u'kobe'}, {u'indices': [82, 90], u'text': u'nbanews'}], u'urls': [{u'url': u'https://t.co/lbBsE3uLLP', u'indices': [91, 114], u'expanded_url': u'http://soco.space/L8xrlS', u'display_url': u'soco.space/L8xrlS'}]}, u'retweeted': False, u'coordinates': None, u'source': u'<a href=\"http://www.socialcloudsuite.com\" rel=\"nofollow\">SocialCloudSuite</a>', u'in_reply_to_screen_name': None, u'in_reply_to_user_id': None, u'retweet_count': 1, u'id_str': u'797488072732590080', u'favorited': False, u'user': {u'follow_request_sent': False, u'has_extended_profile': True, u'profile_use_background_image': False, u'default_profile_image': False, u'id': 1643294605, u'profile_background_image_url_https': u'https://abs.twimg.com/images/themes/theme1/bg.png', u'verified': False, u'translator_type': u'none', u'profile_text_color': u'000000', u'profile_image_url_https': u'https://pbs.twimg.com/profile_images/786177384617684992/tyyXl8o6_normal.jpg', u'profile_sidebar_fill_color': u'000000', u'entities': {u'url': {u'urls': [{u'url': u'https://t.co/4aF3VSO6Uw', u'indices': [0, 23], u'expanded_url': u'https://storebums.com', u'display_url': u'storebums.com'}]}, u'description': {u'urls': []}}, u'followers_count': 1001, u'profile_sidebar_border_color': u'000000', u'id_str': u'1643294605', u'profile_background_color': u'000000', u'listed_count': 432, u'is_translation_enabled': False, u'utc_offset': None, u'statuses_count': 63763, u'description': u'We specialize in Loyal Customers. Formed and based in The US Virgin Islands, St.Thomas;we exist to help local business owners increase their customer retention', u'friends_count': 1353, u'location': u'St Thomas, US Virgin Islands', u'profile_link_color': u'E81C4F', u'profile_image_url': u'http://pbs.twimg.com/profile_images/786177384617684992/tyyXl8o6_normal.jpg', u'following': False, u'geo_enabled': False, u'profile_banner_url': u'https://pbs.twimg.com/profile_banners/1643294605/1476274895', u'profile_background_image_url': u'http://abs.twimg.com/images/themes/theme1/bg.png', u'screen_name': u'ziggy9480', u'lang': u'en', u'profile_background_tile': False, u'favourites_count': 573, u'name': u'StoreBum Punch Cards', u'notifications': False, u'url': u'https://t.co/4aF3VSO6Uw', u'created_at': u'Sat Aug 03 17:18:52 +0000 2013', u'contributors_enabled': False, u'time_zone': None, u'protected': False, u'default_profile': False, u'is_translator': False}, u'geo': None, u'in_reply_to_user_id_str': None, u'possibly_sensitive': False, u'lang': u'en', u'created_at': u'Sat Nov 12 17:15:47 +0000 2016', u'in_reply_to_status_id_str': None, u'place': None, u'metadata': {u'iso_language_code': u'en', u'result_type': u'recent'}}, {u'contributors': None, u'truncated': True, u'text': u'Westbrook birthday party? Durant will be the special guest in attendance? \\U0001f602\\n#oklahomacity #okcthunder\\u2026 https://t.co/e7PCu1ISGg', u'is_quote_status': True, u'in_reply_to_status_id': None, u'id': 797480504564084736, u'favorite_count': 0, u'entities': {u'symbols': [], u'user_mentions': [], u'hashtags': [{u'indices': [76, 89], u'text': u'oklahomacity'}, {u'indices': [90, 101], u'text': u'okcthunder'}], u'urls': [{u'url': u'https://t.co/e7PCu1ISGg', u'indices': [103, 126], u'expanded_url': u'https://twitter.com/i/web/status/797480504564084736', u'display_url': u'twitter.com/i/web/status/7\\u2026'}]}, u'quoted_status_id': 797479507791908864, u'retweeted': False, u'coordinates': None, u'quoted_status': {u'contributors': None, u'truncated': True, u'text': u'Double-double Friday night, birthday candles today for @russwest44. Happy 28th!\\n\\nWATCH: https://t.co/8kUMifBNfX\\u2026 https://t.co/255yHZsh7u', u'is_quote_status': False, u'in_reply_to_status_id': None, u'id': 797479507791908864, u'favorite_count': 45, u'entities': {u'symbols': [], u'user_mentions': [{u'id': 35982046, u'indices': [55, 66], u'id_str': u'35982046', u'screen_name': u'russwest44', u'name': u'Russell Westbrook'}], u'hashtags': [], u'urls': [{u'url': u'https://t.co/8kUMifBNfX', u'indices': [88, 111], u'expanded_url': u'http://on.nba.com/2eNM1bW', u'display_url': u'on.nba.com/2eNM1bW'}, {u'url': u'https://t.co/255yHZsh7u', u'indices': [113, 136], u'expanded_url': u'https://twitter.com/i/web/status/797479507791908864', u'display_url': u'twitter.com/i/web/status/7\\u2026'}]}, u'retweeted': False, u'coordinates': None, u'source': u'<a href=\"http://www.spredfast.com\" rel=\"nofollow\">Spredfast app</a>', u'in_reply_to_screen_name': None, u'in_reply_to_user_id': None, u'retweet_count': 19, u'id_str': u'797479507791908864', u'favorited': False, u'user': {u'follow_request_sent': False, u'has_extended_profile': False, u'profile_use_background_image': True, u'default_profile_image': False, u'id': 1373313666, u'profile_background_image_url_https': u'https://pbs.twimg.com/profile_background_images/469911943491227648/PKLmIqjQ.jpeg', u'verified': True, u'translator_type': u'none', u'profile_text_color': u'333333', u'profile_image_url_https': u'https://pbs.twimg.com/profile_images/469911843058626561/xNc-krMY_normal.jpeg', u'profile_sidebar_fill_color': u'EFEFEF', u'entities': {u'url': {u'urls': [{u'url': u'http://t.co/wQgO4DbZrK', u'indices': [0, 22], u'expanded_url': u'http://www.nba.com', u'display_url': u'nba.com'}]}, u'description': {u'urls': [{u'url': u'http://t.co/krBlSjaSod', u'indices': [97, 119], u'expanded_url': u'http://NBA.com', u'display_url': u'NBA.com'}]}}, u'followers_count': 396188, u'profile_sidebar_border_color': u'000000', u'id_str': u'1373313666', u'profile_background_color': u'FFFFFF', u'listed_count': 1991, u'is_translation_enabled': False, u'utc_offset': -18000, u'statuses_count': 59313, u'description': u'All the NBA news, videos, highlights and blog posts tweeted directly from the editorial staff at http://t.co/krBlSjaSod', u'friends_count': 678, u'location': u'Atlanta, GA', u'profile_link_color': u'0066CC', u'profile_image_url': u'http://pbs.twimg.com/profile_images/469911843058626561/xNc-krMY_normal.jpeg', u'following': False, u'geo_enabled': False, u'profile_banner_url': u'https://pbs.twimg.com/profile_banners/1373313666/1446050600', u'profile_background_image_url': u'http://pbs.twimg.com/profile_background_images/469911943491227648/PKLmIqjQ.jpeg', u'screen_name': u'NBAcom', u'lang': u'en', u'profile_background_tile': False, u'favourites_count': 0, u'name': u'NBA.com', u'notifications': False, u'url': u'http://t.co/wQgO4DbZrK', u'created_at': u'Mon Apr 22 23:24:48 +0000 2013', u'contributors_enabled': False, u'time_zone': u'Eastern Time (US & Canada)', u'protected': False, u'default_profile': False, u'is_translator': False}, u'geo': None, u'in_reply_to_user_id_str': None, u'possibly_sensitive': False, u'lang': u'en', u'created_at': u'Sat Nov 12 16:41:45 +0000 2016', u'in_reply_to_status_id_str': None, u'place': None, u'metadata': {u'iso_language_code': u'en', u'result_type': u'recent'}}, u'source': u'<a href=\"http://twitter.com/download/android\" rel=\"nofollow\">Twitter for Android</a>', u'in_reply_to_screen_name': None, u'in_reply_to_user_id': None, u'retweet_count': 0, u'id_str': u'797480504564084736', u'favorited': False, u'user': {u'follow_request_sent': False, u'has_extended_profile': True, u'profile_use_background_image': True, u'default_profile_image': False, u'id': 3300472971, u'profile_background_image_url_https': u'https://pbs.twimg.com/profile_background_images/634812930563817472/zsrIluqi.jpg', u'verified': False, u'translator_type': u'none', u'profile_text_color': u'000000', u'profile_image_url_https': u'https://pbs.twimg.com/profile_images/637006015263698944/GT51H7TY_normal.jpg', u'profile_sidebar_fill_color': u'000000', u'entities': {u'url': {u'urls': [{u'url': u'https://t.co/Vr5yIHMOHU', u'indices': [0, 23], u'expanded_url': u'http://www.fantasyrasta.com', u'display_url': u'fantasyrasta.com'}]}, u'description': {u'urls': [{u'url': u'https://t.co/5xfMjNjTPj', u'indices': [29, 52], u'expanded_url': u'http://Fantasyrasta.com', u'display_url': u'Fantasyrasta.com'}]}}, u'followers_count': 2918, u'profile_sidebar_border_color': u'000000', u'id_str': u'3300472971', u'profile_background_color': u'DD2E44', u'listed_count': 121, u'is_translation_enabled': False, u'utc_offset': -18000, u'statuses_count': 36259, u'description': u'Daily Fantasy Sports Advice. https://t.co/5xfMjNjTPj\\nfanduel and draftkings lineups. As well as my own cheatsheets.', u'friends_count': 2669, u'location': u'Tampa, FL', u'profile_link_color': u'4A913C', u'profile_image_url': u'http://pbs.twimg.com/profile_images/637006015263698944/GT51H7TY_normal.jpg', u'following': False, u'geo_enabled': False, u'profile_banner_url': u'https://pbs.twimg.com/profile_banners/3300472971/1433213234', u'profile_background_image_url': u'http://pbs.twimg.com/profile_background_images/634812930563817472/zsrIluqi.jpg', u'screen_name': u'FantasyRasta', u'lang': u'en', u'profile_background_tile': False, u'favourites_count': 5383, u'name': u'DFS Fantasy Rasta', u'notifications': False, u'url': u'https://t.co/Vr5yIHMOHU', u'created_at': u'Wed May 27 15:25:28 +0000 2015', u'contributors_enabled': False, u'time_zone': u'Eastern Time (US & Canada)', u'protected': False, u'default_profile': False, u'is_translator': False}, u'geo': None, u'in_reply_to_user_id_str': None, u'possibly_sensitive': False, u'lang': u'en', u'created_at': u'Sat Nov 12 16:45:43 +0000 2016', u'quoted_status_id_str': u'797479507791908864', u'in_reply_to_status_id_str': None, u'place': None, u'metadata': {u'iso_language_code': u'en', u'result_type': u'recent'}}, {u'contributors': None, u'truncated': False, u'text': u'Golden State Warriors, Kobe Bryant had viewers flipping... #GoldenStateWarriors https://t.co/gMRxUpMOMh', u'is_quote_status': False, u'in_reply_to_status_id': None, u'id': 797474329453694976, u'favorite_count': 1, u'entities': {u'symbols': [], u'user_mentions': [], u'hashtags': [{u'indices': [59, 79], u'text': u'GoldenStateWarriors'}], u'urls': [{u'url': u'https://t.co/gMRxUpMOMh', u'indices': [80, 103], u'expanded_url': u'http://dlvr.it/MfGqbW', u'display_url': u'dlvr.it/MfGqbW'}]}, u'retweeted': False, u'coordinates': None, u'source': u'<a href=\"http://dlvr.it\" rel=\"nofollow\">dlvr.it</a>', u'in_reply_to_screen_name': None, u'in_reply_to_user_id': None, u'retweet_count': 0, u'id_str': u'797474329453694976', u'favorited': False, u'user': {u'follow_request_sent': False, u'has_extended_profile': False, u'profile_use_background_image': True, u'default_profile_image': False, u'id': 3033503267, u'profile_background_image_url_https': u'https://abs.twimg.com/images/themes/theme1/bg.png', u'verified': False, u'translator_type': u'none', u'profile_text_color': u'333333', u'profile_image_url_https': u'https://pbs.twimg.com/profile_images/565991973467615232/Nd7jNQ7d_normal.jpeg', u'profile_sidebar_fill_color': u'DDEEF6', u'entities': {u'description': {u'urls': []}}, u'followers_count': 14533, u'profile_sidebar_border_color': u'C0DEED', u'id_str': u'3033503267', u'profile_background_color': u'C0DEED', u'listed_count': 997, u'is_translation_enabled': False, u'utc_offset': -25200, u'statuses_count': 843743, u'description': u'hi ^^', u'friends_count': 14045, u'location': u'', u'profile_link_color': u'1DA1F2', u'profile_image_url': u'http://pbs.twimg.com/profile_images/565991973467615232/Nd7jNQ7d_normal.jpeg', u'following': False, u'geo_enabled': False, u'profile_banner_url': u'https://pbs.twimg.com/profile_banners/3033503267/1423777981', u'profile_background_image_url': u'http://abs.twimg.com/images/themes/theme1/bg.png', u'screen_name': u'snlz0', u'lang': u'en', u'profile_background_tile': False, u'favourites_count': 31477, u'name': u'LiZa', u'notifications': False, u'url': None, u'created_at': u'Thu Feb 12 21:52:36 +0000 2015', u'contributors_enabled': False, u'time_zone': u'Mountain Time (US & Canada)', u'protected': False, u'default_profile': True, u'is_translator': False}, u'geo': None, u'in_reply_to_user_id_str': None, u'possibly_sensitive': False, u'lang': u'en', u'created_at': u'Sat Nov 12 16:21:11 +0000 2016', u'in_reply_to_status_id_str': None, u'place': None, u'metadata': {u'iso_language_code': u'en', u'result_type': u'recent'}}, {u'contributors': None, u'truncated': False, u'text': u'Andrew Bogut says Golden State Warriors embracing scintillating NBA winning streak #GoldenStateWarriors\\u2026 https://t.co/wxIJPDoEl2', u'is_quote_status': False, u'in_reply_to_status_id': None, u'id': 797462538166247424, u'favorite_count': 0, u'entities': {u'symbols': [], u'user_mentions': [], u'hashtags': [{u'indices': [83, 103], u'text': u'GoldenStateWarriors'}], u'urls': [{u'url': u'https://t.co/wxIJPDoEl2', u'indices': [105, 128], u'expanded_url': u'http://dlvr.it/MfGGsN', u'display_url': u'dlvr.it/MfGGsN'}]}, u'retweeted': False, u'coordinates': None, u'source': u'<a href=\"http://dlvr.it\" rel=\"nofollow\">dlvr.it</a>', u'in_reply_to_screen_name': None, u'in_reply_to_user_id': None, u'retweet_count': 0, u'id_str': u'797462538166247424', u'favorited': False, u'user': {u'follow_request_sent': False, u'has_extended_profile': False, u'profile_use_background_image': True, u'default_profile_image': False, u'id': 3033503267, u'profile_background_image_url_https': u'https://abs.twimg.com/images/themes/theme1/bg.png', u'verified': False, u'translator_type': u'none', u'profile_text_color': u'333333', u'profile_image_url_https': u'https://pbs.twimg.com/profile_images/565991973467615232/Nd7jNQ7d_normal.jpeg', u'profile_sidebar_fill_color': u'DDEEF6', u'entities': {u'description': {u'urls': []}}, u'followers_count': 14533, u'profile_sidebar_border_color': u'C0DEED', u'id_str': u'3033503267', u'profile_background_color': u'C0DEED', u'listed_count': 997, u'is_translation_enabled': False, u'utc_offset': -25200, u'statuses_count': 843743, u'description': u'hi ^^', u'friends_count': 14045, u'location': u'', u'profile_link_color': u'1DA1F2', u'profile_image_url': u'http://pbs.twimg.com/profile_images/565991973467615232/Nd7jNQ7d_normal.jpeg', u'following': False, u'geo_enabled': False, u'profile_banner_url': u'https://pbs.twimg.com/profile_banners/3033503267/1423777981', u'profile_background_image_url': u'http://abs.twimg.com/images/themes/theme1/bg.png', u'screen_name': u'snlz0', u'lang': u'en', u'profile_background_tile': False, u'favourites_count': 31477, u'name': u'LiZa', u'notifications': False, u'url': None, u'created_at': u'Thu Feb 12 21:52:36 +0000 2015', u'contributors_enabled': False, u'time_zone': u'Mountain Time (US & Canada)', u'protected': False, u'default_profile': True, u'is_translator': False}, u'geo': None, u'in_reply_to_user_id_str': None, u'possibly_sensitive': False, u'lang': u'en', u'created_at': u'Sat Nov 12 15:34:19 +0000 2016', u'in_reply_to_status_id_str': None, u'place': None, u'metadata': {u'iso_language_code': u'en', u'result_type': u'recent'}}]}\n"
     ]
    }
   ],
   "source": [
    "print search_results"
   ]
  },
  {
   "cell_type": "code",
   "execution_count": null,
   "metadata": {
    "collapsed": true
   },
   "outputs": [],
   "source": []
  },
  {
   "cell_type": "code",
   "execution_count": null,
   "metadata": {
    "collapsed": true
   },
   "outputs": [],
   "source": []
  },
  {
   "cell_type": "code",
   "execution_count": null,
   "metadata": {
    "collapsed": true
   },
   "outputs": [],
   "source": []
  },
  {
   "cell_type": "markdown",
   "metadata": {},
   "source": [
    " # Python for Data Science Bootcamp\n",
    " ## List Comprehensions"
   ]
  },
  {
   "cell_type": "markdown",
   "metadata": {},
   "source": [
    "### List Comprehensions\n",
    "List comprehensions are compact lines of code that have the same functionality as longer lines of code.  They're harder to read at first, but they end up saving lots of unnecessary loops of code."
   ]
  },
  {
   "cell_type": "markdown",
   "metadata": {},
   "source": [
    "#### List Comprehension Example #1\n",
    "Long format"
   ]
  },
  {
   "cell_type": "code",
   "execution_count": 1,
   "metadata": {
    "collapsed": false
   },
   "outputs": [
    {
     "name": "stdout",
     "output_type": "stream",
     "text": [
      "[1, 4, 9, 16]\n"
     ]
    }
   ],
   "source": [
    "example_1 = []\n",
    "for x in [1,2,3,4]:\n",
    "    calculation = x ** 2\n",
    "    example_1.append(calculation)\n",
    "print example_1"
   ]
  },
  {
   "cell_type": "markdown",
   "metadata": {},
   "source": [
    "List comprehension"
   ]
  },
  {
   "cell_type": "code",
   "execution_count": 1,
   "metadata": {
    "collapsed": false
   },
   "outputs": [],
   "source": []
  },
  {
   "cell_type": "markdown",
   "metadata": {},
   "source": [
    "#### List Comprehension Example #2\n",
    "Long format"
   ]
  },
  {
   "cell_type": "code",
   "execution_count": 2,
   "metadata": {
    "collapsed": false
   },
   "outputs": [
    {
     "name": "stdout",
     "output_type": "stream",
     "text": [
      "[2, 4]\n"
     ]
    }
   ],
   "source": [
    "example_2 = []\n",
    "for x in [1,2,3,4]:\n",
    "    if x%2 == 0:\n",
    "        example_2.append(x)\n",
    "print example_2"
   ]
  },
  {
   "cell_type": "markdown",
   "metadata": {},
   "source": [
    "List comprehension"
   ]
  },
  {
   "cell_type": "code",
   "execution_count": null,
   "metadata": {
    "collapsed": false
   },
   "outputs": [],
   "source": []
  },
  {
   "cell_type": "markdown",
   "metadata": {},
   "source": [
    "#### List Comprehension Example #3\n",
    "Long format"
   ]
  },
  {
   "cell_type": "code",
   "execution_count": 15,
   "metadata": {
    "collapsed": false
   },
   "outputs": [
    {
     "name": "stdout",
     "output_type": "stream",
     "text": [
      "['odd', 'even', 'odd', 'even']\n"
     ]
    }
   ],
   "source": [
    "example_3 = []\n",
    "for x in [1,2,3,4]:\n",
    "    if x%2==0:\n",
    "        example_3.append('even')\n",
    "    else:\n",
    "        example_3.append('odd')\n",
    "print example_3"
   ]
  },
  {
   "cell_type": "markdown",
   "metadata": {},
   "source": [
    "List comprehension"
   ]
  },
  {
   "cell_type": "code",
   "execution_count": null,
   "metadata": {
    "collapsed": false
   },
   "outputs": [],
   "source": []
  },
  {
   "cell_type": "markdown",
   "metadata": {},
   "source": [
    "### Exercises"
   ]
  },
  {
   "cell_type": "markdown",
   "metadata": {},
   "source": [
    "Create a list comprehension that converts temperatures from Celsius to Fahrenheit for 0 to 100 in increments of 10"
   ]
  },
  {
   "cell_type": "code",
   "execution_count": null,
   "metadata": {
    "collapsed": false
   },
   "outputs": [],
   "source": []
  },
  {
   "cell_type": "markdown",
   "metadata": {
    "collapsed": true
   },
   "source": [
    "Update your list comprehension to check the data type and return an error message if the data type isn't numeric."
   ]
  },
  {
   "cell_type": "code",
   "execution_count": 7,
   "metadata": {
    "collapsed": true
   },
   "outputs": [],
   "source": [
    "temps = [0, 30, 100, 'cat']"
   ]
  },
  {
   "cell_type": "code",
   "execution_count": null,
   "metadata": {
    "collapsed": false
   },
   "outputs": [],
   "source": []
  },
  {
   "cell_type": "code",
   "execution_count": null,
   "metadata": {
    "collapsed": true
   },
   "outputs": [],
   "source": []
  }
 ],
 "metadata": {
  "anaconda-cloud": {},
  "kernelspec": {
   "display_name": "Python [default]",
   "language": "python",
   "name": "python2"
  },
  "language_info": {
   "codemirror_mode": {
    "name": "ipython",
    "version": 2
   },
   "file_extension": ".py",
   "mimetype": "text/x-python",
   "name": "python",
   "nbconvert_exporter": "python",
   "pygments_lexer": "ipython2",
   "version": "2.7.12"
  }
 },
 "nbformat": 4,
 "nbformat_minor": 0
}
