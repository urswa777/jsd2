{
 "cells": [
  {
   "cell_type": "markdown",
   "metadata": {},
   "source": [
    "## Data Munging Solutions"
   ]
  },
  {
   "cell_type": "code",
   "execution_count": 23,
   "metadata": {
    "collapsed": false
   },
   "outputs": [],
   "source": [
    "import pandas as pd\n",
    "import numpy as np"
   ]
  },
  {
   "cell_type": "code",
   "execution_count": 24,
   "metadata": {
    "collapsed": false
   },
   "outputs": [
    {
     "name": "stdout",
     "output_type": "stream",
     "text": [
      "   PassengerId  Survived  Pclass  \\\n",
      "0            1         0       3   \n",
      "1            2         1       1   \n",
      "2            3         1       3   \n",
      "3            4         1       1   \n",
      "4            5         0       3   \n",
      "\n",
      "                                                Name     Sex   Age  SibSp  \\\n",
      "0                            Braund, Mr. Owen Harris    male  22.0      1   \n",
      "1  Cumings, Mrs. John Bradley (Florence Briggs Th...  female  38.0      1   \n",
      "2                             Heikkinen, Miss. Laina  female  26.0      0   \n",
      "3       Futrelle, Mrs. Jacques Heath (Lily May Peel)  female  35.0      1   \n",
      "4                           Allen, Mr. William Henry    male  35.0      0   \n",
      "\n",
      "   Parch            Ticket     Fare Cabin Embarked  \n",
      "0      0         A/5 21171   7.2500   NaN        S  \n",
      "1      0          PC 17599  71.2833   C85        C  \n",
      "2      0  STON/O2. 3101282   7.9250   NaN        S  \n",
      "3      0            113803  53.1000  C123        S  \n",
      "4      0            373450   8.0500   NaN        S  \n",
      "<class 'pandas.core.frame.DataFrame'>\n",
      "RangeIndex: 891 entries, 0 to 890\n",
      "Data columns (total 12 columns):\n",
      "PassengerId    891 non-null int64\n",
      "Survived       891 non-null int64\n",
      "Pclass         891 non-null int64\n",
      "Name           891 non-null object\n",
      "Sex            891 non-null object\n",
      "Age            714 non-null float64\n",
      "SibSp          891 non-null int64\n",
      "Parch          891 non-null int64\n",
      "Ticket         891 non-null object\n",
      "Fare           891 non-null float64\n",
      "Cabin          204 non-null object\n",
      "Embarked       889 non-null object\n",
      "dtypes: float64(2), int64(5), object(5)\n",
      "memory usage: 83.6+ KB\n",
      "None\n",
      "       PassengerId    Survived      Pclass         Age       SibSp  \\\n",
      "count   891.000000  891.000000  891.000000  714.000000  891.000000   \n",
      "mean    446.000000    0.383838    2.308642   29.699118    0.523008   \n",
      "std     257.353842    0.486592    0.836071   14.526497    1.102743   \n",
      "min       1.000000    0.000000    1.000000    0.420000    0.000000   \n",
      "25%     223.500000    0.000000    2.000000         NaN    0.000000   \n",
      "50%     446.000000    0.000000    3.000000         NaN    0.000000   \n",
      "75%     668.500000    1.000000    3.000000         NaN    1.000000   \n",
      "max     891.000000    1.000000    3.000000   80.000000    8.000000   \n",
      "\n",
      "            Parch        Fare  \n",
      "count  891.000000  891.000000  \n",
      "mean     0.381594   32.204208  \n",
      "std      0.806057   49.693429  \n",
      "min      0.000000    0.000000  \n",
      "25%      0.000000    7.910400  \n",
      "50%      0.000000   14.454200  \n",
      "75%      0.000000   31.000000  \n",
      "max      6.000000  512.329200  \n"
     ]
    }
   ],
   "source": [
    "# Import data and investigate\n",
    "data = pd.read_csv('train.csv')\n",
    "print data.head()\n",
    "print data.info()\n",
    "print data.describe()"
   ]
  },
  {
   "cell_type": "code",
   "execution_count": 4,
   "metadata": {
    "collapsed": false
   },
   "outputs": [
    {
     "name": "stdout",
     "output_type": "stream",
     "text": [
      "                                                Name    Sex\n",
      "0                            Braund, Mr. Owen Harris   True\n",
      "1  Cumings, Mrs. John Bradley (Florence Briggs Th...  False\n",
      "2                             Heikkinen, Miss. Laina  False\n",
      "3       Futrelle, Mrs. Jacques Heath (Lily May Peel)  False\n",
      "4                           Allen, Mr. William Henry   True\n"
     ]
    }
   ],
   "source": [
    "# Convert Sex into boolean value\n",
    "data.Sex = data.Sex.replace(['male','female'],[True,False])\n",
    "print data[['Name','Sex']].head()"
   ]
  },
  {
   "cell_type": "code",
   "execution_count": 5,
   "metadata": {
    "collapsed": false
   },
   "outputs": [
    {
     "name": "stdout",
     "output_type": "stream",
     "text": [
      "<class 'pandas.core.frame.DataFrame'>\n",
      "RangeIndex: 891 entries, 0 to 890\n",
      "Data columns (total 12 columns):\n",
      "PassengerId    891 non-null int64\n",
      "Survived       891 non-null int64\n",
      "Pclass         891 non-null int64\n",
      "Name           891 non-null object\n",
      "Sex            891 non-null bool\n",
      "Age            891 non-null float64\n",
      "SibSp          891 non-null int64\n",
      "Parch          891 non-null int64\n",
      "Ticket         891 non-null object\n",
      "Fare           891 non-null float64\n",
      "Cabin          204 non-null object\n",
      "Embarked       889 non-null object\n",
      "dtypes: bool(1), float64(2), int64(5), object(4)\n",
      "memory usage: 77.5+ KB\n"
     ]
    }
   ],
   "source": [
    "# Inpute missing values with average age\n",
    "avg_age = data.Age.mean()\n",
    "data.Age = data.Age.fillna(avg_age)\n",
    "data.info()"
   ]
  },
  {
   "cell_type": "code",
   "execution_count": 6,
   "metadata": {
    "collapsed": false
   },
   "outputs": [
    {
     "name": "stdout",
     "output_type": "stream",
     "text": [
      "   Pclass_1  Pclass_2  Pclass_3\n",
      "0       0.0       0.0       1.0\n",
      "1       1.0       0.0       0.0\n",
      "2       0.0       0.0       1.0\n",
      "3       1.0       0.0       0.0\n",
      "4       0.0       0.0       1.0\n"
     ]
    }
   ],
   "source": [
    "pclass = pd.get_dummies(data.Pclass, prefix = 'Pclass')\n",
    "print pclass.head()"
   ]
  },
  {
   "cell_type": "code",
   "execution_count": 7,
   "metadata": {
    "collapsed": false
   },
   "outputs": [
    {
     "name": "stdout",
     "output_type": "stream",
     "text": [
      "   PassengerId  Survived  Pclass  \\\n",
      "0            1         0       3   \n",
      "1            2         1       1   \n",
      "2            3         1       3   \n",
      "3            4         1       1   \n",
      "4            5         0       3   \n",
      "\n",
      "                                                Name    Sex   Age  SibSp  \\\n",
      "0                            Braund, Mr. Owen Harris   True  22.0      1   \n",
      "1  Cumings, Mrs. John Bradley (Florence Briggs Th...  False  38.0      1   \n",
      "2                             Heikkinen, Miss. Laina  False  26.0      0   \n",
      "3       Futrelle, Mrs. Jacques Heath (Lily May Peel)  False  35.0      1   \n",
      "4                           Allen, Mr. William Henry   True  35.0      0   \n",
      "\n",
      "   Parch            Ticket     Fare Cabin Embarked  Pclass_1  Pclass_2  \\\n",
      "0      0         A/5 21171   7.2500   NaN        S       0.0       0.0   \n",
      "1      0          PC 17599  71.2833   C85        C       1.0       0.0   \n",
      "2      0  STON/O2. 3101282   7.9250   NaN        S       0.0       0.0   \n",
      "3      0            113803  53.1000  C123        S       1.0       0.0   \n",
      "4      0            373450   8.0500   NaN        S       0.0       0.0   \n",
      "\n",
      "   Pclass_3  \n",
      "0       1.0  \n",
      "1       0.0  \n",
      "2       1.0  \n",
      "3       0.0  \n",
      "4       1.0  \n"
     ]
    }
   ],
   "source": [
    "# Two ways to merge data (both have same results)\n",
    "data = pd.merge(data,pclass,left_index=True,right_index=True)\n",
    "# data = data.merge(pclass,left_index=True,right_index=True)\n",
    "print data.head()"
   ]
  },
  {
   "cell_type": "code",
   "execution_count": 33,
   "metadata": {
    "collapsed": false
   },
   "outputs": [
    {
     "data": {
      "text/plain": [
       " Mr              517\n",
       " Miss            182\n",
       " Mrs             125\n",
       " Master           40\n",
       " Dr                7\n",
       " Rev               6\n",
       " Major             2\n",
       " Col               2\n",
       " Mlle              2\n",
       " Jonkheer          1\n",
       " Ms                1\n",
       " Sir               1\n",
       " Don               1\n",
       " Mme               1\n",
       " Capt              1\n",
       " Lady              1\n",
       " the Countess      1\n",
       "Name: Name, dtype: int64"
      ]
     },
     "execution_count": 33,
     "metadata": {},
     "output_type": "execute_result"
    }
   ],
   "source": [
    "# data.Name.apply(lambda x: x.split(','))\n",
    "# data.Name.apply(lambda x: x.split(',')[1])\n",
    "# data.Name.apply(lambda x: x.split(',')[1].split('.'))\n",
    "# data.Name.apply(lambda x: x.split(',')[1].split('.')[0])\n",
    "data.Name.apply(lambda x: x.split(',')[1].split('.')[0]).value_counts()"
   ]
  },
  {
   "cell_type": "code",
   "execution_count": 10,
   "metadata": {
    "collapsed": false
   },
   "outputs": [],
   "source": [
    "# Extract titles from names\n",
    "data['Title'] = data.Name.apply(lambda x: x.split(',')[1].split('.')[0])"
   ]
  },
  {
   "cell_type": "code",
   "execution_count": 7,
   "metadata": {
    "collapsed": true
   },
   "outputs": [],
   "source": [
    "# Write DataFrame to csv file\n",
    "data.to_csv('clean_data.csv',index=False)"
   ]
  },
  {
   "cell_type": "code",
   "execution_count": 35,
   "metadata": {
    "collapsed": false
   },
   "outputs": [
    {
     "name": "stdout",
     "output_type": "stream",
     "text": [
      "data.Pclass.unique():\n",
      "[3 1 2]\n",
      "\n",
      "data.Pclass.value_counts():\n",
      "3    0.551066\n",
      "1    0.242424\n",
      "2    0.206510\n",
      "Name: Pclass, dtype: float64\n"
     ]
    }
   ],
   "source": [
    "# Example for unique() and value_counts()\n",
    "print 'data.Pclass.unique():'\n",
    "print data.Pclass.unique()\n",
    "print\n",
    "print 'data.Pclass.value_counts():'\n",
    "print data.Pclass.value_counts(True)"
   ]
  },
  {
   "cell_type": "markdown",
   "metadata": {},
   "source": [
    "### Clean data and impute ages for men and women separately"
   ]
  },
  {
   "cell_type": "code",
   "execution_count": 17,
   "metadata": {
    "collapsed": true
   },
   "outputs": [],
   "source": [
    "data2 = pd.read_csv('train.csv')\n",
    "data2.Sex = data2.Sex.replace(['male','female'],[True,False])"
   ]
  },
  {
   "cell_type": "code",
   "execution_count": 19,
   "metadata": {
    "collapsed": false
   },
   "outputs": [
    {
     "name": "stdout",
     "output_type": "stream",
     "text": [
      "Empty DataFrame\n",
      "Columns: [PassengerId, Survived, Pclass, Name, Sex, Age, SibSp, Parch, Ticket, Fare, Cabin, Embarked]\n",
      "Index: []\n",
      "Empty DataFrame\n",
      "Columns: [PassengerId, Survived, Pclass, Name, Sex, Age, SibSp, Parch, Ticket, Fare, Cabin, Embarked]\n",
      "Index: []\n"
     ]
    },
    {
     "name": "stderr",
     "output_type": "stream",
     "text": [
      "/Users/Craig_Sakuma/anaconda/lib/python2.7/site-packages/ipykernel/__main__.py:4: SettingWithCopyWarning: \n",
      "A value is trying to be set on a copy of a slice from a DataFrame\n",
      "\n",
      "See the caveats in the documentation: http://pandas.pydata.org/pandas-docs/stable/indexing.html#indexing-view-versus-copy\n",
      "/Users/Craig_Sakuma/anaconda/lib/python2.7/site-packages/ipykernel/__main__.py:5: SettingWithCopyWarning: \n",
      "A value is trying to be set on a copy of a slice from a DataFrame\n",
      "\n",
      "See the caveats in the documentation: http://pandas.pydata.org/pandas-docs/stable/indexing.html#indexing-view-versus-copy\n"
     ]
    }
   ],
   "source": [
    "# Inpute missing values with average age by sex\n",
    "avg_age_men = data2.Age[data2.Sex==1].mean()\n",
    "avg_age_women = data2.Age[data2.Sex==0].mean()\n",
    "\n",
    "data2.Age[data2.Sex==1] = data2.Age[data2.Sex==1].fillna(avg_age_men)\n",
    "data2.Age[data2.Sex==0] = data2.Age[data2.Sex==0].fillna(avg_age_women)\n",
    "\n",
    "# data2.Age[data2.Sex==1].fillna(avg_age_men, inplace=True)\n",
    "# data2.Age[data2.Sex==0].fillna(avg_age_women, inplace=True)\n",
    "\n",
    "# Check for null values for men and women\n",
    "print data2[(data2.Sex==1)&(data2.Age.isnull())]\n",
    "print data2[(data2.Sex==0)&(data2.Age.isnull())]"
   ]
  },
  {
   "cell_type": "code",
   "execution_count": 11,
   "metadata": {
    "collapsed": true
   },
   "outputs": [],
   "source": [
    "pclass = pd.get_dummies(data2.Pclass, prefix = 'Pclass')\n",
    "data2 = pd.merge(data2,pclass,left_index=True, right_index=True)"
   ]
  },
  {
   "cell_type": "code",
   "execution_count": 12,
   "metadata": {
    "collapsed": true
   },
   "outputs": [],
   "source": [
    "data.to_csv('clean_data2.csv', index=False)"
   ]
  },
  {
   "cell_type": "code",
   "execution_count": null,
   "metadata": {
    "collapsed": true
   },
   "outputs": [],
   "source": []
  }
 ],
 "metadata": {
  "kernelspec": {
   "display_name": "Python [Root]",
   "language": "python",
   "name": "Python [Root]"
  },
  "language_info": {
   "codemirror_mode": {
    "name": "ipython",
    "version": 2
   },
   "file_extension": ".py",
   "mimetype": "text/x-python",
   "name": "python",
   "nbconvert_exporter": "python",
   "pygments_lexer": "ipython2",
   "version": "2.7.12"
  }
 },
 "nbformat": 4,
 "nbformat_minor": 0
}
