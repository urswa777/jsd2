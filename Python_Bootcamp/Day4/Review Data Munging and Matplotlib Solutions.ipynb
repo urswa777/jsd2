{
 "cells": [
  {
   "cell_type": "markdown",
   "metadata": {},
   "source": [
    "  # Python for Data Science Bootcamp\n",
    "  ## Review Data Munging and Matplotlib"
   ]
  },
  {
   "cell_type": "markdown",
   "metadata": {},
   "source": [
    "Import the yelp_reviews.csv file as a Dataframe"
   ]
  },
  {
   "cell_type": "code",
   "execution_count": 7,
   "metadata": {
    "collapsed": false
   },
   "outputs": [
    {
     "name": "stdout",
     "output_type": "stream",
     "text": [
      "                   business_name               review_id  \\\n",
      "0  Thai Pan Fresh Exotic Cuisine  0ESSqLfOae77muWTv_zUqA   \n",
      "1                     Salon Lola  VyAKIaj_Rmsf_ZCHcGJyUw   \n",
      "2         Chipotle Mexican Grill  DusrkpkTGPGkqK13xO1TZg   \n",
      "3                     Sam's Deli  A5FL-YYXnr2hnvXQbgkkrQ   \n",
      "4                          Petco  SzhIWfzLHUZfiAaVTtKHxw   \n",
      "\n",
      "                  user_id stars review_date  \\\n",
      "0  r-t7IiTSD0QZdt8lOUCqeQ     3  2011-02-11   \n",
      "1  SS85hfTApRnbTPcJadra8A     5  2010-05-30   \n",
      "2  xAVu2pZ6nIvkdHh8vGs84Q     3  2011-11-26   \n",
      "3  Xuvj2Fq6c3mCmplVG7h21w     4  2013-10-10   \n",
      "4  jHH_UDpCnF-YTnveyoMTIA     1  2012-09-02   \n",
      "\n",
      "                                         review_text  funny  useful  cool  \n",
      "0  Lately i have been feeling homesick for asian ...      1       1     1  \n",
      "1  I love Marilo!  She understands my hair type a...      0       0     0  \n",
      "2  Standard Chipotle fare - consistently good; no...      0       0     0  \n",
      "3         Very good prices with quality ingredients.      0       0     0  \n",
      "4  I went to this Petco a few times and was a bit...      0       1     0  \n",
      "<class 'pandas.core.frame.DataFrame'>\n",
      "RangeIndex: 16390 entries, 0 to 16389\n",
      "Data columns (total 9 columns):\n",
      "business_name    16390 non-null object\n",
      "review_id        16390 non-null object\n",
      "user_id          16390 non-null object\n",
      "stars            16390 non-null object\n",
      "review_date      16390 non-null object\n",
      "review_text      16390 non-null object\n",
      "funny            16390 non-null int64\n",
      "useful           16390 non-null int64\n",
      "cool             16390 non-null int64\n",
      "dtypes: int64(3), object(6)\n",
      "memory usage: 1.1+ MB\n",
      "None\n",
      "          count      mean       std  min  25%  50%  75%   max\n",
      "funny   16390.0  0.607200  1.773961  0.0  0.0  0.0  1.0  70.0\n",
      "useful  16390.0  1.251190  2.084710  0.0  0.0  1.0  2.0  38.0\n",
      "cool    16390.0  0.764185  1.784975  0.0  0.0  0.0  1.0  36.0\n"
     ]
    }
   ],
   "source": [
    "import pandas as pd\n",
    "data = pd.read_csv('yelp_reviews_sample.csv')\n",
    "print data.head()\n",
    "print data.info()\n",
    "print data.describe().T"
   ]
  },
  {
   "cell_type": "markdown",
   "metadata": {},
   "source": [
    "Investigate the data and see if anything needs cleaning.  Hint: Check the unique values and value_counts for stars column."
   ]
  },
  {
   "cell_type": "code",
   "execution_count": 8,
   "metadata": {
    "collapsed": false
   },
   "outputs": [
    {
     "name": "stdout",
     "output_type": "stream",
     "text": [
      "['3' '5' '4' '1' '2' '?']\n",
      "5    5842\n",
      "4    5371\n",
      "3    2334\n",
      "2    1481\n",
      "1    1348\n",
      "?      14\n",
      "Name: stars, dtype: int64\n"
     ]
    }
   ],
   "source": [
    "print data.stars.unique()\n",
    "print data.stars.value_counts()"
   ]
  },
  {
   "cell_type": "markdown",
   "metadata": {},
   "source": [
    "Clean the data by removing the reviews with '?' for stars rating"
   ]
  },
  {
   "cell_type": "code",
   "execution_count": 9,
   "metadata": {
    "collapsed": false
   },
   "outputs": [],
   "source": [
    "data = data[data.stars!='?']"
   ]
  },
  {
   "cell_type": "markdown",
   "metadata": {},
   "source": [
    "Replace the stars values that are text with integers"
   ]
  },
  {
   "cell_type": "code",
   "execution_count": 10,
   "metadata": {
    "collapsed": false
   },
   "outputs": [
    {
     "name": "stdout",
     "output_type": "stream",
     "text": [
      "<class 'pandas.core.frame.DataFrame'>\n",
      "Int64Index: 16376 entries, 0 to 16389\n",
      "Data columns (total 9 columns):\n",
      "business_name    16376 non-null object\n",
      "review_id        16376 non-null object\n",
      "user_id          16376 non-null object\n",
      "stars            16376 non-null int64\n",
      "review_date      16376 non-null object\n",
      "review_text      16376 non-null object\n",
      "funny            16376 non-null int64\n",
      "useful           16376 non-null int64\n",
      "cool             16376 non-null int64\n",
      "dtypes: int64(4), object(5)\n",
      "memory usage: 1.2+ MB\n",
      "None\n",
      "          count      mean       std  min  25%  50%  75%   max\n",
      "stars   16376.0  3.786395  1.247527  1.0  3.0  4.0  5.0   5.0\n",
      "funny   16376.0  0.607169  1.774147  0.0  0.0  0.0  1.0  70.0\n",
      "useful  16376.0  1.250916  2.084798  0.0  0.0  1.0  2.0  38.0\n",
      "cool    16376.0  0.764045  1.784997  0.0  0.0  0.0  1.0  36.0\n"
     ]
    }
   ],
   "source": [
    "# Replace text with intgers\n",
    "data.stars.replace(['1','2','3','4','5'],[1,2,3,4,5], inplace=True)\n",
    "\n",
    "# Or convert data type to integer\n",
    "# data.stars = data.stars.astype(int)\n",
    "# data.stars = data.stars.apply(int)\n",
    "\n",
    "print data.info()\n",
    "print data.describe().T"
   ]
  },
  {
   "cell_type": "markdown",
   "metadata": {},
   "source": [
    "How many 5 star reviews does Lo-Lo's Chicken & Waffles have?"
   ]
  },
  {
   "cell_type": "code",
   "execution_count": 11,
   "metadata": {
    "collapsed": false
   },
   "outputs": [
    {
     "name": "stdout",
     "output_type": "stream",
     "text": [
      "20\n",
      "5    20\n",
      "4    12\n",
      "3     5\n",
      "2     2\n",
      "1     2\n",
      "Name: stars, dtype: int64\n"
     ]
    }
   ],
   "source": [
    "print data.business_name[\n",
    "    (data.business_name==\"Lo-Lo's Chicken & Waffles\")&(data.stars==5)\n",
    "    ].count()\n",
    "\n",
    "print data.stars[\n",
    "    data.business_name==\"Lo-Lo's Chicken & Waffles\"\n",
    "    ].value_counts()"
   ]
  },
  {
   "cell_type": "markdown",
   "metadata": {},
   "source": [
    "What's the most number of cool votes a review received?"
   ]
  },
  {
   "cell_type": "code",
   "execution_count": 12,
   "metadata": {
    "collapsed": false
   },
   "outputs": [
    {
     "name": "stdout",
     "output_type": "stream",
     "text": [
      "36\n"
     ]
    }
   ],
   "source": [
    "print data.cool.max()"
   ]
  },
  {
   "cell_type": "code",
   "execution_count": 13,
   "metadata": {
    "collapsed": false
   },
   "outputs": [
    {
     "name": "stdout",
     "output_type": "stream",
     "text": [
      "         business_name                                        review_text\n",
      "4555   Rainforest Cafe  I would rather be a freegan and dumpster dive ...\n",
      "10490        Dyno Comp  Best shop in town.\\rEvery employee at Dyno-Com...\n"
     ]
    }
   ],
   "source": [
    "print data[['business_name','review_text']][data.cool == data.cool.max()]"
   ]
  },
  {
   "cell_type": "markdown",
   "metadata": {},
   "source": [
    "Which business has the most reviews? (hint: use .value_counts())"
   ]
  },
  {
   "cell_type": "code",
   "execution_count": 22,
   "metadata": {
    "collapsed": false
   },
   "outputs": [
    {
     "data": {
      "text/plain": [
       "Pita Jungle                                     94\n",
       "Oregano's Pizza Bistro                          72\n",
       "Pizzeria Bianco                                 69\n",
       "Cornish Pasty Company                           58\n",
       "Phoenix Sky Harbor International Airport        57\n",
       "FEZ                                             52\n",
       "Five Guys Burgers and Fries                     49\n",
       "Matt's Big Breakfast                            48\n",
       "Four Peaks Brewing Co                           44\n",
       "True Food Kitchen                               43\n",
       "Postino Arcadia                                 42\n",
       "Lo-Lo's Chicken & Waffles                       41\n",
       "Smashburger                                     40\n",
       "Hula's Modern Tiki                              39\n",
       "Lux                                             39\n",
       "Chompie's Deli                                  38\n",
       "Chelsea's Kitchen                               38\n",
       "Starbucks                                       37\n",
       "The Parlor                                      35\n",
       "Cibo                                            35\n",
       "Chipotle Mexican Grill                          35\n",
       "Chino Bandido                                   35\n",
       "Barrio Caf�                                     34\n",
       "Culinary Dropout                                34\n",
       "Yard House                                      34\n",
       "The Mission                                     33\n",
       "America's Taco Shop                             33\n",
       "RA Sushi Bar Restaurant                         32\n",
       "Whole Foods Market                              32\n",
       "Grimaldi's Pizzeria                             32\n",
       "                                                ..\n",
       "Cobblestone Quality Shoe & Luggage Repair        1\n",
       "VIP Roofing Services                             1\n",
       "Pizzeria Uno                                     1\n",
       "Hampton Inn Airport N                            1\n",
       "A Better Grooming                                1\n",
       "AZTECA Bakeries & Restaurant                     1\n",
       "Vans Golf Shop                                   1\n",
       "CDC Pools, Inc                                   1\n",
       "A Touch of European Cafe                         1\n",
       "Alixandra Collections                            1\n",
       "Brewer Caldwell Property Management              1\n",
       "Dillard's Clearance Center                       1\n",
       "Orangetheory Fitness Tempe                       1\n",
       "Palm Valley Golf Club                            1\n",
       "Earley's Flowers                                 1\n",
       "Superstar Video                                  1\n",
       "Virtu Honest Craft                               1\n",
       "Luncha Libre Gourmet Food Truck                  1\n",
       "Fashion By Robert Black                          1\n",
       "Pinnacle Peak Ace Hardware & Paint               1\n",
       "Azucar Cuban Restaurant                          1\n",
       "Ace Express Dry Cleaners                         1\n",
       "Urban Baby Exchange                              1\n",
       "LG Collision                                     1\n",
       "Pacific Blue Pools & Spas                        1\n",
       "The Arena poker room at Talking Stick resort     1\n",
       "Hilton Hotel                                     1\n",
       "Kiwi Carpet Cleaning                             1\n",
       "Keep It Simple                                   1\n",
       "Regis Salons                                     1\n",
       "Name: business_name, dtype: int64"
      ]
     },
     "execution_count": 22,
     "metadata": {},
     "output_type": "execute_result"
    }
   ],
   "source": [
    "data.business_name.value_counts()"
   ]
  },
  {
   "cell_type": "markdown",
   "metadata": {},
   "source": [
    "Create a scatter plot of the average star rating vs. average cool review per business (Hint: Use groupby)"
   ]
  },
  {
   "cell_type": "code",
   "execution_count": 15,
   "metadata": {
    "collapsed": false
   },
   "outputs": [
    {
     "data": {
      "text/html": [
       "<div>\n",
       "<table border=\"1\" class=\"dataframe\">\n",
       "  <thead>\n",
       "    <tr style=\"text-align: right;\">\n",
       "      <th></th>\n",
       "      <th>stars</th>\n",
       "      <th>cool</th>\n",
       "    </tr>\n",
       "    <tr>\n",
       "      <th>business_name</th>\n",
       "      <th></th>\n",
       "      <th></th>\n",
       "    </tr>\n",
       "  </thead>\n",
       "  <tbody>\n",
       "    <tr>\n",
       "      <th>#1Brothers Pizza</th>\n",
       "      <td>1.000000</td>\n",
       "      <td>1.000000</td>\n",
       "    </tr>\n",
       "    <tr>\n",
       "      <th>101 Bistro</th>\n",
       "      <td>3.000000</td>\n",
       "      <td>2.000000</td>\n",
       "    </tr>\n",
       "    <tr>\n",
       "      <th>1130 The Restaurant</th>\n",
       "      <td>2.857143</td>\n",
       "      <td>0.142857</td>\n",
       "    </tr>\n",
       "    <tr>\n",
       "      <th>16th Hole at The Phoenix Open</th>\n",
       "      <td>5.000000</td>\n",
       "      <td>0.000000</td>\n",
       "    </tr>\n",
       "    <tr>\n",
       "      <th>16th Street Sports Bar &amp; Grill</th>\n",
       "      <td>4.000000</td>\n",
       "      <td>1.000000</td>\n",
       "    </tr>\n",
       "  </tbody>\n",
       "</table>\n",
       "</div>"
      ],
      "text/plain": [
       "                                   stars      cool\n",
       "business_name                                     \n",
       "#1Brothers Pizza                1.000000  1.000000\n",
       "101 Bistro                      3.000000  2.000000\n",
       "1130 The Restaurant             2.857143  0.142857\n",
       "16th Hole at The Phoenix Open   5.000000  0.000000\n",
       "16th Street Sports Bar & Grill  4.000000  1.000000"
      ]
     },
     "execution_count": 15,
     "metadata": {},
     "output_type": "execute_result"
    }
   ],
   "source": [
    "avg_rating = data.groupby('business_name')['stars','cool'].mean()\n",
    "avg_rating.head()"
   ]
  },
  {
   "cell_type": "code",
   "execution_count": 16,
   "metadata": {
    "collapsed": false
   },
   "outputs": [
    {
     "data": {
      "text/plain": [
       "(1, 5)"
      ]
     },
     "execution_count": 16,
     "metadata": {},
     "output_type": "execute_result"
    },
    {
     "data": {
      "image/png": "[encoded data removed]",
      "text/plain": [
       "<matplotlib.figure.Figure at 0x113039490>"
      ]
     },
     "metadata": {},
     "output_type": "display_data"
    }
   ],
   "source": [
    "import matplotlib.pyplot as plt\n",
    "%matplotlib inline\n",
    "\n",
    "fig = plt.figure()\n",
    "ax1 = fig.add_subplot(121)\n",
    "ax1.scatter(avg_rating.stars, avg_rating.cool, s=5, alpha=1)\n",
    "plt.ylim([0,20])\n",
    "plt.xlim([1,5])\n",
    "ax2 = fig.add_subplot(122)\n",
    "ax2.scatter(avg_rating.stars.values, avg_rating.cool.values, s=2, alpha=.05)\n",
    "plt.ylim([0,20])\n",
    "plt.xlim([1,5])"
   ]
  },
  {
   "cell_type": "markdown",
   "metadata": {},
   "source": [
    "Bonus:  Use google and Matplotlib documentation to figure out how to change the marker size and transparency"
   ]
  },
  {
   "cell_type": "code",
   "execution_count": null,
   "metadata": {
    "collapsed": false
   },
   "outputs": [],
   "source": []
  },
  {
   "cell_type": "code",
   "execution_count": null,
   "metadata": {
    "collapsed": true
   },
   "outputs": [],
   "source": []
  }
 ],
 "metadata": {
  "anaconda-cloud": {},
  "kernelspec": {
   "display_name": "Python [Root]",
   "language": "python",
   "name": "Python [Root]"
  },
  "language_info": {
   "codemirror_mode": {
    "name": "ipython",
    "version": 2
   },
   "file_extension": ".py",
   "mimetype": "text/x-python",
   "name": "python",
   "nbconvert_exporter": "python",
   "pygments_lexer": "ipython2",
   "version": "2.7.12"
  }
 },
 "nbformat": 4,
 "nbformat_minor": 0
}
