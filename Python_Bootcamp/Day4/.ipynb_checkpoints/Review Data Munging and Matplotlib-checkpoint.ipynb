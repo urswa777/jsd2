{
 "cells": [
  {
   "cell_type": "markdown",
   "metadata": {},
   "source": [
    "  # Python for Data Science Bootcamp\n",
    "  ## Review Data Munging and Matplotlib"
   ]
  },
  {
   "cell_type": "markdown",
   "metadata": {},
   "source": [
    "Import the yelp_reviews_sample.csv file as a Dataframe"
   ]
  },
  {
   "cell_type": "code",
   "execution_count": 1,
   "metadata": {
    "collapsed": false
   },
   "outputs": [],
   "source": [
    "import pandas as pd\n",
    "import numpy as np\n",
    "import datetime as dt"
   ]
  },
  {
   "cell_type": "code",
   "execution_count": 102,
   "metadata": {
    "collapsed": false
   },
   "outputs": [],
   "source": [
    "data=pd.read_csv('yelp_reviews_sample.csv', encoding='latin_1')"
   ]
  },
  {
   "cell_type": "code",
   "execution_count": 9,
   "metadata": {
    "collapsed": false
   },
   "outputs": [
    {
     "data": {
      "text/html": [
       "<div>\n",
       "<table border=\"1\" class=\"dataframe\">\n",
       "  <thead>\n",
       "    <tr style=\"text-align: right;\">\n",
       "      <th></th>\n",
       "      <th>business_name</th>\n",
       "      <th>review_id</th>\n",
       "      <th>user_id</th>\n",
       "      <th>stars</th>\n",
       "      <th>review_date</th>\n",
       "      <th>review_text</th>\n",
       "      <th>funny</th>\n",
       "      <th>useful</th>\n",
       "      <th>cool</th>\n",
       "    </tr>\n",
       "  </thead>\n",
       "  <tbody>\n",
       "    <tr>\n",
       "      <th>0</th>\n",
       "      <td>Thai Pan Fresh Exotic Cuisine</td>\n",
       "      <td>0ESSqLfOae77muWTv_zUqA</td>\n",
       "      <td>r-t7IiTSD0QZdt8lOUCqeQ</td>\n",
       "      <td>3</td>\n",
       "      <td>2011-02-11</td>\n",
       "      <td>Lately i have been feeling homesick for asian ...</td>\n",
       "      <td>1</td>\n",
       "      <td>1</td>\n",
       "      <td>1</td>\n",
       "    </tr>\n",
       "    <tr>\n",
       "      <th>1</th>\n",
       "      <td>Salon Lola</td>\n",
       "      <td>VyAKIaj_Rmsf_ZCHcGJyUw</td>\n",
       "      <td>SS85hfTApRnbTPcJadra8A</td>\n",
       "      <td>5</td>\n",
       "      <td>2010-05-30</td>\n",
       "      <td>I love Marilo!  She understands my hair type a...</td>\n",
       "      <td>0</td>\n",
       "      <td>0</td>\n",
       "      <td>0</td>\n",
       "    </tr>\n",
       "    <tr>\n",
       "      <th>2</th>\n",
       "      <td>Chipotle Mexican Grill</td>\n",
       "      <td>DusrkpkTGPGkqK13xO1TZg</td>\n",
       "      <td>xAVu2pZ6nIvkdHh8vGs84Q</td>\n",
       "      <td>3</td>\n",
       "      <td>2011-11-26</td>\n",
       "      <td>Standard Chipotle fare - consistently good; no...</td>\n",
       "      <td>0</td>\n",
       "      <td>0</td>\n",
       "      <td>0</td>\n",
       "    </tr>\n",
       "    <tr>\n",
       "      <th>3</th>\n",
       "      <td>Sam's Deli</td>\n",
       "      <td>A5FL-YYXnr2hnvXQbgkkrQ</td>\n",
       "      <td>Xuvj2Fq6c3mCmplVG7h21w</td>\n",
       "      <td>4</td>\n",
       "      <td>2013-10-10</td>\n",
       "      <td>Very good prices with quality ingredients.</td>\n",
       "      <td>0</td>\n",
       "      <td>0</td>\n",
       "      <td>0</td>\n",
       "    </tr>\n",
       "    <tr>\n",
       "      <th>4</th>\n",
       "      <td>Petco</td>\n",
       "      <td>SzhIWfzLHUZfiAaVTtKHxw</td>\n",
       "      <td>jHH_UDpCnF-YTnveyoMTIA</td>\n",
       "      <td>1</td>\n",
       "      <td>2012-09-02</td>\n",
       "      <td>I went to this Petco a few times and was a bit...</td>\n",
       "      <td>0</td>\n",
       "      <td>1</td>\n",
       "      <td>0</td>\n",
       "    </tr>\n",
       "    <tr>\n",
       "      <th>5</th>\n",
       "      <td>The Gilbert House</td>\n",
       "      <td>EaBnd0MGL61KhvFwS3bQvQ</td>\n",
       "      <td>b5TgTsk4dv8x2KDZYI-V7w</td>\n",
       "      <td>4</td>\n",
       "      <td>2011-05-16</td>\n",
       "      <td>This is the first unique (not chain) brunch pl...</td>\n",
       "      <td>0</td>\n",
       "      <td>0</td>\n",
       "      <td>0</td>\n",
       "    </tr>\n",
       "    <tr>\n",
       "      <th>6</th>\n",
       "      <td>Tilted Kilt Pub &amp; Eatery</td>\n",
       "      <td>Rp1yvabsZ76dNwjG1MMTkA</td>\n",
       "      <td>P1qwZrslRv9KS9vPJNXe4g</td>\n",
       "      <td>2</td>\n",
       "      <td>2009-04-16</td>\n",
       "      <td>Brian S. Sum's it up perfectly with \"if you're...</td>\n",
       "      <td>1</td>\n",
       "      <td>5</td>\n",
       "      <td>3</td>\n",
       "    </tr>\n",
       "    <tr>\n",
       "      <th>7</th>\n",
       "      <td>Pugzie's</td>\n",
       "      <td>rrIMJijS60XTgjRTGBCLcw</td>\n",
       "      <td>vsXP832M0kOxKpfduD7dWw</td>\n",
       "      <td>?</td>\n",
       "      <td>2008-08-25</td>\n",
       "      <td>Remember the no-bake cookies of your elementar...</td>\n",
       "      <td>1</td>\n",
       "      <td>1</td>\n",
       "      <td>1</td>\n",
       "    </tr>\n",
       "    <tr>\n",
       "      <th>8</th>\n",
       "      <td>Jade Bar</td>\n",
       "      <td>6z6wOKSFVcZfCdhOPcZY5g</td>\n",
       "      <td>cgD3mG3fZkIccOk1R9O2UQ</td>\n",
       "      <td>5</td>\n",
       "      <td>2012-01-02</td>\n",
       "      <td>I love coming to this bar. Friendly bartenders...</td>\n",
       "      <td>0</td>\n",
       "      <td>0</td>\n",
       "      <td>0</td>\n",
       "    </tr>\n",
       "    <tr>\n",
       "      <th>9</th>\n",
       "      <td>Hana Japanese Eatery</td>\n",
       "      <td>zSZ47fXX02XGxTJSQ-vulg</td>\n",
       "      <td>Iqjw_gWq6okooSkmZ9a_1A</td>\n",
       "      <td>5</td>\n",
       "      <td>2012-04-10</td>\n",
       "      <td>Great sushi rolls and BYOB!  Very friendly sta...</td>\n",
       "      <td>0</td>\n",
       "      <td>1</td>\n",
       "      <td>0</td>\n",
       "    </tr>\n",
       "    <tr>\n",
       "      <th>10</th>\n",
       "      <td>Taberna del Tequila</td>\n",
       "      <td>dE2VhLieetdalviZc28WnA</td>\n",
       "      <td>RLmUj1QGMz2dLBcdayuBiw</td>\n",
       "      <td>3</td>\n",
       "      <td>2010-10-03</td>\n",
       "      <td>I just spent 8 days in Florida.  I have had a ...</td>\n",
       "      <td>5</td>\n",
       "      <td>4</td>\n",
       "      <td>2</td>\n",
       "    </tr>\n",
       "    <tr>\n",
       "      <th>11</th>\n",
       "      <td>Fry's Marketplace</td>\n",
       "      <td>8P7RLb7QqJEls-vJpNaQqQ</td>\n",
       "      <td>DzlIGo5om7KVOG3It2iQlg</td>\n",
       "      <td>5</td>\n",
       "      <td>2010-07-25</td>\n",
       "      <td>The sushi is amazing.  It is made daily in the...</td>\n",
       "      <td>0</td>\n",
       "      <td>0</td>\n",
       "      <td>0</td>\n",
       "    </tr>\n",
       "    <tr>\n",
       "      <th>12</th>\n",
       "      <td>Canteen Modern Tequila Bar</td>\n",
       "      <td>qnpnnZ_JrOLsIdtn5aB9Hw</td>\n",
       "      <td>_4lqpCYCqOQzbB6xQGGhrQ</td>\n",
       "      <td>1</td>\n",
       "      <td>2010-10-14</td>\n",
       "      <td>Ok, so the grand opening hasn't even happened ...</td>\n",
       "      <td>1</td>\n",
       "      <td>3</td>\n",
       "      <td>1</td>\n",
       "    </tr>\n",
       "    <tr>\n",
       "      <th>13</th>\n",
       "      <td>Herberger Theater Center</td>\n",
       "      <td>3mXO3UiaQCCFY4ZpG_E-tA</td>\n",
       "      <td>3nUQ4xbLlySDbkE03nyp-Q</td>\n",
       "      <td>2</td>\n",
       "      <td>2011-10-23</td>\n",
       "      <td>This review is about the Attendants (Ushers).\\...</td>\n",
       "      <td>1</td>\n",
       "      <td>2</td>\n",
       "      <td>1</td>\n",
       "    </tr>\n",
       "    <tr>\n",
       "      <th>14</th>\n",
       "      <td>Beckett's Table</td>\n",
       "      <td>QrPdGSAlxTICOoNXKD7Wcw</td>\n",
       "      <td>y7sq26EXGz7XG7DSo8TOuQ</td>\n",
       "      <td>4</td>\n",
       "      <td>2010-11-11</td>\n",
       "      <td>Location: First off, my guest and I (we drove ...</td>\n",
       "      <td>1</td>\n",
       "      <td>0</td>\n",
       "      <td>0</td>\n",
       "    </tr>\n",
       "    <tr>\n",
       "      <th>15</th>\n",
       "      <td>Stereo Joe</td>\n",
       "      <td>TJUBZv5b_jQAEAQf2zjoMg</td>\n",
       "      <td>8_KqOlVJo1D4_NUMWs2RBA</td>\n",
       "      <td>5</td>\n",
       "      <td>2013-06-18</td>\n",
       "      <td>I love Stereo Joe! I had bought a new radio th...</td>\n",
       "      <td>0</td>\n",
       "      <td>2</td>\n",
       "      <td>0</td>\n",
       "    </tr>\n",
       "    <tr>\n",
       "      <th>16</th>\n",
       "      <td>Tavern Americana</td>\n",
       "      <td>YUeMWkd7Foact1Bd_rmNkQ</td>\n",
       "      <td>xFFmQTr0srCsnXiupIXT2A</td>\n",
       "      <td>5</td>\n",
       "      <td>2012-10-24</td>\n",
       "      <td>Great food and atmosphere.  Plenty of TVs to w...</td>\n",
       "      <td>1</td>\n",
       "      <td>5</td>\n",
       "      <td>1</td>\n",
       "    </tr>\n",
       "    <tr>\n",
       "      <th>17</th>\n",
       "      <td>El Ranchero Restaurant</td>\n",
       "      <td>b8qXxdXo9NFQ79xQ565vwg</td>\n",
       "      <td>zNjguoWpQ5vmHq0q5uvJGg</td>\n",
       "      <td>4</td>\n",
       "      <td>2012-11-20</td>\n",
       "      <td>Ate there yesterday (11/19/12) and had a great...</td>\n",
       "      <td>0</td>\n",
       "      <td>1</td>\n",
       "      <td>0</td>\n",
       "    </tr>\n",
       "    <tr>\n",
       "      <th>18</th>\n",
       "      <td>Chill</td>\n",
       "      <td>D8ahA2oMZr5cHy75QTgt4w</td>\n",
       "      <td>goOcTbMYD-eD12YlsagPyg</td>\n",
       "      <td>5</td>\n",
       "      <td>2011-02-26</td>\n",
       "      <td>This place is great! I love their mint chocola...</td>\n",
       "      <td>0</td>\n",
       "      <td>0</td>\n",
       "      <td>0</td>\n",
       "    </tr>\n",
       "    <tr>\n",
       "      <th>19</th>\n",
       "      <td>Gelato 64</td>\n",
       "      <td>-9VmcWlqMIlbGBhRnJdWZg</td>\n",
       "      <td>w6r1V9eOsGrebp2LbpcNzQ</td>\n",
       "      <td>2</td>\n",
       "      <td>2010-03-06</td>\n",
       "      <td>This was my first and last time here. I got th...</td>\n",
       "      <td>0</td>\n",
       "      <td>0</td>\n",
       "      <td>0</td>\n",
       "    </tr>\n",
       "    <tr>\n",
       "      <th>20</th>\n",
       "      <td>Hue Gourmet</td>\n",
       "      <td>DUlKGNKFCZwwEUTb77t6-w</td>\n",
       "      <td>pwCifXXtt2Mzt_CPLpUC2Q</td>\n",
       "      <td>4</td>\n",
       "      <td>2012-02-20</td>\n",
       "      <td>One word: Authentic! I love Hue food and this ...</td>\n",
       "      <td>0</td>\n",
       "      <td>1</td>\n",
       "      <td>0</td>\n",
       "    </tr>\n",
       "    <tr>\n",
       "      <th>21</th>\n",
       "      <td>Distrito</td>\n",
       "      <td>uOa3TdnSsyxBmtk-DLgMAw</td>\n",
       "      <td>AOmdmYYSeLUstcN084_wMA</td>\n",
       "      <td>4</td>\n",
       "      <td>2012-03-31</td>\n",
       "      <td>This place is located in the hotel at the corn...</td>\n",
       "      <td>1</td>\n",
       "      <td>3</td>\n",
       "      <td>1</td>\n",
       "    </tr>\n",
       "    <tr>\n",
       "      <th>22</th>\n",
       "      <td>5th and Wine</td>\n",
       "      <td>PV_1hilY2cb0oi256ghXzA</td>\n",
       "      <td>EDyJnySlK3Zq1jJjUoRWJQ</td>\n",
       "      <td>5</td>\n",
       "      <td>2013-10-03</td>\n",
       "      <td>This place is amazing. I come here at least on...</td>\n",
       "      <td>1</td>\n",
       "      <td>1</td>\n",
       "      <td>1</td>\n",
       "    </tr>\n",
       "    <tr>\n",
       "      <th>23</th>\n",
       "      <td>Scramble A Breakfast Joint</td>\n",
       "      <td>KETr5UiBNvFX9xSxX5aHqw</td>\n",
       "      <td>XrD_RUiFeKsQ63WL3l_crQ</td>\n",
       "      <td>5</td>\n",
       "      <td>2010-10-04</td>\n",
       "      <td>I read about Scramble on line so I thought I w...</td>\n",
       "      <td>0</td>\n",
       "      <td>2</td>\n",
       "      <td>1</td>\n",
       "    </tr>\n",
       "    <tr>\n",
       "      <th>24</th>\n",
       "      <td>Drift Lounge</td>\n",
       "      <td>V82DIXQ5MVCYZu72QiOr-w</td>\n",
       "      <td>cl1LMRfak6gR3vqsEzRtHQ</td>\n",
       "      <td>4</td>\n",
       "      <td>2006-08-06</td>\n",
       "      <td>UPDATE: Ach du lieber! The other day, change c...</td>\n",
       "      <td>1</td>\n",
       "      <td>2</td>\n",
       "      <td>0</td>\n",
       "    </tr>\n",
       "    <tr>\n",
       "      <th>25</th>\n",
       "      <td>Fujiya Market</td>\n",
       "      <td>gCbhfkYWx6k9kI2ReqUNjw</td>\n",
       "      <td>6yQ3xyfor5TtX1POugtTag</td>\n",
       "      <td>5</td>\n",
       "      <td>2009-10-22</td>\n",
       "      <td>I Love LOVE this place- and while I currently ...</td>\n",
       "      <td>1</td>\n",
       "      <td>1</td>\n",
       "      <td>1</td>\n",
       "    </tr>\n",
       "    <tr>\n",
       "      <th>26</th>\n",
       "      <td>Defalco's Italian Grocery</td>\n",
       "      <td>gdkfi-giaTU9kQGfwqml2w</td>\n",
       "      <td>fczQCSmaWF78toLEmb0Zsw</td>\n",
       "      <td>4</td>\n",
       "      <td>2008-10-25</td>\n",
       "      <td>Aside from the wait to order and the other wai...</td>\n",
       "      <td>2</td>\n",
       "      <td>7</td>\n",
       "      <td>8</td>\n",
       "    </tr>\n",
       "    <tr>\n",
       "      <th>27</th>\n",
       "      <td>Sweet Tomatoes</td>\n",
       "      <td>KTNMLRjb7LTDcuW_IhBPDQ</td>\n",
       "      <td>TvtARzzT8bvPKLiLEeMIHw</td>\n",
       "      <td>5</td>\n",
       "      <td>2013-10-11</td>\n",
       "      <td>I thought this Sweet Tomatoes was brand new wh...</td>\n",
       "      <td>1</td>\n",
       "      <td>1</td>\n",
       "      <td>1</td>\n",
       "    </tr>\n",
       "    <tr>\n",
       "      <th>28</th>\n",
       "      <td>Which Wich Superior Sandwiches</td>\n",
       "      <td>g8Mv_qpMY0VRFULzZWdsWg</td>\n",
       "      <td>esomNneHvsEv91MmraM5ug</td>\n",
       "      <td>5</td>\n",
       "      <td>2010-02-08</td>\n",
       "      <td>Why is everyone else writing their reviews on ...</td>\n",
       "      <td>0</td>\n",
       "      <td>1</td>\n",
       "      <td>0</td>\n",
       "    </tr>\n",
       "    <tr>\n",
       "      <th>29</th>\n",
       "      <td>San Felipes Cantina</td>\n",
       "      <td>skSINztqPKM-T_1JxOhGVA</td>\n",
       "      <td>_tH9ttWZNQjr7KaUVp2fXQ</td>\n",
       "      <td>2</td>\n",
       "      <td>2010-05-09</td>\n",
       "      <td>great bar.... not great food.  ****but it's ch...</td>\n",
       "      <td>1</td>\n",
       "      <td>0</td>\n",
       "      <td>0</td>\n",
       "    </tr>\n",
       "    <tr>\n",
       "      <th>...</th>\n",
       "      <td>...</td>\n",
       "      <td>...</td>\n",
       "      <td>...</td>\n",
       "      <td>...</td>\n",
       "      <td>...</td>\n",
       "      <td>...</td>\n",
       "      <td>...</td>\n",
       "      <td>...</td>\n",
       "      <td>...</td>\n",
       "    </tr>\n",
       "    <tr>\n",
       "      <th>16360</th>\n",
       "      <td>La Bocca Urban Pizzeria + Wine Bar</td>\n",
       "      <td>Il-gwgFjiRuAQpA8sL06yg</td>\n",
       "      <td>7aVtVu6ANtsCEfXfYoSkTg</td>\n",
       "      <td>5</td>\n",
       "      <td>2011-02-19</td>\n",
       "      <td>I adore La Bocca and at any given time, I'm pr...</td>\n",
       "      <td>0</td>\n",
       "      <td>1</td>\n",
       "      <td>0</td>\n",
       "    </tr>\n",
       "    <tr>\n",
       "      <th>16361</th>\n",
       "      <td>Local Breeze</td>\n",
       "      <td>l2WgfXfEnByEExoKhl_HNQ</td>\n",
       "      <td>kJfFhQASj0_KRkWXE1WQXQ</td>\n",
       "      <td>2</td>\n",
       "      <td>2011-10-10</td>\n",
       "      <td>First off I noticed that the patio was huge, a...</td>\n",
       "      <td>0</td>\n",
       "      <td>0</td>\n",
       "      <td>0</td>\n",
       "    </tr>\n",
       "    <tr>\n",
       "      <th>16362</th>\n",
       "      <td>Lux</td>\n",
       "      <td>mNT4aWOuH5zOCGnkw16itw</td>\n",
       "      <td>ayKW9eWwGFcrtJaHcwZUCw</td>\n",
       "      <td>4</td>\n",
       "      <td>2011-08-12</td>\n",
       "      <td>Very good, Cartel is better by far.</td>\n",
       "      <td>0</td>\n",
       "      <td>1</td>\n",
       "      <td>0</td>\n",
       "    </tr>\n",
       "    <tr>\n",
       "      <th>16363</th>\n",
       "      <td>Cheuvront</td>\n",
       "      <td>Cv-SscGrej3vp2oPmAH_aA</td>\n",
       "      <td>hIb1ikbIMI0t1EK4gPsK_A</td>\n",
       "      <td>4</td>\n",
       "      <td>2012-06-23</td>\n",
       "      <td>I found this place whilst trying to find good ...</td>\n",
       "      <td>1</td>\n",
       "      <td>3</td>\n",
       "      <td>1</td>\n",
       "    </tr>\n",
       "    <tr>\n",
       "      <th>16364</th>\n",
       "      <td>Wildfish Seafood Grille</td>\n",
       "      <td>9cLUBWZSjUNRgJr7qhqdbw</td>\n",
       "      <td>jqVeTSin5GeRm0ceSg-PBA</td>\n",
       "      <td>3</td>\n",
       "      <td>2007-11-17</td>\n",
       "      <td>My husband and I went to Wildfish last night t...</td>\n",
       "      <td>0</td>\n",
       "      <td>1</td>\n",
       "      <td>1</td>\n",
       "    </tr>\n",
       "    <tr>\n",
       "      <th>16365</th>\n",
       "      <td>Red Robin Gourmet Burgers</td>\n",
       "      <td>bHzspB9Kp15vQVTjT10NMw</td>\n",
       "      <td>w4dgIzMwwZvKsHaC47Ox3A</td>\n",
       "      <td>5</td>\n",
       "      <td>2011-06-01</td>\n",
       "      <td>I love Burgers &amp; Beer. I love Beer and good fo...</td>\n",
       "      <td>0</td>\n",
       "      <td>1</td>\n",
       "      <td>0</td>\n",
       "    </tr>\n",
       "    <tr>\n",
       "      <th>16366</th>\n",
       "      <td>Rehab Burger Therapy</td>\n",
       "      <td>G0Pk1fUm6O87GpO51feVog</td>\n",
       "      <td>wLazlBYNR4J-_sp-23ScSQ</td>\n",
       "      <td>5</td>\n",
       "      <td>2013-01-27</td>\n",
       "      <td>OMG.  there food is outrageously wonderful!  I...</td>\n",
       "      <td>0</td>\n",
       "      <td>1</td>\n",
       "      <td>1</td>\n",
       "    </tr>\n",
       "    <tr>\n",
       "      <th>16367</th>\n",
       "      <td>Zoyo Neighborhood Yogurt</td>\n",
       "      <td>hkAObvxIeErkIhRxR4GW9A</td>\n",
       "      <td>y0BOBHqoMaqkOjLn_zvYQg</td>\n",
       "      <td>2</td>\n",
       "      <td>2012-05-09</td>\n",
       "      <td>I like Zoyo, but I'm not sure I would come her...</td>\n",
       "      <td>0</td>\n",
       "      <td>2</td>\n",
       "      <td>0</td>\n",
       "    </tr>\n",
       "    <tr>\n",
       "      <th>16368</th>\n",
       "      <td>Nobuo At Teeter House</td>\n",
       "      <td>vwA7fykTYKMeXSaa_rDeFg</td>\n",
       "      <td>xg4AdOGHFxJyWByFbG8stA</td>\n",
       "      <td>5</td>\n",
       "      <td>2011-03-28</td>\n",
       "      <td>This eclectic restaurant with a Japanese cuisi...</td>\n",
       "      <td>0</td>\n",
       "      <td>4</td>\n",
       "      <td>2</td>\n",
       "    </tr>\n",
       "    <tr>\n",
       "      <th>16369</th>\n",
       "      <td>Charlie's</td>\n",
       "      <td>B7XqGVJRlSbaeWXQdrj73Q</td>\n",
       "      <td>dkOEHtpH3sCOemDNhwbEzw</td>\n",
       "      <td>1</td>\n",
       "      <td>2009-01-25</td>\n",
       "      <td>Wow,\\r\\rSorry Charlie's. I have to give you a ...</td>\n",
       "      <td>2</td>\n",
       "      <td>2</td>\n",
       "      <td>2</td>\n",
       "    </tr>\n",
       "    <tr>\n",
       "      <th>16370</th>\n",
       "      <td>Sapna Caf</td>\n",
       "      <td>gZyJShMPfY9MOnJRjhIeew</td>\n",
       "      <td>Bc94u79bFmGaUH3coZhBHQ</td>\n",
       "      <td>4</td>\n",
       "      <td>2011-01-06</td>\n",
       "      <td>update - Sapna is now closed\\r\\rSapna is one o...</td>\n",
       "      <td>0</td>\n",
       "      <td>0</td>\n",
       "      <td>0</td>\n",
       "    </tr>\n",
       "    <tr>\n",
       "      <th>16371</th>\n",
       "      <td>Superstition Coffee</td>\n",
       "      <td>4R4TdOnPZxpThFulqzWQ9w</td>\n",
       "      <td>1vkT3MfpsTm0fNzSx1hIgg</td>\n",
       "      <td>5</td>\n",
       "      <td>2013-03-18</td>\n",
       "      <td>Located inside the Queen Creek Olive Mill in t...</td>\n",
       "      <td>0</td>\n",
       "      <td>1</td>\n",
       "      <td>0</td>\n",
       "    </tr>\n",
       "    <tr>\n",
       "      <th>16372</th>\n",
       "      <td>Ahwatukee Animal Care Hospital</td>\n",
       "      <td>9wdLF148ZFb6tzS-BGNPPg</td>\n",
       "      <td>bli5yHYNCZzdnRg8s7a6cg</td>\n",
       "      <td>4</td>\n",
       "      <td>2010-09-07</td>\n",
       "      <td>We needed to board our cockatiel for two weeks...</td>\n",
       "      <td>0</td>\n",
       "      <td>0</td>\n",
       "      <td>0</td>\n",
       "    </tr>\n",
       "    <tr>\n",
       "      <th>16373</th>\n",
       "      <td>VinciTorio's Restaurant</td>\n",
       "      <td>Q688kFQVGjmWNKkdgRbSMg</td>\n",
       "      <td>7MJJ4dacV5wzslKT3izK8Q</td>\n",
       "      <td>5</td>\n",
       "      <td>2010-03-03</td>\n",
       "      <td>After having stayed in Italy for a 6-week stud...</td>\n",
       "      <td>0</td>\n",
       "      <td>1</td>\n",
       "      <td>0</td>\n",
       "    </tr>\n",
       "    <tr>\n",
       "      <th>16374</th>\n",
       "      <td>Sweet Republic</td>\n",
       "      <td>Fgep6ycX93SHSVqblyjOyg</td>\n",
       "      <td>rLtl8ZkDX5vH5nAx9C3q5Q</td>\n",
       "      <td>5</td>\n",
       "      <td>2009-03-09</td>\n",
       "      <td>This is my new go-to place when I want some qu...</td>\n",
       "      <td>0</td>\n",
       "      <td>0</td>\n",
       "      <td>0</td>\n",
       "    </tr>\n",
       "    <tr>\n",
       "      <th>16375</th>\n",
       "      <td>Searsucker</td>\n",
       "      <td>gyjbd4c91moMXTuYojejzg</td>\n",
       "      <td>wRJfYlmXGGKe65CZzY_v8Q</td>\n",
       "      <td>2</td>\n",
       "      <td>2013-02-24</td>\n",
       "      <td>My girlfriend and I dined last Saturday evenin...</td>\n",
       "      <td>0</td>\n",
       "      <td>0</td>\n",
       "      <td>1</td>\n",
       "    </tr>\n",
       "    <tr>\n",
       "      <th>16376</th>\n",
       "      <td>Moto Sushi</td>\n",
       "      <td>SIsk8-DkJPcye2gF6k4v2g</td>\n",
       "      <td>f8dilgbBoQLxDgQB_T_qFw</td>\n",
       "      <td>1</td>\n",
       "      <td>2013-02-25</td>\n",
       "      <td>This restaurant would've received four stars b...</td>\n",
       "      <td>0</td>\n",
       "      <td>2</td>\n",
       "      <td>0</td>\n",
       "    </tr>\n",
       "    <tr>\n",
       "      <th>16377</th>\n",
       "      <td>Carlsbad Tavern</td>\n",
       "      <td>1z5jLc43MSTD5tXcdgS--A</td>\n",
       "      <td>WRVEzidVMvjdrwcGyJnsQw</td>\n",
       "      <td>5</td>\n",
       "      <td>2011-04-08</td>\n",
       "      <td>LOVE THIS PLACE! \\r\\rI have been going here fo...</td>\n",
       "      <td>1</td>\n",
       "      <td>1</td>\n",
       "      <td>1</td>\n",
       "    </tr>\n",
       "    <tr>\n",
       "      <th>16378</th>\n",
       "      <td>Pita Heaven</td>\n",
       "      <td>cLzg05F-J83xn4DyvcB0YQ</td>\n",
       "      <td>JP6oEEii0S_vuNXhS3Daug</td>\n",
       "      <td>4</td>\n",
       "      <td>2013-08-16</td>\n",
       "      <td>Nice crisp salad with my Gyro. Loved the dress...</td>\n",
       "      <td>0</td>\n",
       "      <td>0</td>\n",
       "      <td>1</td>\n",
       "    </tr>\n",
       "    <tr>\n",
       "      <th>16379</th>\n",
       "      <td>Two Hippies Beach House Outrageous Tacos and B...</td>\n",
       "      <td>r5qc_q2K2h1En0eUEdMGgg</td>\n",
       "      <td>9zuPDV5lge3dBTtYOHYvJQ</td>\n",
       "      <td>3</td>\n",
       "      <td>2012-12-18</td>\n",
       "      <td>So this place, Is a local fav for us. This sha...</td>\n",
       "      <td>1</td>\n",
       "      <td>1</td>\n",
       "      <td>1</td>\n",
       "    </tr>\n",
       "    <tr>\n",
       "      <th>16380</th>\n",
       "      <td>Luke's of Chicago's</td>\n",
       "      <td>PoTqah39mTUwxLmGb27Jcg</td>\n",
       "      <td>gcyEUr4DXcbjnGRAWFtfAQ</td>\n",
       "      <td>3</td>\n",
       "      <td>2013-04-22</td>\n",
       "      <td>so I finally decided to come back to Lukes. I ...</td>\n",
       "      <td>0</td>\n",
       "      <td>1</td>\n",
       "      <td>1</td>\n",
       "    </tr>\n",
       "    <tr>\n",
       "      <th>16381</th>\n",
       "      <td>Beach Bunny Swimwear Inc</td>\n",
       "      <td>R35ayLZOFJGXSLmLmVnOTQ</td>\n",
       "      <td>3kJqzRUBAupqC-dqVrDo6Q</td>\n",
       "      <td>4</td>\n",
       "      <td>2010-06-24</td>\n",
       "      <td>You could say that I'm a bikiniholic...I have ...</td>\n",
       "      <td>2</td>\n",
       "      <td>3</td>\n",
       "      <td>2</td>\n",
       "    </tr>\n",
       "    <tr>\n",
       "      <th>16382</th>\n",
       "      <td>The Clarendon Hotel</td>\n",
       "      <td>c7gWfR6v12djSSSpZzjUmA</td>\n",
       "      <td>3Jp_gDr8XViCVnuFZSrhbw</td>\n",
       "      <td>2</td>\n",
       "      <td>2011-09-12</td>\n",
       "      <td>Um...my husband and I used to hotwire.com to m...</td>\n",
       "      <td>2</td>\n",
       "      <td>1</td>\n",
       "      <td>0</td>\n",
       "    </tr>\n",
       "    <tr>\n",
       "      <th>16383</th>\n",
       "      <td>Yard House</td>\n",
       "      <td>8IMFzaOdnP7k47R-b9gpMQ</td>\n",
       "      <td>GcIuK60bbpxd2gLSmqZnPg</td>\n",
       "      <td>4</td>\n",
       "      <td>2012-11-27</td>\n",
       "      <td>Tons of beers, great service!!</td>\n",
       "      <td>0</td>\n",
       "      <td>0</td>\n",
       "      <td>0</td>\n",
       "    </tr>\n",
       "    <tr>\n",
       "      <th>16384</th>\n",
       "      <td>Cafeteria on Thomas</td>\n",
       "      <td>Dsby7RQWi_pBaLOqdUwhfQ</td>\n",
       "      <td>HestW1GKSkmUs_vpnauE_w</td>\n",
       "      <td>5</td>\n",
       "      <td>2013-11-05</td>\n",
       "      <td>Love this place, love this place, love this pl...</td>\n",
       "      <td>0</td>\n",
       "      <td>0</td>\n",
       "      <td>0</td>\n",
       "    </tr>\n",
       "    <tr>\n",
       "      <th>16385</th>\n",
       "      <td>Joyride Taco House</td>\n",
       "      <td>SA1avUSL4cyVOFDmLWQGvQ</td>\n",
       "      <td>xsTlqAQ7TjNFIUl5ihK00g</td>\n",
       "      <td>4</td>\n",
       "      <td>2013-06-05</td>\n",
       "      <td>Gilbert definitely has a new spicy hot spot, J...</td>\n",
       "      <td>3</td>\n",
       "      <td>4</td>\n",
       "      <td>5</td>\n",
       "    </tr>\n",
       "    <tr>\n",
       "      <th>16386</th>\n",
       "      <td>Green New American Vegetarian</td>\n",
       "      <td>0vPd2APapf1k6zkH-afhQw</td>\n",
       "      <td>At7cNBShE1OErhavh4Q9Hg</td>\n",
       "      <td>5</td>\n",
       "      <td>2012-10-03</td>\n",
       "      <td>We've gone here a lot the past couple months, ...</td>\n",
       "      <td>0</td>\n",
       "      <td>0</td>\n",
       "      <td>0</td>\n",
       "    </tr>\n",
       "    <tr>\n",
       "      <th>16387</th>\n",
       "      <td>Taquitos Jalisco</td>\n",
       "      <td>psGkX3ysOg_VD2vSPk9cEg</td>\n",
       "      <td>jx104chvz7NbkVytXldUGg</td>\n",
       "      <td>5</td>\n",
       "      <td>2013-06-14</td>\n",
       "      <td>Thanks to Mark R for introducing me to this pl...</td>\n",
       "      <td>3</td>\n",
       "      <td>4</td>\n",
       "      <td>4</td>\n",
       "    </tr>\n",
       "    <tr>\n",
       "      <th>16388</th>\n",
       "      <td>Grimaldi's Pizzeria</td>\n",
       "      <td>66h5dw3U5t3Pe_q1_33JhQ</td>\n",
       "      <td>hYph1O9SCO3B5tFmqzdOSA</td>\n",
       "      <td>5</td>\n",
       "      <td>2009-05-05</td>\n",
       "      <td>My 2nd favorite:  grilled chicken, sundried to...</td>\n",
       "      <td>1</td>\n",
       "      <td>1</td>\n",
       "      <td>1</td>\n",
       "    </tr>\n",
       "    <tr>\n",
       "      <th>16389</th>\n",
       "      <td>The Main Ingredient Ale House And Caf</td>\n",
       "      <td>d5dbbNkngJtu6Fpdwd7NOg</td>\n",
       "      <td>5ZkVp2d8Qc3nTP_vexGQig</td>\n",
       "      <td>5</td>\n",
       "      <td>2013-10-19</td>\n",
       "      <td>Always good, friendly service. Good micro brew...</td>\n",
       "      <td>0</td>\n",
       "      <td>0</td>\n",
       "      <td>0</td>\n",
       "    </tr>\n",
       "  </tbody>\n",
       "</table>\n",
       "<p>16390 rows × 9 columns</p>\n",
       "</div>"
      ],
      "text/plain": [
       "                                           business_name  \\\n",
       "0                          Thai Pan Fresh Exotic Cuisine   \n",
       "1                                             Salon Lola   \n",
       "2                                 Chipotle Mexican Grill   \n",
       "3                                             Sam's Deli   \n",
       "4                                                  Petco   \n",
       "5                                      The Gilbert House   \n",
       "6                               Tilted Kilt Pub & Eatery   \n",
       "7                                               Pugzie's   \n",
       "8                                               Jade Bar   \n",
       "9                                   Hana Japanese Eatery   \n",
       "10                                   Taberna del Tequila   \n",
       "11                                     Fry's Marketplace   \n",
       "12                            Canteen Modern Tequila Bar   \n",
       "13                              Herberger Theater Center   \n",
       "14                                       Beckett's Table   \n",
       "15                                            Stereo Joe   \n",
       "16                                      Tavern Americana   \n",
       "17                                El Ranchero Restaurant   \n",
       "18                                                 Chill   \n",
       "19                                             Gelato 64   \n",
       "20                                           Hue Gourmet   \n",
       "21                                              Distrito   \n",
       "22                                          5th and Wine   \n",
       "23                            Scramble A Breakfast Joint   \n",
       "24                                          Drift Lounge   \n",
       "25                                         Fujiya Market   \n",
       "26                             Defalco's Italian Grocery   \n",
       "27                                        Sweet Tomatoes   \n",
       "28                        Which Wich Superior Sandwiches   \n",
       "29                                   San Felipes Cantina   \n",
       "...                                                  ...   \n",
       "16360                 La Bocca Urban Pizzeria + Wine Bar   \n",
       "16361                                       Local Breeze   \n",
       "16362                                                Lux   \n",
       "16363                                          Cheuvront   \n",
       "16364                            Wildfish Seafood Grille   \n",
       "16365                          Red Robin Gourmet Burgers   \n",
       "16366                               Rehab Burger Therapy   \n",
       "16367                           Zoyo Neighborhood Yogurt   \n",
       "16368                              Nobuo At Teeter House   \n",
       "16369                                          Charlie's   \n",
       "16370                                         Sapna Caf   \n",
       "16371                                Superstition Coffee   \n",
       "16372                     Ahwatukee Animal Care Hospital   \n",
       "16373                            VinciTorio's Restaurant   \n",
       "16374                                     Sweet Republic   \n",
       "16375                                         Searsucker   \n",
       "16376                                         Moto Sushi   \n",
       "16377                                    Carlsbad Tavern   \n",
       "16378                                        Pita Heaven   \n",
       "16379  Two Hippies Beach House Outrageous Tacos and B...   \n",
       "16380                                Luke's of Chicago's   \n",
       "16381                           Beach Bunny Swimwear Inc   \n",
       "16382                                The Clarendon Hotel   \n",
       "16383                                         Yard House   \n",
       "16384                                Cafeteria on Thomas   \n",
       "16385                                 Joyride Taco House   \n",
       "16386                      Green New American Vegetarian   \n",
       "16387                                   Taquitos Jalisco   \n",
       "16388                                Grimaldi's Pizzeria   \n",
       "16389             The Main Ingredient Ale House And Caf   \n",
       "\n",
       "                    review_id                 user_id stars review_date  \\\n",
       "0      0ESSqLfOae77muWTv_zUqA  r-t7IiTSD0QZdt8lOUCqeQ     3  2011-02-11   \n",
       "1      VyAKIaj_Rmsf_ZCHcGJyUw  SS85hfTApRnbTPcJadra8A     5  2010-05-30   \n",
       "2      DusrkpkTGPGkqK13xO1TZg  xAVu2pZ6nIvkdHh8vGs84Q     3  2011-11-26   \n",
       "3      A5FL-YYXnr2hnvXQbgkkrQ  Xuvj2Fq6c3mCmplVG7h21w     4  2013-10-10   \n",
       "4      SzhIWfzLHUZfiAaVTtKHxw  jHH_UDpCnF-YTnveyoMTIA     1  2012-09-02   \n",
       "5      EaBnd0MGL61KhvFwS3bQvQ  b5TgTsk4dv8x2KDZYI-V7w     4  2011-05-16   \n",
       "6      Rp1yvabsZ76dNwjG1MMTkA  P1qwZrslRv9KS9vPJNXe4g     2  2009-04-16   \n",
       "7      rrIMJijS60XTgjRTGBCLcw  vsXP832M0kOxKpfduD7dWw     ?  2008-08-25   \n",
       "8      6z6wOKSFVcZfCdhOPcZY5g  cgD3mG3fZkIccOk1R9O2UQ     5  2012-01-02   \n",
       "9      zSZ47fXX02XGxTJSQ-vulg  Iqjw_gWq6okooSkmZ9a_1A     5  2012-04-10   \n",
       "10     dE2VhLieetdalviZc28WnA  RLmUj1QGMz2dLBcdayuBiw     3  2010-10-03   \n",
       "11     8P7RLb7QqJEls-vJpNaQqQ  DzlIGo5om7KVOG3It2iQlg     5  2010-07-25   \n",
       "12     qnpnnZ_JrOLsIdtn5aB9Hw  _4lqpCYCqOQzbB6xQGGhrQ     1  2010-10-14   \n",
       "13     3mXO3UiaQCCFY4ZpG_E-tA  3nUQ4xbLlySDbkE03nyp-Q     2  2011-10-23   \n",
       "14     QrPdGSAlxTICOoNXKD7Wcw  y7sq26EXGz7XG7DSo8TOuQ     4  2010-11-11   \n",
       "15     TJUBZv5b_jQAEAQf2zjoMg  8_KqOlVJo1D4_NUMWs2RBA     5  2013-06-18   \n",
       "16     YUeMWkd7Foact1Bd_rmNkQ  xFFmQTr0srCsnXiupIXT2A     5  2012-10-24   \n",
       "17     b8qXxdXo9NFQ79xQ565vwg  zNjguoWpQ5vmHq0q5uvJGg     4  2012-11-20   \n",
       "18     D8ahA2oMZr5cHy75QTgt4w  goOcTbMYD-eD12YlsagPyg     5  2011-02-26   \n",
       "19     -9VmcWlqMIlbGBhRnJdWZg  w6r1V9eOsGrebp2LbpcNzQ     2  2010-03-06   \n",
       "20     DUlKGNKFCZwwEUTb77t6-w  pwCifXXtt2Mzt_CPLpUC2Q     4  2012-02-20   \n",
       "21     uOa3TdnSsyxBmtk-DLgMAw  AOmdmYYSeLUstcN084_wMA     4  2012-03-31   \n",
       "22     PV_1hilY2cb0oi256ghXzA  EDyJnySlK3Zq1jJjUoRWJQ     5  2013-10-03   \n",
       "23     KETr5UiBNvFX9xSxX5aHqw  XrD_RUiFeKsQ63WL3l_crQ     5  2010-10-04   \n",
       "24     V82DIXQ5MVCYZu72QiOr-w  cl1LMRfak6gR3vqsEzRtHQ     4  2006-08-06   \n",
       "25     gCbhfkYWx6k9kI2ReqUNjw  6yQ3xyfor5TtX1POugtTag     5  2009-10-22   \n",
       "26     gdkfi-giaTU9kQGfwqml2w  fczQCSmaWF78toLEmb0Zsw     4  2008-10-25   \n",
       "27     KTNMLRjb7LTDcuW_IhBPDQ  TvtARzzT8bvPKLiLEeMIHw     5  2013-10-11   \n",
       "28     g8Mv_qpMY0VRFULzZWdsWg  esomNneHvsEv91MmraM5ug     5  2010-02-08   \n",
       "29     skSINztqPKM-T_1JxOhGVA  _tH9ttWZNQjr7KaUVp2fXQ     2  2010-05-09   \n",
       "...                       ...                     ...   ...         ...   \n",
       "16360  Il-gwgFjiRuAQpA8sL06yg  7aVtVu6ANtsCEfXfYoSkTg     5  2011-02-19   \n",
       "16361  l2WgfXfEnByEExoKhl_HNQ  kJfFhQASj0_KRkWXE1WQXQ     2  2011-10-10   \n",
       "16362  mNT4aWOuH5zOCGnkw16itw  ayKW9eWwGFcrtJaHcwZUCw     4  2011-08-12   \n",
       "16363  Cv-SscGrej3vp2oPmAH_aA  hIb1ikbIMI0t1EK4gPsK_A     4  2012-06-23   \n",
       "16364  9cLUBWZSjUNRgJr7qhqdbw  jqVeTSin5GeRm0ceSg-PBA     3  2007-11-17   \n",
       "16365  bHzspB9Kp15vQVTjT10NMw  w4dgIzMwwZvKsHaC47Ox3A     5  2011-06-01   \n",
       "16366  G0Pk1fUm6O87GpO51feVog  wLazlBYNR4J-_sp-23ScSQ     5  2013-01-27   \n",
       "16367  hkAObvxIeErkIhRxR4GW9A  y0BOBHqoMaqkOjLn_zvYQg     2  2012-05-09   \n",
       "16368  vwA7fykTYKMeXSaa_rDeFg  xg4AdOGHFxJyWByFbG8stA     5  2011-03-28   \n",
       "16369  B7XqGVJRlSbaeWXQdrj73Q  dkOEHtpH3sCOemDNhwbEzw     1  2009-01-25   \n",
       "16370  gZyJShMPfY9MOnJRjhIeew  Bc94u79bFmGaUH3coZhBHQ     4  2011-01-06   \n",
       "16371  4R4TdOnPZxpThFulqzWQ9w  1vkT3MfpsTm0fNzSx1hIgg     5  2013-03-18   \n",
       "16372  9wdLF148ZFb6tzS-BGNPPg  bli5yHYNCZzdnRg8s7a6cg     4  2010-09-07   \n",
       "16373  Q688kFQVGjmWNKkdgRbSMg  7MJJ4dacV5wzslKT3izK8Q     5  2010-03-03   \n",
       "16374  Fgep6ycX93SHSVqblyjOyg  rLtl8ZkDX5vH5nAx9C3q5Q     5  2009-03-09   \n",
       "16375  gyjbd4c91moMXTuYojejzg  wRJfYlmXGGKe65CZzY_v8Q     2  2013-02-24   \n",
       "16376  SIsk8-DkJPcye2gF6k4v2g  f8dilgbBoQLxDgQB_T_qFw     1  2013-02-25   \n",
       "16377  1z5jLc43MSTD5tXcdgS--A  WRVEzidVMvjdrwcGyJnsQw     5  2011-04-08   \n",
       "16378  cLzg05F-J83xn4DyvcB0YQ  JP6oEEii0S_vuNXhS3Daug     4  2013-08-16   \n",
       "16379  r5qc_q2K2h1En0eUEdMGgg  9zuPDV5lge3dBTtYOHYvJQ     3  2012-12-18   \n",
       "16380  PoTqah39mTUwxLmGb27Jcg  gcyEUr4DXcbjnGRAWFtfAQ     3  2013-04-22   \n",
       "16381  R35ayLZOFJGXSLmLmVnOTQ  3kJqzRUBAupqC-dqVrDo6Q     4  2010-06-24   \n",
       "16382  c7gWfR6v12djSSSpZzjUmA  3Jp_gDr8XViCVnuFZSrhbw     2  2011-09-12   \n",
       "16383  8IMFzaOdnP7k47R-b9gpMQ  GcIuK60bbpxd2gLSmqZnPg     4  2012-11-27   \n",
       "16384  Dsby7RQWi_pBaLOqdUwhfQ  HestW1GKSkmUs_vpnauE_w     5  2013-11-05   \n",
       "16385  SA1avUSL4cyVOFDmLWQGvQ  xsTlqAQ7TjNFIUl5ihK00g     4  2013-06-05   \n",
       "16386  0vPd2APapf1k6zkH-afhQw  At7cNBShE1OErhavh4Q9Hg     5  2012-10-03   \n",
       "16387  psGkX3ysOg_VD2vSPk9cEg  jx104chvz7NbkVytXldUGg     5  2013-06-14   \n",
       "16388  66h5dw3U5t3Pe_q1_33JhQ  hYph1O9SCO3B5tFmqzdOSA     5  2009-05-05   \n",
       "16389  d5dbbNkngJtu6Fpdwd7NOg  5ZkVp2d8Qc3nTP_vexGQig     5  2013-10-19   \n",
       "\n",
       "                                             review_text  funny  useful  cool  \n",
       "0      Lately i have been feeling homesick for asian ...      1       1     1  \n",
       "1      I love Marilo!  She understands my hair type a...      0       0     0  \n",
       "2      Standard Chipotle fare - consistently good; no...      0       0     0  \n",
       "3             Very good prices with quality ingredients.      0       0     0  \n",
       "4      I went to this Petco a few times and was a bit...      0       1     0  \n",
       "5      This is the first unique (not chain) brunch pl...      0       0     0  \n",
       "6      Brian S. Sum's it up perfectly with \"if you're...      1       5     3  \n",
       "7      Remember the no-bake cookies of your elementar...      1       1     1  \n",
       "8      I love coming to this bar. Friendly bartenders...      0       0     0  \n",
       "9      Great sushi rolls and BYOB!  Very friendly sta...      0       1     0  \n",
       "10     I just spent 8 days in Florida.  I have had a ...      5       4     2  \n",
       "11     The sushi is amazing.  It is made daily in the...      0       0     0  \n",
       "12     Ok, so the grand opening hasn't even happened ...      1       3     1  \n",
       "13     This review is about the Attendants (Ushers).\\...      1       2     1  \n",
       "14     Location: First off, my guest and I (we drove ...      1       0     0  \n",
       "15     I love Stereo Joe! I had bought a new radio th...      0       2     0  \n",
       "16     Great food and atmosphere.  Plenty of TVs to w...      1       5     1  \n",
       "17     Ate there yesterday (11/19/12) and had a great...      0       1     0  \n",
       "18     This place is great! I love their mint chocola...      0       0     0  \n",
       "19     This was my first and last time here. I got th...      0       0     0  \n",
       "20     One word: Authentic! I love Hue food and this ...      0       1     0  \n",
       "21     This place is located in the hotel at the corn...      1       3     1  \n",
       "22     This place is amazing. I come here at least on...      1       1     1  \n",
       "23     I read about Scramble on line so I thought I w...      0       2     1  \n",
       "24     UPDATE: Ach du lieber! The other day, change c...      1       2     0  \n",
       "25     I Love LOVE this place- and while I currently ...      1       1     1  \n",
       "26     Aside from the wait to order and the other wai...      2       7     8  \n",
       "27     I thought this Sweet Tomatoes was brand new wh...      1       1     1  \n",
       "28     Why is everyone else writing their reviews on ...      0       1     0  \n",
       "29     great bar.... not great food.  ****but it's ch...      1       0     0  \n",
       "...                                                  ...    ...     ...   ...  \n",
       "16360  I adore La Bocca and at any given time, I'm pr...      0       1     0  \n",
       "16361  First off I noticed that the patio was huge, a...      0       0     0  \n",
       "16362                Very good, Cartel is better by far.      0       1     0  \n",
       "16363  I found this place whilst trying to find good ...      1       3     1  \n",
       "16364  My husband and I went to Wildfish last night t...      0       1     1  \n",
       "16365  I love Burgers & Beer. I love Beer and good fo...      0       1     0  \n",
       "16366  OMG.  there food is outrageously wonderful!  I...      0       1     1  \n",
       "16367  I like Zoyo, but I'm not sure I would come her...      0       2     0  \n",
       "16368  This eclectic restaurant with a Japanese cuisi...      0       4     2  \n",
       "16369  Wow,\\r\\rSorry Charlie's. I have to give you a ...      2       2     2  \n",
       "16370  update - Sapna is now closed\\r\\rSapna is one o...      0       0     0  \n",
       "16371  Located inside the Queen Creek Olive Mill in t...      0       1     0  \n",
       "16372  We needed to board our cockatiel for two weeks...      0       0     0  \n",
       "16373  After having stayed in Italy for a 6-week stud...      0       1     0  \n",
       "16374  This is my new go-to place when I want some qu...      0       0     0  \n",
       "16375  My girlfriend and I dined last Saturday evenin...      0       0     1  \n",
       "16376  This restaurant would've received four stars b...      0       2     0  \n",
       "16377  LOVE THIS PLACE! \\r\\rI have been going here fo...      1       1     1  \n",
       "16378  Nice crisp salad with my Gyro. Loved the dress...      0       0     1  \n",
       "16379  So this place, Is a local fav for us. This sha...      1       1     1  \n",
       "16380  so I finally decided to come back to Lukes. I ...      0       1     1  \n",
       "16381  You could say that I'm a bikiniholic...I have ...      2       3     2  \n",
       "16382  Um...my husband and I used to hotwire.com to m...      2       1     0  \n",
       "16383                     Tons of beers, great service!!      0       0     0  \n",
       "16384  Love this place, love this place, love this pl...      0       0     0  \n",
       "16385  Gilbert definitely has a new spicy hot spot, J...      3       4     5  \n",
       "16386  We've gone here a lot the past couple months, ...      0       0     0  \n",
       "16387  Thanks to Mark R for introducing me to this pl...      3       4     4  \n",
       "16388  My 2nd favorite:  grilled chicken, sundried to...      1       1     1  \n",
       "16389  Always good, friendly service. Good micro brew...      0       0     0  \n",
       "\n",
       "[16390 rows x 9 columns]"
      ]
     },
     "execution_count": 9,
     "metadata": {},
     "output_type": "execute_result"
    }
   ],
   "source": [
    "data"
   ]
  },
  {
   "cell_type": "code",
   "execution_count": 5,
   "metadata": {
    "collapsed": false
   },
   "outputs": [
    {
     "name": "stdout",
     "output_type": "stream",
     "text": [
      "<class 'pandas.core.frame.DataFrame'>\n",
      "RangeIndex: 16390 entries, 0 to 16389\n",
      "Data columns (total 9 columns):\n",
      "business_name    16390 non-null object\n",
      "review_id        16390 non-null object\n",
      "user_id          16390 non-null object\n",
      "stars            16390 non-null object\n",
      "review_date      16390 non-null object\n",
      "review_text      16390 non-null object\n",
      "funny            16390 non-null int64\n",
      "useful           16390 non-null int64\n",
      "cool             16390 non-null int64\n",
      "dtypes: int64(3), object(6)\n",
      "memory usage: 1.1+ MB\n"
     ]
    }
   ],
   "source": [
    "data.info()"
   ]
  },
  {
   "cell_type": "code",
   "execution_count": 10,
   "metadata": {
    "collapsed": false
   },
   "outputs": [
    {
     "data": {
      "text/html": [
       "<div>\n",
       "<table border=\"1\" class=\"dataframe\">\n",
       "  <thead>\n",
       "    <tr style=\"text-align: right;\">\n",
       "      <th></th>\n",
       "      <th>funny</th>\n",
       "      <th>useful</th>\n",
       "      <th>cool</th>\n",
       "    </tr>\n",
       "  </thead>\n",
       "  <tbody>\n",
       "    <tr>\n",
       "      <th>count</th>\n",
       "      <td>16390.000000</td>\n",
       "      <td>16390.00000</td>\n",
       "      <td>16390.000000</td>\n",
       "    </tr>\n",
       "    <tr>\n",
       "      <th>mean</th>\n",
       "      <td>0.607200</td>\n",
       "      <td>1.25119</td>\n",
       "      <td>0.764185</td>\n",
       "    </tr>\n",
       "    <tr>\n",
       "      <th>std</th>\n",
       "      <td>1.773961</td>\n",
       "      <td>2.08471</td>\n",
       "      <td>1.784975</td>\n",
       "    </tr>\n",
       "    <tr>\n",
       "      <th>min</th>\n",
       "      <td>0.000000</td>\n",
       "      <td>0.00000</td>\n",
       "      <td>0.000000</td>\n",
       "    </tr>\n",
       "    <tr>\n",
       "      <th>25%</th>\n",
       "      <td>0.000000</td>\n",
       "      <td>0.00000</td>\n",
       "      <td>0.000000</td>\n",
       "    </tr>\n",
       "    <tr>\n",
       "      <th>50%</th>\n",
       "      <td>0.000000</td>\n",
       "      <td>1.00000</td>\n",
       "      <td>0.000000</td>\n",
       "    </tr>\n",
       "    <tr>\n",
       "      <th>75%</th>\n",
       "      <td>1.000000</td>\n",
       "      <td>2.00000</td>\n",
       "      <td>1.000000</td>\n",
       "    </tr>\n",
       "    <tr>\n",
       "      <th>max</th>\n",
       "      <td>70.000000</td>\n",
       "      <td>38.00000</td>\n",
       "      <td>36.000000</td>\n",
       "    </tr>\n",
       "  </tbody>\n",
       "</table>\n",
       "</div>"
      ],
      "text/plain": [
       "              funny       useful          cool\n",
       "count  16390.000000  16390.00000  16390.000000\n",
       "mean       0.607200      1.25119      0.764185\n",
       "std        1.773961      2.08471      1.784975\n",
       "min        0.000000      0.00000      0.000000\n",
       "25%        0.000000      0.00000      0.000000\n",
       "50%        0.000000      1.00000      0.000000\n",
       "75%        1.000000      2.00000      1.000000\n",
       "max       70.000000     38.00000     36.000000"
      ]
     },
     "execution_count": 10,
     "metadata": {},
     "output_type": "execute_result"
    }
   ],
   "source": [
    "data.describe()"
   ]
  },
  {
   "cell_type": "markdown",
   "metadata": {},
   "source": [
    "Investigate the data and see if anything needs cleaning.  Hint: Check the unique values and value_counts for stars column."
   ]
  },
  {
   "cell_type": "code",
   "execution_count": 11,
   "metadata": {
    "collapsed": false
   },
   "outputs": [
    {
     "data": {
      "text/plain": [
       "array([u'3', u'5', u'4', u'1', u'2', u'?'], dtype=object)"
      ]
     },
     "execution_count": 11,
     "metadata": {},
     "output_type": "execute_result"
    }
   ],
   "source": [
    "data.stars.unique()"
   ]
  },
  {
   "cell_type": "markdown",
   "metadata": {},
   "source": [
    "# value_counts() :: very useful function but only applicable for one column at one time"
   ]
  },
  {
   "cell_type": "code",
   "execution_count": 129,
   "metadata": {
    "collapsed": false
   },
   "outputs": [
    {
     "data": {
      "text/plain": [
       "5    5842\n",
       "4    5371\n",
       "3    2334\n",
       "2    1481\n",
       "1    1348\n",
       "Name: stars, dtype: int64"
      ]
     },
     "execution_count": 129,
     "metadata": {},
     "output_type": "execute_result"
    }
   ],
   "source": [
    "data.stars.value_counts()"
   ]
  },
  {
   "cell_type": "markdown",
   "metadata": {},
   "source": [
    "Clean the data by removing the reviews with '?' for stars rating"
   ]
  },
  {
   "cell_type": "code",
   "execution_count": 103,
   "metadata": {
    "collapsed": true
   },
   "outputs": [],
   "source": [
    "data = data.dropna(subset=['stars'])"
   ]
  },
  {
   "cell_type": "code",
   "execution_count": 104,
   "metadata": {
    "collapsed": false
   },
   "outputs": [
    {
     "data": {
      "text/plain": [
       "business_name    14\n",
       "review_id        14\n",
       "user_id          14\n",
       "stars            14\n",
       "review_date      14\n",
       "review_text      14\n",
       "funny            14\n",
       "useful           14\n",
       "cool             14\n",
       "dtype: int64"
      ]
     },
     "execution_count": 104,
     "metadata": {},
     "output_type": "execute_result"
    }
   ],
   "source": [
    "data[data['stars']=='?'].count()"
   ]
  },
  {
   "cell_type": "code",
   "execution_count": 105,
   "metadata": {
    "collapsed": false
   },
   "outputs": [
    {
     "data": {
      "text/plain": [
       "business_name    16376\n",
       "review_id        16376\n",
       "user_id          16376\n",
       "stars            16376\n",
       "review_date      16376\n",
       "review_text      16376\n",
       "funny            16376\n",
       "useful           16376\n",
       "cool             16376\n",
       "dtype: int64"
      ]
     },
     "execution_count": 105,
     "metadata": {},
     "output_type": "execute_result"
    }
   ],
   "source": [
    "data[data['stars']!='?'].count()"
   ]
  },
  {
   "cell_type": "code",
   "execution_count": 106,
   "metadata": {
    "collapsed": true
   },
   "outputs": [],
   "source": [
    "data = data[data['stars']!='?']"
   ]
  },
  {
   "cell_type": "code",
   "execution_count": 107,
   "metadata": {
    "collapsed": false
   },
   "outputs": [
    {
     "name": "stdout",
     "output_type": "stream",
     "text": [
      "<class 'pandas.core.frame.DataFrame'>\n",
      "Int64Index: 16376 entries, 0 to 16389\n",
      "Data columns (total 9 columns):\n",
      "business_name    16376 non-null object\n",
      "review_id        16376 non-null object\n",
      "user_id          16376 non-null object\n",
      "stars            16376 non-null object\n",
      "review_date      16376 non-null object\n",
      "review_text      16376 non-null object\n",
      "funny            16376 non-null int64\n",
      "useful           16376 non-null int64\n",
      "cool             16376 non-null int64\n",
      "dtypes: int64(3), object(6)\n",
      "memory usage: 1.2+ MB\n"
     ]
    }
   ],
   "source": [
    "data.describe()\n",
    "data.info()"
   ]
  },
  {
   "cell_type": "code",
   "execution_count": 108,
   "metadata": {
    "collapsed": false
   },
   "outputs": [
    {
     "data": {
      "text/plain": [
       "array([u'3', u'5', u'4', u'1', u'2'], dtype=object)"
      ]
     },
     "execution_count": 108,
     "metadata": {},
     "output_type": "execute_result"
    }
   ],
   "source": [
    "data.stars.unique()"
   ]
  },
  {
   "cell_type": "code",
   "execution_count": 110,
   "metadata": {
    "collapsed": false
   },
   "outputs": [
    {
     "data": {
      "text/html": [
       "<div>\n",
       "<table border=\"1\" class=\"dataframe\">\n",
       "  <thead>\n",
       "    <tr style=\"text-align: right;\">\n",
       "      <th></th>\n",
       "      <th>stars</th>\n",
       "      <th>review_count</th>\n",
       "    </tr>\n",
       "  </thead>\n",
       "  <tbody>\n",
       "    <tr>\n",
       "      <th>0</th>\n",
       "      <td>1</td>\n",
       "      <td>1348</td>\n",
       "    </tr>\n",
       "    <tr>\n",
       "      <th>1</th>\n",
       "      <td>2</td>\n",
       "      <td>1481</td>\n",
       "    </tr>\n",
       "    <tr>\n",
       "      <th>2</th>\n",
       "      <td>3</td>\n",
       "      <td>2334</td>\n",
       "    </tr>\n",
       "    <tr>\n",
       "      <th>3</th>\n",
       "      <td>4</td>\n",
       "      <td>5371</td>\n",
       "    </tr>\n",
       "    <tr>\n",
       "      <th>4</th>\n",
       "      <td>5</td>\n",
       "      <td>5842</td>\n",
       "    </tr>\n",
       "  </tbody>\n",
       "</table>\n",
       "</div>"
      ],
      "text/plain": [
       "  stars  review_count\n",
       "0     1          1348\n",
       "1     2          1481\n",
       "2     3          2334\n",
       "3     4          5371\n",
       "4     5          5842"
      ]
     },
     "execution_count": 110,
     "metadata": {},
     "output_type": "execute_result"
    }
   ],
   "source": [
    "data_z = data.groupby('stars')['business_name'].count().reset_index()\n",
    "data_z.rename(columns={'business_name':'review_count'},inplace=True)\n",
    "data_z"
   ]
  },
  {
   "cell_type": "markdown",
   "metadata": {},
   "source": [
    "Replace the stars values that are text with integers"
   ]
  },
  {
   "cell_type": "code",
   "execution_count": 114,
   "metadata": {
    "collapsed": false
   },
   "outputs": [],
   "source": [
    "data.stars.replace(['1','2','3','4','5'],[1,2,3,4,5],inplace=True)"
   ]
  },
  {
   "cell_type": "code",
   "execution_count": 116,
   "metadata": {
    "collapsed": false
   },
   "outputs": [
    {
     "ename": "AttributeError",
     "evalue": "'Series' object has no attribute 'info'",
     "output_type": "error",
     "traceback": [
      "\u001b[0;31m---------------------------------------------------------------------------\u001b[0m",
      "\u001b[0;31mAttributeError\u001b[0m                            Traceback (most recent call last)",
      "\u001b[0;32m<ipython-input-116-28ff6c61da8d>\u001b[0m in \u001b[0;36m<module>\u001b[0;34m()\u001b[0m\n\u001b[1;32m      2\u001b[0m \u001b[0;34m\u001b[0m\u001b[0m\n\u001b[1;32m      3\u001b[0m \u001b[0mdata_stars\u001b[0m \u001b[0;34m=\u001b[0m \u001b[0mdata\u001b[0m\u001b[0;34m.\u001b[0m\u001b[0mstars\u001b[0m\u001b[0;34m.\u001b[0m\u001b[0mapply\u001b[0m\u001b[0;34m(\u001b[0m\u001b[0mint\u001b[0m\u001b[0;34m)\u001b[0m\u001b[0;34m\u001b[0m\u001b[0m\n\u001b[0;32m----> 4\u001b[0;31m \u001b[0mdata_stars\u001b[0m\u001b[0;34m.\u001b[0m\u001b[0minfo\u001b[0m\u001b[0;34m(\u001b[0m\u001b[0;34m)\u001b[0m\u001b[0;34m\u001b[0m\u001b[0m\n\u001b[0m",
      "\u001b[0;32m//anaconda/lib/python2.7/site-packages/pandas/core/generic.pyc\u001b[0m in \u001b[0;36m__getattr__\u001b[0;34m(self, name)\u001b[0m\n\u001b[1;32m   2670\u001b[0m             \u001b[0;32mif\u001b[0m \u001b[0mname\u001b[0m \u001b[0;32min\u001b[0m \u001b[0mself\u001b[0m\u001b[0;34m.\u001b[0m\u001b[0m_info_axis\u001b[0m\u001b[0;34m:\u001b[0m\u001b[0;34m\u001b[0m\u001b[0m\n\u001b[1;32m   2671\u001b[0m                 \u001b[0;32mreturn\u001b[0m \u001b[0mself\u001b[0m\u001b[0;34m[\u001b[0m\u001b[0mname\u001b[0m\u001b[0;34m]\u001b[0m\u001b[0;34m\u001b[0m\u001b[0m\n\u001b[0;32m-> 2672\u001b[0;31m             \u001b[0;32mreturn\u001b[0m \u001b[0mobject\u001b[0m\u001b[0;34m.\u001b[0m\u001b[0m__getattribute__\u001b[0m\u001b[0;34m(\u001b[0m\u001b[0mself\u001b[0m\u001b[0;34m,\u001b[0m \u001b[0mname\u001b[0m\u001b[0;34m)\u001b[0m\u001b[0;34m\u001b[0m\u001b[0m\n\u001b[0m\u001b[1;32m   2673\u001b[0m \u001b[0;34m\u001b[0m\u001b[0m\n\u001b[1;32m   2674\u001b[0m     \u001b[0;32mdef\u001b[0m \u001b[0m__setattr__\u001b[0m\u001b[0;34m(\u001b[0m\u001b[0mself\u001b[0m\u001b[0;34m,\u001b[0m \u001b[0mname\u001b[0m\u001b[0;34m,\u001b[0m \u001b[0mvalue\u001b[0m\u001b[0;34m)\u001b[0m\u001b[0;34m:\u001b[0m\u001b[0;34m\u001b[0m\u001b[0m\n",
      "\u001b[0;31mAttributeError\u001b[0m: 'Series' object has no attribute 'info'"
     ]
    }
   ],
   "source": [
    "#Approach 2\n",
    "\n",
    "data_stars = data.stars.apply(int)\n",
    "data_stars.info()"
   ]
  },
  {
   "cell_type": "code",
   "execution_count": null,
   "metadata": {
    "collapsed": true
   },
   "outputs": [],
   "source": [
    "#Approach 3\n",
    "\n",
    "#    data_stars = data.to_numeric(data.stars)"
   ]
  },
  {
   "cell_type": "code",
   "execution_count": null,
   "metadata": {
    "collapsed": true
   },
   "outputs": [],
   "source": [
    "#Approach 4\n",
    "\n",
    "#    data_strs = data.stars.astype(int)"
   ]
  },
  {
   "cell_type": "code",
   "execution_count": 115,
   "metadata": {
    "collapsed": false
   },
   "outputs": [
    {
     "name": "stdout",
     "output_type": "stream",
     "text": [
      "<class 'pandas.core.frame.DataFrame'>\n",
      "Int64Index: 16376 entries, 0 to 16389\n",
      "Data columns (total 9 columns):\n",
      "business_name    16376 non-null object\n",
      "review_id        16376 non-null object\n",
      "user_id          16376 non-null object\n",
      "stars            16376 non-null int64\n",
      "review_date      16376 non-null object\n",
      "review_text      16376 non-null object\n",
      "funny            16376 non-null int64\n",
      "useful           16376 non-null int64\n",
      "cool             16376 non-null int64\n",
      "dtypes: int64(4), object(5)\n",
      "memory usage: 1.2+ MB\n"
     ]
    }
   ],
   "source": [
    "data.info()"
   ]
  },
  {
   "cell_type": "code",
   "execution_count": 131,
   "metadata": {
    "collapsed": false
   },
   "outputs": [
    {
     "name": "stdout",
     "output_type": "stream",
     "text": [
      "              stars         funny        useful          cool\n",
      "count  16376.000000  16376.000000  16376.000000  16376.000000\n",
      "mean       3.786395      0.607169      1.250916      0.764045\n",
      "std        1.247527      1.774147      2.084798      1.784997\n",
      "min        1.000000      0.000000      0.000000      0.000000\n",
      "25%        3.000000      0.000000      0.000000      0.000000\n",
      "50%        4.000000      0.000000      1.000000      0.000000\n",
      "75%        5.000000      1.000000      2.000000      1.000000\n",
      "max        5.000000     70.000000     38.000000     36.000000\n"
     ]
    }
   ],
   "source": [
    "print data.describe()"
   ]
  },
  {
   "cell_type": "code",
   "execution_count": 130,
   "metadata": {
    "collapsed": false
   },
   "outputs": [
    {
     "name": "stdout",
     "output_type": "stream",
     "text": [
      "          count      mean       std  min  25%  50%  75%   max\n",
      "stars   16376.0  3.786395  1.247527  1.0  3.0  4.0  5.0   5.0\n",
      "funny   16376.0  0.607169  1.774147  0.0  0.0  0.0  1.0  70.0\n",
      "useful  16376.0  1.250916  2.084798  0.0  0.0  1.0  2.0  38.0\n",
      "cool    16376.0  0.764045  1.784997  0.0  0.0  0.0  1.0  36.0\n"
     ]
    }
   ],
   "source": [
    "print data.describe().T"
   ]
  },
  {
   "cell_type": "markdown",
   "metadata": {},
   "source": [
    "How many 5 star reviews does Lo-Lo's Chicken & Waffles have?"
   ]
  },
  {
   "cell_type": "code",
   "execution_count": 117,
   "metadata": {
    "collapsed": false
   },
   "outputs": [
    {
     "data": {
      "text/plain": [
       "20"
      ]
     },
     "execution_count": 117,
     "metadata": {},
     "output_type": "execute_result"
    }
   ],
   "source": [
    "data [ (data['stars']==5) & (data['business_name']==\"Lo-Lo's Chicken & Waffles\")]['business_name'].count()"
   ]
  },
  {
   "cell_type": "code",
   "execution_count": 135,
   "metadata": {
    "collapsed": false
   },
   "outputs": [
    {
     "name": "stdout",
     "output_type": "stream",
     "text": [
      "   index  stars\n",
      "0      5     20\n",
      "1      4     12\n",
      "2      3      5\n",
      "3      2      2\n",
      "4      1      2\n"
     ]
    }
   ],
   "source": [
    "# Approach 2 -----------------\n",
    "print data.stars[\n",
    "    data['business_name']==\"Lo-Lo's Chicken & Waffles\"\n",
    "    ].value_counts().reset_index()\n"
   ]
  },
  {
   "cell_type": "code",
   "execution_count": 118,
   "metadata": {
    "collapsed": false
   },
   "outputs": [
    {
     "data": {
      "text/plain": [
       "5842"
      ]
     },
     "execution_count": 118,
     "metadata": {},
     "output_type": "execute_result"
    }
   ],
   "source": [
    "data[data['stars']==5 ]['business_name'].count()"
   ]
  },
  {
   "cell_type": "code",
   "execution_count": 119,
   "metadata": {
    "collapsed": false
   },
   "outputs": [
    {
     "data": {
      "text/plain": [
       "41"
      ]
     },
     "execution_count": 119,
     "metadata": {},
     "output_type": "execute_result"
    }
   ],
   "source": [
    "data[data['business_name']==\"Lo-Lo's Chicken & Waffles\"]['business_name'].count()"
   ]
  },
  {
   "cell_type": "code",
   "execution_count": 120,
   "metadata": {
    "collapsed": false
   },
   "outputs": [
    {
     "data": {
      "text/plain": [
       "20"
      ]
     },
     "execution_count": 120,
     "metadata": {},
     "output_type": "execute_result"
    }
   ],
   "source": [
    "data_ = data[data['business_name']==\"Lo-Lo's Chicken & Waffles\"]\n",
    "data_[data_['stars']==5 ]['business_name'].count()"
   ]
  },
  {
   "cell_type": "markdown",
   "metadata": {},
   "source": [
    "What's the most number of cool votes a review received?"
   ]
  },
  {
   "cell_type": "code",
   "execution_count": 136,
   "metadata": {
    "collapsed": false
   },
   "outputs": [
    {
     "name": "stdout",
     "output_type": "stream",
     "text": [
      "36\n"
     ]
    }
   ],
   "source": [
    "print data.cool.max()"
   ]
  },
  {
   "cell_type": "code",
   "execution_count": 121,
   "metadata": {
    "collapsed": false
   },
   "outputs": [
    {
     "data": {
      "text/plain": [
       "cool              0\n",
       "cool_count    10727\n",
       "Name: 0, dtype: int64"
      ]
     },
     "execution_count": 121,
     "metadata": {},
     "output_type": "execute_result"
    }
   ],
   "source": [
    "data_y = data.groupby('cool')[['user_id']].count().reset_index()\n",
    "data_y.rename(columns={'user_id':'cool_count'},inplace=True)\n",
    "data_y = data_y.sort_values('cool_count', axis=0, ascending=False)\n",
    "data_y.iloc[0]\n"
   ]
  },
  {
   "cell_type": "markdown",
   "metadata": {},
   "source": [
    "Which business has the most reviews? (hint: use .value_counts())"
   ]
  },
  {
   "cell_type": "code",
   "execution_count": 137,
   "metadata": {
    "collapsed": false
   },
   "outputs": [
    {
     "data": {
      "text/plain": [
       "Pita Jungle                                     94\n",
       "Oregano's Pizza Bistro                          72\n",
       "Pizzeria Bianco                                 69\n",
       "Cornish Pasty Company                           58\n",
       "Phoenix Sky Harbor International Airport        57\n",
       "FEZ                                             52\n",
       "Five Guys Burgers and Fries                     49\n",
       "Matt's Big Breakfast                            48\n",
       "Four Peaks Brewing Co                           44\n",
       "True Food Kitchen                               43\n",
       "Postino Arcadia                                 42\n",
       "Lo-Lo's Chicken & Waffles                       41\n",
       "Smashburger                                     40\n",
       "Hula's Modern Tiki                              39\n",
       "Lux                                             39\n",
       "Chompie's Deli                                  38\n",
       "Chelsea's Kitchen                               38\n",
       "Starbucks                                       37\n",
       "The Parlor                                      35\n",
       "Cibo                                            35\n",
       "Chipotle Mexican Grill                          35\n",
       "Chino Bandido                                   35\n",
       "Barrio Caf                                     34\n",
       "Culinary Dropout                                34\n",
       "Yard House                                      34\n",
       "The Mission                                     33\n",
       "America's Taco Shop                             33\n",
       "RA Sushi Bar Restaurant                         32\n",
       "Whole Foods Market                              32\n",
       "Grimaldi's Pizzeria                             32\n",
       "                                                ..\n",
       "Cobblestone Quality Shoe & Luggage Repair        1\n",
       "VIP Roofing Services                             1\n",
       "Pizzeria Uno                                     1\n",
       "Hampton Inn Airport N                            1\n",
       "A Better Grooming                                1\n",
       "AZTECA Bakeries & Restaurant                     1\n",
       "Vans Golf Shop                                   1\n",
       "CDC Pools, Inc                                   1\n",
       "A Touch of European Cafe                         1\n",
       "Alixandra Collections                            1\n",
       "Brewer Caldwell Property Management              1\n",
       "Dillard's Clearance Center                       1\n",
       "Orangetheory Fitness Tempe                       1\n",
       "Palm Valley Golf Club                            1\n",
       "Earley's Flowers                                 1\n",
       "Superstar Video                                  1\n",
       "Virtu Honest Craft                               1\n",
       "Luncha Libre Gourmet Food Truck                  1\n",
       "Fashion By Robert Black                          1\n",
       "Pinnacle Peak Ace Hardware & Paint               1\n",
       "Azucar Cuban Restaurant                          1\n",
       "Ace Express Dry Cleaners                         1\n",
       "Urban Baby Exchange                              1\n",
       "LG Collision                                     1\n",
       "Pacific Blue Pools & Spas                        1\n",
       "The Arena poker room at Talking Stick resort     1\n",
       "Hilton Hotel                                     1\n",
       "Kiwi Carpet Cleaning                             1\n",
       "Keep It Simple                                   1\n",
       "Regis Salons                                     1\n",
       "Name: business_name, dtype: int64"
      ]
     },
     "execution_count": 137,
     "metadata": {},
     "output_type": "execute_result"
    }
   ],
   "source": [
    "data.business_name.value_counts()"
   ]
  },
  {
   "cell_type": "code",
   "execution_count": 141,
   "metadata": {
    "collapsed": false
   },
   "outputs": [
    {
     "ename": "TypeError",
     "evalue": "'instancemethod' object has no attribute '__getitem__'",
     "output_type": "error",
     "traceback": [
      "\u001b[0;31m---------------------------------------------------------------------------\u001b[0m",
      "\u001b[0;31mTypeError\u001b[0m                                 Traceback (most recent call last)",
      "\u001b[0;32m<ipython-input-141-09f55eab70c9>\u001b[0m in \u001b[0;36m<module>\u001b[0;34m()\u001b[0m\n\u001b[0;32m----> 1\u001b[0;31m \u001b[0mdata\u001b[0m\u001b[0;34m.\u001b[0m\u001b[0mgroupby\u001b[0m\u001b[0;34m[\u001b[0m\u001b[0;34m[\u001b[0m\u001b[0;34m'business_name'\u001b[0m\u001b[0;34m,\u001b[0m\u001b[0;34m'review_text'\u001b[0m\u001b[0;34m]\u001b[0m\u001b[0;34m]\u001b[0m\u001b[0;34m[\u001b[0m\u001b[0mdata\u001b[0m\u001b[0;34m.\u001b[0m\u001b[0mcool\u001b[0m \u001b[0;34m==\u001b[0m \u001b[0mdata\u001b[0m\u001b[0;34m.\u001b[0m\u001b[0mcool\u001b[0m\u001b[0;34m.\u001b[0m\u001b[0mmax\u001b[0m\u001b[0;34m(\u001b[0m\u001b[0;34m)\u001b[0m\u001b[0;34m]\u001b[0m\u001b[0;34m\u001b[0m\u001b[0m\n\u001b[0m",
      "\u001b[0;31mTypeError\u001b[0m: 'instancemethod' object has no attribute '__getitem__'"
     ]
    }
   ],
   "source": [
    "data.groupby[['business_name','review_text']][data.cool == data.cool.max()]"
   ]
  },
  {
   "cell_type": "code",
   "execution_count": 122,
   "metadata": {
    "collapsed": false
   },
   "outputs": [
    {
     "data": {
      "text/plain": [
       "business_name    Pita Jungle\n",
       "review_count              94\n",
       "Name: 3025, dtype: object"
      ]
     },
     "execution_count": 122,
     "metadata": {},
     "output_type": "execute_result"
    }
   ],
   "source": [
    "data_x = data.groupby('business_name')[['user_id']].count().reset_index()\n",
    "data_x.rename(columns={'user_id':'review_count'},inplace=True)\n",
    "data_x = data_x.sort_values('review_count', axis=0, ascending=False)\n",
    "data_x.iloc[0]\n",
    "#print data_x.sort_values()\n",
    "#print data_x"
   ]
  },
  {
   "cell_type": "markdown",
   "metadata": {},
   "source": [
    "Create a scatter plot of the average star rating vs. average cool review per business (Hint: Use groupby to get the data)"
   ]
  },
  {
   "cell_type": "code",
   "execution_count": 123,
   "metadata": {
    "collapsed": false
   },
   "outputs": [],
   "source": [
    "import matplotlib.pyplot as plt\n",
    "import seaborn as sb"
   ]
  },
  {
   "cell_type": "code",
   "execution_count": 124,
   "metadata": {
    "collapsed": true
   },
   "outputs": [],
   "source": [
    "%matplotlib inline"
   ]
  },
  {
   "cell_type": "code",
   "execution_count": 125,
   "metadata": {
    "collapsed": false
   },
   "outputs": [
    {
     "data": {
      "text/html": [
       "<div>\n",
       "<table border=\"1\" class=\"dataframe\">\n",
       "  <thead>\n",
       "    <tr style=\"text-align: right;\">\n",
       "      <th></th>\n",
       "      <th>business_name</th>\n",
       "      <th>stars</th>\n",
       "    </tr>\n",
       "  </thead>\n",
       "  <tbody>\n",
       "    <tr>\n",
       "      <th>0</th>\n",
       "      <td>#1Brothers Pizza</td>\n",
       "      <td>1.000000</td>\n",
       "    </tr>\n",
       "    <tr>\n",
       "      <th>1</th>\n",
       "      <td>101 Bistro</td>\n",
       "      <td>3.000000</td>\n",
       "    </tr>\n",
       "    <tr>\n",
       "      <th>2</th>\n",
       "      <td>1130 The Restaurant</td>\n",
       "      <td>2.857143</td>\n",
       "    </tr>\n",
       "    <tr>\n",
       "      <th>3</th>\n",
       "      <td>16th Hole at The Phoenix Open</td>\n",
       "      <td>5.000000</td>\n",
       "    </tr>\n",
       "    <tr>\n",
       "      <th>4</th>\n",
       "      <td>16th Street Sports Bar &amp; Grill</td>\n",
       "      <td>4.000000</td>\n",
       "    </tr>\n",
       "  </tbody>\n",
       "</table>\n",
       "</div>"
      ],
      "text/plain": [
       "                    business_name     stars\n",
       "0                #1Brothers Pizza  1.000000\n",
       "1                      101 Bistro  3.000000\n",
       "2             1130 The Restaurant  2.857143\n",
       "3   16th Hole at The Phoenix Open  5.000000\n",
       "4  16th Street Sports Bar & Grill  4.000000"
      ]
     },
     "execution_count": 125,
     "metadata": {},
     "output_type": "execute_result"
    }
   ],
   "source": [
    "data_stars = data.groupby('business_name')['stars'].mean().reset_index()\n",
    "data_stars.head()"
   ]
  },
  {
   "cell_type": "code",
   "execution_count": 126,
   "metadata": {
    "collapsed": false
   },
   "outputs": [
    {
     "data": {
      "text/html": [
       "<div>\n",
       "<table border=\"1\" class=\"dataframe\">\n",
       "  <thead>\n",
       "    <tr style=\"text-align: right;\">\n",
       "      <th></th>\n",
       "      <th>business_name</th>\n",
       "      <th>cool</th>\n",
       "    </tr>\n",
       "  </thead>\n",
       "  <tbody>\n",
       "    <tr>\n",
       "      <th>0</th>\n",
       "      <td>#1Brothers Pizza</td>\n",
       "      <td>1.000000</td>\n",
       "    </tr>\n",
       "    <tr>\n",
       "      <th>1</th>\n",
       "      <td>101 Bistro</td>\n",
       "      <td>2.000000</td>\n",
       "    </tr>\n",
       "    <tr>\n",
       "      <th>2</th>\n",
       "      <td>1130 The Restaurant</td>\n",
       "      <td>0.142857</td>\n",
       "    </tr>\n",
       "    <tr>\n",
       "      <th>3</th>\n",
       "      <td>16th Hole at The Phoenix Open</td>\n",
       "      <td>0.000000</td>\n",
       "    </tr>\n",
       "    <tr>\n",
       "      <th>4</th>\n",
       "      <td>16th Street Sports Bar &amp; Grill</td>\n",
       "      <td>1.000000</td>\n",
       "    </tr>\n",
       "  </tbody>\n",
       "</table>\n",
       "</div>"
      ],
      "text/plain": [
       "                    business_name      cool\n",
       "0                #1Brothers Pizza  1.000000\n",
       "1                      101 Bistro  2.000000\n",
       "2             1130 The Restaurant  0.142857\n",
       "3   16th Hole at The Phoenix Open  0.000000\n",
       "4  16th Street Sports Bar & Grill  1.000000"
      ]
     },
     "execution_count": 126,
     "metadata": {},
     "output_type": "execute_result"
    }
   ],
   "source": [
    "data_cool =  data.groupby('business_name')['cool'].mean().reset_index()\n",
    "data_cool.head()"
   ]
  },
  {
   "cell_type": "code",
   "execution_count": 127,
   "metadata": {
    "collapsed": false
   },
   "outputs": [
    {
     "data": {
      "text/plain": [
       "<matplotlib.text.Text at 0x114d73510>"
      ]
     },
     "execution_count": 127,
     "metadata": {},
     "output_type": "execute_result"
    },
    {
     "data": {
      "image/png": "[encoded data removed]",
      "text/plain": [
       "<matplotlib.figure.Figure at 0x11b13efd0>"
      ]
     },
     "metadata": {},
     "output_type": "display_data"
    }
   ],
   "source": [
    "fig = plt.figure()\n",
    "ax1 = fig.add_subplot(111) \n",
    "ax1.scatter(data_stars.stars, data_cool.cool)\n",
    "plt.xlabel('Stars', fontsize=7)\n",
    "plt.ylabel('Cool',  fontsize=7)\n",
    "plt.title(r'Scatter Plot')"
   ]
  },
  {
   "cell_type": "markdown",
   "metadata": {},
   "source": [
    "Bonus:  Change the marker size and transparency in the plot"
   ]
  },
  {
   "cell_type": "code",
   "execution_count": 128,
   "metadata": {
    "collapsed": false
   },
   "outputs": [
    {
     "data": {
      "text/plain": [
       "<matplotlib.text.Text at 0x11767e910>"
      ]
     },
     "execution_count": 128,
     "metadata": {},
     "output_type": "execute_result"
    },
    {
     "data": {
      "image/png": "[encoded data removed]",
      "text/plain": [
       "<matplotlib.figure.Figure at 0x116493410>"
      ]
     },
     "metadata": {},
     "output_type": "display_data"
    }
   ],
   "source": [
    "fig = plt.figure()\n",
    "ax1 = fig.add_subplot(111) \n",
    "ax1.scatter(data_stars.stars, data_cool.cool,            \n",
    "            s=10, #size\n",
    "           c='#4093DD', #color\n",
    "           alpha=.1, #transparency\n",
    "           marker='o')\n",
    "plt.xlabel('Stars', fontsize=7)\n",
    "plt.ylabel('Cool',  fontsize=7)\n",
    "plt.title(r'Scatter Plot')"
   ]
  },
  {
   "cell_type": "code",
   "execution_count": null,
   "metadata": {
    "collapsed": false
   },
   "outputs": [],
   "source": []
  }
 ],
 "metadata": {
  "anaconda-cloud": {},
  "kernelspec": {
   "display_name": "Python [default]",
   "language": "python",
   "name": "python2"
  },
  "language_info": {
   "codemirror_mode": {
    "name": "ipython",
    "version": 2
   },
   "file_extension": ".py",
   "mimetype": "text/x-python",
   "name": "python",
   "nbconvert_exporter": "python",
   "pygments_lexer": "ipython2",
   "version": "2.7.12"
  }
 },
 "nbformat": 4,
 "nbformat_minor": 0
}
