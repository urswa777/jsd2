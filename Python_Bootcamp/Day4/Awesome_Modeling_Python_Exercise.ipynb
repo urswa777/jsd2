{
 "cells": [
  {
   "cell_type": "markdown",
   "metadata": {
    "slideshow": {
     "slide_type": "slide"
    }
   },
   "source": [
    "  # Python for Data Science Bootcamp\n",
    "  ## K Nearest Neighbors"
   ]
  },
  {
   "cell_type": "markdown",
   "metadata": {},
   "source": [
    "Import pandas and numpy packages"
   ]
  },
  {
   "cell_type": "code",
   "execution_count": 1,
   "metadata": {
    "collapsed": false,
    "slideshow": {
     "slide_type": "slide"
    }
   },
   "outputs": [],
   "source": [
    "import numpy as np\n",
    "import pandas as pd"
   ]
  },
  {
   "cell_type": "markdown",
   "metadata": {},
   "source": [
    "Read the iris CSV file"
   ]
  },
  {
   "cell_type": "code",
   "execution_count": 2,
   "metadata": {
    "collapsed": false
   },
   "outputs": [
    {
     "data": {
      "text/html": [
       "<div>\n",
       "<table border=\"1\" class=\"dataframe\">\n",
       "  <thead>\n",
       "    <tr style=\"text-align: right;\">\n",
       "      <th></th>\n",
       "      <th>sepal_length</th>\n",
       "      <th>sepal_width</th>\n",
       "      <th>petal_length</th>\n",
       "      <th>petal_width</th>\n",
       "      <th>species</th>\n",
       "    </tr>\n",
       "  </thead>\n",
       "  <tbody>\n",
       "    <tr>\n",
       "      <th>0</th>\n",
       "      <td>5.1</td>\n",
       "      <td>3.5</td>\n",
       "      <td>1.4</td>\n",
       "      <td>0.2</td>\n",
       "      <td>0</td>\n",
       "    </tr>\n",
       "    <tr>\n",
       "      <th>1</th>\n",
       "      <td>4.9</td>\n",
       "      <td>3.0</td>\n",
       "      <td>1.4</td>\n",
       "      <td>0.2</td>\n",
       "      <td>0</td>\n",
       "    </tr>\n",
       "    <tr>\n",
       "      <th>2</th>\n",
       "      <td>4.7</td>\n",
       "      <td>3.2</td>\n",
       "      <td>1.3</td>\n",
       "      <td>0.2</td>\n",
       "      <td>0</td>\n",
       "    </tr>\n",
       "    <tr>\n",
       "      <th>3</th>\n",
       "      <td>4.6</td>\n",
       "      <td>3.1</td>\n",
       "      <td>1.5</td>\n",
       "      <td>0.2</td>\n",
       "      <td>0</td>\n",
       "    </tr>\n",
       "    <tr>\n",
       "      <th>4</th>\n",
       "      <td>5.0</td>\n",
       "      <td>3.6</td>\n",
       "      <td>1.4</td>\n",
       "      <td>0.2</td>\n",
       "      <td>0</td>\n",
       "    </tr>\n",
       "  </tbody>\n",
       "</table>\n",
       "</div>"
      ],
      "text/plain": [
       "   sepal_length  sepal_width  petal_length  petal_width  species\n",
       "0           5.1          3.5           1.4          0.2        0\n",
       "1           4.9          3.0           1.4          0.2        0\n",
       "2           4.7          3.2           1.3          0.2        0\n",
       "3           4.6          3.1           1.5          0.2        0\n",
       "4           5.0          3.6           1.4          0.2        0"
      ]
     },
     "execution_count": 2,
     "metadata": {},
     "output_type": "execute_result"
    }
   ],
   "source": [
    "iris = pd.read_csv('iris.csv')\n",
    "iris.head()"
   ]
  },
  {
   "cell_type": "markdown",
   "metadata": {},
   "source": [
    "Explore the data"
   ]
  },
  {
   "cell_type": "code",
   "execution_count": 3,
   "metadata": {
    "collapsed": false
   },
   "outputs": [
    {
     "name": "stdout",
     "output_type": "stream",
     "text": [
      "<class 'pandas.core.frame.DataFrame'>\n",
      "RangeIndex: 150 entries, 0 to 149\n",
      "Data columns (total 5 columns):\n",
      "sepal_length    150 non-null float64\n",
      "sepal_width     150 non-null float64\n",
      "petal_length    150 non-null float64\n",
      "petal_width     150 non-null float64\n",
      "species         150 non-null int64\n",
      "dtypes: float64(4), int64(1)\n",
      "memory usage: 5.9 KB\n"
     ]
    },
    {
     "data": {
      "text/html": [
       "<div>\n",
       "<table border=\"1\" class=\"dataframe\">\n",
       "  <thead>\n",
       "    <tr style=\"text-align: right;\">\n",
       "      <th></th>\n",
       "      <th>count</th>\n",
       "      <th>mean</th>\n",
       "      <th>std</th>\n",
       "      <th>min</th>\n",
       "      <th>25%</th>\n",
       "      <th>50%</th>\n",
       "      <th>75%</th>\n",
       "      <th>max</th>\n",
       "    </tr>\n",
       "  </thead>\n",
       "  <tbody>\n",
       "    <tr>\n",
       "      <th>sepal_length</th>\n",
       "      <td>150.0</td>\n",
       "      <td>5.843333</td>\n",
       "      <td>0.828066</td>\n",
       "      <td>4.3</td>\n",
       "      <td>5.1</td>\n",
       "      <td>5.80</td>\n",
       "      <td>6.4</td>\n",
       "      <td>7.9</td>\n",
       "    </tr>\n",
       "    <tr>\n",
       "      <th>sepal_width</th>\n",
       "      <td>150.0</td>\n",
       "      <td>3.054000</td>\n",
       "      <td>0.433594</td>\n",
       "      <td>2.0</td>\n",
       "      <td>2.8</td>\n",
       "      <td>3.00</td>\n",
       "      <td>3.3</td>\n",
       "      <td>4.4</td>\n",
       "    </tr>\n",
       "    <tr>\n",
       "      <th>petal_length</th>\n",
       "      <td>150.0</td>\n",
       "      <td>3.758667</td>\n",
       "      <td>1.764420</td>\n",
       "      <td>1.0</td>\n",
       "      <td>1.6</td>\n",
       "      <td>4.35</td>\n",
       "      <td>5.1</td>\n",
       "      <td>6.9</td>\n",
       "    </tr>\n",
       "    <tr>\n",
       "      <th>petal_width</th>\n",
       "      <td>150.0</td>\n",
       "      <td>1.198667</td>\n",
       "      <td>0.763161</td>\n",
       "      <td>0.1</td>\n",
       "      <td>0.3</td>\n",
       "      <td>1.30</td>\n",
       "      <td>1.8</td>\n",
       "      <td>2.5</td>\n",
       "    </tr>\n",
       "    <tr>\n",
       "      <th>species</th>\n",
       "      <td>150.0</td>\n",
       "      <td>1.000000</td>\n",
       "      <td>0.819232</td>\n",
       "      <td>0.0</td>\n",
       "      <td>0.0</td>\n",
       "      <td>1.00</td>\n",
       "      <td>2.0</td>\n",
       "      <td>2.0</td>\n",
       "    </tr>\n",
       "  </tbody>\n",
       "</table>\n",
       "</div>"
      ],
      "text/plain": [
       "              count      mean       std  min  25%   50%  75%  max\n",
       "sepal_length  150.0  5.843333  0.828066  4.3  5.1  5.80  6.4  7.9\n",
       "sepal_width   150.0  3.054000  0.433594  2.0  2.8  3.00  3.3  4.4\n",
       "petal_length  150.0  3.758667  1.764420  1.0  1.6  4.35  5.1  6.9\n",
       "petal_width   150.0  1.198667  0.763161  0.1  0.3  1.30  1.8  2.5\n",
       "species       150.0  1.000000  0.819232  0.0  0.0  1.00  2.0  2.0"
      ]
     },
     "execution_count": 3,
     "metadata": {},
     "output_type": "execute_result"
    }
   ],
   "source": [
    "iris.info()\n",
    "iris.describe().T"
   ]
  },
  {
   "cell_type": "markdown",
   "metadata": {},
   "source": [
    "Create two variables for features and target.  Convert them into values."
   ]
  },
  {
   "cell_type": "code",
   "execution_count": 4,
   "metadata": {
    "collapsed": false
   },
   "outputs": [],
   "source": [
    "iris_features = iris[['sepal_length','sepal_width',\n",
    "                      'petal_length','petal_width']].values\n",
    "iris_target = iris.species.values"
   ]
  },
  {
   "cell_type": "markdown",
   "metadata": {},
   "source": [
    "Scikit-learn has a function to split data into training and testing sets"
   ]
  },
  {
   "cell_type": "code",
   "execution_count": 5,
   "metadata": {
    "collapsed": false
   },
   "outputs": [],
   "source": [
    "from sklearn.cross_validation import train_test_split"
   ]
  },
  {
   "cell_type": "markdown",
   "metadata": {},
   "source": [
    "Apply train_test_split to sample data"
   ]
  },
  {
   "cell_type": "code",
   "execution_count": 29,
   "metadata": {
    "collapsed": false
   },
   "outputs": [],
   "source": [
    "example_features = [[1,10],[2,20],[3,30],[4,40],[5,50]]\n",
    "example_target = ['a','b','c','d','e']\n",
    "\n",
    "[f_train, f_test, t_train_, t_test] = \\\n",
    "    train_test_split (example_features, example_target, test_size=0.2,\n",
    "                      random_state=0)"
   ]
  },
  {
   "cell_type": "code",
   "execution_count": 30,
   "metadata": {
    "collapsed": false
   },
   "outputs": [
    {
     "data": {
      "text/plain": [
       "[[1, 10], [2, 20], [4, 40], [5, 50]]"
      ]
     },
     "execution_count": 30,
     "metadata": {},
     "output_type": "execute_result"
    }
   ],
   "source": [
    "f_train"
   ]
  },
  {
   "cell_type": "code",
   "execution_count": 31,
   "metadata": {
    "collapsed": false
   },
   "outputs": [
    {
     "data": {
      "text/plain": [
       "[[3, 30]]"
      ]
     },
     "execution_count": 31,
     "metadata": {},
     "output_type": "execute_result"
    }
   ],
   "source": [
    "f_test"
   ]
  },
  {
   "cell_type": "code",
   "execution_count": 32,
   "metadata": {
    "collapsed": false
   },
   "outputs": [
    {
     "ename": "NameError",
     "evalue": "name 't_train' is not defined",
     "output_type": "error",
     "traceback": [
      "\u001b[0;31m---------------------------------------------------------------------------\u001b[0m",
      "\u001b[0;31mNameError\u001b[0m                                 Traceback (most recent call last)",
      "\u001b[0;32m<ipython-input-32-b0a6a6d6aff1>\u001b[0m in \u001b[0;36m<module>\u001b[0;34m()\u001b[0m\n\u001b[0;32m----> 1\u001b[0;31m \u001b[0mt_train\u001b[0m\u001b[0;34m\u001b[0m\u001b[0m\n\u001b[0m",
      "\u001b[0;31mNameError\u001b[0m: name 't_train' is not defined"
     ]
    }
   ],
   "source": [
    "t_train"
   ]
  },
  {
   "cell_type": "code",
   "execution_count": 33,
   "metadata": {
    "collapsed": false
   },
   "outputs": [
    {
     "data": {
      "text/plain": [
       "['c']"
      ]
     },
     "execution_count": 33,
     "metadata": {},
     "output_type": "execute_result"
    }
   ],
   "source": [
    "t_test"
   ]
  },
  {
   "cell_type": "markdown",
   "metadata": {},
   "source": [
    "View results of train_test_split "
   ]
  },
  {
   "cell_type": "code",
   "execution_count": 22,
   "metadata": {
    "collapsed": false
   },
   "outputs": [
    {
     "name": "stdout",
     "output_type": "stream",
     "text": [
      "Training Set\n",
      "[[1, 10], [2, 20], [4, 40], [5, 50]]\n"
     ]
    },
    {
     "ename": "NameError",
     "evalue": "name 't_train' is not defined",
     "output_type": "error",
     "traceback": [
      "\u001b[0;31m---------------------------------------------------------------------------\u001b[0m",
      "\u001b[0;31mNameError\u001b[0m                                 Traceback (most recent call last)",
      "\u001b[0;32m<ipython-input-22-a472d306a42e>\u001b[0m in \u001b[0;36m<module>\u001b[0;34m()\u001b[0m\n\u001b[1;32m      1\u001b[0m \u001b[0;32mprint\u001b[0m \u001b[0;34m'Training Set'\u001b[0m\u001b[0;34m\u001b[0m\u001b[0m\n\u001b[1;32m      2\u001b[0m \u001b[0;32mprint\u001b[0m \u001b[0mf_train\u001b[0m\u001b[0;34m\u001b[0m\u001b[0m\n\u001b[0;32m----> 3\u001b[0;31m \u001b[0;32mprint\u001b[0m \u001b[0mt_train\u001b[0m\u001b[0;34m\u001b[0m\u001b[0m\n\u001b[0m\u001b[1;32m      4\u001b[0m \u001b[0;32mprint\u001b[0m \u001b[0;34m'-----------------'\u001b[0m\u001b[0;34m\u001b[0m\u001b[0m\n\u001b[1;32m      5\u001b[0m \u001b[0;32mprint\u001b[0m \u001b[0;34m'Test Set'\u001b[0m\u001b[0;34m\u001b[0m\u001b[0m\n",
      "\u001b[0;31mNameError\u001b[0m: name 't_train' is not defined"
     ]
    }
   ],
   "source": [
    "print 'Training Set'\n",
    "print f_train\n",
    "print t_train\n",
    "print '-----------------'\n",
    "print 'Test Set'\n",
    "print f_test\n",
    "print t_test\n"
   ]
  },
  {
   "cell_type": "markdown",
   "metadata": {},
   "source": [
    "Split the iris data into training set and test set"
   ]
  },
  {
   "cell_type": "code",
   "execution_count": 14,
   "metadata": {
    "collapsed": false
   },
   "outputs": [],
   "source": [
    "features_train, features_test, target_train,\\\n",
    "    target_test = train_test_split(\\\n",
    "    iris_features, iris_target, test_size=0.20,\\\n",
    "    random_state=0)"
   ]
  },
  {
   "cell_type": "code",
   "execution_count": 147,
   "metadata": {
    "collapsed": false
   },
   "outputs": [
    {
     "data": {
      "text/plain": [
       "array([[29.6991176471, True, 0.0, 0.0, 1.0],\n",
       "       [29.6991176471, True, 0.0, 0.0, 1.0],\n",
       "       [7.0, True, 0.0, 0.0, 1.0],\n",
       "       [29.6991176471, False, 1.0, 0.0, 0.0],\n",
       "       [29.0, False, 0.0, 0.0, 1.0],\n",
       "       [29.6991176471, True, 1.0, 0.0, 0.0],\n",
       "       [40.0, False, 1.0, 0.0, 0.0],\n",
       "       [31.0, False, 1.0, 0.0, 0.0],\n",
       "       [25.0, True, 1.0, 0.0, 0.0],\n",
       "       [29.6991176471, False, 0.0, 0.0, 1.0],\n",
       "       [26.0, True, 0.0, 0.0, 1.0],\n",
       "       [40.0, False, 0.0, 1.0, 0.0],\n",
       "       [29.6991176471, True, 0.0, 0.0, 1.0],\n",
       "       [7.0, False, 0.0, 1.0, 0.0],\n",
       "       [24.0, False, 1.0, 0.0, 0.0],\n",
       "       [14.0, False, 0.0, 0.0, 1.0],\n",
       "       [23.0, True, 0.0, 0.0, 1.0],\n",
       "       [19.0, True, 0.0, 1.0, 0.0],\n",
       "       [35.0, True, 0.0, 0.0, 1.0],\n",
       "       [0.42, True, 0.0, 0.0, 1.0],\n",
       "       [18.0, True, 0.0, 1.0, 0.0],\n",
       "       [22.0, False, 1.0, 0.0, 0.0],\n",
       "       [29.6991176471, True, 0.0, 0.0, 1.0],\n",
       "       [29.6991176471, True, 1.0, 0.0, 0.0],\n",
       "       [22.0, False, 0.0, 0.0, 1.0],\n",
       "       [40.0, False, 1.0, 0.0, 0.0],\n",
       "       [32.0, True, 0.0, 0.0, 1.0],\n",
       "       [22.0, False, 0.0, 0.0, 1.0],\n",
       "       [25.0, False, 0.0, 1.0, 0.0],\n",
       "       [2.0, False, 0.0, 0.0, 1.0],\n",
       "       [33.0, True, 0.0, 0.0, 1.0],\n",
       "       [50.0, False, 0.0, 1.0, 0.0],\n",
       "       [28.0, True, 0.0, 0.0, 1.0],\n",
       "       [29.6991176471, True, 1.0, 0.0, 0.0],\n",
       "       [29.0, True, 0.0, 0.0, 1.0],\n",
       "       [32.0, True, 1.0, 0.0, 0.0],\n",
       "       [43.0, True, 0.0, 0.0, 1.0],\n",
       "       [28.0, True, 0.0, 1.0, 0.0],\n",
       "       [25.0, True, 0.0, 1.0, 0.0],\n",
       "       [54.0, True, 0.0, 1.0, 0.0],\n",
       "       [60.0, True, 1.0, 0.0, 0.0],\n",
       "       [25.0, True, 0.0, 0.0, 1.0],\n",
       "       [29.6991176471, True, 0.0, 0.0, 1.0],\n",
       "       [14.0, True, 0.0, 0.0, 1.0],\n",
       "       [35.0, False, 1.0, 0.0, 0.0],\n",
       "       [29.6991176471, True, 0.0, 0.0, 1.0],\n",
       "       [29.6991176471, True, 0.0, 0.0, 1.0],\n",
       "       [18.0, False, 1.0, 0.0, 0.0],\n",
       "       [39.0, True, 0.0, 1.0, 0.0],\n",
       "       [52.0, True, 1.0, 0.0, 0.0],\n",
       "       [29.6991176471, True, 1.0, 0.0, 0.0],\n",
       "       [23.0, True, 1.0, 0.0, 0.0],\n",
       "       [4.0, False, 0.0, 1.0, 0.0],\n",
       "       [19.0, True, 0.0, 0.0, 1.0],\n",
       "       [29.6991176471, True, 1.0, 0.0, 0.0],\n",
       "       [24.0, True, 0.0, 1.0, 0.0],\n",
       "       [62.0, True, 1.0, 0.0, 0.0],\n",
       "       [11.0, False, 0.0, 0.0, 1.0],\n",
       "       [10.0, True, 0.0, 0.0, 1.0],\n",
       "       [29.6991176471, True, 0.0, 0.0, 1.0],\n",
       "       [22.0, True, 0.0, 0.0, 1.0],\n",
       "       [29.0, False, 0.0, 0.0, 1.0],\n",
       "       [54.0, False, 1.0, 0.0, 0.0],\n",
       "       [29.6991176471, True, 1.0, 0.0, 0.0],\n",
       "       [27.0, False, 0.0, 0.0, 1.0],\n",
       "       [32.0, True, 0.0, 0.0, 1.0],\n",
       "       [49.0, False, 1.0, 0.0, 0.0],\n",
       "       [28.0, True, 0.0, 1.0, 0.0],\n",
       "       [2.0, False, 0.0, 1.0, 0.0],\n",
       "       [19.0, False, 1.0, 0.0, 0.0],\n",
       "       [24.0, False, 0.0, 1.0, 0.0],\n",
       "       [48.0, True, 1.0, 0.0, 0.0],\n",
       "       [28.0, True, 1.0, 0.0, 0.0],\n",
       "       [29.6991176471, True, 0.0, 0.0, 1.0],\n",
       "       [24.5, True, 0.0, 0.0, 1.0],\n",
       "       [30.0, False, 0.0, 1.0, 0.0],\n",
       "       [19.0, True, 1.0, 0.0, 0.0],\n",
       "       [40.0, True, 1.0, 0.0, 0.0],\n",
       "       [34.0, True, 0.0, 0.0, 1.0],\n",
       "       [29.6991176471, True, 0.0, 1.0, 0.0],\n",
       "       [29.6991176471, True, 0.0, 0.0, 1.0],\n",
       "       [9.0, True, 0.0, 0.0, 1.0],\n",
       "       [26.0, False, 0.0, 1.0, 0.0],\n",
       "       [16.0, True, 0.0, 0.0, 1.0],\n",
       "       [46.0, True, 0.0, 1.0, 0.0],\n",
       "       [21.0, False, 1.0, 0.0, 0.0],\n",
       "       [42.0, False, 1.0, 0.0, 0.0],\n",
       "       [63.0, False, 0.0, 0.0, 1.0],\n",
       "       [34.0, False, 0.0, 1.0, 0.0],\n",
       "       [18.0, True, 1.0, 0.0, 0.0],\n",
       "       [29.6991176471, True, 1.0, 0.0, 0.0],\n",
       "       [19.0, True, 0.0, 0.0, 1.0],\n",
       "       [3.0, True, 0.0, 1.0, 0.0],\n",
       "       [44.0, False, 1.0, 0.0, 0.0],\n",
       "       [9.0, False, 0.0, 0.0, 1.0],\n",
       "       [29.6991176471, True, 0.0, 0.0, 1.0],\n",
       "       [24.0, False, 0.0, 1.0, 0.0],\n",
       "       [16.0, True, 0.0, 0.0, 1.0],\n",
       "       [60.0, True, 1.0, 0.0, 0.0],\n",
       "       [27.0, True, 1.0, 0.0, 0.0],\n",
       "       [14.0, True, 0.0, 0.0, 1.0],\n",
       "       [54.0, True, 0.0, 1.0, 0.0],\n",
       "       [19.0, True, 0.0, 0.0, 1.0],\n",
       "       [18.0, True, 0.0, 0.0, 1.0],\n",
       "       [29.0, False, 0.0, 0.0, 1.0],\n",
       "       [35.0, False, 0.0, 0.0, 1.0],\n",
       "       [28.0, False, 0.0, 1.0, 0.0],\n",
       "       [41.0, False, 0.0, 0.0, 1.0],\n",
       "       [25.0, True, 0.0, 1.0, 0.0],\n",
       "       [29.6991176471, False, 0.0, 0.0, 1.0],\n",
       "       [48.0, True, 0.0, 0.0, 1.0],\n",
       "       [22.0, False, 1.0, 0.0, 0.0],\n",
       "       [32.0, True, 0.0, 0.0, 1.0],\n",
       "       [29.6991176471, False, 0.0, 0.0, 1.0],\n",
       "       [36.0, True, 1.0, 0.0, 0.0],\n",
       "       [28.0, False, 0.0, 1.0, 0.0],\n",
       "       [24.0, False, 0.0, 0.0, 1.0],\n",
       "       [18.0, False, 1.0, 0.0, 0.0],\n",
       "       [40.0, True, 0.0, 0.0, 1.0],\n",
       "       [45.0, False, 0.0, 1.0, 0.0],\n",
       "       [29.6991176471, True, 0.0, 0.0, 1.0],\n",
       "       [29.6991176471, True, 0.0, 0.0, 1.0],\n",
       "       [20.0, True, 0.0, 0.0, 1.0],\n",
       "       [38.0, True, 1.0, 0.0, 0.0],\n",
       "       [33.0, True, 0.0, 0.0, 1.0],\n",
       "       [58.0, True, 1.0, 0.0, 0.0],\n",
       "       [29.6991176471, True, 0.0, 0.0, 1.0],\n",
       "       [25.0, True, 0.0, 0.0, 1.0],\n",
       "       [29.6991176471, True, 0.0, 1.0, 0.0],\n",
       "       [51.0, True, 0.0, 1.0, 0.0],\n",
       "       [21.0, False, 0.0, 0.0, 1.0],\n",
       "       [21.0, True, 0.0, 0.0, 1.0],\n",
       "       [25.0, True, 0.0, 0.0, 1.0],\n",
       "       [20.0, False, 0.0, 0.0, 1.0],\n",
       "       [64.0, True, 1.0, 0.0, 0.0],\n",
       "       [21.0, True, 0.0, 0.0, 1.0],\n",
       "       [29.6991176471, True, 0.0, 0.0, 1.0],\n",
       "       [40.0, False, 0.0, 0.0, 1.0],\n",
       "       [44.0, True, 0.0, 1.0, 0.0],\n",
       "       [23.0, True, 0.0, 1.0, 0.0],\n",
       "       [28.0, True, 0.0, 1.0, 0.0],\n",
       "       [33.0, False, 1.0, 0.0, 0.0],\n",
       "       [29.6991176471, True, 0.0, 0.0, 1.0],\n",
       "       [18.0, False, 0.0, 0.0, 1.0],\n",
       "       [29.6991176471, False, 0.0, 1.0, 0.0],\n",
       "       [24.0, False, 0.0, 0.0, 1.0],\n",
       "       [30.0, True, 0.0, 1.0, 0.0],\n",
       "       [42.0, False, 0.0, 1.0, 0.0],\n",
       "       [50.0, False, 1.0, 0.0, 0.0],\n",
       "       [29.6991176471, True, 0.0, 0.0, 1.0],\n",
       "       [45.0, True, 1.0, 0.0, 0.0],\n",
       "       [30.0, False, 0.0, 0.0, 1.0],\n",
       "       [37.0, False, 0.0, 0.0, 1.0],\n",
       "       [29.0, True, 0.0, 0.0, 1.0],\n",
       "       [17.0, False, 0.0, 1.0, 0.0],\n",
       "       [26.0, True, 0.0, 1.0, 0.0],\n",
       "       [45.0, False, 0.0, 0.0, 1.0],\n",
       "       [62.0, True, 0.0, 1.0, 0.0],\n",
       "       [29.6991176471, False, 0.0, 0.0, 1.0],\n",
       "       [0.75, False, 0.0, 0.0, 1.0],\n",
       "       [29.6991176471, True, 0.0, 0.0, 1.0],\n",
       "       [20.0, True, 0.0, 0.0, 1.0],\n",
       "       [54.0, False, 1.0, 0.0, 0.0],\n",
       "       [33.0, False, 0.0, 0.0, 1.0],\n",
       "       [15.0, True, 0.0, 0.0, 1.0],\n",
       "       [25.0, True, 0.0, 0.0, 1.0],\n",
       "       [51.0, True, 0.0, 0.0, 1.0],\n",
       "       [22.0, True, 0.0, 0.0, 1.0],\n",
       "       [24.0, True, 0.0, 0.0, 1.0],\n",
       "       [17.0, True, 0.0, 0.0, 1.0],\n",
       "       [51.0, True, 0.0, 0.0, 1.0],\n",
       "       [38.0, False, 1.0, 0.0, 0.0],\n",
       "       [29.6991176471, True, 0.0, 0.0, 1.0],\n",
       "       [29.6991176471, True, 0.0, 0.0, 1.0],\n",
       "       [13.0, False, 0.0, 0.0, 1.0],\n",
       "       [29.6991176471, True, 0.0, 0.0, 1.0],\n",
       "       [31.0, False, 1.0, 0.0, 0.0],\n",
       "       [23.0, True, 0.0, 0.0, 1.0],\n",
       "       [19.0, True, 0.0, 0.0, 1.0]], dtype=object)"
      ]
     },
     "execution_count": 147,
     "metadata": {},
     "output_type": "execute_result"
    }
   ],
   "source": [
    "features_test"
   ]
  },
  {
   "cell_type": "code",
   "execution_count": 15,
   "metadata": {
    "collapsed": false
   },
   "outputs": [
    {
     "name": "stdout",
     "output_type": "stream",
     "text": [
      "(120, 4)\n",
      "(30, 4)\n",
      "(120,)\n",
      "(30,)\n"
     ]
    }
   ],
   "source": [
    "print features_train.shape\n",
    "print features_test.shape\n",
    "print target_train.shape\n",
    "print target_test.shape\n"
   ]
  },
  {
   "cell_type": "markdown",
   "metadata": {},
   "source": [
    "Import the K Nearest Neighbors classifier from scikit-learn"
   ]
  },
  {
   "cell_type": "code",
   "execution_count": 18,
   "metadata": {
    "collapsed": false
   },
   "outputs": [],
   "source": [
    "from sklearn.neighbors import KNeighborsClassifier"
   ]
  },
  {
   "cell_type": "markdown",
   "metadata": {},
   "source": [
    "Train the KNN classifier"
   ]
  },
  {
   "cell_type": "code",
   "execution_count": 25,
   "metadata": {
    "collapsed": false
   },
   "outputs": [],
   "source": [
    "model = KNeighborsClassifier(5, weights='uniform').fit(features_train, target_train)"
   ]
  },
  {
   "cell_type": "markdown",
   "metadata": {},
   "source": [
    "Compare predictions with actual results"
   ]
  },
  {
   "cell_type": "code",
   "execution_count": 26,
   "metadata": {
    "collapsed": false
   },
   "outputs": [
    {
     "name": "stdout",
     "output_type": "stream",
     "text": [
      "[2 1 0 2 0 2 0 1 1 1 2 1 1 1 2 0 1 1 0 0 2 1 0 0 2 0 0 1 1 0]\n",
      "[2 1 0 2 0 2 0 1 1 1 2 1 1 1 1 0 1 1 0 0 2 1 0 0 2 0 0 1 1 0]\n"
     ]
    }
   ],
   "source": [
    "print model.predict(features_test)\n",
    "print target_test"
   ]
  },
  {
   "cell_type": "markdown",
   "metadata": {},
   "source": [
    "Predict probabilities"
   ]
  },
  {
   "cell_type": "code",
   "execution_count": 27,
   "metadata": {
    "collapsed": false
   },
   "outputs": [
    {
     "data": {
      "text/plain": [
       "array([[ 0. ,  0. ,  1. ],\n",
       "       [ 0. ,  1. ,  0. ],\n",
       "       [ 1. ,  0. ,  0. ],\n",
       "       [ 0. ,  0. ,  1. ],\n",
       "       [ 1. ,  0. ,  0. ],\n",
       "       [ 0. ,  0. ,  1. ],\n",
       "       [ 1. ,  0. ,  0. ],\n",
       "       [ 0. ,  1. ,  0. ],\n",
       "       [ 0. ,  1. ,  0. ],\n",
       "       [ 0. ,  1. ,  0. ],\n",
       "       [ 0. ,  0.2,  0.8],\n",
       "       [ 0. ,  1. ,  0. ],\n",
       "       [ 0. ,  1. ,  0. ],\n",
       "       [ 0. ,  1. ,  0. ],\n",
       "       [ 0. ,  0.4,  0.6],\n",
       "       [ 1. ,  0. ,  0. ],\n",
       "       [ 0. ,  0.8,  0.2],\n",
       "       [ 0. ,  1. ,  0. ],\n",
       "       [ 1. ,  0. ,  0. ],\n",
       "       [ 1. ,  0. ,  0. ],\n",
       "       [ 0. ,  0. ,  1. ],\n",
       "       [ 0. ,  1. ,  0. ],\n",
       "       [ 1. ,  0. ,  0. ],\n",
       "       [ 1. ,  0. ,  0. ],\n",
       "       [ 0. ,  0.2,  0.8],\n",
       "       [ 1. ,  0. ,  0. ],\n",
       "       [ 1. ,  0. ,  0. ],\n",
       "       [ 0. ,  1. ,  0. ],\n",
       "       [ 0. ,  1. ,  0. ],\n",
       "       [ 1. ,  0. ,  0. ]])"
      ]
     },
     "execution_count": 27,
     "metadata": {},
     "output_type": "execute_result"
    }
   ],
   "source": [
    "model.predict_proba(features_test)"
   ]
  },
  {
   "cell_type": "markdown",
   "metadata": {},
   "source": [
    "Score the model"
   ]
  },
  {
   "cell_type": "code",
   "execution_count": 28,
   "metadata": {
    "collapsed": false
   },
   "outputs": [
    {
     "data": {
      "text/plain": [
       "0.96666666666666667"
      ]
     },
     "execution_count": 28,
     "metadata": {},
     "output_type": "execute_result"
    }
   ],
   "source": [
    "model.score(features_test, target_test)"
   ]
  },
  {
   "cell_type": "markdown",
   "metadata": {},
   "source": [
    "## K-Folds Cross-Validation"
   ]
  },
  {
   "cell_type": "markdown",
   "metadata": {},
   "source": [
    "Import the KFold function from scikit-learn"
   ]
  },
  {
   "cell_type": "code",
   "execution_count": 37,
   "metadata": {
    "collapsed": false
   },
   "outputs": [],
   "source": [
    "from sklearn.cross_validation import KFold"
   ]
  },
  {
   "cell_type": "markdown",
   "metadata": {},
   "source": [
    "KFold function creates indices for separating training and test sets.  Lets create indices for a data set of 3 records with 3 folds."
   ]
  },
  {
   "cell_type": "code",
   "execution_count": 58,
   "metadata": {
    "collapsed": false
   },
   "outputs": [
    {
     "name": "stdout",
     "output_type": "stream",
     "text": [
      "sklearn.cross_validation.KFold(n=3, n_folds=3, shuffle=False, random_state=None)\n",
      "[[array([1, 2]) array([0])]\n",
      " [array([0, 2]) array([1])]\n",
      " [array([0, 1]) array([2])]]\n"
     ]
    }
   ],
   "source": [
    "\n",
    "k_fold_indices = KFold(3, n_folds=3, shuffle=False)\n",
    "print k_fold_indices\n",
    "\n",
    "print np.array(list(k_fold_indices))"
   ]
  },
  {
   "cell_type": "code",
   "execution_count": 55,
   "metadata": {
    "collapsed": false
   },
   "outputs": [
    {
     "data": {
      "text/plain": [
       "[[[1, 2], [0]]]"
      ]
     },
     "execution_count": 55,
     "metadata": {},
     "output_type": "execute_result"
    }
   ],
   "source": [
    "[[[1,2],[0]]]"
   ]
  },
  {
   "cell_type": "markdown",
   "metadata": {},
   "source": [
    "Let's see what is in the k_fold_indices"
   ]
  },
  {
   "cell_type": "code",
   "execution_count": 59,
   "metadata": {
    "collapsed": false
   },
   "outputs": [
    {
     "data": {
      "text/plain": [
       "sklearn.cross_validation.KFold(n=3, n_folds=3, shuffle=False, random_state=None)"
      ]
     },
     "execution_count": 59,
     "metadata": {},
     "output_type": "execute_result"
    }
   ],
   "source": [
    "k_fold_indices"
   ]
  },
  {
   "cell_type": "code",
   "execution_count": 60,
   "metadata": {
    "collapsed": false
   },
   "outputs": [
    {
     "name": "stdout",
     "output_type": "stream",
     "text": [
      "[1 2] [0]\n",
      "[0 2] [1]\n",
      "[0 1] [2]\n"
     ]
    }
   ],
   "source": [
    "for x,y in k_fold_indices:\n",
    "    print x,y"
   ]
  },
  {
   "cell_type": "markdown",
   "metadata": {},
   "source": [
    "Remember how to index numpy arrays with indices?"
   ]
  },
  {
   "cell_type": "code",
   "execution_count": 61,
   "metadata": {
    "collapsed": false
   },
   "outputs": [
    {
     "name": "stdout",
     "output_type": "stream",
     "text": [
      "[40  0 20]\n"
     ]
    }
   ],
   "source": [
    "sample = np.array([0,10,20,30,40,50])\n",
    "\n",
    "indices = [4,0,2]\n",
    "print sample[indices]"
   ]
  },
  {
   "cell_type": "markdown",
   "metadata": {},
   "source": [
    "Let's use the indices to index values in an array."
   ]
  },
  {
   "cell_type": "code",
   "execution_count": 62,
   "metadata": {
    "collapsed": false
   },
   "outputs": [
    {
     "name": "stdout",
     "output_type": "stream",
     "text": [
      "['b' 'c'] ['a']\n",
      "['a' 'c'] ['b']\n",
      "['a' 'b'] ['c']\n"
     ]
    }
   ],
   "source": [
    "data = np.array(['a','b','c'])\n",
    "for x,y in k_fold_indices:\n",
    "    print data[x],data[y]"
   ]
  },
  {
   "cell_type": "markdown",
   "metadata": {},
   "source": [
    "Function for calculating cross-validation"
   ]
  },
  {
   "cell_type": "code",
   "execution_count": 64,
   "metadata": {
    "collapsed": false
   },
   "outputs": [],
   "source": [
    "# cross validation function with average score\n",
    "def cross_validate(features, target, classifier, k_fold, r_state=None) :\n",
    "\n",
    "    # derive a set of (random) training and testing indices\n",
    "    k_fold_indices = KFold(len(features), n_folds=k_fold,\n",
    "                           shuffle=True, random_state=r_state)\n",
    "\n",
    "    k_score_total = 0\n",
    "    \n",
    "    # for each training and testing slices run the classifier, and score the results\n",
    "    for train_indices, test_indices in k_fold_indices :\n",
    "\n",
    "        model = classifier.fit(features[train_indices],\n",
    "                               target[train_indices])\n",
    "\n",
    "        k_score = model.score(features[test_indices],\n",
    "                              target[test_indices])\n",
    "\n",
    "        k_score_total += k_score\n",
    "\n",
    "    # return the average accuracy\n",
    "    return k_score_total/k_fold"
   ]
  },
  {
   "cell_type": "code",
   "execution_count": null,
   "metadata": {
    "collapsed": true
   },
   "outputs": [],
   "source": [
    "# Better cross validation function with average score\n",
    "def cross_validate2(features, k, weights, target, classifier, k_fold, r_state=None) :\n",
    "#    model = KNeighborsClassifier(5).fit(titanic_features, titanic_target)\n",
    "    # derive a set of (random) training and testing indices\n",
    "    k_fold_indices = KFold(len(features), n_folds=k_fold,\n",
    "                           shuffle=True, random_state=r_state)\n",
    "\n",
    "    k_score_total = 0\n",
    "    \n",
    "    # for each training and testing slices run the classifier, and score the results\n",
    "    for train_indices, test_indices in k_fold_indices :\n",
    "\n",
    "        model = classifier.fit(features[train_indices],\n",
    "                               target[train_indices])\n",
    "\n",
    "        k_score = model.score(features[test_indices],\n",
    "                              target[test_indices])\n",
    "\n",
    "        k_score_total += k_score\n",
    "\n",
    "    # return the average accuracy\n",
    "    return k_score_total/k_fold"
   ]
  },
  {
   "cell_type": "code",
   "execution_count": 66,
   "metadata": {
    "collapsed": false
   },
   "outputs": [
    {
     "name": "stdout",
     "output_type": "stream",
     "text": [
      "[ 0  2  3  4  5  6  7  8  9 10 12 13 15 16 17 19]  -  [ 1 11 14 18]\n",
      "[ 0  1  2  3  4  5  7  8 10 11 12 13 14 15 17 18]  -  [ 6  9 16 19]\n",
      "[ 0  1  2  4  6  7  8  9 10 11 12 13 14 16 18 19]  -  [ 3  5 15 17]\n",
      "[ 1  3  4  5  6  7  9 11 12 13 14 15 16 17 18 19]  -  [ 0  2  8 10]\n",
      "[ 0  1  2  3  5  6  8  9 10 11 14 15 16 17 18 19]  -  [ 4  7 12 13]\n"
     ]
    }
   ],
   "source": [
    "k_fold_indices = KFold(20,5, shuffle=True)\n",
    "\n",
    "for train_indices, test_indices in k_fold_indices :\n",
    "      print train_indices, ' - ',test_indices"
   ]
  },
  {
   "cell_type": "markdown",
   "metadata": {},
   "source": [
    "Test the function with different numbers of neighbors"
   ]
  },
  {
   "cell_type": "code",
   "execution_count": 69,
   "metadata": {
    "collapsed": false
   },
   "outputs": [
    {
     "name": "stdout",
     "output_type": "stream",
     "text": [
      "Cross Validate with 3-fold :  0.96\n",
      "-----------------------------------------------\n",
      "Cross Validate with 4-fold :  0.946666666667\n",
      "-----------------------------------------------\n",
      "Cross Validate with 5-fold :  0.96\n"
     ]
    }
   ],
   "source": [
    "print 'Cross Validate with 3-fold : ' , cross_validate(iris_features, iris_target,\n",
    "                    KNeighborsClassifier(3),10,0)\n",
    "print '-----------------------------------------------'\n",
    "print 'Cross Validate with 4-fold : ' , cross_validate(iris_features, iris_target,\n",
    "                    KNeighborsClassifier(4),10,0)\n",
    "print '-----------------------------------------------'\n",
    "print 'Cross Validate with 5-fold : ' , cross_validate(iris_features, iris_target,\n",
    "                    KNeighborsClassifier(5),10,0)\n"
   ]
  },
  {
   "cell_type": "markdown",
   "metadata": {},
   "source": [
    "## Exercise\n",
    "####1. Load the clean_data.csv as a DataFrame"
   ]
  },
  {
   "cell_type": "code",
   "execution_count": 71,
   "metadata": {
    "collapsed": false
   },
   "outputs": [],
   "source": [
    "data=pd.read_csv('clean_data.csv', encoding='latin_1')"
   ]
  },
  {
   "cell_type": "code",
   "execution_count": 73,
   "metadata": {
    "collapsed": false
   },
   "outputs": [
    {
     "name": "stdout",
     "output_type": "stream",
     "text": [
      "<class 'pandas.core.frame.DataFrame'>\n",
      "RangeIndex: 891 entries, 0 to 890\n",
      "Data columns (total 16 columns):\n",
      "Unnamed: 0     891 non-null int64\n",
      "PassengerId    891 non-null int64\n",
      "Survived       891 non-null int64\n",
      "Pclass         891 non-null int64\n",
      "Name           891 non-null object\n",
      "Sex            891 non-null object\n",
      "Age            891 non-null float64\n",
      "SibSp          891 non-null int64\n",
      "Parch          891 non-null int64\n",
      "Ticket         891 non-null object\n",
      "Fare           891 non-null float64\n",
      "Cabin          204 non-null object\n",
      "Embarked       889 non-null object\n",
      "_Pclass_1      891 non-null float64\n",
      "_Pclass_2      891 non-null float64\n",
      "_Pclass_3      891 non-null float64\n",
      "dtypes: float64(5), int64(6), object(5)\n",
      "memory usage: 111.4+ KB\n"
     ]
    }
   ],
   "source": [
    "data.info()"
   ]
  },
  {
   "cell_type": "code",
   "execution_count": 72,
   "metadata": {
    "collapsed": false
   },
   "outputs": [
    {
     "data": {
      "text/html": [
       "<div>\n",
       "<table border=\"1\" class=\"dataframe\">\n",
       "  <thead>\n",
       "    <tr style=\"text-align: right;\">\n",
       "      <th></th>\n",
       "      <th>Unnamed: 0</th>\n",
       "      <th>PassengerId</th>\n",
       "      <th>Survived</th>\n",
       "      <th>Pclass</th>\n",
       "      <th>Name</th>\n",
       "      <th>Sex</th>\n",
       "      <th>Age</th>\n",
       "      <th>SibSp</th>\n",
       "      <th>Parch</th>\n",
       "      <th>Ticket</th>\n",
       "      <th>Fare</th>\n",
       "      <th>Cabin</th>\n",
       "      <th>Embarked</th>\n",
       "      <th>_Pclass_1</th>\n",
       "      <th>_Pclass_2</th>\n",
       "      <th>_Pclass_3</th>\n",
       "    </tr>\n",
       "  </thead>\n",
       "  <tbody>\n",
       "    <tr>\n",
       "      <th>0</th>\n",
       "      <td>0</td>\n",
       "      <td>1</td>\n",
       "      <td>0</td>\n",
       "      <td>3</td>\n",
       "      <td>Braund, Mr. Owen Harris</td>\n",
       "      <td>male</td>\n",
       "      <td>22.0</td>\n",
       "      <td>1</td>\n",
       "      <td>0</td>\n",
       "      <td>A/5 21171</td>\n",
       "      <td>7.2500</td>\n",
       "      <td>NaN</td>\n",
       "      <td>S</td>\n",
       "      <td>0.0</td>\n",
       "      <td>0.0</td>\n",
       "      <td>1.0</td>\n",
       "    </tr>\n",
       "    <tr>\n",
       "      <th>1</th>\n",
       "      <td>1</td>\n",
       "      <td>2</td>\n",
       "      <td>1</td>\n",
       "      <td>1</td>\n",
       "      <td>Cumings, Mrs. John Bradley (Florence Briggs Th...</td>\n",
       "      <td>female</td>\n",
       "      <td>38.0</td>\n",
       "      <td>1</td>\n",
       "      <td>0</td>\n",
       "      <td>PC 17599</td>\n",
       "      <td>71.2833</td>\n",
       "      <td>C85</td>\n",
       "      <td>C</td>\n",
       "      <td>1.0</td>\n",
       "      <td>0.0</td>\n",
       "      <td>0.0</td>\n",
       "    </tr>\n",
       "    <tr>\n",
       "      <th>2</th>\n",
       "      <td>2</td>\n",
       "      <td>3</td>\n",
       "      <td>1</td>\n",
       "      <td>3</td>\n",
       "      <td>Heikkinen, Miss. Laina</td>\n",
       "      <td>female</td>\n",
       "      <td>26.0</td>\n",
       "      <td>0</td>\n",
       "      <td>0</td>\n",
       "      <td>STON/O2. 3101282</td>\n",
       "      <td>7.9250</td>\n",
       "      <td>NaN</td>\n",
       "      <td>S</td>\n",
       "      <td>0.0</td>\n",
       "      <td>0.0</td>\n",
       "      <td>1.0</td>\n",
       "    </tr>\n",
       "    <tr>\n",
       "      <th>3</th>\n",
       "      <td>3</td>\n",
       "      <td>4</td>\n",
       "      <td>1</td>\n",
       "      <td>1</td>\n",
       "      <td>Futrelle, Mrs. Jacques Heath (Lily May Peel)</td>\n",
       "      <td>female</td>\n",
       "      <td>35.0</td>\n",
       "      <td>1</td>\n",
       "      <td>0</td>\n",
       "      <td>113803</td>\n",
       "      <td>53.1000</td>\n",
       "      <td>C123</td>\n",
       "      <td>S</td>\n",
       "      <td>1.0</td>\n",
       "      <td>0.0</td>\n",
       "      <td>0.0</td>\n",
       "    </tr>\n",
       "    <tr>\n",
       "      <th>4</th>\n",
       "      <td>4</td>\n",
       "      <td>5</td>\n",
       "      <td>0</td>\n",
       "      <td>3</td>\n",
       "      <td>Allen, Mr. William Henry</td>\n",
       "      <td>male</td>\n",
       "      <td>35.0</td>\n",
       "      <td>0</td>\n",
       "      <td>0</td>\n",
       "      <td>373450</td>\n",
       "      <td>8.0500</td>\n",
       "      <td>NaN</td>\n",
       "      <td>S</td>\n",
       "      <td>0.0</td>\n",
       "      <td>0.0</td>\n",
       "      <td>1.0</td>\n",
       "    </tr>\n",
       "  </tbody>\n",
       "</table>\n",
       "</div>"
      ],
      "text/plain": [
       "   Unnamed: 0  PassengerId  Survived  Pclass  \\\n",
       "0           0            1         0       3   \n",
       "1           1            2         1       1   \n",
       "2           2            3         1       3   \n",
       "3           3            4         1       1   \n",
       "4           4            5         0       3   \n",
       "\n",
       "                                                Name     Sex   Age  SibSp  \\\n",
       "0                            Braund, Mr. Owen Harris    male  22.0      1   \n",
       "1  Cumings, Mrs. John Bradley (Florence Briggs Th...  female  38.0      1   \n",
       "2                             Heikkinen, Miss. Laina  female  26.0      0   \n",
       "3       Futrelle, Mrs. Jacques Heath (Lily May Peel)  female  35.0      1   \n",
       "4                           Allen, Mr. William Henry    male  35.0      0   \n",
       "\n",
       "   Parch            Ticket     Fare Cabin Embarked  _Pclass_1  _Pclass_2  \\\n",
       "0      0         A/5 21171   7.2500   NaN        S        0.0        0.0   \n",
       "1      0          PC 17599  71.2833   C85        C        1.0        0.0   \n",
       "2      0  STON/O2. 3101282   7.9250   NaN        S        0.0        0.0   \n",
       "3      0            113803  53.1000  C123        S        1.0        0.0   \n",
       "4      0            373450   8.0500   NaN        S        0.0        0.0   \n",
       "\n",
       "   _Pclass_3  \n",
       "0        1.0  \n",
       "1        0.0  \n",
       "2        1.0  \n",
       "3        0.0  \n",
       "4        1.0  "
      ]
     },
     "execution_count": 72,
     "metadata": {},
     "output_type": "execute_result"
    }
   ],
   "source": [
    "data.head()"
   ]
  },
  {
   "cell_type": "code",
   "execution_count": 92,
   "metadata": {
    "collapsed": false
   },
   "outputs": [],
   "source": [
    "data.Sex.replace(['male','female'],[True,False],inplace=True)"
   ]
  },
  {
   "cell_type": "markdown",
   "metadata": {},
   "source": [
    "####2. Separate the data into features (limit to age, sex, pclass dummy variables) and target (Note: Make sure you convert the data to a numpy array by typing .values at end of DataFrame)"
   ]
  },
  {
   "cell_type": "code",
   "execution_count": 93,
   "metadata": {
    "collapsed": true
   },
   "outputs": [],
   "source": [
    "# convert as a numpy array !!!\n",
    "\n",
    "titanic_features = data[['Age', 'Sex',  '_Pclass_1', '_Pclass_2','_Pclass_3']].values\n",
    "\n",
    "titanic_target = data.Survived.values\n",
    "\n"
   ]
  },
  {
   "cell_type": "code",
   "execution_count": 94,
   "metadata": {
    "collapsed": false
   },
   "outputs": [
    {
     "name": "stdout",
     "output_type": "stream",
     "text": [
      "[[22.0 True 0.0 0.0 1.0]\n",
      " [38.0 False 1.0 0.0 0.0]\n",
      " [26.0 False 0.0 0.0 1.0]\n",
      " ..., \n",
      " [29.6991176471 False 0.0 0.0 1.0]\n",
      " [26.0 True 1.0 0.0 0.0]\n",
      " [32.0 True 0.0 0.0 1.0]]\n"
     ]
    }
   ],
   "source": [
    "print titanic_features"
   ]
  },
  {
   "cell_type": "code",
   "execution_count": 95,
   "metadata": {
    "collapsed": false
   },
   "outputs": [
    {
     "name": "stdout",
     "output_type": "stream",
     "text": [
      "[0 1 1 1 0 0 0 0 1 1 1 1 0 0 0 1 0 1 0 1 0 1 1 1 0 1 0 0 1 0 0 1 1 0 0 0 1\n",
      " 0 0 1 0 0 0 1 1 0 0 1 0 0 0 0 1 1 0 1 1 0 1 0 0 1 0 0 0 1 1 0 1 0 0 0 0 0\n",
      " 1 0 0 0 1 1 0 1 1 0 1 1 0 0 1 0 0 0 0 0 0 0 0 1 1 0 0 0 0 0 0 0 1 1 0 1 0\n",
      " 0 0 0 0 0 0 0 0 0 0 0 0 1 0 1 0 1 1 0 0 0 0 1 0 0 1 0 0 0 0 1 1 0 0 0 1 0\n",
      " 0 0 0 1 0 0 0 0 1 0 0 0 0 1 0 0 0 1 1 0 0 0 0 0 1 0 0 0 0 0 0 0 0 0 0 1 1\n",
      " 0 1 1 0 0 1 0 1 1 1 1 0 0 1 0 0 0 0 0 1 0 0 1 1 1 0 1 0 0 0 1 1 0 1 0 1 0\n",
      " 0 0 1 0 1 0 0 0 1 0 0 1 0 0 0 1 0 0 0 1 0 0 0 0 0 1 1 0 0 0 0 0 0 1 1 1 1\n",
      " 1 0 1 0 0 0 0 0 1 1 1 0 1 1 0 1 1 0 0 0 1 0 0 0 1 0 0 1 0 1 1 1 1 0 0 0 0\n",
      " 0 0 1 1 1 1 0 1 0 1 1 1 0 1 1 1 0 0 0 1 1 0 1 1 0 0 1 1 0 1 0 1 1 1 1 0 0\n",
      " 0 1 0 0 1 1 0 1 1 0 0 0 1 1 1 1 0 0 0 0 0 0 0 1 0 1 1 0 0 0 0 0 0 1 1 1 1\n",
      " 1 0 0 0 0 1 1 0 0 0 1 1 0 1 0 0 0 1 0 1 1 1 0 1 1 0 0 0 0 1 1 0 0 0 0 0 0\n",
      " 1 0 0 0 0 1 0 1 0 1 1 0 0 0 0 0 0 0 0 1 1 0 1 1 1 1 0 0 1 0 1 0 0 1 0 0 1\n",
      " 1 1 1 1 1 1 0 0 0 1 0 1 0 1 1 0 1 0 0 0 0 0 0 0 0 1 0 0 1 1 0 0 0 0 0 1 0\n",
      " 0 0 1 1 0 1 0 0 1 0 0 0 0 0 0 1 0 0 0 0 0 0 0 1 0 1 1 0 1 1 0 1 1 0 0 1 0\n",
      " 1 0 1 0 0 1 0 0 1 0 0 0 1 0 0 1 0 1 0 1 0 1 1 0 0 1 0 0 1 1 0 1 1 0 0 1 1\n",
      " 0 1 0 1 1 0 0 0 0 0 0 0 0 0 1 1 1 1 1 0 0 1 1 0 1 1 1 0 0 0 1 0 1 0 0 0 1\n",
      " 0 0 0 0 1 0 0 1 1 0 0 0 1 0 0 1 1 1 0 0 1 0 0 1 0 0 1 0 0 1 1 0 0 0 0 1 0\n",
      " 0 1 0 1 0 0 1 0 0 0 0 0 1 0 1 1 1 0 1 0 1 0 1 0 1 0 0 0 0 0 0 1 0 0 0 1 0\n",
      " 0 0 0 1 1 0 0 1 0 0 0 1 0 1 0 1 0 0 0 0 0 0 0 1 1 1 1 0 0 0 0 1 0 0 1 1 0\n",
      " 0 0 0 1 1 1 1 1 0 1 0 0 0 1 1 0 0 1 0 0 0 1 0 1 1 0 0 1 0 0 0 0 0 0 1 0 0\n",
      " 1 0 1 0 1 0 0 1 0 0 1 1 0 0 1 1 0 0 0 1 0 0 1 1 0 1 0 0 0 0 0 0 0 0 1 0 0\n",
      " 1 0 1 1 1 0 0 0 0 1 0 1 0 0 0 0 0 0 0 1 1 0 0 0 1 1 1 1 0 0 0 0 1 0 0 0 0\n",
      " 0 0 0 0 0 0 1 1 0 1 0 0 0 1 1 1 1 1 0 0 0 1 0 0 1 1 0 0 1 0 0 0 0 0 0 1 0\n",
      " 0 0 1 0 1 1 1 1 0 0 0 1 0 0 1 1 0 0 1 0 1 0 0 1 1 0 0 0 1 1 0 0 0 0 0 0 1\n",
      " 0 1 0]\n"
     ]
    }
   ],
   "source": [
    "print titanic_target"
   ]
  },
  {
   "cell_type": "code",
   "execution_count": 96,
   "metadata": {
    "collapsed": false
   },
   "outputs": [
    {
     "name": "stdout",
     "output_type": "stream",
     "text": [
      "--- features_train ---\n",
      "[[29.6991176471 False 0.0 0.0 1.0]\n",
      " [31.0 True 0.0 1.0 0.0]\n",
      " [31.0 True 0.0 1.0 0.0]\n",
      " ..., \n",
      " [29.6991176471 True 0.0 0.0 1.0]\n",
      " [36.0 False 0.0 0.0 1.0]\n",
      " [60.0 True 0.0 1.0 0.0]]\n",
      "--- features_test ---\n",
      "[[29.6991176471 True 0.0 0.0 1.0]\n",
      " [29.6991176471 True 0.0 0.0 1.0]\n",
      " [7.0 True 0.0 0.0 1.0]\n",
      " [29.6991176471 False 1.0 0.0 0.0]\n",
      " [29.0 False 0.0 0.0 1.0]\n",
      " [29.6991176471 True 1.0 0.0 0.0]\n",
      " [40.0 False 1.0 0.0 0.0]\n",
      " [31.0 False 1.0 0.0 0.0]\n",
      " [25.0 True 1.0 0.0 0.0]\n",
      " [29.6991176471 False 0.0 0.0 1.0]\n",
      " [26.0 True 0.0 0.0 1.0]\n",
      " [40.0 False 0.0 1.0 0.0]\n",
      " [29.6991176471 True 0.0 0.0 1.0]\n",
      " [7.0 False 0.0 1.0 0.0]\n",
      " [24.0 False 1.0 0.0 0.0]\n",
      " [14.0 False 0.0 0.0 1.0]\n",
      " [23.0 True 0.0 0.0 1.0]\n",
      " [19.0 True 0.0 1.0 0.0]\n",
      " [35.0 True 0.0 0.0 1.0]\n",
      " [0.42 True 0.0 0.0 1.0]\n",
      " [18.0 True 0.0 1.0 0.0]\n",
      " [22.0 False 1.0 0.0 0.0]\n",
      " [29.6991176471 True 0.0 0.0 1.0]\n",
      " [29.6991176471 True 1.0 0.0 0.0]\n",
      " [22.0 False 0.0 0.0 1.0]\n",
      " [40.0 False 1.0 0.0 0.0]\n",
      " [32.0 True 0.0 0.0 1.0]\n",
      " [22.0 False 0.0 0.0 1.0]\n",
      " [25.0 False 0.0 1.0 0.0]\n",
      " [2.0 False 0.0 0.0 1.0]\n",
      " [33.0 True 0.0 0.0 1.0]\n",
      " [50.0 False 0.0 1.0 0.0]\n",
      " [28.0 True 0.0 0.0 1.0]\n",
      " [29.6991176471 True 1.0 0.0 0.0]\n",
      " [29.0 True 0.0 0.0 1.0]\n",
      " [32.0 True 1.0 0.0 0.0]\n",
      " [43.0 True 0.0 0.0 1.0]\n",
      " [28.0 True 0.0 1.0 0.0]\n",
      " [25.0 True 0.0 1.0 0.0]\n",
      " [54.0 True 0.0 1.0 0.0]\n",
      " [60.0 True 1.0 0.0 0.0]\n",
      " [25.0 True 0.0 0.0 1.0]\n",
      " [29.6991176471 True 0.0 0.0 1.0]\n",
      " [14.0 True 0.0 0.0 1.0]\n",
      " [35.0 False 1.0 0.0 0.0]\n",
      " [29.6991176471 True 0.0 0.0 1.0]\n",
      " [29.6991176471 True 0.0 0.0 1.0]\n",
      " [18.0 False 1.0 0.0 0.0]\n",
      " [39.0 True 0.0 1.0 0.0]\n",
      " [52.0 True 1.0 0.0 0.0]\n",
      " [29.6991176471 True 1.0 0.0 0.0]\n",
      " [23.0 True 1.0 0.0 0.0]\n",
      " [4.0 False 0.0 1.0 0.0]\n",
      " [19.0 True 0.0 0.0 1.0]\n",
      " [29.6991176471 True 1.0 0.0 0.0]\n",
      " [24.0 True 0.0 1.0 0.0]\n",
      " [62.0 True 1.0 0.0 0.0]\n",
      " [11.0 False 0.0 0.0 1.0]\n",
      " [10.0 True 0.0 0.0 1.0]\n",
      " [29.6991176471 True 0.0 0.0 1.0]\n",
      " [22.0 True 0.0 0.0 1.0]\n",
      " [29.0 False 0.0 0.0 1.0]\n",
      " [54.0 False 1.0 0.0 0.0]\n",
      " [29.6991176471 True 1.0 0.0 0.0]\n",
      " [27.0 False 0.0 0.0 1.0]\n",
      " [32.0 True 0.0 0.0 1.0]\n",
      " [49.0 False 1.0 0.0 0.0]\n",
      " [28.0 True 0.0 1.0 0.0]\n",
      " [2.0 False 0.0 1.0 0.0]\n",
      " [19.0 False 1.0 0.0 0.0]\n",
      " [24.0 False 0.0 1.0 0.0]\n",
      " [48.0 True 1.0 0.0 0.0]\n",
      " [28.0 True 1.0 0.0 0.0]\n",
      " [29.6991176471 True 0.0 0.0 1.0]\n",
      " [24.5 True 0.0 0.0 1.0]\n",
      " [30.0 False 0.0 1.0 0.0]\n",
      " [19.0 True 1.0 0.0 0.0]\n",
      " [40.0 True 1.0 0.0 0.0]\n",
      " [34.0 True 0.0 0.0 1.0]\n",
      " [29.6991176471 True 0.0 1.0 0.0]\n",
      " [29.6991176471 True 0.0 0.0 1.0]\n",
      " [9.0 True 0.0 0.0 1.0]\n",
      " [26.0 False 0.0 1.0 0.0]\n",
      " [16.0 True 0.0 0.0 1.0]\n",
      " [46.0 True 0.0 1.0 0.0]\n",
      " [21.0 False 1.0 0.0 0.0]\n",
      " [42.0 False 1.0 0.0 0.0]\n",
      " [63.0 False 0.0 0.0 1.0]\n",
      " [34.0 False 0.0 1.0 0.0]\n",
      " [18.0 True 1.0 0.0 0.0]\n",
      " [29.6991176471 True 1.0 0.0 0.0]\n",
      " [19.0 True 0.0 0.0 1.0]\n",
      " [3.0 True 0.0 1.0 0.0]\n",
      " [44.0 False 1.0 0.0 0.0]\n",
      " [9.0 False 0.0 0.0 1.0]\n",
      " [29.6991176471 True 0.0 0.0 1.0]\n",
      " [24.0 False 0.0 1.0 0.0]\n",
      " [16.0 True 0.0 0.0 1.0]\n",
      " [60.0 True 1.0 0.0 0.0]\n",
      " [27.0 True 1.0 0.0 0.0]\n",
      " [14.0 True 0.0 0.0 1.0]\n",
      " [54.0 True 0.0 1.0 0.0]\n",
      " [19.0 True 0.0 0.0 1.0]\n",
      " [18.0 True 0.0 0.0 1.0]\n",
      " [29.0 False 0.0 0.0 1.0]\n",
      " [35.0 False 0.0 0.0 1.0]\n",
      " [28.0 False 0.0 1.0 0.0]\n",
      " [41.0 False 0.0 0.0 1.0]\n",
      " [25.0 True 0.0 1.0 0.0]\n",
      " [29.6991176471 False 0.0 0.0 1.0]\n",
      " [48.0 True 0.0 0.0 1.0]\n",
      " [22.0 False 1.0 0.0 0.0]\n",
      " [32.0 True 0.0 0.0 1.0]\n",
      " [29.6991176471 False 0.0 0.0 1.0]\n",
      " [36.0 True 1.0 0.0 0.0]\n",
      " [28.0 False 0.0 1.0 0.0]\n",
      " [24.0 False 0.0 0.0 1.0]\n",
      " [18.0 False 1.0 0.0 0.0]\n",
      " [40.0 True 0.0 0.0 1.0]\n",
      " [45.0 False 0.0 1.0 0.0]\n",
      " [29.6991176471 True 0.0 0.0 1.0]\n",
      " [29.6991176471 True 0.0 0.0 1.0]\n",
      " [20.0 True 0.0 0.0 1.0]\n",
      " [38.0 True 1.0 0.0 0.0]\n",
      " [33.0 True 0.0 0.0 1.0]\n",
      " [58.0 True 1.0 0.0 0.0]\n",
      " [29.6991176471 True 0.0 0.0 1.0]\n",
      " [25.0 True 0.0 0.0 1.0]\n",
      " [29.6991176471 True 0.0 1.0 0.0]\n",
      " [51.0 True 0.0 1.0 0.0]\n",
      " [21.0 False 0.0 0.0 1.0]\n",
      " [21.0 True 0.0 0.0 1.0]\n",
      " [25.0 True 0.0 0.0 1.0]\n",
      " [20.0 False 0.0 0.0 1.0]\n",
      " [64.0 True 1.0 0.0 0.0]\n",
      " [21.0 True 0.0 0.0 1.0]\n",
      " [29.6991176471 True 0.0 0.0 1.0]\n",
      " [40.0 False 0.0 0.0 1.0]\n",
      " [44.0 True 0.0 1.0 0.0]\n",
      " [23.0 True 0.0 1.0 0.0]\n",
      " [28.0 True 0.0 1.0 0.0]\n",
      " [33.0 False 1.0 0.0 0.0]\n",
      " [29.6991176471 True 0.0 0.0 1.0]\n",
      " [18.0 False 0.0 0.0 1.0]\n",
      " [29.6991176471 False 0.0 1.0 0.0]\n",
      " [24.0 False 0.0 0.0 1.0]\n",
      " [30.0 True 0.0 1.0 0.0]\n",
      " [42.0 False 0.0 1.0 0.0]\n",
      " [50.0 False 1.0 0.0 0.0]\n",
      " [29.6991176471 True 0.0 0.0 1.0]\n",
      " [45.0 True 1.0 0.0 0.0]\n",
      " [30.0 False 0.0 0.0 1.0]\n",
      " [37.0 False 0.0 0.0 1.0]\n",
      " [29.0 True 0.0 0.0 1.0]\n",
      " [17.0 False 0.0 1.0 0.0]\n",
      " [26.0 True 0.0 1.0 0.0]\n",
      " [45.0 False 0.0 0.0 1.0]\n",
      " [62.0 True 0.0 1.0 0.0]\n",
      " [29.6991176471 False 0.0 0.0 1.0]\n",
      " [0.75 False 0.0 0.0 1.0]\n",
      " [29.6991176471 True 0.0 0.0 1.0]\n",
      " [20.0 True 0.0 0.0 1.0]\n",
      " [54.0 False 1.0 0.0 0.0]\n",
      " [33.0 False 0.0 0.0 1.0]\n",
      " [15.0 True 0.0 0.0 1.0]\n",
      " [25.0 True 0.0 0.0 1.0]\n",
      " [51.0 True 0.0 0.0 1.0]\n",
      " [22.0 True 0.0 0.0 1.0]\n",
      " [24.0 True 0.0 0.0 1.0]\n",
      " [17.0 True 0.0 0.0 1.0]\n",
      " [51.0 True 0.0 0.0 1.0]\n",
      " [38.0 False 1.0 0.0 0.0]\n",
      " [29.6991176471 True 0.0 0.0 1.0]\n",
      " [29.6991176471 True 0.0 0.0 1.0]\n",
      " [13.0 False 0.0 0.0 1.0]\n",
      " [29.6991176471 True 0.0 0.0 1.0]\n",
      " [31.0 False 1.0 0.0 0.0]\n",
      " [23.0 True 0.0 0.0 1.0]\n",
      " [19.0 True 0.0 0.0 1.0]]\n",
      "--- target_train ---\n",
      "[0 0 0 0 0 0 0 1 0 0 1 0 0 1 1 0 0 0 1 1 0 1 0 0 1 1 0 0 0 1 0 0 1 0 0 0 0\n",
      " 0 1 0 1 0 1 1 0 1 0 0 1 1 0 0 1 1 0 0 0 1 1 1 0 0 1 0 0 1 1 0 0 0 1 0 0 0\n",
      " 0 0 0 1 1 1 0 0 0 0 0 0 0 1 0 1 1 0 0 0 1 0 0 0 1 1 0 0 1 0 1 0 0 0 0 0 0\n",
      " 1 0 1 1 1 0 0 0 1 0 1 0 0 1 1 1 0 0 1 0 1 0 0 0 0 1 0 1 0 1 0 1 1 1 0 0 0\n",
      " 0 0 0 1 0 1 0 0 0 1 0 1 0 0 0 1 0 1 1 1 0 0 0 1 1 0 0 1 0 1 0 0 0 0 1 1 1\n",
      " 0 1 0 1 0 1 0 0 1 0 0 0 0 0 1 0 1 0 1 0 0 0 0 0 1 0 0 1 0 0 0 1 0 0 1 0 0\n",
      " 1 0 1 0 0 0 0 1 0 0 0 1 0 0 0 0 0 0 0 0 0 1 1 0 0 0 1 0 0 0 0 1 1 0 1 0 1\n",
      " 0 0 0 1 1 0 0 0 0 0 0 1 0 0 1 1 0 0 0 1 0 1 0 0 1 0 0 1 1 0 0 1 1 1 0 1 0\n",
      " 0 1 0 0 0 0 0 1 0 0 0 1 0 0 1 1 0 0 0 0 0 0 1 0 0 0 0 0 1 0 0 0 1 0 1 0 0\n",
      " 1 0 1 0 1 0 0 0 1 1 1 1 0 0 0 0 0 0 0 1 1 1 0 0 0 1 0 1 1 1 0 0 0 0 1 1 0\n",
      " 0 1 0 1 1 0 0 0 0 1 1 0 1 0 1 0 1 0 0 0 1 0 0 0 1 0 0 0 0 0 1 1 0 0 0 0 1\n",
      " 1 0 0 0 1 0 0 0 1 1 0 0 1 0 0 0 0 0 0 1 1 1 1 1 1 1 1 0 0 0 1 1 0 0 1 1 0\n",
      " 0 0 0 0 0 0 1 1 1 0 0 0 0 1 1 0 0 0 1 0 1 0 1 0 1 1 1 1 0 0 1 0 1 0 0 1 1\n",
      " 1 0 0 0 1 0 0 1 0 0 0 0 0 0 0 0 0 0 0 0 0 0 0 1 1 0 0 0 1 1 0 0 1 1 1 0 0\n",
      " 0 1 0 0 1 0 1 0 1 0 0 1 0 0 0 0 0 1 0 0 0 0 1 1 1 0 0 1 1 1 0 1 1 0 0 0 0\n",
      " 1 0 0 1 1 0 0 0 1 1 0 1 0 1 1 1 0 1 1 1 0 0 0 1 0 0 0 1 0 0 1 0 0 0 1 0 0\n",
      " 1 1 1 0 1 1 0 1 0 1 1 0 0 0 0 0 0 1 1 0 0 0 0 0 1 0 0 0 1 1 1 0 0 1 0 0 0\n",
      " 0 0 1 1 1 0 1 0 0 1 0 0 0 0 0 0 0 0 0 1 1 1 1 1 1 1 0 1 0 1 0 0 1 0 0 1 0\n",
      " 1 0 0 0 1 1 0 0 0 1 1 0 1 1 0 1 0 0 1 1 1 1 0 0 0 1 0 0 0 1 1 0 1 1 1 0 0\n",
      " 1 1 1 1 1 1 0 1 0]\n",
      "--- target_test ---\n",
      "[0 0 0 1 1 1 1 1 1 1 0 1 0 1 1 0 0 0 0 1 0 1 0 0 0 1 0 1 1 0 0 1 0 1 0 1 0\n",
      " 0 0 0 1 0 0 0 1 0 0 1 0 0 1 1 1 0 1 0 0 0 0 1 0 0 1 0 1 0 1 0 1 1 1 1 0 0\n",
      " 0 1 0 0 0 0 0 1 0 0 0 1 1 1 1 0 0 0 1 1 0 0 1 0 0 1 0 0 0 0 0 1 1 0 0 1 0\n",
      " 1 1 0 1 1 1 1 0 1 1 0 0 0 0 0 0 1 0 0 0 0 0 0 0 0 0 0 0 0 0 1 0 0 1 0 0 1\n",
      " 1 0 0 1 0 0 1 0 0 1 0 1 0 1 1 1 0 0 0 0 0 0 0 1 0 0 1 0 1 0 0]\n"
     ]
    }
   ],
   "source": [
    " features_train, features_test, target_train, \\\n",
    "      target_test = train_test_split(\n",
    "                titanic_features, titanic_target, test_size=0.20, random_state=0)\n",
    "        \n",
    " print   '--- features_train ---'    \n",
    " print   features_train    \n",
    " print   '--- features_test ---'    \n",
    " print   features_test    \n",
    " print   '--- target_train ---'    \n",
    " print   target_train    \n",
    " print   '--- target_test ---'    \n",
    " print   target_test    \n",
    "\n"
   ]
  },
  {
   "cell_type": "code",
   "execution_count": null,
   "metadata": {
    "collapsed": false
   },
   "outputs": [],
   "source": []
  },
  {
   "cell_type": "markdown",
   "metadata": {},
   "source": [
    "####3. Build a KNN model and test the accuracy of the model using kfold cross-validation"
   ]
  },
  {
   "cell_type": "code",
   "execution_count": 102,
   "metadata": {
    "collapsed": false
   },
   "outputs": [
    {
     "name": "stdout",
     "output_type": "stream",
     "text": [
      "-----------------------------------\n",
      "accuracy for 5 -fold is : 0.767704475551\n",
      "-----------------------------------\n",
      "accuracy for 5 -fold is : 0.767704475551\n",
      "-----------------------------------\n",
      "accuracy for 10-fold is : 0.737403245943\n",
      "-----------------------------------\n",
      "accuracy for 20-fold is : 0.718434343434\n",
      "-----------------------------------\n",
      "accuracy for 50-fold is : 0.667254901961\n",
      "-----------------------------------\n",
      "accuracy for 100-fold is : 0.667083333333\n"
     ]
    }
   ],
   "source": [
    "from sklearn.neighbors import KNeighborsClassifier\n",
    "\n",
    "print \"-----------------------------------\"\n",
    "model = KNeighborsClassifier(5,weights='uniform').fit(titanic_features, titanic_target)\n",
    "print 'accuracy for 5 -fold is : ' + str(cross_validate(titanic_features, titanic_target, model, 5, r_state=True)) \n",
    "\n",
    "print \"-----------------------------------\"\n",
    "model = KNeighborsClassifier(5,weights='uniform').fit(titanic_features, titanic_target)\n",
    "print 'accuracy for 5 -fold is : ' + str(cross_validate(titanic_features, titanic_target, model, 5, r_state=True)) \n",
    "\n",
    "print \"-----------------------------------\"\n",
    "model = KNeighborsClassifier(10,weights='uniform').fit(titanic_features, titanic_target)\n",
    "print 'accuracy for 10-fold is : ' + str(cross_validate(titanic_features, titanic_target, model, 10, r_state=True)) \n",
    "\n",
    "print \"-----------------------------------\"\n",
    "model = KNeighborsClassifier(20,weights='uniform').fit(titanic_features, titanic_target)\n",
    "print 'accuracy for 20-fold is : ' + str(cross_validate(titanic_features, titanic_target, model, 20, r_state=True)) \n",
    "\n",
    "print \"-----------------------------------\"\n",
    "model = KNeighborsClassifier(50).fit(titanic_features, titanic_target)\n",
    "print 'accuracy for 50-fold is : ' + str(cross_validate(titanic_features, titanic_target, model, 50, r_state=True)) \n",
    "\n",
    "print \"-----------------------------------\"\n",
    "model = KNeighborsClassifier(100).fit(titanic_features, titanic_target)\n",
    "print 'accuracy for 100-fold is : ' + str(cross_validate(titanic_features, titanic_target, model, 100, r_state=True)) \n",
    "\n",
    "\n"
   ]
  },
  {
   "cell_type": "code",
   "execution_count": null,
   "metadata": {
    "collapsed": true
   },
   "outputs": [],
   "source": []
  },
  {
   "cell_type": "markdown",
   "metadata": {},
   "source": [
    "### Bonus: Create a for loop to test different numbers of neighbors"
   ]
  },
  {
   "cell_type": "code",
   "execution_count": 109,
   "metadata": {
    "collapsed": false
   },
   "outputs": [
    {
     "name": "stdout",
     "output_type": "stream",
     "text": [
      "-----------------------------------\n",
      "accuracy for K=3 for 10-fold is : 0.776654182272\n",
      "-----------------------------------\n",
      "accuracy for K=5 for 10-fold is : 0.786766541823\n",
      "-----------------------------------\n",
      "accuracy for K=10 for 10-fold is : 0.796878901373\n",
      "-----------------------------------\n",
      "accuracy for K=15 for 10-fold is : 0.804731585518\n",
      "-----------------------------------\n",
      "accuracy for K=20 for 10-fold is : 0.789001248439\n",
      "-----------------------------------\n",
      "accuracy for K=50 for 10-fold is : 0.794606741573\n",
      "-----------------------------------\n",
      "accuracy for K=100 for 10-fold is : 0.795730337079\n"
     ]
    }
   ],
   "source": [
    "from sklearn.neighbors import KNeighborsClassifier\n",
    "\n",
    "for a in [3,5,10,15,20,50,100] :\n",
    "    print \"-----------------------------------\"\n",
    "    model = KNeighborsClassifier(a, weights='distance').fit(titanic_features, titanic_target)\n",
    "    print 'accuracy for K='+str(a)+' for 10-fold is : ' + \\\n",
    "        str(cross_validate(titanic_features, titanic_target, model, 10, r_state=True)) \n",
    "\n",
    "\n"
   ]
  },
  {
   "cell_type": "code",
   "execution_count": 111,
   "metadata": {
    "collapsed": false
   },
   "outputs": [
    {
     "name": "stdout",
     "output_type": "stream",
     "text": [
      "-----------------------------------\n",
      "accuracy for K=1 for 10-fold is : 0.751922596754\n",
      "-----------------------------------\n",
      "accuracy for K=6 for 10-fold is : 0.79013732834\n",
      "-----------------------------------\n",
      "accuracy for K=11 for 10-fold is : 0.80024968789\n",
      "-----------------------------------\n",
      "accuracy for K=16 for 10-fold is : 0.795742821473\n",
      "-----------------------------------\n",
      "accuracy for K=21 for 10-fold is : 0.792372034956\n",
      "-----------------------------------\n",
      "accuracy for K=26 for 10-fold is : 0.792372034956\n",
      "-----------------------------------\n",
      "accuracy for K=31 for 10-fold is : 0.795730337079\n",
      "-----------------------------------\n",
      "accuracy for K=36 for 10-fold is : 0.796853932584\n",
      "-----------------------------------\n",
      "accuracy for K=41 for 10-fold is : 0.799101123596\n",
      "-----------------------------------\n",
      "accuracy for K=46 for 10-fold is : 0.79797752809\n",
      "-----------------------------------\n",
      "accuracy for K=51 for 10-fold is : 0.793495630462\n",
      "-----------------------------------\n",
      "accuracy for K=56 for 10-fold is : 0.795742821473\n",
      "-----------------------------------\n",
      "accuracy for K=61 for 10-fold is : 0.794619225968\n",
      "-----------------------------------\n",
      "accuracy for K=66 for 10-fold is : 0.797990012484\n",
      "-----------------------------------\n",
      "accuracy for K=71 for 10-fold is : 0.796866416979\n",
      "-----------------------------------\n",
      "accuracy for K=76 for 10-fold is : 0.796866416979\n",
      "-----------------------------------\n",
      "accuracy for K=81 for 10-fold is : 0.797990012484\n",
      "-----------------------------------\n",
      "accuracy for K=86 for 10-fold is : 0.797990012484\n",
      "-----------------------------------\n",
      "accuracy for K=91 for 10-fold is : 0.795742821473\n",
      "-----------------------------------\n",
      "accuracy for K=96 for 10-fold is : 0.796853932584\n",
      "-----------------------------------\n",
      "accuracy for K=101 for 10-fold is : 0.795730337079\n",
      "-----------------------------------\n",
      "accuracy for K=106 for 10-fold is : 0.793483146067\n",
      "-----------------------------------\n",
      "accuracy for K=111 for 10-fold is : 0.792359550562\n",
      "-----------------------------------\n",
      "accuracy for K=116 for 10-fold is : 0.794606741573\n"
     ]
    }
   ],
   "source": [
    "for a in range(1,120,5) :\n",
    "    print \"-----------------------------------\"\n",
    "    print 'accuracy for K='+str(a)+' for 10-fold is : ' + \\\n",
    "        str(cross_validate(titanic_features, titanic_target, KNeighborsClassifier(a, weights='distance'),\\\n",
    "                           10, r_state=True)) \n",
    "        #str(cross_validate(titanic_features, titanic_target, KNeighborsClassifier(a, weights='distance'),10,0)) \n",
    "\n",
    "\n"
   ]
  },
  {
   "cell_type": "markdown",
   "metadata": {},
   "source": [
    "##Data Normalization"
   ]
  },
  {
   "cell_type": "markdown",
   "metadata": {},
   "source": [
    "Calculate the mean and standard deviation"
   ]
  },
  {
   "cell_type": "code",
   "execution_count": 112,
   "metadata": {
    "collapsed": false
   },
   "outputs": [],
   "source": [
    "avg_age = data.Age.mean()\n",
    "stdev_age = data.Age.std()"
   ]
  },
  {
   "cell_type": "markdown",
   "metadata": {},
   "source": [
    "Subtract the mean and divide by the standard deviation"
   ]
  },
  {
   "cell_type": "code",
   "execution_count": 116,
   "metadata": {
    "collapsed": false
   },
   "outputs": [
    {
     "name": "stdout",
     "output_type": "stream",
     "text": [
      "<class 'pandas.core.frame.DataFrame'>\n",
      "RangeIndex: 891 entries, 0 to 890\n",
      "Data columns (total 17 columns):\n",
      "Unnamed: 0     891 non-null int64\n",
      "PassengerId    891 non-null int64\n",
      "Survived       891 non-null int64\n",
      "Pclass         891 non-null int64\n",
      "Name           891 non-null object\n",
      "Sex            891 non-null bool\n",
      "Age            891 non-null float64\n",
      "SibSp          891 non-null int64\n",
      "Parch          891 non-null int64\n",
      "Ticket         891 non-null object\n",
      "Fare           891 non-null float64\n",
      "Cabin          204 non-null object\n",
      "Embarked       889 non-null object\n",
      "_Pclass_1      891 non-null float64\n",
      "_Pclass_2      891 non-null float64\n",
      "_Pclass_3      891 non-null float64\n",
      "Age_norm       891 non-null float64\n",
      "dtypes: bool(1), float64(6), int64(6), object(4)\n",
      "memory usage: 112.3+ KB\n"
     ]
    }
   ],
   "source": [
    "data['Age_norm']= (\n",
    "      data.Age - avg_age)/ stdev_age\n",
    "\n",
    "data.info()"
   ]
  },
  {
   "cell_type": "markdown",
   "metadata": {},
   "source": [
    "Create new features using normalized data"
   ]
  },
  {
   "cell_type": "code",
   "execution_count": 117,
   "metadata": {
    "collapsed": false
   },
   "outputs": [],
   "source": [
    "features_norm = data [['Age_norm','Sex','_Pclass_1','_Pclass_2','_Pclass_3']].values"
   ]
  },
  {
   "cell_type": "markdown",
   "metadata": {},
   "source": [
    "Test KNN on normalized data"
   ]
  },
  {
   "cell_type": "code",
   "execution_count": 119,
   "metadata": {
    "collapsed": false
   },
   "outputs": [
    {
     "name": "stdout",
     "output_type": "stream",
     "text": [
      "0.762059925094\n",
      "0.797952559301\n",
      "0.790149812734\n",
      "0.80138576779\n",
      "0.796903870162\n",
      "0.801360799001\n",
      "0.802496878901\n",
      "0.80024968789\n",
      "0.799138576779\n"
     ]
    }
   ],
   "source": [
    "for k in range(1,10):\n",
    "    model=KNeighborsClassifier(k)\n",
    "    print cross_validate(features_norm,titanic_target,model,10,0)"
   ]
  },
  {
   "cell_type": "markdown",
   "metadata": {},
   "source": [
    "##Random Forest"
   ]
  },
  {
   "cell_type": "markdown",
   "metadata": {},
   "source": [
    "Import the Random Forest function"
   ]
  },
  {
   "cell_type": "code",
   "execution_count": 120,
   "metadata": {
    "collapsed": false
   },
   "outputs": [],
   "source": [
    "from sklearn.ensemble import RandomForestClassifier"
   ]
  },
  {
   "cell_type": "markdown",
   "metadata": {},
   "source": [
    "Create an instance of a random forest classifier.  Random state is used to set random number generator for reproducible results"
   ]
  },
  {
   "cell_type": "code",
   "execution_count": 121,
   "metadata": {
    "collapsed": false
   },
   "outputs": [],
   "source": [
    "model = RandomForestClassifier(random_state=0)"
   ]
  },
  {
   "cell_type": "markdown",
   "metadata": {},
   "source": [
    "Run the cross-validation function using the Random Forest algorithm"
   ]
  },
  {
   "cell_type": "code",
   "execution_count": 123,
   "metadata": {
    "collapsed": false
   },
   "outputs": [
    {
     "name": "stdout",
     "output_type": "stream",
     "text": [
      "-----------------------------------\n",
      "accuracy for K=1 for 10-fold is : 0.810312109863\n",
      "-----------------------------------\n",
      "accuracy for K=11 for 10-fold is : 0.810312109863\n",
      "-----------------------------------\n",
      "accuracy for K=21 for 10-fold is : 0.810312109863\n",
      "-----------------------------------\n",
      "accuracy for K=31 for 10-fold is : 0.810312109863\n",
      "-----------------------------------\n",
      "accuracy for K=41 for 10-fold is : 0.810312109863\n",
      "-----------------------------------\n",
      "accuracy for K=51 for 10-fold is : 0.810312109863\n",
      "-----------------------------------\n",
      "accuracy for K=61 for 10-fold is : 0.810312109863\n",
      "-----------------------------------\n",
      "accuracy for K=71 for 10-fold is : 0.810312109863\n",
      "-----------------------------------\n",
      "accuracy for K=81 for 10-fold is : 0.810312109863\n",
      "-----------------------------------\n",
      "accuracy for K=91 for 10-fold is : 0.810312109863\n",
      "-----------------------------------\n",
      "accuracy for K=101 for 10-fold is : 0.810312109863\n",
      "-----------------------------------\n",
      "accuracy for K=111 for 10-fold is : 0.810312109863\n"
     ]
    }
   ],
   "source": [
    "for a in range(1,120,10) :\n",
    "    print \"-----------------------------------\"\n",
    "    print 'accuracy for K='+str(a)+' for 10-fold is : ' + \\\n",
    "        str(cross_validate(titanic_features, titanic_target, model,10, r_state=True)) \n",
    "        #str(cross_validate(titanic_features, titanic_target, KNeighborsClassifier(a, weights='distance'),10,0)) \n",
    "\n"
   ]
  },
  {
   "cell_type": "markdown",
   "metadata": {},
   "source": [
    "Investigate feature importances"
   ]
  },
  {
   "cell_type": "code",
   "execution_count": 124,
   "metadata": {
    "collapsed": false
   },
   "outputs": [
    {
     "name": "stdout",
     "output_type": "stream",
     "text": [
      "[ 0.4359133   0.40366222  0.05078753  0.02608483  0.08355212]\n"
     ]
    }
   ],
   "source": [
    "print model.fit(titanic_features, titanic_target).feature_importances_"
   ]
  },
  {
   "cell_type": "markdown",
   "metadata": {},
   "source": [
    "## Exercise\n",
    "\n",
    "- Implement the random forest algorithm on the titanic data\n",
    "- Review the random forest algorithm model parameters on sklearn \n",
    "- Adjust parameters to get the best model performance"
   ]
  },
  {
   "cell_type": "code",
   "execution_count": null,
   "metadata": {
    "collapsed": false
   },
   "outputs": [],
   "source": []
  },
  {
   "cell_type": "code",
   "execution_count": null,
   "metadata": {
    "collapsed": false
   },
   "outputs": [],
   "source": []
  },
  {
   "cell_type": "code",
   "execution_count": null,
   "metadata": {
    "collapsed": false
   },
   "outputs": [],
   "source": []
  },
  {
   "cell_type": "markdown",
   "metadata": {},
   "source": [
    "### Make a Prediction for Kaggle"
   ]
  },
  {
   "cell_type": "markdown",
   "metadata": {},
   "source": [
    "Train the model using the best data available (in the case of the Titanic you'd use all the data)"
   ]
  },
  {
   "cell_type": "code",
   "execution_count": 144,
   "metadata": {
    "collapsed": true
   },
   "outputs": [],
   "source": [
    "model = KNeighborsClassifier(5, weights='distance').fit(features_train, target_train)\n"
   ]
  },
  {
   "cell_type": "markdown",
   "metadata": {},
   "source": [
    "Create a DataFrame with the test.csv data"
   ]
  },
  {
   "cell_type": "code",
   "execution_count": 220,
   "metadata": {
    "collapsed": false
   },
   "outputs": [
    {
     "data": {
      "text/html": [
       "<div>\n",
       "<table border=\"1\" class=\"dataframe\">\n",
       "  <thead>\n",
       "    <tr style=\"text-align: right;\">\n",
       "      <th></th>\n",
       "      <th>PassengerId</th>\n",
       "      <th>Pclass</th>\n",
       "      <th>Name</th>\n",
       "      <th>Sex</th>\n",
       "      <th>Age</th>\n",
       "      <th>SibSp</th>\n",
       "      <th>Parch</th>\n",
       "      <th>Ticket</th>\n",
       "      <th>Fare</th>\n",
       "      <th>Cabin</th>\n",
       "      <th>Embarked</th>\n",
       "    </tr>\n",
       "  </thead>\n",
       "  <tbody>\n",
       "    <tr>\n",
       "      <th>0</th>\n",
       "      <td>892</td>\n",
       "      <td>3</td>\n",
       "      <td>Kelly, Mr. James</td>\n",
       "      <td>male</td>\n",
       "      <td>34.5</td>\n",
       "      <td>0</td>\n",
       "      <td>0</td>\n",
       "      <td>330911</td>\n",
       "      <td>7.8292</td>\n",
       "      <td>NaN</td>\n",
       "      <td>Q</td>\n",
       "    </tr>\n",
       "    <tr>\n",
       "      <th>1</th>\n",
       "      <td>893</td>\n",
       "      <td>3</td>\n",
       "      <td>Wilkes, Mrs. James (Ellen Needs)</td>\n",
       "      <td>female</td>\n",
       "      <td>47.0</td>\n",
       "      <td>1</td>\n",
       "      <td>0</td>\n",
       "      <td>363272</td>\n",
       "      <td>7.0000</td>\n",
       "      <td>NaN</td>\n",
       "      <td>S</td>\n",
       "    </tr>\n",
       "    <tr>\n",
       "      <th>2</th>\n",
       "      <td>894</td>\n",
       "      <td>2</td>\n",
       "      <td>Myles, Mr. Thomas Francis</td>\n",
       "      <td>male</td>\n",
       "      <td>62.0</td>\n",
       "      <td>0</td>\n",
       "      <td>0</td>\n",
       "      <td>240276</td>\n",
       "      <td>9.6875</td>\n",
       "      <td>NaN</td>\n",
       "      <td>Q</td>\n",
       "    </tr>\n",
       "    <tr>\n",
       "      <th>3</th>\n",
       "      <td>895</td>\n",
       "      <td>3</td>\n",
       "      <td>Wirz, Mr. Albert</td>\n",
       "      <td>male</td>\n",
       "      <td>27.0</td>\n",
       "      <td>0</td>\n",
       "      <td>0</td>\n",
       "      <td>315154</td>\n",
       "      <td>8.6625</td>\n",
       "      <td>NaN</td>\n",
       "      <td>S</td>\n",
       "    </tr>\n",
       "    <tr>\n",
       "      <th>4</th>\n",
       "      <td>896</td>\n",
       "      <td>3</td>\n",
       "      <td>Hirvonen, Mrs. Alexander (Helga E Lindqvist)</td>\n",
       "      <td>female</td>\n",
       "      <td>22.0</td>\n",
       "      <td>1</td>\n",
       "      <td>1</td>\n",
       "      <td>3101298</td>\n",
       "      <td>12.2875</td>\n",
       "      <td>NaN</td>\n",
       "      <td>S</td>\n",
       "    </tr>\n",
       "  </tbody>\n",
       "</table>\n",
       "</div>"
      ],
      "text/plain": [
       "   PassengerId  Pclass                                          Name     Sex  \\\n",
       "0          892       3                              Kelly, Mr. James    male   \n",
       "1          893       3              Wilkes, Mrs. James (Ellen Needs)  female   \n",
       "2          894       2                     Myles, Mr. Thomas Francis    male   \n",
       "3          895       3                              Wirz, Mr. Albert    male   \n",
       "4          896       3  Hirvonen, Mrs. Alexander (Helga E Lindqvist)  female   \n",
       "\n",
       "    Age  SibSp  Parch   Ticket     Fare Cabin Embarked  \n",
       "0  34.5      0      0   330911   7.8292   NaN        Q  \n",
       "1  47.0      1      0   363272   7.0000   NaN        S  \n",
       "2  62.0      0      0   240276   9.6875   NaN        Q  \n",
       "3  27.0      0      0   315154   8.6625   NaN        S  \n",
       "4  22.0      1      1  3101298  12.2875   NaN        S  "
      ]
     },
     "execution_count": 220,
     "metadata": {},
     "output_type": "execute_result"
    }
   ],
   "source": [
    "df7 = pd.read_csv('test.csv')\n",
    "df7.head()"
   ]
  },
  {
   "cell_type": "code",
   "execution_count": 221,
   "metadata": {
    "collapsed": false
   },
   "outputs": [
    {
     "name": "stdout",
     "output_type": "stream",
     "text": [
      "<class 'pandas.core.frame.DataFrame'>\n",
      "RangeIndex: 418 entries, 0 to 417\n",
      "Data columns (total 11 columns):\n",
      "PassengerId    418 non-null int64\n",
      "Pclass         418 non-null int64\n",
      "Name           418 non-null object\n",
      "Sex            418 non-null object\n",
      "Age            332 non-null float64\n",
      "SibSp          418 non-null int64\n",
      "Parch          418 non-null int64\n",
      "Ticket         418 non-null object\n",
      "Fare           417 non-null float64\n",
      "Cabin          91 non-null object\n",
      "Embarked       418 non-null object\n",
      "dtypes: float64(2), int64(4), object(5)\n",
      "memory usage: 36.0+ KB\n"
     ]
    }
   ],
   "source": [
    "df7.info()"
   ]
  },
  {
   "cell_type": "code",
   "execution_count": 222,
   "metadata": {
    "collapsed": false
   },
   "outputs": [
    {
     "data": {
      "text/plain": [
       "pandas.core.frame.DataFrame"
      ]
     },
     "execution_count": 222,
     "metadata": {},
     "output_type": "execute_result"
    }
   ],
   "source": [
    "type(df7)"
   ]
  },
  {
   "cell_type": "code",
   "execution_count": 223,
   "metadata": {
    "collapsed": false
   },
   "outputs": [
    {
     "data": {
      "text/html": [
       "<div>\n",
       "<table border=\"1\" class=\"dataframe\">\n",
       "  <thead>\n",
       "    <tr style=\"text-align: right;\">\n",
       "      <th></th>\n",
       "      <th>count</th>\n",
       "      <th>mean</th>\n",
       "      <th>std</th>\n",
       "      <th>min</th>\n",
       "      <th>25%</th>\n",
       "      <th>50%</th>\n",
       "      <th>75%</th>\n",
       "      <th>max</th>\n",
       "    </tr>\n",
       "  </thead>\n",
       "  <tbody>\n",
       "    <tr>\n",
       "      <th>PassengerId</th>\n",
       "      <td>418.0</td>\n",
       "      <td>1100.500000</td>\n",
       "      <td>120.810458</td>\n",
       "      <td>892.00</td>\n",
       "      <td>996.25</td>\n",
       "      <td>1100.5</td>\n",
       "      <td>1204.75</td>\n",
       "      <td>1309.0000</td>\n",
       "    </tr>\n",
       "    <tr>\n",
       "      <th>Pclass</th>\n",
       "      <td>418.0</td>\n",
       "      <td>2.265550</td>\n",
       "      <td>0.841838</td>\n",
       "      <td>1.00</td>\n",
       "      <td>1.00</td>\n",
       "      <td>3.0</td>\n",
       "      <td>3.00</td>\n",
       "      <td>3.0000</td>\n",
       "    </tr>\n",
       "    <tr>\n",
       "      <th>Age</th>\n",
       "      <td>332.0</td>\n",
       "      <td>30.272590</td>\n",
       "      <td>14.181209</td>\n",
       "      <td>0.17</td>\n",
       "      <td>NaN</td>\n",
       "      <td>NaN</td>\n",
       "      <td>NaN</td>\n",
       "      <td>76.0000</td>\n",
       "    </tr>\n",
       "    <tr>\n",
       "      <th>SibSp</th>\n",
       "      <td>418.0</td>\n",
       "      <td>0.447368</td>\n",
       "      <td>0.896760</td>\n",
       "      <td>0.00</td>\n",
       "      <td>0.00</td>\n",
       "      <td>0.0</td>\n",
       "      <td>1.00</td>\n",
       "      <td>8.0000</td>\n",
       "    </tr>\n",
       "    <tr>\n",
       "      <th>Parch</th>\n",
       "      <td>418.0</td>\n",
       "      <td>0.392344</td>\n",
       "      <td>0.981429</td>\n",
       "      <td>0.00</td>\n",
       "      <td>0.00</td>\n",
       "      <td>0.0</td>\n",
       "      <td>0.00</td>\n",
       "      <td>9.0000</td>\n",
       "    </tr>\n",
       "    <tr>\n",
       "      <th>Fare</th>\n",
       "      <td>417.0</td>\n",
       "      <td>35.627188</td>\n",
       "      <td>55.907576</td>\n",
       "      <td>0.00</td>\n",
       "      <td>NaN</td>\n",
       "      <td>NaN</td>\n",
       "      <td>NaN</td>\n",
       "      <td>512.3292</td>\n",
       "    </tr>\n",
       "  </tbody>\n",
       "</table>\n",
       "</div>"
      ],
      "text/plain": [
       "             count         mean         std     min     25%     50%      75%  \\\n",
       "PassengerId  418.0  1100.500000  120.810458  892.00  996.25  1100.5  1204.75   \n",
       "Pclass       418.0     2.265550    0.841838    1.00    1.00     3.0     3.00   \n",
       "Age          332.0    30.272590   14.181209    0.17     NaN     NaN      NaN   \n",
       "SibSp        418.0     0.447368    0.896760    0.00    0.00     0.0     1.00   \n",
       "Parch        418.0     0.392344    0.981429    0.00    0.00     0.0     0.00   \n",
       "Fare         417.0    35.627188   55.907576    0.00     NaN     NaN      NaN   \n",
       "\n",
       "                   max  \n",
       "PassengerId  1309.0000  \n",
       "Pclass          3.0000  \n",
       "Age            76.0000  \n",
       "SibSp           8.0000  \n",
       "Parch           9.0000  \n",
       "Fare          512.3292  "
      ]
     },
     "execution_count": 223,
     "metadata": {},
     "output_type": "execute_result"
    }
   ],
   "source": [
    "df7.describe().T"
   ]
  },
  {
   "cell_type": "markdown",
   "metadata": {},
   "source": [
    "Clean text and missing values"
   ]
  },
  {
   "cell_type": "code",
   "execution_count": 224,
   "metadata": {
    "collapsed": false
   },
   "outputs": [],
   "source": [
    "df7.Sex.replace(['male','female'],[True,False],inplace=True)"
   ]
  },
  {
   "cell_type": "code",
   "execution_count": 225,
   "metadata": {
    "collapsed": false
   },
   "outputs": [
    {
     "name": "stdout",
     "output_type": "stream",
     "text": [
      "30.2725903614\n"
     ]
    }
   ],
   "source": [
    "avg_Age = df7.Age.mean()\n",
    "print avg_Age"
   ]
  },
  {
   "cell_type": "code",
   "execution_count": 228,
   "metadata": {
    "collapsed": false
   },
   "outputs": [],
   "source": [
    "df7.Age.fillna(avg_Age, inplace=True)"
   ]
  },
  {
   "cell_type": "code",
   "execution_count": 231,
   "metadata": {
    "collapsed": false
   },
   "outputs": [
    {
     "data": {
      "text/html": [
       "<div>\n",
       "<table border=\"1\" class=\"dataframe\">\n",
       "  <thead>\n",
       "    <tr style=\"text-align: right;\">\n",
       "      <th></th>\n",
       "      <th>count</th>\n",
       "      <th>mean</th>\n",
       "      <th>std</th>\n",
       "      <th>min</th>\n",
       "      <th>25%</th>\n",
       "      <th>50%</th>\n",
       "      <th>75%</th>\n",
       "      <th>max</th>\n",
       "    </tr>\n",
       "  </thead>\n",
       "  <tbody>\n",
       "    <tr>\n",
       "      <th>PassengerId</th>\n",
       "      <td>418.0</td>\n",
       "      <td>1100.500000</td>\n",
       "      <td>120.810458</td>\n",
       "      <td>892.00</td>\n",
       "      <td>996.25</td>\n",
       "      <td>1100.50000</td>\n",
       "      <td>1204.75</td>\n",
       "      <td>1309.0000</td>\n",
       "    </tr>\n",
       "    <tr>\n",
       "      <th>Pclass</th>\n",
       "      <td>418.0</td>\n",
       "      <td>2.265550</td>\n",
       "      <td>0.841838</td>\n",
       "      <td>1.00</td>\n",
       "      <td>1.00</td>\n",
       "      <td>3.00000</td>\n",
       "      <td>3.00</td>\n",
       "      <td>3.0000</td>\n",
       "    </tr>\n",
       "    <tr>\n",
       "      <th>Age</th>\n",
       "      <td>418.0</td>\n",
       "      <td>30.272590</td>\n",
       "      <td>12.634534</td>\n",
       "      <td>0.17</td>\n",
       "      <td>23.00</td>\n",
       "      <td>30.27259</td>\n",
       "      <td>35.75</td>\n",
       "      <td>76.0000</td>\n",
       "    </tr>\n",
       "    <tr>\n",
       "      <th>SibSp</th>\n",
       "      <td>418.0</td>\n",
       "      <td>0.447368</td>\n",
       "      <td>0.896760</td>\n",
       "      <td>0.00</td>\n",
       "      <td>0.00</td>\n",
       "      <td>0.00000</td>\n",
       "      <td>1.00</td>\n",
       "      <td>8.0000</td>\n",
       "    </tr>\n",
       "    <tr>\n",
       "      <th>Parch</th>\n",
       "      <td>418.0</td>\n",
       "      <td>0.392344</td>\n",
       "      <td>0.981429</td>\n",
       "      <td>0.00</td>\n",
       "      <td>0.00</td>\n",
       "      <td>0.00000</td>\n",
       "      <td>0.00</td>\n",
       "      <td>9.0000</td>\n",
       "    </tr>\n",
       "    <tr>\n",
       "      <th>Fare</th>\n",
       "      <td>417.0</td>\n",
       "      <td>35.627188</td>\n",
       "      <td>55.907576</td>\n",
       "      <td>0.00</td>\n",
       "      <td>NaN</td>\n",
       "      <td>NaN</td>\n",
       "      <td>NaN</td>\n",
       "      <td>512.3292</td>\n",
       "    </tr>\n",
       "  </tbody>\n",
       "</table>\n",
       "</div>"
      ],
      "text/plain": [
       "             count         mean         std     min     25%         50%  \\\n",
       "PassengerId  418.0  1100.500000  120.810458  892.00  996.25  1100.50000   \n",
       "Pclass       418.0     2.265550    0.841838    1.00    1.00     3.00000   \n",
       "Age          418.0    30.272590   12.634534    0.17   23.00    30.27259   \n",
       "SibSp        418.0     0.447368    0.896760    0.00    0.00     0.00000   \n",
       "Parch        418.0     0.392344    0.981429    0.00    0.00     0.00000   \n",
       "Fare         417.0    35.627188   55.907576    0.00     NaN         NaN   \n",
       "\n",
       "                 75%        max  \n",
       "PassengerId  1204.75  1309.0000  \n",
       "Pclass          3.00     3.0000  \n",
       "Age            35.75    76.0000  \n",
       "SibSp           1.00     8.0000  \n",
       "Parch           0.00     9.0000  \n",
       "Fare             NaN   512.3292  "
      ]
     },
     "execution_count": 231,
     "metadata": {},
     "output_type": "execute_result"
    }
   ],
   "source": [
    "#df7_ = df7.dropna(subset=['Sex','Age','Pclass'])\n",
    "df7.describe().T"
   ]
  },
  {
   "cell_type": "code",
   "execution_count": 232,
   "metadata": {
    "collapsed": false
   },
   "outputs": [
    {
     "data": {
      "text/plain": [
       "True     266\n",
       "False    152\n",
       "Name: Sex, dtype: int64"
      ]
     },
     "execution_count": 232,
     "metadata": {},
     "output_type": "execute_result"
    }
   ],
   "source": [
    "df7.Sex.value_counts()"
   ]
  },
  {
   "cell_type": "code",
   "execution_count": 233,
   "metadata": {
    "collapsed": false
   },
   "outputs": [
    {
     "name": "stdout",
     "output_type": "stream",
     "text": [
      "<class 'pandas.core.frame.DataFrame'>\n",
      "RangeIndex: 418 entries, 0 to 417\n",
      "Data columns (total 11 columns):\n",
      "PassengerId    418 non-null int64\n",
      "Pclass         418 non-null int64\n",
      "Name           418 non-null object\n",
      "Sex            418 non-null bool\n",
      "Age            418 non-null float64\n",
      "SibSp          418 non-null int64\n",
      "Parch          418 non-null int64\n",
      "Ticket         418 non-null object\n",
      "Fare           417 non-null float64\n",
      "Cabin          91 non-null object\n",
      "Embarked       418 non-null object\n",
      "dtypes: bool(1), float64(2), int64(4), object(4)\n",
      "memory usage: 33.1+ KB\n"
     ]
    }
   ],
   "source": [
    "df7.info()"
   ]
  },
  {
   "cell_type": "code",
   "execution_count": 234,
   "metadata": {
    "collapsed": false
   },
   "outputs": [
    {
     "data": {
      "text/plain": [
       "3    218\n",
       "1    107\n",
       "2     93\n",
       "Name: Pclass, dtype: int64"
      ]
     },
     "execution_count": 234,
     "metadata": {},
     "output_type": "execute_result"
    }
   ],
   "source": [
    "df7.Pclass.value_counts()"
   ]
  },
  {
   "cell_type": "markdown",
   "metadata": {},
   "source": [
    "Convert Pclass to dummies and merge to data"
   ]
  },
  {
   "cell_type": "code",
   "execution_count": 235,
   "metadata": {
    "collapsed": false
   },
   "outputs": [
    {
     "name": "stdout",
     "output_type": "stream",
     "text": [
      "<class 'pandas.core.frame.DataFrame'>\n",
      "RangeIndex: 418 entries, 0 to 417\n",
      "Data columns (total 3 columns):\n",
      "_Pclass_1    418 non-null float64\n",
      "_Pclass_2    418 non-null float64\n",
      "_Pclass_3    418 non-null float64\n",
      "dtypes: float64(3)\n",
      "memory usage: 9.9 KB\n"
     ]
    }
   ],
   "source": [
    "df7_1 = pd.get_dummies(df7.Pclass, prefix='_Pclass')\n",
    "df7_1.info()"
   ]
  },
  {
   "cell_type": "code",
   "execution_count": 236,
   "metadata": {
    "collapsed": false
   },
   "outputs": [
    {
     "name": "stdout",
     "output_type": "stream",
     "text": [
      "<class 'pandas.core.frame.DataFrame'>\n",
      "RangeIndex: 418 entries, 0 to 417\n",
      "Data columns (total 14 columns):\n",
      "PassengerId    418 non-null int64\n",
      "Pclass         418 non-null int64\n",
      "Name           418 non-null object\n",
      "Sex            418 non-null bool\n",
      "Age            418 non-null float64\n",
      "SibSp          418 non-null int64\n",
      "Parch          418 non-null int64\n",
      "Ticket         418 non-null object\n",
      "Fare           417 non-null float64\n",
      "Cabin          91 non-null object\n",
      "Embarked       418 non-null object\n",
      "_Pclass_1      418 non-null float64\n",
      "_Pclass_2      418 non-null float64\n",
      "_Pclass_3      418 non-null float64\n",
      "dtypes: bool(1), float64(5), int64(4), object(4)\n",
      "memory usage: 42.9+ KB\n"
     ]
    },
    {
     "data": {
      "text/html": [
       "<div>\n",
       "<table border=\"1\" class=\"dataframe\">\n",
       "  <thead>\n",
       "    <tr style=\"text-align: right;\">\n",
       "      <th></th>\n",
       "      <th>count</th>\n",
       "      <th>mean</th>\n",
       "      <th>std</th>\n",
       "      <th>min</th>\n",
       "      <th>25%</th>\n",
       "      <th>50%</th>\n",
       "      <th>75%</th>\n",
       "      <th>max</th>\n",
       "    </tr>\n",
       "  </thead>\n",
       "  <tbody>\n",
       "    <tr>\n",
       "      <th>PassengerId</th>\n",
       "      <td>418.0</td>\n",
       "      <td>1100.500000</td>\n",
       "      <td>120.810458</td>\n",
       "      <td>892.00</td>\n",
       "      <td>996.25</td>\n",
       "      <td>1100.50000</td>\n",
       "      <td>1204.75</td>\n",
       "      <td>1309.0000</td>\n",
       "    </tr>\n",
       "    <tr>\n",
       "      <th>Pclass</th>\n",
       "      <td>418.0</td>\n",
       "      <td>2.265550</td>\n",
       "      <td>0.841838</td>\n",
       "      <td>1.00</td>\n",
       "      <td>1.00</td>\n",
       "      <td>3.00000</td>\n",
       "      <td>3.00</td>\n",
       "      <td>3.0000</td>\n",
       "    </tr>\n",
       "    <tr>\n",
       "      <th>Age</th>\n",
       "      <td>418.0</td>\n",
       "      <td>30.272590</td>\n",
       "      <td>12.634534</td>\n",
       "      <td>0.17</td>\n",
       "      <td>23.00</td>\n",
       "      <td>30.27259</td>\n",
       "      <td>35.75</td>\n",
       "      <td>76.0000</td>\n",
       "    </tr>\n",
       "    <tr>\n",
       "      <th>SibSp</th>\n",
       "      <td>418.0</td>\n",
       "      <td>0.447368</td>\n",
       "      <td>0.896760</td>\n",
       "      <td>0.00</td>\n",
       "      <td>0.00</td>\n",
       "      <td>0.00000</td>\n",
       "      <td>1.00</td>\n",
       "      <td>8.0000</td>\n",
       "    </tr>\n",
       "    <tr>\n",
       "      <th>Parch</th>\n",
       "      <td>418.0</td>\n",
       "      <td>0.392344</td>\n",
       "      <td>0.981429</td>\n",
       "      <td>0.00</td>\n",
       "      <td>0.00</td>\n",
       "      <td>0.00000</td>\n",
       "      <td>0.00</td>\n",
       "      <td>9.0000</td>\n",
       "    </tr>\n",
       "    <tr>\n",
       "      <th>Fare</th>\n",
       "      <td>417.0</td>\n",
       "      <td>35.627188</td>\n",
       "      <td>55.907576</td>\n",
       "      <td>0.00</td>\n",
       "      <td>NaN</td>\n",
       "      <td>NaN</td>\n",
       "      <td>NaN</td>\n",
       "      <td>512.3292</td>\n",
       "    </tr>\n",
       "    <tr>\n",
       "      <th>_Pclass_1</th>\n",
       "      <td>418.0</td>\n",
       "      <td>0.255981</td>\n",
       "      <td>0.436934</td>\n",
       "      <td>0.00</td>\n",
       "      <td>0.00</td>\n",
       "      <td>0.00000</td>\n",
       "      <td>1.00</td>\n",
       "      <td>1.0000</td>\n",
       "    </tr>\n",
       "    <tr>\n",
       "      <th>_Pclass_2</th>\n",
       "      <td>418.0</td>\n",
       "      <td>0.222488</td>\n",
       "      <td>0.416416</td>\n",
       "      <td>0.00</td>\n",
       "      <td>0.00</td>\n",
       "      <td>0.00000</td>\n",
       "      <td>0.00</td>\n",
       "      <td>1.0000</td>\n",
       "    </tr>\n",
       "    <tr>\n",
       "      <th>_Pclass_3</th>\n",
       "      <td>418.0</td>\n",
       "      <td>0.521531</td>\n",
       "      <td>0.500135</td>\n",
       "      <td>0.00</td>\n",
       "      <td>0.00</td>\n",
       "      <td>1.00000</td>\n",
       "      <td>1.00</td>\n",
       "      <td>1.0000</td>\n",
       "    </tr>\n",
       "  </tbody>\n",
       "</table>\n",
       "</div>"
      ],
      "text/plain": [
       "             count         mean         std     min     25%         50%  \\\n",
       "PassengerId  418.0  1100.500000  120.810458  892.00  996.25  1100.50000   \n",
       "Pclass       418.0     2.265550    0.841838    1.00    1.00     3.00000   \n",
       "Age          418.0    30.272590   12.634534    0.17   23.00    30.27259   \n",
       "SibSp        418.0     0.447368    0.896760    0.00    0.00     0.00000   \n",
       "Parch        418.0     0.392344    0.981429    0.00    0.00     0.00000   \n",
       "Fare         417.0    35.627188   55.907576    0.00     NaN         NaN   \n",
       "_Pclass_1    418.0     0.255981    0.436934    0.00    0.00     0.00000   \n",
       "_Pclass_2    418.0     0.222488    0.416416    0.00    0.00     0.00000   \n",
       "_Pclass_3    418.0     0.521531    0.500135    0.00    0.00     1.00000   \n",
       "\n",
       "                 75%        max  \n",
       "PassengerId  1204.75  1309.0000  \n",
       "Pclass          3.00     3.0000  \n",
       "Age            35.75    76.0000  \n",
       "SibSp           1.00     8.0000  \n",
       "Parch           0.00     9.0000  \n",
       "Fare             NaN   512.3292  \n",
       "_Pclass_1       1.00     1.0000  \n",
       "_Pclass_2       0.00     1.0000  \n",
       "_Pclass_3       1.00     1.0000  "
      ]
     },
     "execution_count": 236,
     "metadata": {},
     "output_type": "execute_result"
    }
   ],
   "source": [
    "df = pd.merge(df7, df7_1, left_index=True, right_index=True)\n",
    "df.info()\n",
    "df.describe().T"
   ]
  },
  {
   "cell_type": "code",
   "execution_count": null,
   "metadata": {
    "collapsed": true
   },
   "outputs": [],
   "source": []
  },
  {
   "cell_type": "code",
   "execution_count": null,
   "metadata": {
    "collapsed": false
   },
   "outputs": [],
   "source": []
  },
  {
   "cell_type": "markdown",
   "metadata": {},
   "source": [
    "Select features from test data and convert to numpy array"
   ]
  },
  {
   "cell_type": "code",
   "execution_count": 237,
   "metadata": {
    "collapsed": false
   },
   "outputs": [
    {
     "data": {
      "text/plain": [
       "array([[34.5, True, 0.0, 0.0, 1.0],\n",
       "       [47.0, False, 0.0, 0.0, 1.0],\n",
       "       [62.0, True, 0.0, 1.0, 0.0],\n",
       "       ..., \n",
       "       [38.5, True, 0.0, 0.0, 1.0],\n",
       "       [30.272590361445783, True, 0.0, 0.0, 1.0],\n",
       "       [30.272590361445783, True, 0.0, 0.0, 1.0]], dtype=object)"
      ]
     },
     "execution_count": 237,
     "metadata": {},
     "output_type": "execute_result"
    }
   ],
   "source": [
    "titanic_features2 = df[['Age', 'Sex',  '_Pclass_1', '_Pclass_2','_Pclass_3']].values\n",
    "\n",
    "#titanic_target2 = data.Survived.values\n",
    "titanic_features2"
   ]
  },
  {
   "cell_type": "code",
   "execution_count": 179,
   "metadata": {
    "collapsed": false
   },
   "outputs": [
    {
     "data": {
      "text/plain": [
       "array([[29.6991176471, True, 0.0, 0.0, 1.0],\n",
       "       [29.6991176471, True, 0.0, 0.0, 1.0],\n",
       "       [7.0, True, 0.0, 0.0, 1.0],\n",
       "       [29.6991176471, False, 1.0, 0.0, 0.0],\n",
       "       [29.0, False, 0.0, 0.0, 1.0],\n",
       "       [29.6991176471, True, 1.0, 0.0, 0.0],\n",
       "       [40.0, False, 1.0, 0.0, 0.0],\n",
       "       [31.0, False, 1.0, 0.0, 0.0],\n",
       "       [25.0, True, 1.0, 0.0, 0.0],\n",
       "       [29.6991176471, False, 0.0, 0.0, 1.0],\n",
       "       [26.0, True, 0.0, 0.0, 1.0],\n",
       "       [40.0, False, 0.0, 1.0, 0.0],\n",
       "       [29.6991176471, True, 0.0, 0.0, 1.0],\n",
       "       [7.0, False, 0.0, 1.0, 0.0],\n",
       "       [24.0, False, 1.0, 0.0, 0.0],\n",
       "       [14.0, False, 0.0, 0.0, 1.0],\n",
       "       [23.0, True, 0.0, 0.0, 1.0],\n",
       "       [19.0, True, 0.0, 1.0, 0.0],\n",
       "       [35.0, True, 0.0, 0.0, 1.0],\n",
       "       [0.42, True, 0.0, 0.0, 1.0],\n",
       "       [18.0, True, 0.0, 1.0, 0.0],\n",
       "       [22.0, False, 1.0, 0.0, 0.0],\n",
       "       [29.6991176471, True, 0.0, 0.0, 1.0],\n",
       "       [29.6991176471, True, 1.0, 0.0, 0.0],\n",
       "       [22.0, False, 0.0, 0.0, 1.0],\n",
       "       [40.0, False, 1.0, 0.0, 0.0],\n",
       "       [32.0, True, 0.0, 0.0, 1.0],\n",
       "       [22.0, False, 0.0, 0.0, 1.0],\n",
       "       [25.0, False, 0.0, 1.0, 0.0],\n",
       "       [2.0, False, 0.0, 0.0, 1.0],\n",
       "       [33.0, True, 0.0, 0.0, 1.0],\n",
       "       [50.0, False, 0.0, 1.0, 0.0],\n",
       "       [28.0, True, 0.0, 0.0, 1.0],\n",
       "       [29.6991176471, True, 1.0, 0.0, 0.0],\n",
       "       [29.0, True, 0.0, 0.0, 1.0],\n",
       "       [32.0, True, 1.0, 0.0, 0.0],\n",
       "       [43.0, True, 0.0, 0.0, 1.0],\n",
       "       [28.0, True, 0.0, 1.0, 0.0],\n",
       "       [25.0, True, 0.0, 1.0, 0.0],\n",
       "       [54.0, True, 0.0, 1.0, 0.0],\n",
       "       [60.0, True, 1.0, 0.0, 0.0],\n",
       "       [25.0, True, 0.0, 0.0, 1.0],\n",
       "       [29.6991176471, True, 0.0, 0.0, 1.0],\n",
       "       [14.0, True, 0.0, 0.0, 1.0],\n",
       "       [35.0, False, 1.0, 0.0, 0.0],\n",
       "       [29.6991176471, True, 0.0, 0.0, 1.0],\n",
       "       [29.6991176471, True, 0.0, 0.0, 1.0],\n",
       "       [18.0, False, 1.0, 0.0, 0.0],\n",
       "       [39.0, True, 0.0, 1.0, 0.0],\n",
       "       [52.0, True, 1.0, 0.0, 0.0],\n",
       "       [29.6991176471, True, 1.0, 0.0, 0.0],\n",
       "       [23.0, True, 1.0, 0.0, 0.0],\n",
       "       [4.0, False, 0.0, 1.0, 0.0],\n",
       "       [19.0, True, 0.0, 0.0, 1.0],\n",
       "       [29.6991176471, True, 1.0, 0.0, 0.0],\n",
       "       [24.0, True, 0.0, 1.0, 0.0],\n",
       "       [62.0, True, 1.0, 0.0, 0.0],\n",
       "       [11.0, False, 0.0, 0.0, 1.0],\n",
       "       [10.0, True, 0.0, 0.0, 1.0],\n",
       "       [29.6991176471, True, 0.0, 0.0, 1.0],\n",
       "       [22.0, True, 0.0, 0.0, 1.0],\n",
       "       [29.0, False, 0.0, 0.0, 1.0],\n",
       "       [54.0, False, 1.0, 0.0, 0.0],\n",
       "       [29.6991176471, True, 1.0, 0.0, 0.0],\n",
       "       [27.0, False, 0.0, 0.0, 1.0],\n",
       "       [32.0, True, 0.0, 0.0, 1.0],\n",
       "       [49.0, False, 1.0, 0.0, 0.0],\n",
       "       [28.0, True, 0.0, 1.0, 0.0],\n",
       "       [2.0, False, 0.0, 1.0, 0.0],\n",
       "       [19.0, False, 1.0, 0.0, 0.0],\n",
       "       [24.0, False, 0.0, 1.0, 0.0],\n",
       "       [48.0, True, 1.0, 0.0, 0.0],\n",
       "       [28.0, True, 1.0, 0.0, 0.0],\n",
       "       [29.6991176471, True, 0.0, 0.0, 1.0],\n",
       "       [24.5, True, 0.0, 0.0, 1.0],\n",
       "       [30.0, False, 0.0, 1.0, 0.0],\n",
       "       [19.0, True, 1.0, 0.0, 0.0],\n",
       "       [40.0, True, 1.0, 0.0, 0.0],\n",
       "       [34.0, True, 0.0, 0.0, 1.0],\n",
       "       [29.6991176471, True, 0.0, 1.0, 0.0],\n",
       "       [29.6991176471, True, 0.0, 0.0, 1.0],\n",
       "       [9.0, True, 0.0, 0.0, 1.0],\n",
       "       [26.0, False, 0.0, 1.0, 0.0],\n",
       "       [16.0, True, 0.0, 0.0, 1.0],\n",
       "       [46.0, True, 0.0, 1.0, 0.0],\n",
       "       [21.0, False, 1.0, 0.0, 0.0],\n",
       "       [42.0, False, 1.0, 0.0, 0.0],\n",
       "       [63.0, False, 0.0, 0.0, 1.0],\n",
       "       [34.0, False, 0.0, 1.0, 0.0],\n",
       "       [18.0, True, 1.0, 0.0, 0.0],\n",
       "       [29.6991176471, True, 1.0, 0.0, 0.0],\n",
       "       [19.0, True, 0.0, 0.0, 1.0],\n",
       "       [3.0, True, 0.0, 1.0, 0.0],\n",
       "       [44.0, False, 1.0, 0.0, 0.0],\n",
       "       [9.0, False, 0.0, 0.0, 1.0],\n",
       "       [29.6991176471, True, 0.0, 0.0, 1.0],\n",
       "       [24.0, False, 0.0, 1.0, 0.0],\n",
       "       [16.0, True, 0.0, 0.0, 1.0],\n",
       "       [60.0, True, 1.0, 0.0, 0.0],\n",
       "       [27.0, True, 1.0, 0.0, 0.0],\n",
       "       [14.0, True, 0.0, 0.0, 1.0],\n",
       "       [54.0, True, 0.0, 1.0, 0.0],\n",
       "       [19.0, True, 0.0, 0.0, 1.0],\n",
       "       [18.0, True, 0.0, 0.0, 1.0],\n",
       "       [29.0, False, 0.0, 0.0, 1.0],\n",
       "       [35.0, False, 0.0, 0.0, 1.0],\n",
       "       [28.0, False, 0.0, 1.0, 0.0],\n",
       "       [41.0, False, 0.0, 0.0, 1.0],\n",
       "       [25.0, True, 0.0, 1.0, 0.0],\n",
       "       [29.6991176471, False, 0.0, 0.0, 1.0],\n",
       "       [48.0, True, 0.0, 0.0, 1.0],\n",
       "       [22.0, False, 1.0, 0.0, 0.0],\n",
       "       [32.0, True, 0.0, 0.0, 1.0],\n",
       "       [29.6991176471, False, 0.0, 0.0, 1.0],\n",
       "       [36.0, True, 1.0, 0.0, 0.0],\n",
       "       [28.0, False, 0.0, 1.0, 0.0],\n",
       "       [24.0, False, 0.0, 0.0, 1.0],\n",
       "       [18.0, False, 1.0, 0.0, 0.0],\n",
       "       [40.0, True, 0.0, 0.0, 1.0],\n",
       "       [45.0, False, 0.0, 1.0, 0.0],\n",
       "       [29.6991176471, True, 0.0, 0.0, 1.0],\n",
       "       [29.6991176471, True, 0.0, 0.0, 1.0],\n",
       "       [20.0, True, 0.0, 0.0, 1.0],\n",
       "       [38.0, True, 1.0, 0.0, 0.0],\n",
       "       [33.0, True, 0.0, 0.0, 1.0],\n",
       "       [58.0, True, 1.0, 0.0, 0.0],\n",
       "       [29.6991176471, True, 0.0, 0.0, 1.0],\n",
       "       [25.0, True, 0.0, 0.0, 1.0],\n",
       "       [29.6991176471, True, 0.0, 1.0, 0.0],\n",
       "       [51.0, True, 0.0, 1.0, 0.0],\n",
       "       [21.0, False, 0.0, 0.0, 1.0],\n",
       "       [21.0, True, 0.0, 0.0, 1.0],\n",
       "       [25.0, True, 0.0, 0.0, 1.0],\n",
       "       [20.0, False, 0.0, 0.0, 1.0],\n",
       "       [64.0, True, 1.0, 0.0, 0.0],\n",
       "       [21.0, True, 0.0, 0.0, 1.0],\n",
       "       [29.6991176471, True, 0.0, 0.0, 1.0],\n",
       "       [40.0, False, 0.0, 0.0, 1.0],\n",
       "       [44.0, True, 0.0, 1.0, 0.0],\n",
       "       [23.0, True, 0.0, 1.0, 0.0],\n",
       "       [28.0, True, 0.0, 1.0, 0.0],\n",
       "       [33.0, False, 1.0, 0.0, 0.0],\n",
       "       [29.6991176471, True, 0.0, 0.0, 1.0],\n",
       "       [18.0, False, 0.0, 0.0, 1.0],\n",
       "       [29.6991176471, False, 0.0, 1.0, 0.0],\n",
       "       [24.0, False, 0.0, 0.0, 1.0],\n",
       "       [30.0, True, 0.0, 1.0, 0.0],\n",
       "       [42.0, False, 0.0, 1.0, 0.0],\n",
       "       [50.0, False, 1.0, 0.0, 0.0],\n",
       "       [29.6991176471, True, 0.0, 0.0, 1.0],\n",
       "       [45.0, True, 1.0, 0.0, 0.0],\n",
       "       [30.0, False, 0.0, 0.0, 1.0],\n",
       "       [37.0, False, 0.0, 0.0, 1.0],\n",
       "       [29.0, True, 0.0, 0.0, 1.0],\n",
       "       [17.0, False, 0.0, 1.0, 0.0],\n",
       "       [26.0, True, 0.0, 1.0, 0.0],\n",
       "       [45.0, False, 0.0, 0.0, 1.0],\n",
       "       [62.0, True, 0.0, 1.0, 0.0],\n",
       "       [29.6991176471, False, 0.0, 0.0, 1.0],\n",
       "       [0.75, False, 0.0, 0.0, 1.0],\n",
       "       [29.6991176471, True, 0.0, 0.0, 1.0],\n",
       "       [20.0, True, 0.0, 0.0, 1.0],\n",
       "       [54.0, False, 1.0, 0.0, 0.0],\n",
       "       [33.0, False, 0.0, 0.0, 1.0],\n",
       "       [15.0, True, 0.0, 0.0, 1.0],\n",
       "       [25.0, True, 0.0, 0.0, 1.0],\n",
       "       [51.0, True, 0.0, 0.0, 1.0],\n",
       "       [22.0, True, 0.0, 0.0, 1.0],\n",
       "       [24.0, True, 0.0, 0.0, 1.0],\n",
       "       [17.0, True, 0.0, 0.0, 1.0],\n",
       "       [51.0, True, 0.0, 0.0, 1.0],\n",
       "       [38.0, False, 1.0, 0.0, 0.0],\n",
       "       [29.6991176471, True, 0.0, 0.0, 1.0],\n",
       "       [29.6991176471, True, 0.0, 0.0, 1.0],\n",
       "       [13.0, False, 0.0, 0.0, 1.0],\n",
       "       [29.6991176471, True, 0.0, 0.0, 1.0],\n",
       "       [31.0, False, 1.0, 0.0, 0.0],\n",
       "       [23.0, True, 0.0, 0.0, 1.0],\n",
       "       [19.0, True, 0.0, 0.0, 1.0]], dtype=object)"
      ]
     },
     "execution_count": 179,
     "metadata": {},
     "output_type": "execute_result"
    }
   ],
   "source": [
    "#print model.predict(features_test)\n",
    "features_test #previous example !!"
   ]
  },
  {
   "cell_type": "markdown",
   "metadata": {},
   "source": [
    "Create predictions"
   ]
  },
  {
   "cell_type": "code",
   "execution_count": 238,
   "metadata": {
    "collapsed": false
   },
   "outputs": [
    {
     "data": {
      "text/plain": [
       "array([0, 0, 0, 1, 1, 1, 0, 0, 0, 0, 0, 0, 1, 0, 1, 1, 0, 0, 1, 0, 0, 0, 1,\n",
       "       0, 1, 0, 1, 0, 1, 0, 0, 0, 0, 0, 0, 0, 0, 0, 0, 0, 0, 0, 0, 1, 1, 0,\n",
       "       0, 0, 1, 1, 0, 0, 1, 1, 0, 0, 0, 0, 0, 1, 0, 0, 0, 1, 1, 1, 0, 0, 0,\n",
       "       1, 1, 0, 1, 0, 1, 0, 0, 0, 0, 1, 1, 0, 1, 0, 0, 0, 1, 0, 0, 1, 1, 0,\n",
       "       1, 0, 1, 0, 0, 0, 0, 0, 1, 0, 0, 0, 1, 0, 0, 0, 0, 0, 1, 0, 1, 0, 1,\n",
       "       0, 0, 1, 1, 1, 1, 0, 1, 0, 0, 0, 0, 0, 0, 0, 0, 1, 0, 0, 0, 0, 0, 0,\n",
       "       0, 0, 0, 1, 0, 0, 1, 0, 0, 0, 0, 0, 1, 0, 0, 1, 1, 0, 1, 0, 1, 1, 0,\n",
       "       0, 1, 0, 1, 1, 1, 0, 1, 1, 0, 1, 0, 0, 0, 1, 1, 0, 1, 0, 0, 0, 1, 0,\n",
       "       1, 0, 1, 0, 0, 0, 0, 0, 0, 0, 1, 0, 1, 0, 0, 0, 0, 1, 0, 1, 0, 0, 0,\n",
       "       0, 1, 0, 0, 0, 0, 0, 1, 1, 0, 0, 0, 0, 1, 0, 1, 0, 1, 0, 0, 0, 0, 0,\n",
       "       1, 1, 0, 0, 0, 0, 0, 0, 1, 1, 0, 1, 0, 0, 0, 1, 1, 0, 1, 0, 1, 0, 1,\n",
       "       0, 0, 0, 0, 0, 1, 0, 0, 0, 1, 1, 0, 0, 0, 0, 0, 0, 0, 0, 1, 0, 0, 1,\n",
       "       0, 0, 0, 0, 0, 0, 0, 0, 0, 0, 0, 0, 0, 0, 0, 0, 0, 1, 0, 0, 1, 0, 0,\n",
       "       0, 0, 0, 0, 0, 0, 0, 0, 0, 0, 0, 0, 0, 0, 0, 0, 0, 0, 0, 1, 0, 0, 0,\n",
       "       0, 0, 1, 0, 1, 0, 0, 0, 1, 0, 0, 1, 1, 0, 0, 0, 0, 0, 0, 0, 0, 1, 0,\n",
       "       1, 0, 1, 0, 1, 1, 0, 0, 1, 1, 0, 1, 0, 0, 0, 1, 1, 1, 1, 0, 0, 0, 1,\n",
       "       1, 0, 0, 1, 1, 0, 0, 1, 1, 0, 0, 0, 0, 0, 0, 1, 0, 1, 0, 0, 0, 1, 0,\n",
       "       1, 1, 0, 0, 1, 0, 1, 0, 0, 1, 0, 1, 1, 1, 0, 0, 0, 0, 0, 0, 1, 0, 0,\n",
       "       1, 0, 0, 0])"
      ]
     },
     "execution_count": 238,
     "metadata": {},
     "output_type": "execute_result"
    }
   ],
   "source": [
    "#model.predict(titanic_features2)\n",
    "my_prediction = model.predict(titanic_features2)\n",
    "my_prediction"
   ]
  },
  {
   "cell_type": "markdown",
   "metadata": {},
   "source": [
    "Add Predictions as new column in DataFrame"
   ]
  },
  {
   "cell_type": "code",
   "execution_count": 239,
   "metadata": {
    "collapsed": false
   },
   "outputs": [
    {
     "data": {
      "text/html": [
       "<div>\n",
       "<table border=\"1\" class=\"dataframe\">\n",
       "  <thead>\n",
       "    <tr style=\"text-align: right;\">\n",
       "      <th></th>\n",
       "      <th>PassengerId</th>\n",
       "      <th>Pclass</th>\n",
       "      <th>Name</th>\n",
       "      <th>Sex</th>\n",
       "      <th>Age</th>\n",
       "      <th>SibSp</th>\n",
       "      <th>Parch</th>\n",
       "      <th>Ticket</th>\n",
       "      <th>Fare</th>\n",
       "      <th>Cabin</th>\n",
       "      <th>Embarked</th>\n",
       "      <th>_Pclass_1</th>\n",
       "      <th>_Pclass_2</th>\n",
       "      <th>_Pclass_3</th>\n",
       "    </tr>\n",
       "  </thead>\n",
       "  <tbody>\n",
       "    <tr>\n",
       "      <th>0</th>\n",
       "      <td>892</td>\n",
       "      <td>3</td>\n",
       "      <td>Kelly, Mr. James</td>\n",
       "      <td>True</td>\n",
       "      <td>34.50000</td>\n",
       "      <td>0</td>\n",
       "      <td>0</td>\n",
       "      <td>330911</td>\n",
       "      <td>7.8292</td>\n",
       "      <td>NaN</td>\n",
       "      <td>Q</td>\n",
       "      <td>0.0</td>\n",
       "      <td>0.0</td>\n",
       "      <td>1.0</td>\n",
       "    </tr>\n",
       "    <tr>\n",
       "      <th>1</th>\n",
       "      <td>893</td>\n",
       "      <td>3</td>\n",
       "      <td>Wilkes, Mrs. James (Ellen Needs)</td>\n",
       "      <td>False</td>\n",
       "      <td>47.00000</td>\n",
       "      <td>1</td>\n",
       "      <td>0</td>\n",
       "      <td>363272</td>\n",
       "      <td>7.0000</td>\n",
       "      <td>NaN</td>\n",
       "      <td>S</td>\n",
       "      <td>0.0</td>\n",
       "      <td>0.0</td>\n",
       "      <td>1.0</td>\n",
       "    </tr>\n",
       "    <tr>\n",
       "      <th>2</th>\n",
       "      <td>894</td>\n",
       "      <td>2</td>\n",
       "      <td>Myles, Mr. Thomas Francis</td>\n",
       "      <td>True</td>\n",
       "      <td>62.00000</td>\n",
       "      <td>0</td>\n",
       "      <td>0</td>\n",
       "      <td>240276</td>\n",
       "      <td>9.6875</td>\n",
       "      <td>NaN</td>\n",
       "      <td>Q</td>\n",
       "      <td>0.0</td>\n",
       "      <td>1.0</td>\n",
       "      <td>0.0</td>\n",
       "    </tr>\n",
       "    <tr>\n",
       "      <th>3</th>\n",
       "      <td>895</td>\n",
       "      <td>3</td>\n",
       "      <td>Wirz, Mr. Albert</td>\n",
       "      <td>True</td>\n",
       "      <td>27.00000</td>\n",
       "      <td>0</td>\n",
       "      <td>0</td>\n",
       "      <td>315154</td>\n",
       "      <td>8.6625</td>\n",
       "      <td>NaN</td>\n",
       "      <td>S</td>\n",
       "      <td>0.0</td>\n",
       "      <td>0.0</td>\n",
       "      <td>1.0</td>\n",
       "    </tr>\n",
       "    <tr>\n",
       "      <th>4</th>\n",
       "      <td>896</td>\n",
       "      <td>3</td>\n",
       "      <td>Hirvonen, Mrs. Alexander (Helga E Lindqvist)</td>\n",
       "      <td>False</td>\n",
       "      <td>22.00000</td>\n",
       "      <td>1</td>\n",
       "      <td>1</td>\n",
       "      <td>3101298</td>\n",
       "      <td>12.2875</td>\n",
       "      <td>NaN</td>\n",
       "      <td>S</td>\n",
       "      <td>0.0</td>\n",
       "      <td>0.0</td>\n",
       "      <td>1.0</td>\n",
       "    </tr>\n",
       "    <tr>\n",
       "      <th>5</th>\n",
       "      <td>897</td>\n",
       "      <td>3</td>\n",
       "      <td>Svensson, Mr. Johan Cervin</td>\n",
       "      <td>True</td>\n",
       "      <td>14.00000</td>\n",
       "      <td>0</td>\n",
       "      <td>0</td>\n",
       "      <td>7538</td>\n",
       "      <td>9.2250</td>\n",
       "      <td>NaN</td>\n",
       "      <td>S</td>\n",
       "      <td>0.0</td>\n",
       "      <td>0.0</td>\n",
       "      <td>1.0</td>\n",
       "    </tr>\n",
       "    <tr>\n",
       "      <th>6</th>\n",
       "      <td>898</td>\n",
       "      <td>3</td>\n",
       "      <td>Connolly, Miss. Kate</td>\n",
       "      <td>False</td>\n",
       "      <td>30.00000</td>\n",
       "      <td>0</td>\n",
       "      <td>0</td>\n",
       "      <td>330972</td>\n",
       "      <td>7.6292</td>\n",
       "      <td>NaN</td>\n",
       "      <td>Q</td>\n",
       "      <td>0.0</td>\n",
       "      <td>0.0</td>\n",
       "      <td>1.0</td>\n",
       "    </tr>\n",
       "    <tr>\n",
       "      <th>7</th>\n",
       "      <td>899</td>\n",
       "      <td>2</td>\n",
       "      <td>Caldwell, Mr. Albert Francis</td>\n",
       "      <td>True</td>\n",
       "      <td>26.00000</td>\n",
       "      <td>1</td>\n",
       "      <td>1</td>\n",
       "      <td>248738</td>\n",
       "      <td>29.0000</td>\n",
       "      <td>NaN</td>\n",
       "      <td>S</td>\n",
       "      <td>0.0</td>\n",
       "      <td>1.0</td>\n",
       "      <td>0.0</td>\n",
       "    </tr>\n",
       "    <tr>\n",
       "      <th>8</th>\n",
       "      <td>900</td>\n",
       "      <td>3</td>\n",
       "      <td>Abrahim, Mrs. Joseph (Sophie Halaut Easu)</td>\n",
       "      <td>False</td>\n",
       "      <td>18.00000</td>\n",
       "      <td>0</td>\n",
       "      <td>0</td>\n",
       "      <td>2657</td>\n",
       "      <td>7.2292</td>\n",
       "      <td>NaN</td>\n",
       "      <td>C</td>\n",
       "      <td>0.0</td>\n",
       "      <td>0.0</td>\n",
       "      <td>1.0</td>\n",
       "    </tr>\n",
       "    <tr>\n",
       "      <th>9</th>\n",
       "      <td>901</td>\n",
       "      <td>3</td>\n",
       "      <td>Davies, Mr. John Samuel</td>\n",
       "      <td>True</td>\n",
       "      <td>21.00000</td>\n",
       "      <td>2</td>\n",
       "      <td>0</td>\n",
       "      <td>A/4 48871</td>\n",
       "      <td>24.1500</td>\n",
       "      <td>NaN</td>\n",
       "      <td>S</td>\n",
       "      <td>0.0</td>\n",
       "      <td>0.0</td>\n",
       "      <td>1.0</td>\n",
       "    </tr>\n",
       "    <tr>\n",
       "      <th>10</th>\n",
       "      <td>902</td>\n",
       "      <td>3</td>\n",
       "      <td>Ilieff, Mr. Ylio</td>\n",
       "      <td>True</td>\n",
       "      <td>30.27259</td>\n",
       "      <td>0</td>\n",
       "      <td>0</td>\n",
       "      <td>349220</td>\n",
       "      <td>7.8958</td>\n",
       "      <td>NaN</td>\n",
       "      <td>S</td>\n",
       "      <td>0.0</td>\n",
       "      <td>0.0</td>\n",
       "      <td>1.0</td>\n",
       "    </tr>\n",
       "    <tr>\n",
       "      <th>11</th>\n",
       "      <td>903</td>\n",
       "      <td>1</td>\n",
       "      <td>Jones, Mr. Charles Cresson</td>\n",
       "      <td>True</td>\n",
       "      <td>46.00000</td>\n",
       "      <td>0</td>\n",
       "      <td>0</td>\n",
       "      <td>694</td>\n",
       "      <td>26.0000</td>\n",
       "      <td>NaN</td>\n",
       "      <td>S</td>\n",
       "      <td>1.0</td>\n",
       "      <td>0.0</td>\n",
       "      <td>0.0</td>\n",
       "    </tr>\n",
       "    <tr>\n",
       "      <th>12</th>\n",
       "      <td>904</td>\n",
       "      <td>1</td>\n",
       "      <td>Snyder, Mrs. John Pillsbury (Nelle Stevenson)</td>\n",
       "      <td>False</td>\n",
       "      <td>23.00000</td>\n",
       "      <td>1</td>\n",
       "      <td>0</td>\n",
       "      <td>21228</td>\n",
       "      <td>82.2667</td>\n",
       "      <td>B45</td>\n",
       "      <td>S</td>\n",
       "      <td>1.0</td>\n",
       "      <td>0.0</td>\n",
       "      <td>0.0</td>\n",
       "    </tr>\n",
       "    <tr>\n",
       "      <th>13</th>\n",
       "      <td>905</td>\n",
       "      <td>2</td>\n",
       "      <td>Howard, Mr. Benjamin</td>\n",
       "      <td>True</td>\n",
       "      <td>63.00000</td>\n",
       "      <td>1</td>\n",
       "      <td>0</td>\n",
       "      <td>24065</td>\n",
       "      <td>26.0000</td>\n",
       "      <td>NaN</td>\n",
       "      <td>S</td>\n",
       "      <td>0.0</td>\n",
       "      <td>1.0</td>\n",
       "      <td>0.0</td>\n",
       "    </tr>\n",
       "    <tr>\n",
       "      <th>14</th>\n",
       "      <td>906</td>\n",
       "      <td>1</td>\n",
       "      <td>Chaffee, Mrs. Herbert Fuller (Carrie Constance...</td>\n",
       "      <td>False</td>\n",
       "      <td>47.00000</td>\n",
       "      <td>1</td>\n",
       "      <td>0</td>\n",
       "      <td>W.E.P. 5734</td>\n",
       "      <td>61.1750</td>\n",
       "      <td>E31</td>\n",
       "      <td>S</td>\n",
       "      <td>1.0</td>\n",
       "      <td>0.0</td>\n",
       "      <td>0.0</td>\n",
       "    </tr>\n",
       "    <tr>\n",
       "      <th>15</th>\n",
       "      <td>907</td>\n",
       "      <td>2</td>\n",
       "      <td>del Carlo, Mrs. Sebastiano (Argenia Genovesi)</td>\n",
       "      <td>False</td>\n",
       "      <td>24.00000</td>\n",
       "      <td>1</td>\n",
       "      <td>0</td>\n",
       "      <td>SC/PARIS 2167</td>\n",
       "      <td>27.7208</td>\n",
       "      <td>NaN</td>\n",
       "      <td>C</td>\n",
       "      <td>0.0</td>\n",
       "      <td>1.0</td>\n",
       "      <td>0.0</td>\n",
       "    </tr>\n",
       "    <tr>\n",
       "      <th>16</th>\n",
       "      <td>908</td>\n",
       "      <td>2</td>\n",
       "      <td>Keane, Mr. Daniel</td>\n",
       "      <td>True</td>\n",
       "      <td>35.00000</td>\n",
       "      <td>0</td>\n",
       "      <td>0</td>\n",
       "      <td>233734</td>\n",
       "      <td>12.3500</td>\n",
       "      <td>NaN</td>\n",
       "      <td>Q</td>\n",
       "      <td>0.0</td>\n",
       "      <td>1.0</td>\n",
       "      <td>0.0</td>\n",
       "    </tr>\n",
       "    <tr>\n",
       "      <th>17</th>\n",
       "      <td>909</td>\n",
       "      <td>3</td>\n",
       "      <td>Assaf, Mr. Gerios</td>\n",
       "      <td>True</td>\n",
       "      <td>21.00000</td>\n",
       "      <td>0</td>\n",
       "      <td>0</td>\n",
       "      <td>2692</td>\n",
       "      <td>7.2250</td>\n",
       "      <td>NaN</td>\n",
       "      <td>C</td>\n",
       "      <td>0.0</td>\n",
       "      <td>0.0</td>\n",
       "      <td>1.0</td>\n",
       "    </tr>\n",
       "    <tr>\n",
       "      <th>18</th>\n",
       "      <td>910</td>\n",
       "      <td>3</td>\n",
       "      <td>Ilmakangas, Miss. Ida Livija</td>\n",
       "      <td>False</td>\n",
       "      <td>27.00000</td>\n",
       "      <td>1</td>\n",
       "      <td>0</td>\n",
       "      <td>STON/O2. 3101270</td>\n",
       "      <td>7.9250</td>\n",
       "      <td>NaN</td>\n",
       "      <td>S</td>\n",
       "      <td>0.0</td>\n",
       "      <td>0.0</td>\n",
       "      <td>1.0</td>\n",
       "    </tr>\n",
       "    <tr>\n",
       "      <th>19</th>\n",
       "      <td>911</td>\n",
       "      <td>3</td>\n",
       "      <td>Assaf Khalil, Mrs. Mariana (Miriam\")\"</td>\n",
       "      <td>False</td>\n",
       "      <td>45.00000</td>\n",
       "      <td>0</td>\n",
       "      <td>0</td>\n",
       "      <td>2696</td>\n",
       "      <td>7.2250</td>\n",
       "      <td>NaN</td>\n",
       "      <td>C</td>\n",
       "      <td>0.0</td>\n",
       "      <td>0.0</td>\n",
       "      <td>1.0</td>\n",
       "    </tr>\n",
       "    <tr>\n",
       "      <th>20</th>\n",
       "      <td>912</td>\n",
       "      <td>1</td>\n",
       "      <td>Rothschild, Mr. Martin</td>\n",
       "      <td>True</td>\n",
       "      <td>55.00000</td>\n",
       "      <td>1</td>\n",
       "      <td>0</td>\n",
       "      <td>PC 17603</td>\n",
       "      <td>59.4000</td>\n",
       "      <td>NaN</td>\n",
       "      <td>C</td>\n",
       "      <td>1.0</td>\n",
       "      <td>0.0</td>\n",
       "      <td>0.0</td>\n",
       "    </tr>\n",
       "    <tr>\n",
       "      <th>21</th>\n",
       "      <td>913</td>\n",
       "      <td>3</td>\n",
       "      <td>Olsen, Master. Artur Karl</td>\n",
       "      <td>True</td>\n",
       "      <td>9.00000</td>\n",
       "      <td>0</td>\n",
       "      <td>1</td>\n",
       "      <td>C 17368</td>\n",
       "      <td>3.1708</td>\n",
       "      <td>NaN</td>\n",
       "      <td>S</td>\n",
       "      <td>0.0</td>\n",
       "      <td>0.0</td>\n",
       "      <td>1.0</td>\n",
       "    </tr>\n",
       "    <tr>\n",
       "      <th>22</th>\n",
       "      <td>914</td>\n",
       "      <td>1</td>\n",
       "      <td>Flegenheim, Mrs. Alfred (Antoinette)</td>\n",
       "      <td>False</td>\n",
       "      <td>30.27259</td>\n",
       "      <td>0</td>\n",
       "      <td>0</td>\n",
       "      <td>PC 17598</td>\n",
       "      <td>31.6833</td>\n",
       "      <td>NaN</td>\n",
       "      <td>S</td>\n",
       "      <td>1.0</td>\n",
       "      <td>0.0</td>\n",
       "      <td>0.0</td>\n",
       "    </tr>\n",
       "    <tr>\n",
       "      <th>23</th>\n",
       "      <td>915</td>\n",
       "      <td>1</td>\n",
       "      <td>Williams, Mr. Richard Norris II</td>\n",
       "      <td>True</td>\n",
       "      <td>21.00000</td>\n",
       "      <td>0</td>\n",
       "      <td>1</td>\n",
       "      <td>PC 17597</td>\n",
       "      <td>61.3792</td>\n",
       "      <td>NaN</td>\n",
       "      <td>C</td>\n",
       "      <td>1.0</td>\n",
       "      <td>0.0</td>\n",
       "      <td>0.0</td>\n",
       "    </tr>\n",
       "    <tr>\n",
       "      <th>24</th>\n",
       "      <td>916</td>\n",
       "      <td>1</td>\n",
       "      <td>Ryerson, Mrs. Arthur Larned (Emily Maria Borie)</td>\n",
       "      <td>False</td>\n",
       "      <td>48.00000</td>\n",
       "      <td>1</td>\n",
       "      <td>3</td>\n",
       "      <td>PC 17608</td>\n",
       "      <td>262.3750</td>\n",
       "      <td>B57 B59 B63 B66</td>\n",
       "      <td>C</td>\n",
       "      <td>1.0</td>\n",
       "      <td>0.0</td>\n",
       "      <td>0.0</td>\n",
       "    </tr>\n",
       "    <tr>\n",
       "      <th>25</th>\n",
       "      <td>917</td>\n",
       "      <td>3</td>\n",
       "      <td>Robins, Mr. Alexander A</td>\n",
       "      <td>True</td>\n",
       "      <td>50.00000</td>\n",
       "      <td>1</td>\n",
       "      <td>0</td>\n",
       "      <td>A/5. 3337</td>\n",
       "      <td>14.5000</td>\n",
       "      <td>NaN</td>\n",
       "      <td>S</td>\n",
       "      <td>0.0</td>\n",
       "      <td>0.0</td>\n",
       "      <td>1.0</td>\n",
       "    </tr>\n",
       "    <tr>\n",
       "      <th>26</th>\n",
       "      <td>918</td>\n",
       "      <td>1</td>\n",
       "      <td>Ostby, Miss. Helene Ragnhild</td>\n",
       "      <td>False</td>\n",
       "      <td>22.00000</td>\n",
       "      <td>0</td>\n",
       "      <td>1</td>\n",
       "      <td>113509</td>\n",
       "      <td>61.9792</td>\n",
       "      <td>B36</td>\n",
       "      <td>C</td>\n",
       "      <td>1.0</td>\n",
       "      <td>0.0</td>\n",
       "      <td>0.0</td>\n",
       "    </tr>\n",
       "    <tr>\n",
       "      <th>27</th>\n",
       "      <td>919</td>\n",
       "      <td>3</td>\n",
       "      <td>Daher, Mr. Shedid</td>\n",
       "      <td>True</td>\n",
       "      <td>22.50000</td>\n",
       "      <td>0</td>\n",
       "      <td>0</td>\n",
       "      <td>2698</td>\n",
       "      <td>7.2250</td>\n",
       "      <td>NaN</td>\n",
       "      <td>C</td>\n",
       "      <td>0.0</td>\n",
       "      <td>0.0</td>\n",
       "      <td>1.0</td>\n",
       "    </tr>\n",
       "    <tr>\n",
       "      <th>28</th>\n",
       "      <td>920</td>\n",
       "      <td>1</td>\n",
       "      <td>Brady, Mr. John Bertram</td>\n",
       "      <td>True</td>\n",
       "      <td>41.00000</td>\n",
       "      <td>0</td>\n",
       "      <td>0</td>\n",
       "      <td>113054</td>\n",
       "      <td>30.5000</td>\n",
       "      <td>A21</td>\n",
       "      <td>S</td>\n",
       "      <td>1.0</td>\n",
       "      <td>0.0</td>\n",
       "      <td>0.0</td>\n",
       "    </tr>\n",
       "    <tr>\n",
       "      <th>29</th>\n",
       "      <td>921</td>\n",
       "      <td>3</td>\n",
       "      <td>Samaan, Mr. Elias</td>\n",
       "      <td>True</td>\n",
       "      <td>30.27259</td>\n",
       "      <td>2</td>\n",
       "      <td>0</td>\n",
       "      <td>2662</td>\n",
       "      <td>21.6792</td>\n",
       "      <td>NaN</td>\n",
       "      <td>C</td>\n",
       "      <td>0.0</td>\n",
       "      <td>0.0</td>\n",
       "      <td>1.0</td>\n",
       "    </tr>\n",
       "    <tr>\n",
       "      <th>...</th>\n",
       "      <td>...</td>\n",
       "      <td>...</td>\n",
       "      <td>...</td>\n",
       "      <td>...</td>\n",
       "      <td>...</td>\n",
       "      <td>...</td>\n",
       "      <td>...</td>\n",
       "      <td>...</td>\n",
       "      <td>...</td>\n",
       "      <td>...</td>\n",
       "      <td>...</td>\n",
       "      <td>...</td>\n",
       "      <td>...</td>\n",
       "      <td>...</td>\n",
       "    </tr>\n",
       "    <tr>\n",
       "      <th>388</th>\n",
       "      <td>1280</td>\n",
       "      <td>3</td>\n",
       "      <td>Canavan, Mr. Patrick</td>\n",
       "      <td>True</td>\n",
       "      <td>21.00000</td>\n",
       "      <td>0</td>\n",
       "      <td>0</td>\n",
       "      <td>364858</td>\n",
       "      <td>7.7500</td>\n",
       "      <td>NaN</td>\n",
       "      <td>Q</td>\n",
       "      <td>0.0</td>\n",
       "      <td>0.0</td>\n",
       "      <td>1.0</td>\n",
       "    </tr>\n",
       "    <tr>\n",
       "      <th>389</th>\n",
       "      <td>1281</td>\n",
       "      <td>3</td>\n",
       "      <td>Palsson, Master. Paul Folke</td>\n",
       "      <td>True</td>\n",
       "      <td>6.00000</td>\n",
       "      <td>3</td>\n",
       "      <td>1</td>\n",
       "      <td>349909</td>\n",
       "      <td>21.0750</td>\n",
       "      <td>NaN</td>\n",
       "      <td>S</td>\n",
       "      <td>0.0</td>\n",
       "      <td>0.0</td>\n",
       "      <td>1.0</td>\n",
       "    </tr>\n",
       "    <tr>\n",
       "      <th>390</th>\n",
       "      <td>1282</td>\n",
       "      <td>1</td>\n",
       "      <td>Payne, Mr. Vivian Ponsonby</td>\n",
       "      <td>True</td>\n",
       "      <td>23.00000</td>\n",
       "      <td>0</td>\n",
       "      <td>0</td>\n",
       "      <td>12749</td>\n",
       "      <td>93.5000</td>\n",
       "      <td>B24</td>\n",
       "      <td>S</td>\n",
       "      <td>1.0</td>\n",
       "      <td>0.0</td>\n",
       "      <td>0.0</td>\n",
       "    </tr>\n",
       "    <tr>\n",
       "      <th>391</th>\n",
       "      <td>1283</td>\n",
       "      <td>1</td>\n",
       "      <td>Lines, Mrs. Ernest H (Elizabeth Lindsey James)</td>\n",
       "      <td>False</td>\n",
       "      <td>51.00000</td>\n",
       "      <td>0</td>\n",
       "      <td>1</td>\n",
       "      <td>PC 17592</td>\n",
       "      <td>39.4000</td>\n",
       "      <td>D28</td>\n",
       "      <td>S</td>\n",
       "      <td>1.0</td>\n",
       "      <td>0.0</td>\n",
       "      <td>0.0</td>\n",
       "    </tr>\n",
       "    <tr>\n",
       "      <th>392</th>\n",
       "      <td>1284</td>\n",
       "      <td>3</td>\n",
       "      <td>Abbott, Master. Eugene Joseph</td>\n",
       "      <td>True</td>\n",
       "      <td>13.00000</td>\n",
       "      <td>0</td>\n",
       "      <td>2</td>\n",
       "      <td>C.A. 2673</td>\n",
       "      <td>20.2500</td>\n",
       "      <td>NaN</td>\n",
       "      <td>S</td>\n",
       "      <td>0.0</td>\n",
       "      <td>0.0</td>\n",
       "      <td>1.0</td>\n",
       "    </tr>\n",
       "    <tr>\n",
       "      <th>393</th>\n",
       "      <td>1285</td>\n",
       "      <td>2</td>\n",
       "      <td>Gilbert, Mr. William</td>\n",
       "      <td>True</td>\n",
       "      <td>47.00000</td>\n",
       "      <td>0</td>\n",
       "      <td>0</td>\n",
       "      <td>C.A. 30769</td>\n",
       "      <td>10.5000</td>\n",
       "      <td>NaN</td>\n",
       "      <td>S</td>\n",
       "      <td>0.0</td>\n",
       "      <td>1.0</td>\n",
       "      <td>0.0</td>\n",
       "    </tr>\n",
       "    <tr>\n",
       "      <th>394</th>\n",
       "      <td>1286</td>\n",
       "      <td>3</td>\n",
       "      <td>Kink-Heilmann, Mr. Anton</td>\n",
       "      <td>True</td>\n",
       "      <td>29.00000</td>\n",
       "      <td>3</td>\n",
       "      <td>1</td>\n",
       "      <td>315153</td>\n",
       "      <td>22.0250</td>\n",
       "      <td>NaN</td>\n",
       "      <td>S</td>\n",
       "      <td>0.0</td>\n",
       "      <td>0.0</td>\n",
       "      <td>1.0</td>\n",
       "    </tr>\n",
       "    <tr>\n",
       "      <th>395</th>\n",
       "      <td>1287</td>\n",
       "      <td>1</td>\n",
       "      <td>Smith, Mrs. Lucien Philip (Mary Eloise Hughes)</td>\n",
       "      <td>False</td>\n",
       "      <td>18.00000</td>\n",
       "      <td>1</td>\n",
       "      <td>0</td>\n",
       "      <td>13695</td>\n",
       "      <td>60.0000</td>\n",
       "      <td>C31</td>\n",
       "      <td>S</td>\n",
       "      <td>1.0</td>\n",
       "      <td>0.0</td>\n",
       "      <td>0.0</td>\n",
       "    </tr>\n",
       "    <tr>\n",
       "      <th>396</th>\n",
       "      <td>1288</td>\n",
       "      <td>3</td>\n",
       "      <td>Colbert, Mr. Patrick</td>\n",
       "      <td>True</td>\n",
       "      <td>24.00000</td>\n",
       "      <td>0</td>\n",
       "      <td>0</td>\n",
       "      <td>371109</td>\n",
       "      <td>7.2500</td>\n",
       "      <td>NaN</td>\n",
       "      <td>Q</td>\n",
       "      <td>0.0</td>\n",
       "      <td>0.0</td>\n",
       "      <td>1.0</td>\n",
       "    </tr>\n",
       "    <tr>\n",
       "      <th>397</th>\n",
       "      <td>1289</td>\n",
       "      <td>1</td>\n",
       "      <td>Frolicher-Stehli, Mrs. Maxmillian (Margaretha ...</td>\n",
       "      <td>False</td>\n",
       "      <td>48.00000</td>\n",
       "      <td>1</td>\n",
       "      <td>1</td>\n",
       "      <td>13567</td>\n",
       "      <td>79.2000</td>\n",
       "      <td>B41</td>\n",
       "      <td>C</td>\n",
       "      <td>1.0</td>\n",
       "      <td>0.0</td>\n",
       "      <td>0.0</td>\n",
       "    </tr>\n",
       "    <tr>\n",
       "      <th>398</th>\n",
       "      <td>1290</td>\n",
       "      <td>3</td>\n",
       "      <td>Larsson-Rondberg, Mr. Edvard A</td>\n",
       "      <td>True</td>\n",
       "      <td>22.00000</td>\n",
       "      <td>0</td>\n",
       "      <td>0</td>\n",
       "      <td>347065</td>\n",
       "      <td>7.7750</td>\n",
       "      <td>NaN</td>\n",
       "      <td>S</td>\n",
       "      <td>0.0</td>\n",
       "      <td>0.0</td>\n",
       "      <td>1.0</td>\n",
       "    </tr>\n",
       "    <tr>\n",
       "      <th>399</th>\n",
       "      <td>1291</td>\n",
       "      <td>3</td>\n",
       "      <td>Conlon, Mr. Thomas Henry</td>\n",
       "      <td>True</td>\n",
       "      <td>31.00000</td>\n",
       "      <td>0</td>\n",
       "      <td>0</td>\n",
       "      <td>21332</td>\n",
       "      <td>7.7333</td>\n",
       "      <td>NaN</td>\n",
       "      <td>Q</td>\n",
       "      <td>0.0</td>\n",
       "      <td>0.0</td>\n",
       "      <td>1.0</td>\n",
       "    </tr>\n",
       "    <tr>\n",
       "      <th>400</th>\n",
       "      <td>1292</td>\n",
       "      <td>1</td>\n",
       "      <td>Bonnell, Miss. Caroline</td>\n",
       "      <td>False</td>\n",
       "      <td>30.00000</td>\n",
       "      <td>0</td>\n",
       "      <td>0</td>\n",
       "      <td>36928</td>\n",
       "      <td>164.8667</td>\n",
       "      <td>C7</td>\n",
       "      <td>S</td>\n",
       "      <td>1.0</td>\n",
       "      <td>0.0</td>\n",
       "      <td>0.0</td>\n",
       "    </tr>\n",
       "    <tr>\n",
       "      <th>401</th>\n",
       "      <td>1293</td>\n",
       "      <td>2</td>\n",
       "      <td>Gale, Mr. Harry</td>\n",
       "      <td>True</td>\n",
       "      <td>38.00000</td>\n",
       "      <td>1</td>\n",
       "      <td>0</td>\n",
       "      <td>28664</td>\n",
       "      <td>21.0000</td>\n",
       "      <td>NaN</td>\n",
       "      <td>S</td>\n",
       "      <td>0.0</td>\n",
       "      <td>1.0</td>\n",
       "      <td>0.0</td>\n",
       "    </tr>\n",
       "    <tr>\n",
       "      <th>402</th>\n",
       "      <td>1294</td>\n",
       "      <td>1</td>\n",
       "      <td>Gibson, Miss. Dorothy Winifred</td>\n",
       "      <td>False</td>\n",
       "      <td>22.00000</td>\n",
       "      <td>0</td>\n",
       "      <td>1</td>\n",
       "      <td>112378</td>\n",
       "      <td>59.4000</td>\n",
       "      <td>NaN</td>\n",
       "      <td>C</td>\n",
       "      <td>1.0</td>\n",
       "      <td>0.0</td>\n",
       "      <td>0.0</td>\n",
       "    </tr>\n",
       "    <tr>\n",
       "      <th>403</th>\n",
       "      <td>1295</td>\n",
       "      <td>1</td>\n",
       "      <td>Carrau, Mr. Jose Pedro</td>\n",
       "      <td>True</td>\n",
       "      <td>17.00000</td>\n",
       "      <td>0</td>\n",
       "      <td>0</td>\n",
       "      <td>113059</td>\n",
       "      <td>47.1000</td>\n",
       "      <td>NaN</td>\n",
       "      <td>S</td>\n",
       "      <td>1.0</td>\n",
       "      <td>0.0</td>\n",
       "      <td>0.0</td>\n",
       "    </tr>\n",
       "    <tr>\n",
       "      <th>404</th>\n",
       "      <td>1296</td>\n",
       "      <td>1</td>\n",
       "      <td>Frauenthal, Mr. Isaac Gerald</td>\n",
       "      <td>True</td>\n",
       "      <td>43.00000</td>\n",
       "      <td>1</td>\n",
       "      <td>0</td>\n",
       "      <td>17765</td>\n",
       "      <td>27.7208</td>\n",
       "      <td>D40</td>\n",
       "      <td>C</td>\n",
       "      <td>1.0</td>\n",
       "      <td>0.0</td>\n",
       "      <td>0.0</td>\n",
       "    </tr>\n",
       "    <tr>\n",
       "      <th>405</th>\n",
       "      <td>1297</td>\n",
       "      <td>2</td>\n",
       "      <td>Nourney, Mr. Alfred (Baron von Drachstedt\")\"</td>\n",
       "      <td>True</td>\n",
       "      <td>20.00000</td>\n",
       "      <td>0</td>\n",
       "      <td>0</td>\n",
       "      <td>SC/PARIS 2166</td>\n",
       "      <td>13.8625</td>\n",
       "      <td>D38</td>\n",
       "      <td>C</td>\n",
       "      <td>0.0</td>\n",
       "      <td>1.0</td>\n",
       "      <td>0.0</td>\n",
       "    </tr>\n",
       "    <tr>\n",
       "      <th>406</th>\n",
       "      <td>1298</td>\n",
       "      <td>2</td>\n",
       "      <td>Ware, Mr. William Jeffery</td>\n",
       "      <td>True</td>\n",
       "      <td>23.00000</td>\n",
       "      <td>1</td>\n",
       "      <td>0</td>\n",
       "      <td>28666</td>\n",
       "      <td>10.5000</td>\n",
       "      <td>NaN</td>\n",
       "      <td>S</td>\n",
       "      <td>0.0</td>\n",
       "      <td>1.0</td>\n",
       "      <td>0.0</td>\n",
       "    </tr>\n",
       "    <tr>\n",
       "      <th>407</th>\n",
       "      <td>1299</td>\n",
       "      <td>1</td>\n",
       "      <td>Widener, Mr. George Dunton</td>\n",
       "      <td>True</td>\n",
       "      <td>50.00000</td>\n",
       "      <td>1</td>\n",
       "      <td>1</td>\n",
       "      <td>113503</td>\n",
       "      <td>211.5000</td>\n",
       "      <td>C80</td>\n",
       "      <td>C</td>\n",
       "      <td>1.0</td>\n",
       "      <td>0.0</td>\n",
       "      <td>0.0</td>\n",
       "    </tr>\n",
       "    <tr>\n",
       "      <th>408</th>\n",
       "      <td>1300</td>\n",
       "      <td>3</td>\n",
       "      <td>Riordan, Miss. Johanna Hannah\"\"</td>\n",
       "      <td>False</td>\n",
       "      <td>30.27259</td>\n",
       "      <td>0</td>\n",
       "      <td>0</td>\n",
       "      <td>334915</td>\n",
       "      <td>7.7208</td>\n",
       "      <td>NaN</td>\n",
       "      <td>Q</td>\n",
       "      <td>0.0</td>\n",
       "      <td>0.0</td>\n",
       "      <td>1.0</td>\n",
       "    </tr>\n",
       "    <tr>\n",
       "      <th>409</th>\n",
       "      <td>1301</td>\n",
       "      <td>3</td>\n",
       "      <td>Peacock, Miss. Treasteall</td>\n",
       "      <td>False</td>\n",
       "      <td>3.00000</td>\n",
       "      <td>1</td>\n",
       "      <td>1</td>\n",
       "      <td>SOTON/O.Q. 3101315</td>\n",
       "      <td>13.7750</td>\n",
       "      <td>NaN</td>\n",
       "      <td>S</td>\n",
       "      <td>0.0</td>\n",
       "      <td>0.0</td>\n",
       "      <td>1.0</td>\n",
       "    </tr>\n",
       "    <tr>\n",
       "      <th>410</th>\n",
       "      <td>1302</td>\n",
       "      <td>3</td>\n",
       "      <td>Naughton, Miss. Hannah</td>\n",
       "      <td>False</td>\n",
       "      <td>30.27259</td>\n",
       "      <td>0</td>\n",
       "      <td>0</td>\n",
       "      <td>365237</td>\n",
       "      <td>7.7500</td>\n",
       "      <td>NaN</td>\n",
       "      <td>Q</td>\n",
       "      <td>0.0</td>\n",
       "      <td>0.0</td>\n",
       "      <td>1.0</td>\n",
       "    </tr>\n",
       "    <tr>\n",
       "      <th>411</th>\n",
       "      <td>1303</td>\n",
       "      <td>1</td>\n",
       "      <td>Minahan, Mrs. William Edward (Lillian E Thorpe)</td>\n",
       "      <td>False</td>\n",
       "      <td>37.00000</td>\n",
       "      <td>1</td>\n",
       "      <td>0</td>\n",
       "      <td>19928</td>\n",
       "      <td>90.0000</td>\n",
       "      <td>C78</td>\n",
       "      <td>Q</td>\n",
       "      <td>1.0</td>\n",
       "      <td>0.0</td>\n",
       "      <td>0.0</td>\n",
       "    </tr>\n",
       "    <tr>\n",
       "      <th>412</th>\n",
       "      <td>1304</td>\n",
       "      <td>3</td>\n",
       "      <td>Henriksson, Miss. Jenny Lovisa</td>\n",
       "      <td>False</td>\n",
       "      <td>28.00000</td>\n",
       "      <td>0</td>\n",
       "      <td>0</td>\n",
       "      <td>347086</td>\n",
       "      <td>7.7750</td>\n",
       "      <td>NaN</td>\n",
       "      <td>S</td>\n",
       "      <td>0.0</td>\n",
       "      <td>0.0</td>\n",
       "      <td>1.0</td>\n",
       "    </tr>\n",
       "    <tr>\n",
       "      <th>413</th>\n",
       "      <td>1305</td>\n",
       "      <td>3</td>\n",
       "      <td>Spector, Mr. Woolf</td>\n",
       "      <td>True</td>\n",
       "      <td>30.27259</td>\n",
       "      <td>0</td>\n",
       "      <td>0</td>\n",
       "      <td>A.5. 3236</td>\n",
       "      <td>8.0500</td>\n",
       "      <td>NaN</td>\n",
       "      <td>S</td>\n",
       "      <td>0.0</td>\n",
       "      <td>0.0</td>\n",
       "      <td>1.0</td>\n",
       "    </tr>\n",
       "    <tr>\n",
       "      <th>414</th>\n",
       "      <td>1306</td>\n",
       "      <td>1</td>\n",
       "      <td>Oliva y Ocana, Dona. Fermina</td>\n",
       "      <td>False</td>\n",
       "      <td>39.00000</td>\n",
       "      <td>0</td>\n",
       "      <td>0</td>\n",
       "      <td>PC 17758</td>\n",
       "      <td>108.9000</td>\n",
       "      <td>C105</td>\n",
       "      <td>C</td>\n",
       "      <td>1.0</td>\n",
       "      <td>0.0</td>\n",
       "      <td>0.0</td>\n",
       "    </tr>\n",
       "    <tr>\n",
       "      <th>415</th>\n",
       "      <td>1307</td>\n",
       "      <td>3</td>\n",
       "      <td>Saether, Mr. Simon Sivertsen</td>\n",
       "      <td>True</td>\n",
       "      <td>38.50000</td>\n",
       "      <td>0</td>\n",
       "      <td>0</td>\n",
       "      <td>SOTON/O.Q. 3101262</td>\n",
       "      <td>7.2500</td>\n",
       "      <td>NaN</td>\n",
       "      <td>S</td>\n",
       "      <td>0.0</td>\n",
       "      <td>0.0</td>\n",
       "      <td>1.0</td>\n",
       "    </tr>\n",
       "    <tr>\n",
       "      <th>416</th>\n",
       "      <td>1308</td>\n",
       "      <td>3</td>\n",
       "      <td>Ware, Mr. Frederick</td>\n",
       "      <td>True</td>\n",
       "      <td>30.27259</td>\n",
       "      <td>0</td>\n",
       "      <td>0</td>\n",
       "      <td>359309</td>\n",
       "      <td>8.0500</td>\n",
       "      <td>NaN</td>\n",
       "      <td>S</td>\n",
       "      <td>0.0</td>\n",
       "      <td>0.0</td>\n",
       "      <td>1.0</td>\n",
       "    </tr>\n",
       "    <tr>\n",
       "      <th>417</th>\n",
       "      <td>1309</td>\n",
       "      <td>3</td>\n",
       "      <td>Peter, Master. Michael J</td>\n",
       "      <td>True</td>\n",
       "      <td>30.27259</td>\n",
       "      <td>1</td>\n",
       "      <td>1</td>\n",
       "      <td>2668</td>\n",
       "      <td>22.3583</td>\n",
       "      <td>NaN</td>\n",
       "      <td>C</td>\n",
       "      <td>0.0</td>\n",
       "      <td>0.0</td>\n",
       "      <td>1.0</td>\n",
       "    </tr>\n",
       "  </tbody>\n",
       "</table>\n",
       "<p>418 rows × 14 columns</p>\n",
       "</div>"
      ],
      "text/plain": [
       "     PassengerId  Pclass                                               Name  \\\n",
       "0            892       3                                   Kelly, Mr. James   \n",
       "1            893       3                   Wilkes, Mrs. James (Ellen Needs)   \n",
       "2            894       2                          Myles, Mr. Thomas Francis   \n",
       "3            895       3                                   Wirz, Mr. Albert   \n",
       "4            896       3       Hirvonen, Mrs. Alexander (Helga E Lindqvist)   \n",
       "5            897       3                         Svensson, Mr. Johan Cervin   \n",
       "6            898       3                               Connolly, Miss. Kate   \n",
       "7            899       2                       Caldwell, Mr. Albert Francis   \n",
       "8            900       3          Abrahim, Mrs. Joseph (Sophie Halaut Easu)   \n",
       "9            901       3                            Davies, Mr. John Samuel   \n",
       "10           902       3                                   Ilieff, Mr. Ylio   \n",
       "11           903       1                         Jones, Mr. Charles Cresson   \n",
       "12           904       1      Snyder, Mrs. John Pillsbury (Nelle Stevenson)   \n",
       "13           905       2                               Howard, Mr. Benjamin   \n",
       "14           906       1  Chaffee, Mrs. Herbert Fuller (Carrie Constance...   \n",
       "15           907       2      del Carlo, Mrs. Sebastiano (Argenia Genovesi)   \n",
       "16           908       2                                  Keane, Mr. Daniel   \n",
       "17           909       3                                  Assaf, Mr. Gerios   \n",
       "18           910       3                       Ilmakangas, Miss. Ida Livija   \n",
       "19           911       3              Assaf Khalil, Mrs. Mariana (Miriam\")\"   \n",
       "20           912       1                             Rothschild, Mr. Martin   \n",
       "21           913       3                          Olsen, Master. Artur Karl   \n",
       "22           914       1               Flegenheim, Mrs. Alfred (Antoinette)   \n",
       "23           915       1                    Williams, Mr. Richard Norris II   \n",
       "24           916       1    Ryerson, Mrs. Arthur Larned (Emily Maria Borie)   \n",
       "25           917       3                            Robins, Mr. Alexander A   \n",
       "26           918       1                       Ostby, Miss. Helene Ragnhild   \n",
       "27           919       3                                  Daher, Mr. Shedid   \n",
       "28           920       1                            Brady, Mr. John Bertram   \n",
       "29           921       3                                  Samaan, Mr. Elias   \n",
       "..           ...     ...                                                ...   \n",
       "388         1280       3                               Canavan, Mr. Patrick   \n",
       "389         1281       3                        Palsson, Master. Paul Folke   \n",
       "390         1282       1                         Payne, Mr. Vivian Ponsonby   \n",
       "391         1283       1     Lines, Mrs. Ernest H (Elizabeth Lindsey James)   \n",
       "392         1284       3                      Abbott, Master. Eugene Joseph   \n",
       "393         1285       2                               Gilbert, Mr. William   \n",
       "394         1286       3                           Kink-Heilmann, Mr. Anton   \n",
       "395         1287       1     Smith, Mrs. Lucien Philip (Mary Eloise Hughes)   \n",
       "396         1288       3                               Colbert, Mr. Patrick   \n",
       "397         1289       1  Frolicher-Stehli, Mrs. Maxmillian (Margaretha ...   \n",
       "398         1290       3                     Larsson-Rondberg, Mr. Edvard A   \n",
       "399         1291       3                           Conlon, Mr. Thomas Henry   \n",
       "400         1292       1                            Bonnell, Miss. Caroline   \n",
       "401         1293       2                                    Gale, Mr. Harry   \n",
       "402         1294       1                     Gibson, Miss. Dorothy Winifred   \n",
       "403         1295       1                             Carrau, Mr. Jose Pedro   \n",
       "404         1296       1                       Frauenthal, Mr. Isaac Gerald   \n",
       "405         1297       2       Nourney, Mr. Alfred (Baron von Drachstedt\")\"   \n",
       "406         1298       2                          Ware, Mr. William Jeffery   \n",
       "407         1299       1                         Widener, Mr. George Dunton   \n",
       "408         1300       3                    Riordan, Miss. Johanna Hannah\"\"   \n",
       "409         1301       3                          Peacock, Miss. Treasteall   \n",
       "410         1302       3                             Naughton, Miss. Hannah   \n",
       "411         1303       1    Minahan, Mrs. William Edward (Lillian E Thorpe)   \n",
       "412         1304       3                     Henriksson, Miss. Jenny Lovisa   \n",
       "413         1305       3                                 Spector, Mr. Woolf   \n",
       "414         1306       1                       Oliva y Ocana, Dona. Fermina   \n",
       "415         1307       3                       Saether, Mr. Simon Sivertsen   \n",
       "416         1308       3                                Ware, Mr. Frederick   \n",
       "417         1309       3                           Peter, Master. Michael J   \n",
       "\n",
       "       Sex       Age  SibSp  Parch              Ticket      Fare  \\\n",
       "0     True  34.50000      0      0              330911    7.8292   \n",
       "1    False  47.00000      1      0              363272    7.0000   \n",
       "2     True  62.00000      0      0              240276    9.6875   \n",
       "3     True  27.00000      0      0              315154    8.6625   \n",
       "4    False  22.00000      1      1             3101298   12.2875   \n",
       "5     True  14.00000      0      0                7538    9.2250   \n",
       "6    False  30.00000      0      0              330972    7.6292   \n",
       "7     True  26.00000      1      1              248738   29.0000   \n",
       "8    False  18.00000      0      0                2657    7.2292   \n",
       "9     True  21.00000      2      0           A/4 48871   24.1500   \n",
       "10    True  30.27259      0      0              349220    7.8958   \n",
       "11    True  46.00000      0      0                 694   26.0000   \n",
       "12   False  23.00000      1      0               21228   82.2667   \n",
       "13    True  63.00000      1      0               24065   26.0000   \n",
       "14   False  47.00000      1      0         W.E.P. 5734   61.1750   \n",
       "15   False  24.00000      1      0       SC/PARIS 2167   27.7208   \n",
       "16    True  35.00000      0      0              233734   12.3500   \n",
       "17    True  21.00000      0      0                2692    7.2250   \n",
       "18   False  27.00000      1      0    STON/O2. 3101270    7.9250   \n",
       "19   False  45.00000      0      0                2696    7.2250   \n",
       "20    True  55.00000      1      0            PC 17603   59.4000   \n",
       "21    True   9.00000      0      1             C 17368    3.1708   \n",
       "22   False  30.27259      0      0            PC 17598   31.6833   \n",
       "23    True  21.00000      0      1            PC 17597   61.3792   \n",
       "24   False  48.00000      1      3            PC 17608  262.3750   \n",
       "25    True  50.00000      1      0           A/5. 3337   14.5000   \n",
       "26   False  22.00000      0      1              113509   61.9792   \n",
       "27    True  22.50000      0      0                2698    7.2250   \n",
       "28    True  41.00000      0      0              113054   30.5000   \n",
       "29    True  30.27259      2      0                2662   21.6792   \n",
       "..     ...       ...    ...    ...                 ...       ...   \n",
       "388   True  21.00000      0      0              364858    7.7500   \n",
       "389   True   6.00000      3      1              349909   21.0750   \n",
       "390   True  23.00000      0      0               12749   93.5000   \n",
       "391  False  51.00000      0      1            PC 17592   39.4000   \n",
       "392   True  13.00000      0      2           C.A. 2673   20.2500   \n",
       "393   True  47.00000      0      0          C.A. 30769   10.5000   \n",
       "394   True  29.00000      3      1              315153   22.0250   \n",
       "395  False  18.00000      1      0               13695   60.0000   \n",
       "396   True  24.00000      0      0              371109    7.2500   \n",
       "397  False  48.00000      1      1               13567   79.2000   \n",
       "398   True  22.00000      0      0              347065    7.7750   \n",
       "399   True  31.00000      0      0               21332    7.7333   \n",
       "400  False  30.00000      0      0               36928  164.8667   \n",
       "401   True  38.00000      1      0               28664   21.0000   \n",
       "402  False  22.00000      0      1              112378   59.4000   \n",
       "403   True  17.00000      0      0              113059   47.1000   \n",
       "404   True  43.00000      1      0               17765   27.7208   \n",
       "405   True  20.00000      0      0       SC/PARIS 2166   13.8625   \n",
       "406   True  23.00000      1      0               28666   10.5000   \n",
       "407   True  50.00000      1      1              113503  211.5000   \n",
       "408  False  30.27259      0      0              334915    7.7208   \n",
       "409  False   3.00000      1      1  SOTON/O.Q. 3101315   13.7750   \n",
       "410  False  30.27259      0      0              365237    7.7500   \n",
       "411  False  37.00000      1      0               19928   90.0000   \n",
       "412  False  28.00000      0      0              347086    7.7750   \n",
       "413   True  30.27259      0      0           A.5. 3236    8.0500   \n",
       "414  False  39.00000      0      0            PC 17758  108.9000   \n",
       "415   True  38.50000      0      0  SOTON/O.Q. 3101262    7.2500   \n",
       "416   True  30.27259      0      0              359309    8.0500   \n",
       "417   True  30.27259      1      1                2668   22.3583   \n",
       "\n",
       "               Cabin Embarked  _Pclass_1  _Pclass_2  _Pclass_3  \n",
       "0                NaN        Q        0.0        0.0        1.0  \n",
       "1                NaN        S        0.0        0.0        1.0  \n",
       "2                NaN        Q        0.0        1.0        0.0  \n",
       "3                NaN        S        0.0        0.0        1.0  \n",
       "4                NaN        S        0.0        0.0        1.0  \n",
       "5                NaN        S        0.0        0.0        1.0  \n",
       "6                NaN        Q        0.0        0.0        1.0  \n",
       "7                NaN        S        0.0        1.0        0.0  \n",
       "8                NaN        C        0.0        0.0        1.0  \n",
       "9                NaN        S        0.0        0.0        1.0  \n",
       "10               NaN        S        0.0        0.0        1.0  \n",
       "11               NaN        S        1.0        0.0        0.0  \n",
       "12               B45        S        1.0        0.0        0.0  \n",
       "13               NaN        S        0.0        1.0        0.0  \n",
       "14               E31        S        1.0        0.0        0.0  \n",
       "15               NaN        C        0.0        1.0        0.0  \n",
       "16               NaN        Q        0.0        1.0        0.0  \n",
       "17               NaN        C        0.0        0.0        1.0  \n",
       "18               NaN        S        0.0        0.0        1.0  \n",
       "19               NaN        C        0.0        0.0        1.0  \n",
       "20               NaN        C        1.0        0.0        0.0  \n",
       "21               NaN        S        0.0        0.0        1.0  \n",
       "22               NaN        S        1.0        0.0        0.0  \n",
       "23               NaN        C        1.0        0.0        0.0  \n",
       "24   B57 B59 B63 B66        C        1.0        0.0        0.0  \n",
       "25               NaN        S        0.0        0.0        1.0  \n",
       "26               B36        C        1.0        0.0        0.0  \n",
       "27               NaN        C        0.0        0.0        1.0  \n",
       "28               A21        S        1.0        0.0        0.0  \n",
       "29               NaN        C        0.0        0.0        1.0  \n",
       "..               ...      ...        ...        ...        ...  \n",
       "388              NaN        Q        0.0        0.0        1.0  \n",
       "389              NaN        S        0.0        0.0        1.0  \n",
       "390              B24        S        1.0        0.0        0.0  \n",
       "391              D28        S        1.0        0.0        0.0  \n",
       "392              NaN        S        0.0        0.0        1.0  \n",
       "393              NaN        S        0.0        1.0        0.0  \n",
       "394              NaN        S        0.0        0.0        1.0  \n",
       "395              C31        S        1.0        0.0        0.0  \n",
       "396              NaN        Q        0.0        0.0        1.0  \n",
       "397              B41        C        1.0        0.0        0.0  \n",
       "398              NaN        S        0.0        0.0        1.0  \n",
       "399              NaN        Q        0.0        0.0        1.0  \n",
       "400               C7        S        1.0        0.0        0.0  \n",
       "401              NaN        S        0.0        1.0        0.0  \n",
       "402              NaN        C        1.0        0.0        0.0  \n",
       "403              NaN        S        1.0        0.0        0.0  \n",
       "404              D40        C        1.0        0.0        0.0  \n",
       "405              D38        C        0.0        1.0        0.0  \n",
       "406              NaN        S        0.0        1.0        0.0  \n",
       "407              C80        C        1.0        0.0        0.0  \n",
       "408              NaN        Q        0.0        0.0        1.0  \n",
       "409              NaN        S        0.0        0.0        1.0  \n",
       "410              NaN        Q        0.0        0.0        1.0  \n",
       "411              C78        Q        1.0        0.0        0.0  \n",
       "412              NaN        S        0.0        0.0        1.0  \n",
       "413              NaN        S        0.0        0.0        1.0  \n",
       "414             C105        C        1.0        0.0        0.0  \n",
       "415              NaN        S        0.0        0.0        1.0  \n",
       "416              NaN        S        0.0        0.0        1.0  \n",
       "417              NaN        C        0.0        0.0        1.0  \n",
       "\n",
       "[418 rows x 14 columns]"
      ]
     },
     "execution_count": 239,
     "metadata": {},
     "output_type": "execute_result"
    }
   ],
   "source": [
    "df"
   ]
  },
  {
   "cell_type": "code",
   "execution_count": 240,
   "metadata": {
    "collapsed": false
   },
   "outputs": [
    {
     "name": "stdout",
     "output_type": "stream",
     "text": [
      "<class 'pandas.core.frame.DataFrame'>\n",
      "RangeIndex: 418 entries, 0 to 417\n",
      "Data columns (total 1 columns):\n",
      "0    418 non-null int64\n",
      "dtypes: int64(1)\n",
      "memory usage: 3.3 KB\n"
     ]
    }
   ],
   "source": [
    "dfp = pd.DataFrame(my_prediction)\n",
    "dfp.info()"
   ]
  },
  {
   "cell_type": "code",
   "execution_count": 241,
   "metadata": {
    "collapsed": false
   },
   "outputs": [
    {
     "data": {
      "text/html": [
       "<div>\n",
       "<table border=\"1\" class=\"dataframe\">\n",
       "  <thead>\n",
       "    <tr style=\"text-align: right;\">\n",
       "      <th></th>\n",
       "      <th>count</th>\n",
       "      <th>mean</th>\n",
       "      <th>std</th>\n",
       "      <th>min</th>\n",
       "      <th>25%</th>\n",
       "      <th>50%</th>\n",
       "      <th>75%</th>\n",
       "      <th>max</th>\n",
       "    </tr>\n",
       "  </thead>\n",
       "  <tbody>\n",
       "    <tr>\n",
       "      <th>0</th>\n",
       "      <td>418.0</td>\n",
       "      <td>0.308612</td>\n",
       "      <td>0.462474</td>\n",
       "      <td>0.0</td>\n",
       "      <td>0.0</td>\n",
       "      <td>0.0</td>\n",
       "      <td>1.0</td>\n",
       "      <td>1.0</td>\n",
       "    </tr>\n",
       "  </tbody>\n",
       "</table>\n",
       "</div>"
      ],
      "text/plain": [
       "   count      mean       std  min  25%  50%  75%  max\n",
       "0  418.0  0.308612  0.462474  0.0  0.0  0.0  1.0  1.0"
      ]
     },
     "execution_count": 241,
     "metadata": {},
     "output_type": "execute_result"
    }
   ],
   "source": [
    "dfp.describe().T"
   ]
  },
  {
   "cell_type": "code",
   "execution_count": 242,
   "metadata": {
    "collapsed": false
   },
   "outputs": [
    {
     "name": "stdout",
     "output_type": "stream",
     "text": [
      "<class 'pandas.core.frame.DataFrame'>\n",
      "RangeIndex: 418 entries, 0 to 417\n",
      "Data columns (total 15 columns):\n",
      "PassengerId    418 non-null int64\n",
      "Pclass         418 non-null int64\n",
      "Name           418 non-null object\n",
      "Sex            418 non-null bool\n",
      "Age            418 non-null float64\n",
      "SibSp          418 non-null int64\n",
      "Parch          418 non-null int64\n",
      "Ticket         418 non-null object\n",
      "Fare           417 non-null float64\n",
      "Cabin          91 non-null object\n",
      "Embarked       418 non-null object\n",
      "_Pclass_1      418 non-null float64\n",
      "_Pclass_2      418 non-null float64\n",
      "_Pclass_3      418 non-null float64\n",
      "Survived       418 non-null int64\n",
      "dtypes: bool(1), float64(5), int64(5), object(4)\n",
      "memory usage: 46.2+ KB\n"
     ]
    }
   ],
   "source": [
    "df_ok = pd.merge(df, dfp, left_index=True, right_index=True)\n",
    "df_ok.head()\n",
    "df_ok.rename(columns={0:'Survived'},inplace=True)\n",
    "df_ok.describe().T\n",
    "df_ok.info()"
   ]
  },
  {
   "cell_type": "code",
   "execution_count": 254,
   "metadata": {
    "collapsed": false
   },
   "outputs": [
    {
     "data": {
      "text/plain": [
       "0    289\n",
       "1    129\n",
       "Name: Survived, dtype: int64"
      ]
     },
     "execution_count": 254,
     "metadata": {},
     "output_type": "execute_result"
    }
   ],
   "source": [
    "df_ok['Survived'].value_counts()"
   ]
  },
  {
   "cell_type": "markdown",
   "metadata": {},
   "source": [
    "Save as CSV (make sure you set index=False)"
   ]
  },
  {
   "cell_type": "markdown",
   "metadata": {},
   "source": [
    "Save as CSV (make sure you set index=False)"
   ]
  },
  {
   "cell_type": "code",
   "execution_count": null,
   "metadata": {
    "collapsed": true
   },
   "outputs": [],
   "source": []
  },
  {
   "cell_type": "code",
   "execution_count": 260,
   "metadata": {
    "collapsed": false
   },
   "outputs": [
    {
     "name": "stdout",
     "output_type": "stream",
     "text": [
      "<class 'pandas.core.frame.DataFrame'>\n",
      "RangeIndex: 418 entries, 0 to 417\n",
      "Data columns (total 2 columns):\n",
      "PassengerId    418 non-null int64\n",
      "Survived       418 non-null int64\n",
      "dtypes: int64(2)\n",
      "memory usage: 6.6 KB\n"
     ]
    }
   ],
   "source": [
    "df_final = df_ok[['PassengerId','Survived']]\n",
    "\n",
    "df_final.info()"
   ]
  },
  {
   "cell_type": "code",
   "execution_count": 261,
   "metadata": {
    "collapsed": false
   },
   "outputs": [
    {
     "data": {
      "text/html": [
       "<div>\n",
       "<table border=\"1\" class=\"dataframe\">\n",
       "  <thead>\n",
       "    <tr style=\"text-align: right;\">\n",
       "      <th></th>\n",
       "      <th>count</th>\n",
       "      <th>mean</th>\n",
       "      <th>std</th>\n",
       "      <th>min</th>\n",
       "      <th>25%</th>\n",
       "      <th>50%</th>\n",
       "      <th>75%</th>\n",
       "      <th>max</th>\n",
       "    </tr>\n",
       "  </thead>\n",
       "  <tbody>\n",
       "    <tr>\n",
       "      <th>PassengerId</th>\n",
       "      <td>418.0</td>\n",
       "      <td>1100.500000</td>\n",
       "      <td>120.810458</td>\n",
       "      <td>892.0</td>\n",
       "      <td>996.25</td>\n",
       "      <td>1100.5</td>\n",
       "      <td>1204.75</td>\n",
       "      <td>1309.0</td>\n",
       "    </tr>\n",
       "    <tr>\n",
       "      <th>Survived</th>\n",
       "      <td>418.0</td>\n",
       "      <td>0.308612</td>\n",
       "      <td>0.462474</td>\n",
       "      <td>0.0</td>\n",
       "      <td>0.00</td>\n",
       "      <td>0.0</td>\n",
       "      <td>1.00</td>\n",
       "      <td>1.0</td>\n",
       "    </tr>\n",
       "  </tbody>\n",
       "</table>\n",
       "</div>"
      ],
      "text/plain": [
       "             count         mean         std    min     25%     50%      75%  \\\n",
       "PassengerId  418.0  1100.500000  120.810458  892.0  996.25  1100.5  1204.75   \n",
       "Survived     418.0     0.308612    0.462474    0.0    0.00     0.0     1.00   \n",
       "\n",
       "                max  \n",
       "PassengerId  1309.0  \n",
       "Survived        1.0  "
      ]
     },
     "execution_count": 261,
     "metadata": {},
     "output_type": "execute_result"
    }
   ],
   "source": [
    "df_final.describe().T"
   ]
  },
  {
   "cell_type": "code",
   "execution_count": 264,
   "metadata": {
    "collapsed": true
   },
   "outputs": [],
   "source": [
    "df_final.to_csv('prediction_result.csv', header=True, index=False)"
   ]
  },
  {
   "cell_type": "code",
   "execution_count": 265,
   "metadata": {
    "collapsed": false
   },
   "outputs": [
    {
     "data": {
      "text/html": [
       "<div>\n",
       "<table border=\"1\" class=\"dataframe\">\n",
       "  <thead>\n",
       "    <tr style=\"text-align: right;\">\n",
       "      <th></th>\n",
       "      <th>PassengerId</th>\n",
       "      <th>Survived</th>\n",
       "    </tr>\n",
       "  </thead>\n",
       "  <tbody>\n",
       "    <tr>\n",
       "      <th>0</th>\n",
       "      <td>892</td>\n",
       "      <td>0</td>\n",
       "    </tr>\n",
       "    <tr>\n",
       "      <th>1</th>\n",
       "      <td>893</td>\n",
       "      <td>0</td>\n",
       "    </tr>\n",
       "    <tr>\n",
       "      <th>2</th>\n",
       "      <td>894</td>\n",
       "      <td>0</td>\n",
       "    </tr>\n",
       "    <tr>\n",
       "      <th>3</th>\n",
       "      <td>895</td>\n",
       "      <td>1</td>\n",
       "    </tr>\n",
       "    <tr>\n",
       "      <th>4</th>\n",
       "      <td>896</td>\n",
       "      <td>1</td>\n",
       "    </tr>\n",
       "  </tbody>\n",
       "</table>\n",
       "</div>"
      ],
      "text/plain": [
       "   PassengerId  Survived\n",
       "0          892         0\n",
       "1          893         0\n",
       "2          894         0\n",
       "3          895         1\n",
       "4          896         1"
      ]
     },
     "execution_count": 265,
     "metadata": {},
     "output_type": "execute_result"
    }
   ],
   "source": [
    "my_result = pd.read_csv('prediction_result.csv')\n",
    "my_result.head()"
   ]
  },
  {
   "cell_type": "code",
   "execution_count": null,
   "metadata": {
    "collapsed": true
   },
   "outputs": [],
   "source": []
  }
 ],
 "metadata": {
  "anaconda-cloud": {},
  "kernelspec": {
   "display_name": "Python [default]",
   "language": "python",
   "name": "python2"
  },
  "language_info": {
   "codemirror_mode": {
    "name": "ipython",
    "version": 2
   },
   "file_extension": ".py",
   "mimetype": "text/x-python",
   "name": "python",
   "nbconvert_exporter": "python",
   "pygments_lexer": "ipython2",
   "version": "2.7.12"
  }
 },
 "nbformat": 4,
 "nbformat_minor": 0
}
