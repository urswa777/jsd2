{
 "cells": [
  {
   "cell_type": "code",
   "execution_count": 1,
   "metadata": {
    "collapsed": false
   },
   "outputs": [],
   "source": [
    "# this is the package used for connecting to Redshift\n",
    "import psycopg2 as ps"
   ]
  },
  {
   "cell_type": "code",
   "execution_count": 1,
   "metadata": {
    "collapsed": false
   },
   "outputs": [],
   "source": [
    "# set your credentials and database details\n",
    "host_name = 'foo'\n",
    "port_no = 'bar'\n",
    "dbname = 'wiz'\n",
    "user_name = 'bang'\n",
    "pswd = 'bop'"
   ]
  },
  {
   "cell_type": "code",
   "execution_count": null,
   "metadata": {
    "collapsed": false
   },
   "outputs": [],
   "source": [
    "# create a database connection with your credntials\n",
    "conn = ps.connect(host=host_name, database=dbname, \n",
    "                  user=user_name, password=pswd, port=port_no)\n",
    "\n",
    "# open a cursor to execute database commands\n",
    "cursor = conn.cursor()\n",
    "\n",
    "# write your query\n",
    "# query = \"SELECT * FROM dataTable\"\n",
    "query = \"CREATE TABLE sales(id integer, client varchar(200), sales float)\"\n",
    "\n",
    "# execute your query and retrieve the results\n",
    "cursor.execute(query)\n",
    "data1 = cursor.fetchall()\n",
    "\n",
    "# Note that there are some great tools for importing data into organized tables that will save you tons of time.\n",
    "# Pandas is the most popular python package for data manipulation.\n",
    "# I'll be teaching an evening class in early February on Pandas and I think you'll get a ton of use out of it.  \n",
    "# The class isn't on the General Assembly website yet, but it should show up in the next week"
   ]
  },
  {
   "cell_type": "code",
   "execution_count": null,
   "metadata": {
    "collapsed": false
   },
   "outputs": [],
   "source": [
    "# here's the code to import the data as a pandas dataframe\n",
    "import pandas as pd\n",
    "\n",
    "data2 = pd.read_sql(query, conn)"
   ]
  },
  {
   "cell_type": "code",
   "execution_count": null,
   "metadata": {
    "collapsed": false
   },
   "outputs": [],
   "source": [
    "# don't forget to close the connection when you're done\n",
    "conn.close()"
   ]
  }
 ],
 "metadata": {
  "anaconda-cloud": {},
  "kernelspec": {
   "display_name": "Python [Root]",
   "language": "python",
   "name": "Python [Root]"
  },
  "language_info": {
   "codemirror_mode": {
    "name": "ipython",
    "version": 2
   },
   "file_extension": ".py",
   "mimetype": "text/x-python",
   "name": "python",
   "nbconvert_exporter": "python",
   "pygments_lexer": "ipython2",
   "version": "2.7.12"
  }
 },
 "nbformat": 4,
 "nbformat_minor": 0
}
